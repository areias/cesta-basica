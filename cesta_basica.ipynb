{
  "nbformat": 4,
  "nbformat_minor": 0,
  "metadata": {
    "colab": {
      "name": "cesta-basica.ipynb",
      "provenance": [],
      "collapsed_sections": [],
      "toc_visible": true,
      "include_colab_link": true
    },
    "kernelspec": {
      "display_name": "Python 3",
      "language": "python",
      "name": "python3"
    },
    "language_info": {
      "codemirror_mode": {
        "name": "ipython",
        "version": 3
      },
      "file_extension": ".py",
      "mimetype": "text/x-python",
      "name": "python",
      "nbconvert_exporter": "python",
      "pygments_lexer": "ipython3",
      "version": "3.7.7"
    }
  },
  "cells": [
    {
      "cell_type": "markdown",
      "metadata": {
        "id": "view-in-github",
        "colab_type": "text"
      },
      "source": [
        "<a href=\"https://colab.research.google.com/github/jucamargo/cesta-basica/blob/main/cesta_basica.ipynb\" target=\"_parent\"><img src=\"https://colab.research.google.com/assets/colab-badge.svg\" alt=\"Open In Colab\"/></a>"
      ]
    },
    {
      "cell_type": "markdown",
      "metadata": {
        "id": "vpN0WK-rBrFK"
      },
      "source": [
        "\n",
        "# Cesta Basica\n",
        "\n",
        "\n",
        "https://www.dieese.org.br/metodologia/metodologiaCestaBasica.pdf\n",
        "\n",
        "\n",
        "\n",
        "https://colab.research.google.com/github/nestauk/im-tutorials/blob/3-ysi-tutorial/notebooks/Web-Scraping/Web%20Scraping%20Tutorial.ipynb#scrollTo=wFO6XR13W8l5\n",
        "\n",
        "\n"
      ]
    },
    {
      "cell_type": "markdown",
      "metadata": {
        "id": "QvhImQcG8wAl"
      },
      "source": [
        "![](https://github.com/areias/cesta-basica/blob/main/images/cesta-basica.png?raw=1)\n"
      ]
    },
    {
      "cell_type": "markdown",
      "metadata": {
        "id": "qkqtGtT28wAn"
      },
      "source": [
        "## 1. Carne"
      ]
    },
    {
      "cell_type": "markdown",
      "metadata": {
        "id": "FWm2s2qq8wAn"
      },
      "source": [
        "### 1.1. Coxão  mole \n",
        "\n",
        "Da nota metodologica:\n",
        "\n",
        ">Devem  ser pesquisados  além  do  coxão  mole  (chã  de  dentro)  mais dois  cortes  de carne bovina,cujos preços sejam semelhantes. Podem ser coxão duro (chã de fora) ou patinho etc..\n",
        "\n",
        "\n",
        "Aqui screenshot do resultado de pesquisar manualmente \"coxão  mole\" no site do supermercado Pao de Acucar."
      ]
    },
    {
      "cell_type": "markdown",
      "metadata": {
        "id": "mSyo4ols8wAo"
      },
      "source": [
        "![](https://github.com/areias/cesta-basica/blob/main/images/pao-de-acucar.png?raw=1)"
      ]
    },
    {
      "cell_type": "code",
      "metadata": {
        "id": "cNryXRjkWfaF"
      },
      "source": [
        "import requests\n",
        "from bs4 import BeautifulSoup\n"
      ],
      "execution_count": null,
      "outputs": []
    },
    {
      "cell_type": "code",
      "metadata": {
        "id": "gLiF0SmQXA2O"
      },
      "source": [
        "url=\"https://www.paodeacucar.com/busca?w=cox%C3%A3o%20%20mole&qt=12&p=1&gt=grid\""
      ],
      "execution_count": null,
      "outputs": []
    },
    {
      "cell_type": "code",
      "metadata": {
        "colab": {
          "base_uri": "https://localhost:8080/",
          "height": 35
        },
        "id": "NAffTYtxiY5X",
        "outputId": "1a8c8da3-b145-4ba6-e485-f154b4b27590"
      },
      "source": [
        "# https://stackoverflow.com/questions/1695183/how-to-percent-encode-url-parameters-in-python#1695199\n",
        "from urllib.parse import quote\n",
        "quote('coxão mole')\n"
      ],
      "execution_count": null,
      "outputs": [
        {
          "output_type": "execute_result",
          "data": {
            "application/vnd.google.colaboratory.intrinsic+json": {
              "type": "string"
            },
            "text/plain": [
              "'cox%C3%A3o%20mole'"
            ]
          },
          "metadata": {
            "tags": []
          },
          "execution_count": 217
        }
      ]
    },
    {
      "cell_type": "code",
      "metadata": {
        "colab": {
          "base_uri": "https://localhost:8080/"
        },
        "id": "m1jpFAlXXI4R",
        "outputId": "ff0db4ab-bfd2-4220-f5d6-e9094749827e"
      },
      "source": [
        "response = requests.get(url)\n",
        "\n",
        "# Parse the whole HTML page using BeautifulSoup\n",
        "soup = BeautifulSoup(response.text, 'html.parser')\n",
        "\n",
        "# Title of the parsed page\n",
        "soup.title"
      ],
      "execution_count": null,
      "outputs": [
        {
          "output_type": "execute_result",
          "data": {
            "text/plain": [
              "<title>coxão  mole | Pão de Açúcar</title>"
            ]
          },
          "metadata": {
            "tags": []
          },
          "execution_count": 7
        }
      ]
    },
    {
      "cell_type": "markdown",
      "metadata": {
        "id": "udpbAMlNZLgS"
      },
      "source": [
        "Traversar o DOM pode ser bem painful. Depois de muitas tentativas de achar a correta posicao no DOM sem sucesso, olhando com cuidado o response object percebi que tinha formato Json! Que é beeem mais facil de se trabalhar.\n"
      ]
    },
    {
      "cell_type": "markdown",
      "metadata": {
        "id": "1FG1R2e28wAv"
      },
      "source": [
        "![](https://github.com/areias/cesta-basica/blob/main/images/dom-tree.png?raw=1)"
      ]
    },
    {
      "cell_type": "code",
      "metadata": {
        "colab": {
          "base_uri": "https://localhost:8080/"
        },
        "id": "RV3aVzKzXZxR",
        "outputId": "c197c13e-7923-4e83-abbf-acae950e75b5"
      },
      "source": [
        "soup.find_all(\"a\", \"product-cardstyles__Link-sc-1uwpde0-7 hxEXIy hyperlinkstyles__Link-j02w35-0 dOMnau\")"
      ],
      "execution_count": null,
      "outputs": [
        {
          "output_type": "execute_result",
          "data": {
            "text/plain": [
              "[]"
            ]
          },
          "metadata": {
            "tags": []
          },
          "execution_count": 10
        }
      ]
    },
    {
      "cell_type": "code",
      "metadata": {
        "colab": {
          "base_uri": "https://localhost:8080/",
          "height": 1000
        },
        "id": "1GnZAW44adit",
        "outputId": "2240dae4-d7a1-4bfd-a9ba-ba03c365edb3"
      },
      "source": [
        "soup.text\n"
      ],
      "execution_count": null,
      "outputs": [
        {
          "output_type": "execute_result",
          "data": {
            "application/vnd.google.colaboratory.intrinsic+json": {
              "type": "string"
            },
            "text/plain": [
              "'\\n/* sc-component-id: hyperlinkstyles__Link-j02w35-0 */\\n.dOMnau{display:inline;margin-bottom:8px;color:#88B04B;font-size:16px;font-weight:null;font-family:openSans;-webkit-text-decoration:none;text-decoration:none;cursor:pointer;} .dOMnau:hover{-webkit-text-decoration:underline;text-decoration:underline;color:#88B04B;}.bMSypr{display:inline;margin-bottom:8px;color:#88B04B;font-size:14px;font-weight:null;font-family:openSans;-webkit-text-decoration:none;text-decoration:none;cursor:pointer;} .bMSypr:hover{-webkit-text-decoration:underline;text-decoration:underline;color:#88B04B;}\\n/* sc-component-id: textstyles__TextComponent-w4b5ef-0 */\\n.koutsY{font-family:openSans;font-size:14px;text-align:left;font-style:normal;color:#FFFFFF;font-weight:normal;line-height:19px;margin:1em 0px;white-space:normal;text-transform:none;-webkit-text-decoration:none;text-decoration:none;}.dhoqNi{font-family:openSans;font-size:14px;text-align:left;font-style:normal;color:#000000;font-weight:bold;line-height:32px;margin:0px;white-space:normal;text-transform:none;-webkit-text-decoration:none;text-decoration:none;}\\n/* sc-component-id: buttonstyles__ButtonStyle-sc-1mux0mx-0 */\\n.gkXgHs{height:54px;min-width:128px;max-width:100%;font-size:22px;cursor:pointer;border-radius:4px;border-style:solid;text-align:center;text-transform:none;font-family:openSansSemiBold;border-color:transparent;background-color:#88B04B;outline:0;margin:0;} .gkXgHs p{text-align:center;} @media (max-width:320px){} @media (max-width:600px){} @media (max-width:960px){} @media (max-width:1280px){} @media (max-width:1920px){} .gkXgHs.primary{color:#FFFFFF;} .gkXgHs.primary p{color:#FFFFFF;} .gkXgHs.primary:hover{background-color:#A0CE5B;} .gkXgHs.primary.outline{color:#88B04B;border-color:#88B04B;background-color:#FFFFFF;} .gkXgHs.primary.outline p{color:#88B04B;} .gkXgHs.primary.outline:hover{color:#FFFFFF;border-color:transparent;background-color:#A0CE5B;} .gkXgHs.primary.outline:hover p{color:#FFFFFF;} .gkXgHs.primary-reverse{color:#88B04B;border:none;background-color:#FFFFFF;} .gkXgHs.primary-reverse p{color:#88B04B;} .gkXgHs.secondary{color:#FFFFFF;background-color:#F48119;} .gkXgHs.secondary p{color:#FFFFFF;} .gkXgHs.secondary:hover{background-color:#FF9233;color:#F48119;} .gkXgHs.secondary:hover p{color:#F48119;} .gkXgHs.secondary.outline{color:#F48119;border-color:#F48119;background-color:#FFFFFF;} .gkXgHs.secondary.outline p{color:#F48119;} .gkXgHs.secondary.outline:hover{color:#FFFFFF;border-color:transparent;background-color:#FF9233;} .gkXgHs.secondary.outline:hover p{color:#FFFFFF;} .gkXgHs:disabled{pointer-events:none;cursor:default;color:#4A4A4A;background-color:#FFFFFF;} .gkXgHs:disabled p{color:#4A4A4A;} .gkXgHs.disabled{font-family:openSans;pointer-events:none;color:#4A4A4A;border-color:#4A4A4A;background-color:#FFFFFF;height:52px;text-transform:uppercase;font-size:16px;} .gkXgHs.disabled p{color:#4A4A4A;} .gkXgHs.disabled-solid{font-family:roboto;font-weight:500;pointer-events:none;background-color:#B7B7B7;font-size:16px;} .gkXgHs.transparent{background-color:transparent;display:-webkit-box;display:-webkit-flex;display:-ms-flexbox;display:flex;-webkit-align-items:center;-webkit-box-align:center;-ms-flex-align:center;align-items:center;border:0;} .gkXgHs.full-width{width:100%;min-width:0px;}\\n/* sc-component-id: buttonstyles__Icon-sc-1mux0mx-1 */\\n.gANAFV{width:20px;margin-right:10px;}\\n/* sc-component-id: buttonstyles__Text-sc-1mux0mx-2 */\\n.khMteB{font-family:openSansSemiBold;} @media screen and (max-width:991px){.khMteB{display:none;}}\\n/* sc-component-id: alert-cookiestyles__Alert-ubrksr-0 */\\n.bCRWfL{display:none;background:#1C1C1C;color:#FFFFFF;width:100%;position:fixed;bottom:0;z-index:200;opacity:.97;-webkit-transition:.3s;transition:.3s;}\\n/* sc-component-id: alert-cookiestyles__Content-ubrksr-1 */\\n.hTYfcQ{font-size:14px;padding:16px;} @media (min-width:600px){.hTYfcQ{display:-webkit-box;display:-webkit-flex;display:-ms-flexbox;display:flex;-webkit-box-pack:justify;-webkit-justify-content:space-between;-ms-flex-pack:justify;justify-content:space-between;-webkit-align-items:center;-webkit-box-align:center;-ms-flex-align:center;align-items:center;}}\\n/* sc-component-id: alert-cookiestyles__Text-ubrksr-2 */\\n.HEuZJ{width:100%;padding-bottom:10px;line-height:19px;} @media (min-width:600px){.HEuZJ{width:80%;padding-bottom:0px;}}\\n/* sc-component-id: alert-cookiestyles__Button-ubrksr-3 */\\n.ifgGYQ{height:64px;min-width:312px;max-width:100%;font-size:28px;cursor:pointer;border-radius:4px;border-style:solid;text-align:center;text-transform:none;font-family:openSansSemiBold;border-color:transparent;background-color:#88B04B;outline:0;margin:0;display:inline;width:auto;height:auto;min-width:auto;font-family:openSans;font-size:14px;padding:5px;float:right;margin-bottom:16px;color:#FFFFFF;background-color:#88B04B;} .ifgGYQ p{text-align:center;} @media (max-width:320px){} @media (max-width:600px){} @media (max-width:960px){} @media (max-width:1280px){} @media (max-width:1920px){} .ifgGYQ.primary{color:#FFFFFF;} .ifgGYQ.primary p{color:#FFFFFF;} .ifgGYQ.primary:hover{background-color:#A0CE5B;} .ifgGYQ.primary.outline{color:#88B04B;border-color:#88B04B;background-color:#FFFFFF;} .ifgGYQ.primary.outline p{color:#88B04B;} .ifgGYQ.primary.outline:hover{color:#FFFFFF;border-color:transparent;background-color:#A0CE5B;} .ifgGYQ.primary.outline:hover p{color:#FFFFFF;} .ifgGYQ.primary-reverse{color:#88B04B;border:none;background-color:#FFFFFF;} .ifgGYQ.primary-reverse p{color:#88B04B;} .ifgGYQ.secondary{color:#FFFFFF;background-color:#F48119;} .ifgGYQ.secondary p{color:#FFFFFF;} .ifgGYQ.secondary:hover{background-color:#FF9233;color:#F48119;} .ifgGYQ.secondary:hover p{color:#F48119;} .ifgGYQ.secondary.outline{color:#F48119;border-color:#F48119;background-color:#FFFFFF;} .ifgGYQ.secondary.outline p{color:#F48119;} .ifgGYQ.secondary.outline:hover{color:#FFFFFF;border-color:transparent;background-color:#FF9233;} .ifgGYQ.secondary.outline:hover p{color:#FFFFFF;} .ifgGYQ:disabled{pointer-events:none;cursor:default;} .ifgGYQ.disabled{font-family:openSans;pointer-events:none;background-color:#FFFFFF;height:52px;text-transform:uppercase;font-size:16px;} .ifgGYQ.disabled-solid{font-family:roboto;font-weight:500;pointer-events:none;background-color:#B7B7B7;font-size:16px;} .ifgGYQ.transparent{background-color:transparent;display:-webkit-box;display:-webkit-flex;display:-ms-flexbox;display:flex;-webkit-align-items:center;-webkit-box-align:center;-ms-flex-align:center;align-items:center;border:0;} .ifgGYQ.full-width{width:100%;min-width:0px;} @media (min-width:600px){.ifgGYQ{margin-bottom:0px;}}\\n/* sc-component-id: popoverstyle__Popover-ywg4rj-0 */\\n.hCrqOS{display:-webkit-box;display:-webkit-flex;display:-ms-flexbox;display:flex;-webkit-box-pack:center;-webkit-justify-content:center;-ms-flex-pack:center;justify-content:center;position:relative;}\\n/* sc-component-id: popoverstyle__Style-ywg4rj-1 */\\n.gfPVhd{-webkit-transition:opacity .15s linear;transition:opacity .15s linear;opacity:1;padding-top:0px;display:-webkit-box;display:-webkit-flex;display:-ms-flexbox;display:flex;box-sizing:border-box;position:absolute;z-index:100;width:100%;}.blVpqZ{-webkit-transition:opacity .15s linear;transition:opacity .15s linear;opacity:1;padding-top:10px;display:-webkit-box;display:-webkit-flex;display:-ms-flexbox;display:flex;box-sizing:border-box;position:absolute;z-index:100;width:240px;}\\n/* sc-component-id: popoverstyle__Arrow-ywg4rj-2 */\\n.dYrNHb{display:-webkit-box;display:-webkit-flex;display:-ms-flexbox;display:flex;-webkit-box-pack:center;-webkit-justify-content:center;-ms-flex-pack:center;justify-content:center;} .dYrNHb:after{position:absolute;display:block;width:0;height:0;border-color:transparent;border-style:solid;content:\"\";top:-9px;border-top-width:0;border-bottom-color:#FFFFFF;border-width:10px;}\\n/* sc-component-id: popoverstyle__Container-ywg4rj-3 */\\n.heMNqA{width:100%;background-color:#FFFFFF;display:inline-block;border-radius:3px;}\\n/* sc-component-id: popoverstyle__Content-ywg4rj-4 */\\n.fPlYuk{box-shadow:0 4px 16px 4px rgba(0,0,0,0.24);font-family:openSans;display:inline-block;width:100%;box-sizing:border-box;}.dZuccG{padding:8px;text-align:center;font-family:openSans;display:inline-block;width:100%;box-sizing:border-box;padding:9px 14px;}\\n/* sc-component-id: auto-completestyles__AutoComplete-v5lr4f-0 */\\n.hLDEse{font-family:openSans;width:100%;font-size:12px;}\\n/* sc-component-id: auto-completestyles__Content-v5lr4f-2 */\\n.DrwhJ{position:relative;z-index:150;} .DrwhJ .popoverstyle__Content-ywg4rj-4{overflow:auto;max-height:calc(100vh - 100px);} .DrwhJ .liststyle__Item-h8ksl8-2{cursor:pointer;padding:10px 16px;font-size:12px;} .DrwhJ .liststyle__Item-h8ksl8-2:hover{-webkit-text-decoration:underline;text-decoration:underline;} .DrwhJ .liststyle__Item-h8ksl8-2:first-child{font-weight:600;} .DrwhJ .liststyle__Link-h8ksl8-4{padding:0;color:#999999;}\\n/* sc-component-id: auto-completestyles__SearchBar-v5lr4f-4 */\\n.jlQUxd{z-index:0;position:relative;padding:0 16px;} @media (min-width:600px){.jlQUxd{padding:0;}}\\n/* sc-component-id: breadcrumbstyles__Breadcrumb-nzvsip-0 */\\n.bqTLWm{font-family:openSans;background-color:#FFFFFF;width:100%;padding:10px 24px;display:-webkit-box;display:-webkit-flex;display:-ms-flexbox;display:flex;-webkit-flex-direction:row;-ms-flex-direction:row;flex-direction:row;overflow:auto;} @media (min-width:960px){.bqTLWm{background-color:transparent;overflow:hidden;padding:10px 0;}}\\n/* sc-component-id: breadcrumbstyles__Arrow-nzvsip-1 */\\n.drESlq{-webkit-transform:rotate(-90deg);-ms-transform:rotate(-90deg);transform:rotate(-90deg);width:12px;margin:0 8.5px;}\\n/* sc-component-id: breadcrumbstyles__Text-nzvsip-2 */\\n.kozDio{width:-webkit-max-content;width:-moz-max-content;width:max-content;} .kozDio .textstyles__TextComponent-w4b5ef-0,.kozDio a{cursor:pointer;color:#88B04B;line-height:20px;-webkit-text-decoration:none;text-decoration:none;} .kozDio .textstyles__TextComponent-w4b5ef-0:hover,.kozDio a:hover{-webkit-text-decoration:underline;text-decoration:underline;}\\n/* sc-component-id: breadcrumbstyles__Section-nzvsip-3 */\\n.eWwJcz{display:-webkit-box;display:-webkit-flex;display:-ms-flexbox;display:flex;-webkit-align-items:center;-webkit-box-align:center;-ms-flex-align:center;align-items:center;-webkit-flex-direction:row;-ms-flex-direction:row;flex-direction:row;} .eWwJcz:last-child .breadcrumbstyles__Arrow-nzvsip-1{display:none;} .eWwJcz:last-child .textstyles__TextComponent-w4b5ef-0,.eWwJcz:last-child .hyperlinkstyles__Link-j02w35-0,.eWwJcz:last-child a{color:#4A4A4A;} .eWwJcz:last-child .textstyles__TextComponent-w4b5ef-0:hover,.eWwJcz:last-child .hyperlinkstyles__Link-j02w35-0:hover,.eWwJcz:last-child a:hover{-webkit-text-decoration:none;text-decoration:none;} .eWwJcz:last-child .breadcrumbstyles__Text-nzvsip-2{padding-right:24px;pointer-events:none;}\\n/* sc-component-id: boxstyles__BoxStyled-iohoom-0 */\\n.iZdjNs{width:inherit;height:inherit;padding:inherit;margin:inherit;display:-webkit-box;display:-webkit-flex;display:-ms-flexbox;display:flex;-webkit-box-pack:null;-webkit-justify-content:null;-ms-flex-pack:null;justify-content:null;-webkit-align-items:null;-webkit-box-align:null;-ms-flex-align:null;align-items:null;-webkit-flex-direction:null;-ms-flex-direction:null;flex-direction:null;max-width:none;border-radius:undefined;overflow:visible;box-shadow:undefined;background-color:undefined;border:null;border-top:0;border-right:0;border-bottom:0;border-left:0;null;}.ePvYxl{width:100%;height:inherit;padding:inherit;margin:inherit;display:null;-webkit-box-pack:null;-webkit-justify-content:null;-ms-flex-pack:null;justify-content:null;-webkit-align-items:null;-webkit-box-align:null;-ms-flex-align:null;align-items:null;-webkit-flex-direction:null;-ms-flex-direction:null;flex-direction:null;max-width:none;border-radius:undefined;overflow:hidden;box-shadow:undefined;background-color:undefined;border:null;border-top:0;border-right:0;border-bottom:0;border-left:0;null;}\\n/* sc-component-id: gridstyles-sc-6scn59-0 */\\n.gHcwqf{min-height:undefined;display:undefined;height:auto;-webkit-undefined;-ms-flex-undefined;undefined;null;background-color:#f4f4f4;false;false;padding:24px 0;max-width:100%;-webkit-undefined;-ms-flex-undefined;undefined;-webkit-undefined;-ms-flex-undefined;undefined;-webkit-undefined;-ms-flex-undefined;undefined;box-shadow:none;null;} @media (min-width:600px){.gHcwqf{height:auto;}} @media (min-width:960px){.gHcwqf{height:auto;}} @media (min-width:1280px){.gHcwqf{height:auto;}} @media (min-width:1920px){.gHcwqf{height:auto;}}.jOrCMV{min-height:undefined;display:undefined;height:auto;-webkit-undefined;-ms-flex-undefined;undefined;null;background-color:#f4f4f4;false;false;padding:0 0 7px;max-width:1600px;-webkit-undefined;-ms-flex-undefined;undefined;-webkit-undefined;-ms-flex-undefined;undefined;-webkit-undefined;-ms-flex-undefined;undefined;box-shadow:none;} @media (min-width:600px){.jOrCMV{height:auto;}} @media (min-width:960px){.jOrCMV{height:auto;}} @media (min-width:1280px){.jOrCMV{height:auto;}} @media (min-width:1920px){.jOrCMV{height:auto;}} @media (min-width:960px){.jOrCMV{min-height:undefined;display:undefined;height:auto;-webkit-undefined;-ms-flex-undefined;undefined;null;background-color:#f4f4f4;false;false;padding:0 24px;max-width:1600px;-webkit-undefined;-ms-flex-undefined;undefined;-webkit-undefined;-ms-flex-undefined;undefined;-webkit-undefined;-ms-flex-undefined;undefined;box-shadow:none;}@media (min-width:600px){.jOrCMV{height:auto;}}@media (min-width:960px){.jOrCMV{height:auto;}}@media (min-width:1280px){.jOrCMV{height:auto;}}@media (min-width:1920px){.jOrCMV{height:auto;}}} @media (min-width:undefined){.jOrCMV{min-height:undefined;display:undefined;height:auto;-webkit-undefined;-ms-flex-undefined;undefined;null;background-color:#f4f4f4;false;false;padding:0 0 7px;max-width:1600px;-webkit-undefined;-ms-flex-undefined;undefined;-webkit-undefined;-ms-flex-undefined;undefined;-webkit-undefined;-ms-flex-undefined;undefined;box-shadow:none;}@media (min-width:600px){.jOrCMV{height:auto;}}@media (min-width:960px){.jOrCMV{height:auto;}}@media (min-width:1280px){.jOrCMV{height:auto;}}@media (min-width:1920px){.jOrCMV{height:auto;}}}.jSNVZP{min-height:undefined;display:undefined;height:auto;-webkit-undefined;-ms-flex-undefined;undefined;null;background-color:rgba(255,255,15,0);false;false;-webkit-undefined;-ms-flex-undefined;undefined;max-width:1600px;-webkit-undefined;-ms-flex-undefined;undefined;-webkit-undefined;-ms-flex-undefined;undefined;-webkit-undefined;-ms-flex-undefined;undefined;box-shadow:none;null;} @media (min-width:600px){.jSNVZP{height:auto;}} @media (min-width:960px){.jSNVZP{height:auto;}} @media (min-width:1280px){.jSNVZP{height:auto;}} @media (min-width:1920px){.jSNVZP{height:auto;}}.lenyJJ{min-height:700px;display:undefined;height:auto;-webkit-undefined;-ms-flex-undefined;undefined;null;background-color:rgba(255,255,15,0);false;false;-webkit-undefined;-ms-flex-undefined;undefined;max-width:1600px;-webkit-undefined;-ms-flex-undefined;undefined;-webkit-undefined;-ms-flex-undefined;undefined;-webkit-undefined;-ms-flex-undefined;undefined;box-shadow:none;null;} @media (min-width:600px){.lenyJJ{height:auto;}} @media (min-width:960px){.lenyJJ{height:auto;}} @media (min-width:1280px){.lenyJJ{height:auto;}} @media (min-width:1920px){.lenyJJ{height:auto;}}\\n/* sc-component-id: cartstyles__Cart-kq029p-0 */\\n.bucezZ{z-index:8;}\\n/* sc-component-id: cartstyles__CartSvg-kq029p-1 */\\n.lIVSr{color:#88B04B;height:24px;}\\n/* sc-component-id: cartstyles__Toggle-kq029p-2 */\\n.dZKLFQ{padding:0px;text-align:center;cursor:pointer;}\\n/* sc-component-id: cartstyles__Count-kq029p-3 */\\n.dxbLFG{background-color:#88B04B;color:#FFFFFF;font-size:10px;font-weight:600;line-height:1;text-align:center;min-width:10px;padding:3px;display:inline-block;position:relative;top:-20px;right:10px;border:1px solid #FFFFFF;border-radius:10px;}\\n/* sc-component-id: category-menustyles__CategoryMenu-sc-1f1zulv-0 */\\n.jTZnCz{font-family:openSans;max-width:288px;width:100%;overflow-x:hidden;-webkit-transition:.3s;transition:.3s;background-color:#FFFFFF;position:static;bottom:0;left:-288px;height:calc(100% - 120px);} .jTZnCz div,.jTZnCz a,.jTZnCz img{box-sizing:unset;} .jTZnCz img{display:inline;height:50px;} @media (min-width:960px){.jTZnCz{max-width:324px;left:-324px;}} @media (min-width:1280px){.jTZnCz{height:100%;}} @media (min-width:1920px){.jTZnCz{max-width:337px;left:-337px;}}\\n/* sc-component-id: category-menustyles__Header-sc-1f1zulv-1 */\\n.dritvl{display:none;-webkit-align-items:center;-webkit-box-align:center;-ms-flex-align:center;align-items:center;margin:10px;} @media (min-width:1280px){.dritvl{display:-webkit-box;display:-webkit-flex;display:-ms-flexbox;display:flex;}}\\n/* sc-component-id: category-menustyles__LogoContainer-sc-1f1zulv-2 */\\n.eeehfH{width:80%;text-align:center;}\\n/* sc-component-id: category-menustyles__Logo-sc-1f1zulv-3 */\\n.ibFrFK{height:40px;}\\n/* sc-component-id: category-menustyles__CloseContainer-sc-1f1zulv-4 */\\n.fNLVHt{width:20%;text-align:center;} .fNLVHt > svg{width:24px;-webkit-transform:scale(1.5);-ms-transform:scale(1.5);transform:scale(1.5);cursor:pointer;fill:#88B04B;}\\n/* sc-component-id: category-menustyles__Section-sc-1f1zulv-7 */\\n.gKUKvM{border-bottom:1px solid #cdcbcb;padding:7px 0;}\\n/* sc-component-id: category-menustyles__Item-sc-1f1zulv-8 */\\n.joZCZM{padding:8px 16px;display:-webkit-box;display:-webkit-flex;display:-ms-flexbox;display:flex;-webkit-box-pack:justify;-webkit-justify-content:space-between;-ms-flex-pack:justify;justify-content:space-between;cursor:pointer;color:#525252;height:24px;font-size:14px;-webkit-align-items:center;-webkit-box-align:center;-ms-flex-align:center;align-items:center;} .joZCZM svg{width:auto;height:30px;}\\n/* sc-component-id: category-menustyles__ItemText-sc-1f1zulv-9 */\\n.cyKuFu{white-space:nowrap;overflow:hidden;text-overflow:ellipsis;line-height:18px;}\\n/* sc-component-id: category-menustyles__Title-sc-1f1zulv-10 */\\n.fvpdaD{font-size:14px;padding:0px 16px;padding-bottom:12px;font-weight:700;line-height:20px;color:#525252;}\\n/* sc-component-id: category-menustyles__ArrowRight-sc-1f1zulv-11 */\\n.ixBhPZ{fill:#88B04B;}\\n/* sc-component-id: search-barstyles__SearchBar-sc-125xygl-0 */\\n.fRmzfX{position:relative;width:100%;}\\n/* sc-component-id: search-barstyles__Search-sc-125xygl-1 */\\n.grmHpc{display:-webkit-box;display:-webkit-flex;display:-ms-flexbox;display:flex;}\\n/* sc-component-id: search-barstyles__Input-sc-125xygl-2 */\\n.bUvOyN{border:0;box-sizing:border-box;outline:none;font-size:14px;font-family:openSans;padding:0 10px;height:40px;vertical-align:top;-webkit-transition:.05s;transition:.05s;width:100%;} .bUvOyN:focus{border:solid 2px #88B04B;} .bUvOyN::-webkit-search-decoration,.bUvOyN::-webkit-search-cancel-button,.bUvOyN::-webkit-search-results-button,.bUvOyN::-webkit-search-results-decoration{display:none;}\\n/* sc-component-id: search-barstyles__ContainerInput-sc-125xygl-3 */\\n.fdJJaS{display:inline-block;background:white;border-radius:4px 0 0 4px;width:calc(100% - 40px);} @media (min-width:960px){.fdJJaS{width:calc(100% - 120px);}} .fdJJaS .search-barstyles__Input-sc-125xygl-2{border-radius:4px 0 0 4px;-webkit-appearance:none;}\\n/* sc-component-id: search-barstyles__Submit-sc-125xygl-4 */\\n.eSKxXS{-webkit-align-items:center;-webkit-box-align:center;-ms-flex-align:center;align-items:center;background-color:#88B04B;color:#FFFFFF;display:-webkit-inline-box;display:-webkit-inline-flex;display:-ms-inline-flexbox;display:inline-flex;-webkit-box-pack:space-around;-webkit-justify-content:space-around;-ms-flex-pack:space-around;justify-content:space-around;border-radius:0 4px 4px 0;font-size:12px;max-height:40px;min-width:0px;width:40px;} @media (min-width:960px){.eSKxXS{width:120px;}} .eSKxXS svg{width:32px;fill:#FFFFFF;}\\n/* sc-component-id: dropdownstyle__DropDown-hnnfa-0 */\\n.ghoObv{width:100%;}\\n/* sc-component-id: dropdownstyle__Toggle-hnnfa-1 */\\n.byXvJR{position:relative;z-index:0;background-color:#f4f4f4;padding:28px 13px;-webkit-align-items:center;-webkit-box-align:center;-ms-flex-align:center;align-items:center;cursor:pointer;display:-webkit-box;display:-webkit-flex;display:-ms-flexbox;display:flex;-webkit-box-pack:center;-webkit-justify-content:center;-ms-flex-pack:center;justify-content:center;box-sizing:border-box;} .byXvJR:hover{background-color:#e8e8e8;}\\n/* sc-component-id: dropdownstyle__Title-hnnfa-2 */\\n.cCWHRv{color:#525252;font-family:openSans;font-size:14px;font-weight:600;padding:0 10px;line-height:24px;white-space:nowrap;overflow:hidden;}\\n/* sc-component-id: dropdownstyle__Icon-hnnfa-3 */\\n.kCalku{line-height:24px;width:24px;height:24px;width:px;} .kCalku svg{width:24px;fill:#88B04B;}\\n/* sc-component-id: fadestyles__Fade-pzzglh-0 */\\n.hlLbEt{display:none;-webkit-animation:.25s eMLfYp;animation:.25s eMLfYp;}\\n/* sc-component-id: overlaystyles__Overlay-sc-1brxgvc-0 */\\n.gILsvp{position:fixed;z-index:9;top:0;left:0;right:0;bottom:0;background-color:rgba(0,0,0,0.5);-webkit-transition:opacity .15s linear;transition:opacity .15s linear;width:100%;height:100%;}\\n/* sc-component-id: main-headerstyles__Container-sc-1yuzfon-1 */\\n.fudgYk{box-shadow:0px 3px 14px 0px rgba(74,74,74,0.4);position:relative;background-color:#f4f4f4;z-index:101;width:100%;box-sizing:border-box;}\\n/* sc-component-id: main-headerstyles__MenuIcon-sc-1yuzfon-2 */\\n.cPwENl{margin:-5px;width:31px;height:31px;fill:#88B04B;cursor:pointer;} @media (min-width:1280px){.cPwENl{margin:0;}}\\n/* sc-component-id: main-headerstyles__MainHeader-sc-1yuzfon-3 */\\n.cjMqMX{height:80px;width:100%;box-sizing:border-box;display:-webkit-box;display:-webkit-flex;display:-ms-flexbox;display:flex;-webkit-flex-direction:row;-ms-flex-direction:row;flex-direction:row;-webkit-box-pack:center;-webkit-justify-content:center;-ms-flex-pack:center;justify-content:center;-webkit-align-items:center;-webkit-box-align:center;-ms-flex-align:center;align-items:center;} @media (min-width:600px){.cjMqMX{padding:0 20px;}}\\n/* sc-component-id: main-headerstyles__MobileHeader-sc-1yuzfon-4 */\\n.dMaoJD{height:40px;width:100%;box-sizing:border-box;display:-webkit-box;display:-webkit-flex;display:-ms-flexbox;display:flex;-webkit-flex-direction:row;-ms-flex-direction:row;flex-direction:row;-webkit-box-pack:justify;-webkit-justify-content:space-between;-ms-flex-pack:justify;justify-content:space-between;-webkit-align-items:center;-webkit-box-align:center;-ms-flex-align:center;align-items:center;padding:20px 15px 0 20px;} @media (min-width:1280px){.dMaoJD{display:none;}}\\n/* sc-component-id: main-headerstyles__MobileDeliveryBoxContainer-sc-1yuzfon-5 */\\n@media (min-width:1280px){.fZbsvR{display:none;}}\\n/* sc-component-id: main-headerstyles__DropdownContainer-sc-1yuzfon-6 */\\n.cpYEwe{width:240px;box-sizing:border-box;display:none;} .cpYEwe:hover{background-color:#e8e8e8;} @media (min-width:1280px){.cpYEwe{height:100%;display:-webkit-box;display:-webkit-flex;display:-ms-flexbox;display:flex;-webkit-box-pack:center;-webkit-justify-content:center;-ms-flex-pack:center;justify-content:center;-webkit-align-items:center;-webkit-box-align:center;-ms-flex-align:center;align-items:center;}}\\n/* sc-component-id: main-headerstyles__MenuCategoriesContainer-sc-1yuzfon-7 */\\n.cUuczm{display:none;} @media (min-width:1280px){.cUuczm{display:-webkit-box;display:-webkit-flex;display:-ms-flexbox;display:flex;padding:0 16px;height:100%;display:-webkit-box;display:-webkit-flex;display:-ms-flexbox;display:flex;-webkit-box-pack:center;-webkit-justify-content:center;-ms-flex-pack:center;justify-content:center;-webkit-align-items:center;-webkit-box-align:center;-ms-flex-align:center;align-items:center;}.cUuczm:hover{background-color:#e8e8e8;}}\\n/* sc-component-id: main-headerstyles__SearchBarContainer-sc-1yuzfon-8 */\\n.fJlsKO{width:100%;} @media (min-width:1280px){.fJlsKO{margin:0 16px;}}\\n/* sc-component-id: main-headerstyles__Logo-sc-1yuzfon-9 */\\n.iuynDo{height:48px;margin-top:0px;margin-right:20px;display:none;} @media (min-width:1280px){.iuynDo{display:block;}}\\n/* sc-component-id: main-headerstyles__LogoMobile-sc-1yuzfon-10 */\\n.idrKea{height:36px;} @media (min-width:1280px){.idrKea{display:none;}}\\n/* sc-component-id: sidebarstyles__Sidebar-sc-1rqh2jf-0 */\\n.lnMtOh{background-color:#FFFFFF;position:fixed;-webkit-transition:left .3s ease-out,right .3s ease-out;transition:left .3s ease-out,right .3s ease-out;top:0;bottom:0;width:100%;max-width:288px;left:-288px;z-index:150;} @media (min-width:960px){.lnMtOh{max-width:324px;left:-324px;}} @media (min-width:1920px){.lnMtOh{max-width:337px;left:-337px;}} @media (min-width:undefined){.lnMtOh{max-width:288px;left:-288px;}}\\n/* sc-component-id: upper-headerstyles__UpperHeader-cco47n-0 */\\n.hEZJoW{z-index:101;position:relative;display:none;} @media (min-width:1280px){.hEZJoW{background-color:#88B04B;display:-webkit-box;display:-webkit-flex;display:-ms-flexbox;display:flex;-webkit-box-pack:end;-webkit-justify-content:flex-end;-ms-flex-pack:end;justify-content:flex-end;}}\\n/* sc-component-id: upper-headerstyles__List-cco47n-1 */\\n.gnOQxK{display:-webkit-box;display:-webkit-flex;display:-ms-flexbox;display:flex;-webkit-align-items:center;-webkit-box-align:center;-ms-flex-align:center;align-items:center;list-style:none;margin:0px;height:32px;}\\n/* sc-component-id: sc-global-1837087162 */\\nhtml{line-height:1.15;-webkit-text-size-adjust:100%;text-size-adjust:100%;} body{margin:0;} h1{font-size:2em;margin:0.67em 0;} hr{box-sizing:content-box;height:0;overflow:visible;} pre{font-family:monospace,monospace;font-size:1em;} a{background-color:transparent;} abbr[title]{border-bottom:none;-webkit-text-decoration:underline;text-decoration:underline;} b,strong{font-weight:bolder;} code,kbd,samp{font-family:monospace,monospace;font-size:1em;} small{font-size:80%;} sub,sup{font-size:75%;line-height:0;position:relative;vertical-align:baseline;} sub{bottom:-0.25em;} sup{top:-0.5em;} img{border-style:none;} button,input,optgroup,select,textarea{font-family:inherit;font-size:100%;line-height:1.15;margin:0;} button,input{overflow:visible;} button,select{text-transform:none;} button,html [type=\"button\"],[type=\"reset\"],[type=\"submit\"]{-webkit-appearance:button;} button::-moz-focus-inner,[type=\"button\"]::-moz-focus-inner,[type=\"reset\"]::-moz-focus-inner,[type=\"submit\"]::-moz-focus-inner{border-style:none;padding:0;} button:-moz-focusring,[type=\"button\"]:-moz-focusring,[type=\"reset\"]:-moz-focusring,[type=\"submit\"]:-moz-focusring{outline:1px dotted ButtonText;} fieldset{padding:0.35em 0.625em 0.75em;} legend{box-sizing:border-box;color:inherit;display:table;max-width:100%;padding:0;white-space:normal;} progress{vertical-align:baseline;} textarea{overflow:auto;} [type=\"checkbox\"],[type=\"radio\"]{box-sizing:border-box;padding:0;} [type=\"number\"]::-webkit-inner-spin-button,[type=\"number\"]::-webkit-outer-spin-button{height:auto;} [type=\"search\"]{-webkit-appearance:textfield;outline-offset:-2px;} [type=\"search\"]::-webkit-search-decoration{-webkit-appearance:none;} ::-webkit-file-upload-button{-webkit-appearance:button;font:inherit;} details{display:block;} summary{display:list-item;} template{display:none;} [hidden]{display:none;} abbr[title]{-webkit-text-decoration:underline dotted;text-decoration:underline dotted;}\\n/* sc-component-id: sc-keyframes-eMLfYp */\\n@-webkit-keyframes eMLfYp{from{opacity:0;}to{opacity:1;}} @keyframes eMLfYp{from{opacity:0;}to{opacity:1;}}coxão  mole | Pão de Açúcar\\n!function(a){var e=\"https://s.go-mpulse.net/boomerang/\",t=\"addEventListener\";if(\"False\"==\"True\")a.BOOMR_config=a.BOOMR_config||{},a.BOOMR_config.PageParams=a.BOOMR_config.PageParams||{},a.BOOMR_config.PageParams.pci=!0,e=\"https://s2.go-mpulse.net/boomerang/\";if(window.BOOMR_API_key=\"YWAD8-QP7L7-N7PKE-MYWGS-MM48J\",function(){function n(e){a.BOOMR_onload=e&&e.timeStamp||(new Date).getTime()}if(!a.BOOMR||!a.BOOMR.version&&!a.BOOMR.snippetExecuted){a.BOOMR=a.BOOMR||{},a.BOOMR.snippetExecuted=!0;var i,_,o,r=document.createElement(\"iframe\");if(a[t])a[t](\"load\",n,!1);else if(a.attachEvent)a.attachEvent(\"onload\",n);r.src=\"javascript:void(0)\",r.title=\"\",r.role=\"presentation\",(r.frameElement||r).style.cssText=\"width:0;height:0;border:0;display:none;\",o=document.getElementsByTagName(\"script\")[0],o.parentNode.insertBefore(r,o);try{_=r.contentWindow.document}catch(O){i=document.domain,r.src=\"javascript:var d=document.open();d.domain=\\'\"+i+\"\\';void(0);\",_=r.contentWindow.document}_.open()._l=function(){var a=this.createElement(\"script\");if(i)this.domain=i;a.id=\"boomr-if-as\",a.src=e+\"YWAD8-QP7L7-N7PKE-MYWGS-MM48J\",BOOMR_lstart=(new Date).getTime(),this.body.appendChild(a)},_.write(\"<bo\"+\\'dy onload=\"document._l();\">\\'),_.close()}}(),\"\".length>0)if(a&&\"performance\"in a&&a.performance&&\"function\"==typeof a.performance.setResourceTimingBufferSize)a.performance.setResourceTimingBufferSize();!function(){if(BOOMR=a.BOOMR||{},BOOMR.plugins=BOOMR.plugins||{},!BOOMR.plugins.AK){var e=\"\"==\"true\"?1:0,t=\"\",n=\"ndcwycqxendvcyftz6sa-f-cdc26dfdf-clientnsv4-s.akamaihd.net\",i={\"ak.v\":\"31\",\"ak.cp\":\"493971\",\"ak.ai\":parseInt(\"493466\",10),\"ak.ol\":\"0\",\"ak.cr\":14,\"ak.ipv\":4,\"ak.proto\":\"http/1.1\",\"ak.rid\":\"c3abdc3f\",\"ak.r\":37022,\"ak.a2\":e,\"ak.m\":\"b\",\"ak.n\":\"essl\",\"ak.bpcip\":\"104.197.108.0\",\"ak.cport\":37954,\"ak.gh\":\"23.35.71.77\",\"ak.quicv\":\"\",\"ak.tlsv\":\"tls1.3\",\"ak.0rtt\":\"\",\"ak.csrc\":\"-\",\"ak.acc\":\"reno\",\"ak.t\":\"1622396836\",\"ak.ak\":\"hOBiQwZUYzCg5VSAfCLimQ==kuwGbL2dmC3wT0VzEIX+9O+devuGJPHra1rswm+1gxJPdnCo4TacB9JauO7oO0eSEfxohebS+mbjB92lHJJZC9xE9/Q1MzvbINedD+P5Z3zk9vhAqKCdRgHV7dV+oDMNPxuoDluk3387cqxlqSkpPCTOMcNrR//AuLqc6c3z53hIx2M7kpRFXSx0oiJfLEqQ+QN2E0N0SphWBoCQrhTJLDpBTBeA5gXI1P0kAtH84vCAiMsbmYE7PMAPCKyeJYfsbftrdAQfXpZuZhChjLDED+yzq3+S46FeBY5utuLk2dwOqfAv+U6AwAQGpoDNaw3gHVa7EVv3FqBN0yZjKIYmLzAN7UbECB4HMqlNQs9NJCEuGd2RGR/864Jn4emSZ8XS5t0EVYIsNORq8yk1wD+k6gRbC351/8VF6ETyNAsLXBo=\",\"ak.pv\":\"108\",\"ak.dpoabenc\":\"\"};if(\"\"!==t)i[\"ak.ruds\"]=t;var _={i:!1,av:function(e){var t=\"http.initiator\";if(e&&(!e[t]||\"spa_hard\"===e[t]))i[\"ak.feo\"]=void 0!==a.aFeoApplied?1:0,BOOMR.addVar(i)},rv:function(){var a=[\"ak.bpcip\",\"ak.cport\",\"ak.cr\",\"ak.csrc\",\"ak.gh\",\"ak.ipv\",\"ak.m\",\"ak.n\",\"ak.ol\",\"ak.proto\",\"ak.quicv\",\"ak.tlsv\",\"ak.0rtt\",\"ak.r\",\"ak.acc\",\"ak.t\"];BOOMR.removeVar(a)}};BOOMR.plugins.AK={akVars:i,akDNSPreFetchDomain:n,init:function(){if(!_.i){var a=BOOMR.subscribe;a(\"before_beacon\",_.av,null,null),a(\"onbeacon\",_.rv,null,null),_.i=!0}return this},is_complete:function(){return!0}}}}()}(window);EspeciaisOfertasMeu DescontoPão de Açúcar AdegaViva VinhosQualitáTaeqCheftimeAmigos do BemBlog Pão de AçúcarCartões Pão de AçúcarCategoriasAlimentosBebidasBeleza e perfumariaBebidas alcóolicasLimpezaBebês e criançasCuidados pessoaisSuplementos alimentaresEventos e festasUtensílios e descartáveisPetshopFloricultura e jardimEsporte e LazerCuidados com a saúdeMóveis e decoraçãoCama, mesa e banhoPapelariaBrinquedos e jogosAutomotivosModa0BUSCAREntrar0Homecoxão  moleUtilizamos cookies para melhorar a sua experiência, otimizar as funcionalidades do site e obter estatísticas de visita. Para maiores informações acesse o nosso \\xa0Aviso de Privacidade.Estou ciente.css-f0xnmk{box-sizing:border-box;max-height:100%;overflow-x:hidden;overflow-y:auto;padding:8px;pointer-events:none;position:fixed;z-index:1000;top:0;right:0;}{\"props\":{\"initialProps\":{\"layoutProps\":{\"header\":{\"id\":\"5fbdb64d399df472afbc6b9c\",\"brand\":\"pa\",\"department\":\"ecom\",\"title\":\"Título da página\",\"metaDescription\":\"default\",\"slug\":\"header\",\"structure\":{\"attributes\":{\"theme\":\"default\",\"title\":\"Título da página\",\"metaDescription\":\"default\",\"metaKeywords\":\"default\",\"blocktype\":\"page\"},\"content\":[{\"attributes\":{\"name\":\"Especiais\",\"theme\":\"default\"},\"blocktype\":\"menu\",\"name\":\"section\",\"content\":[{\"attributes\":{\"name\":\"Ofertas\",\"link\":\"/especial/semanacompleta_cervejas\",\"target\":\"_self\"},\"blocktype\":\"menu-item\"},{\"attributes\":{\"name\":\"Meu Desconto\",\"link\":\"/compra-personalizada\",\"target\":\"_self\"},\"blocktype\":\"menu-item\"},{\"attributes\":{\"name\":\"Pão de Açúcar Adega\",\"link\":\"https://www.paodeacucar.com/adega\",\"target\":\"_blank\"},\"blocktype\":\"menu-item\"},{\"attributes\":{\"name\":\"Viva Vinhos\",\"link\":\"https://www.paodeacucar.com/viva-vinhos/\",\"target\":\"_blank\"},\"blocktype\":\"menu-item\"},{\"attributes\":{\"name\":\"Qualitá\",\"link\":\"/especial/qualita_bebidas\",\"target\":\"_self\"},\"blocktype\":\"menu-item\"},{\"attributes\":{\"name\":\"Taeq\",\"link\":\"/especial/taeq_despensa\",\"target\":\"_self\"},\"blocktype\":\"menu-item\"},{\"attributes\":{\"name\":\"Cheftime\",\"link\":\"/categoria/alimentos/basico-da-despensa/kits-e-cestas/cheftime\",\"target\":\"_self\"},\"blocktype\":\"menu-item\"},{\"attributes\":{\"name\":\"Amigos do Bem\",\"link\":\"/amigos-do-bem/\",\"target\":\"_self\"},\"blocktype\":\"menu-item\"},{\"attributes\":{\"name\":\"Blog Pão de Açúcar\",\"link\":\"https://content.paodeacucar.com?utm_source=SitePDA\\\\u0026utm_medium=referral\\\\u0026utm_term=botaoespeciais\",\"target\":\"_self\"},\"blocktype\":\"menu-item\"},{\"attributes\":{\"name\":\"Cartões Pão de Açúcar\",\"link\":\"/cartoes\",\"target\":\"_self\"},\"blocktype\":\"menu-item\"}]}]}},\"categories\":[{\"id\":10000,\"link\":\"/secoes/C10000/alimentos\",\"uiLink\":\"/alimentos\",\"slug\":\"\",\"name\":\"Alimentos\",\"icon\":\"/img/uploads/1/845/667845.jpg\",\"metaDescription\":\"Compre os Alimentos para a sua casa no Paodeacucar.com. Temos os melhores preços!\",\"type\":\"SHELF\",\"subCategory\":[{\"id\":10001,\"name\":\"Básico da despensa\",\"link\":\"/secoes/C10000/basico-da-despensa?ftr=facetSubShelf_ss:10000_Básico da despensa\",\"uiLink\":\"/alimentos/basico-da-despensa\",\"slug\":\"\",\"type\":\"SHELF\",\"bannerList\":[],\"subCategory\":[{\"id\":10007,\"name\":\"Cafés, chás e achocolatados\",\"link\":\"/secoes/C10001/cafes-chas-e-achocolatados?ftr=facetSubShelf_ss:10001_Cafés, chás e achocolatados\",\"uiLink\":\"/alimentos/basico-da-despensa/cafes-chas-e-achocolatados\",\"slug\":\"\",\"type\":\"SHELF\",\"bannerList\":[],\"subCategory\":[{\"id\":10008,\"name\":\"Achocolatados\",\"link\":\"/secoes/C10007/achocolatados?ftr=facetSubShelf_ss:10007_Achocolatados\",\"uiLink\":\"/alimentos/basico-da-despensa/cafes-chas-e-achocolatados/achocolatados\",\"slug\":\"\",\"type\":\"SHELF\",\"bannerList\":[],\"subCategory\":[]},{\"id\":10009,\"name\":\"Cafés\",\"link\":\"/secoes/C10007/cafes?ftr=facetSubShelf_ss:10007_Cafés\",\"uiLink\":\"/alimentos/basico-da-despensa/cafes-chas-e-achocolatados/cafes\",\"slug\":\"\",\"type\":\"SHELF\",\"bannerList\":[],\"subCategory\":[]},{\"id\":10010,\"name\":\"Cappuccinos e bebidas de café\",\"link\":\"/secoes/C10007/cappuccinos-e-bebidas-de-cafe?ftr=facetSubShelf_ss:10007_Cappuccinos e bebidas de café\",\"uiLink\":\"/alimentos/basico-da-despensa/cafes-chas-e-achocolatados/cappuccinos-e-bebidas-de-cafe\",\"slug\":\"\",\"type\":\"SHELF\",\"bannerList\":[],\"subCategory\":[]},{\"id\":10011,\"name\":\"Chás\",\"link\":\"/secoes/C10007/chas?ftr=facetSubShelf_ss:10007_Chás\",\"uiLink\":\"/alimentos/basico-da-despensa/cafes-chas-e-achocolatados/chas\",\"slug\":\"\",\"type\":\"SHELF\",\"bannerList\":[],\"subCategory\":[]}]},{\"id\":10002,\"name\":\"Açúcar e adoçante\",\"link\":\"/secoes/C10001/acucar-e-adocante?ftr=facetSubShelf_ss:10001_Açúcar e adoçante\",\"uiLink\":\"/alimentos/basico-da-despensa/acucar-e-adocante\",\"slug\":\"\",\"type\":\"SHELF\",\"bannerList\":[],\"subCategory\":[{\"id\":10003,\"name\":\"Açúcar\",\"link\":\"/secoes/C10002/acucar?ftr=facetSubShelf_ss:10002_Açúcar\",\"uiLink\":\"/alimentos/basico-da-despensa/acucar-e-adocante/acucar\",\"slug\":\"\",\"type\":\"SHELF\",\"bannerList\":[],\"subCategory\":[]},{\"id\":10004,\"name\":\"Adoçante\",\"link\":\"/secoes/C10002/adocante?ftr=facetSubShelf_ss:10002_Adoçante\",\"uiLink\":\"/alimentos/basico-da-despensa/acucar-e-adocante/adocante\",\"slug\":\"\",\"type\":\"SHELF\",\"bannerList\":[],\"subCategory\":[]},{\"id\":10005,\"name\":\"Mel \",\"link\":\"/secoes/C10002/mel-?ftr=facetSubShelf_ss:10002_Mel \",\"uiLink\":\"/alimentos/basico-da-despensa/acucar-e-adocante/mel-\",\"slug\":\"\",\"type\":\"SHELF\",\"bannerList\":[],\"subCategory\":[]},{\"id\":10006,\"name\":\"Outros\",\"link\":\"/secoes/C10002/outros?ftr=facetSubShelf_ss:10002_Outros\",\"uiLink\":\"/alimentos/basico-da-despensa/acucar-e-adocante/outros\",\"slug\":\"\",\"type\":\"SHELF\",\"bannerList\":[],\"subCategory\":[]}]},{\"id\":10045,\"name\":\"Óleos e azeites\",\"link\":\"/secoes/C10001/oleos-e-azeites?ftr=facetSubShelf_ss:10001_Óleos e azeites\",\"uiLink\":\"/alimentos/basico-da-despensa/oleos-e-azeites\",\"slug\":\"\",\"type\":\"SHELF\",\"bannerList\":[],\"subCategory\":[{\"id\":10046,\"name\":\"Azeite\",\"link\":\"/secoes/C10045/azeite?ftr=facetSubShelf_ss:10045_Azeite\",\"uiLink\":\"/alimentos/basico-da-despensa/oleos-e-azeites/azeite\",\"slug\":\"\",\"type\":\"SHELF\",\"bannerList\":[],\"subCategory\":[]},{\"id\":10048,\"name\":\"Óleos vegetais\",\"link\":\"/secoes/C10045/oleos-vegetais?ftr=facetSubShelf_ss:10045_Óleos vegetais\",\"uiLink\":\"/alimentos/basico-da-despensa/oleos-e-azeites/oleos-vegetais\",\"slug\":\"\",\"type\":\"SHELF\",\"bannerList\":[],\"subCategory\":[]},{\"id\":10047,\"name\":\"Óleos especiais\",\"link\":\"/secoes/C10045/oleos-especiais?ftr=facetSubShelf_ss:10045_Óleos especiais\",\"uiLink\":\"/alimentos/basico-da-despensa/oleos-e-azeites/oleos-especiais\",\"slug\":\"\",\"type\":\"SHELF\",\"bannerList\":[],\"subCategory\":[]}]},{\"id\":10049,\"name\":\"Sopas e cremes\",\"link\":\"/secoes/C10001/sopas-e-cremes?ftr=facetSubShelf_ss:10001_Sopas e cremes\",\"uiLink\":\"/alimentos/basico-da-despensa/sopas-e-cremes\",\"slug\":\"\",\"type\":\"SHELF\",\"bannerList\":[],\"subCategory\":[{\"id\":10051,\"name\":\"Sopas\",\"link\":\"/secoes/C10049/sopas?ftr=facetSubShelf_ss:10049_Sopas\",\"uiLink\":\"/alimentos/basico-da-despensa/sopas-e-cremes/sopas\",\"slug\":\"\",\"type\":\"SHELF\",\"bannerList\":[],\"subCategory\":[]},{\"id\":10050,\"name\":\"Cremes\",\"link\":\"/secoes/C10049/cremes?ftr=facetSubShelf_ss:10049_Cremes\",\"uiLink\":\"/alimentos/basico-da-despensa/sopas-e-cremes/cremes\",\"slug\":\"\",\"type\":\"SHELF\",\"bannerList\":[],\"subCategory\":[]}]},{\"id\":10037,\"name\":\"Kits e Cestas\",\"link\":\"/secoes/C10001/kits-e-cestas?ftr=facetSubShelf_ss:10001_Kits e Cestas\",\"uiLink\":\"/alimentos/basico-da-despensa/kits-e-cestas\",\"slug\":\"\",\"type\":\"SHELF\",\"bannerList\":[],\"subCategory\":[{\"id\":10038,\"name\":\"Cesta básica\",\"link\":\"/secoes/C10037/cesta-basica?ftr=facetSubShelf_ss:10037_Cesta básica\",\"uiLink\":\"/alimentos/basico-da-despensa/kits-e-cestas/cesta-basica\",\"slug\":\"\",\"type\":\"SHELF\",\"bannerList\":[],\"subCategory\":[]},{\"id\":10040,\"name\":\"Kits culinários\",\"link\":\"/secoes/C10037/kits-culinarios?ftr=facetSubShelf_ss:10037_Kits culinários\",\"uiLink\":\"/alimentos/basico-da-despensa/kits-e-cestas/kits-culinarios\",\"slug\":\"\",\"type\":\"SHELF\",\"bannerList\":[],\"subCategory\":[]},{\"id\":10039,\"name\":\"Cheftime\",\"link\":\"/secoes/C10037/cheftime?ftr=facetSubShelf_ss:10037_Cheftime\",\"uiLink\":\"/alimentos/basico-da-despensa/kits-e-cestas/cheftime\",\"slug\":\"\",\"type\":\"SHELF\",\"bannerList\":[],\"subCategory\":[]}]},{\"id\":10012,\"name\":\"Farináceos\",\"link\":\"/secoes/C10001/farinaceos?ftr=facetSubShelf_ss:10001_Farináceos\",\"uiLink\":\"/alimentos/basico-da-despensa/farinaceos\",\"slug\":\"\",\"type\":\"SHELF\",\"bannerList\":[],\"subCategory\":[{\"id\":10014,\"name\":\"Farinhas\",\"link\":\"/secoes/C10012/farinhas?ftr=facetSubShelf_ss:10012_Farinhas\",\"uiLink\":\"/alimentos/basico-da-despensa/farinaceos/farinhas\",\"slug\":\"\",\"type\":\"SHELF\",\"bannerList\":[],\"subCategory\":[]},{\"id\":10016,\"name\":\"Féculas\",\"link\":\"/secoes/C10012/feculas?ftr=facetSubShelf_ss:10012_Féculas\",\"uiLink\":\"/alimentos/basico-da-despensa/farinaceos/feculas\",\"slug\":\"\",\"type\":\"SHELF\",\"bannerList\":[],\"subCategory\":[]},{\"id\":10015,\"name\":\"Farofas preparadas\",\"link\":\"/secoes/C10012/farofas-preparadas?ftr=facetSubShelf_ss:10012_Farofas preparadas\",\"uiLink\":\"/alimentos/basico-da-despensa/farinaceos/farofas-preparadas\",\"slug\":\"\",\"type\":\"SHELF\",\"bannerList\":[],\"subCategory\":[]},{\"id\":10013,\"name\":\"Cuscuz\",\"link\":\"/secoes/C10012/cuscuz?ftr=facetSubShelf_ss:10012_Cuscuz\",\"uiLink\":\"/alimentos/basico-da-despensa/farinaceos/cuscuz\",\"slug\":\"\",\"type\":\"SHELF\",\"bannerList\":[],\"subCategory\":[]},{\"id\":10021,\"name\":\"Trigo para quibe\",\"link\":\"/secoes/C10012/trigo-para-quibe?ftr=facetSubShelf_ss:10012_Trigo para quibe\",\"uiLink\":\"/alimentos/basico-da-despensa/farinaceos/trigo-para-quibe\",\"slug\":\"\",\"type\":\"SHELF\",\"bannerList\":[],\"subCategory\":[]},{\"id\":10020,\"name\":\"Outros farináceos\",\"link\":\"/secoes/C10012/outros-farinaceos?ftr=facetSubShelf_ss:10012_Outros farináceos\",\"uiLink\":\"/alimentos/basico-da-despensa/farinaceos/outros-farinaceos\",\"slug\":\"\",\"type\":\"SHELF\",\"bannerList\":[],\"subCategory\":[]},{\"id\":10019,\"name\":\"Mistura para pão\",\"link\":\"/secoes/C10012/mistura-para-pao?ftr=facetSubShelf_ss:10012_Mistura para pão\",\"uiLink\":\"/alimentos/basico-da-despensa/farinaceos/mistura-para-pao\",\"slug\":\"\",\"type\":\"SHELF\",\"bannerList\":[],\"subCategory\":[]},{\"id\":10018,\"name\":\"Mistura para bolos\",\"link\":\"/secoes/C10012/mistura-para-bolos?ftr=facetSubShelf_ss:10012_Mistura para bolos\",\"uiLink\":\"/alimentos/basico-da-despensa/farinaceos/mistura-para-bolos\",\"slug\":\"\",\"type\":\"SHELF\",\"bannerList\":[],\"subCategory\":[]}]},{\"id\":10041,\"name\":\"Massas\",\"link\":\"/secoes/C10001/massas?ftr=facetSubShelf_ss:10001_Massas\",\"uiLink\":\"/alimentos/basico-da-despensa/massas\",\"slug\":\"\",\"type\":\"SHELF\",\"bannerList\":[],\"subCategory\":[{\"id\":10043,\"name\":\"Massas instantâneas\",\"link\":\"/secoes/C10041/massas-instantaneas?ftr=facetSubShelf_ss:10041_Massas instantâneas\",\"uiLink\":\"/alimentos/basico-da-despensa/massas/massas-instantaneas\",\"slug\":\"\",\"type\":\"SHELF\",\"bannerList\":[],\"subCategory\":[]},{\"id\":10044,\"name\":\"Massas secas\",\"link\":\"/secoes/C10041/massas-secas?ftr=facetSubShelf_ss:10041_Massas secas\",\"uiLink\":\"/alimentos/basico-da-despensa/massas/massas-secas\",\"slug\":\"\",\"type\":\"SHELF\",\"bannerList\":[],\"subCategory\":[]},{\"id\":10042,\"name\":\"Massas frescas\",\"link\":\"/secoes/C10041/massas-frescas?ftr=facetSubShelf_ss:10041_Massas frescas\",\"uiLink\":\"/alimentos/basico-da-despensa/massas/massas-frescas\",\"slug\":\"\",\"type\":\"SHELF\",\"bannerList\":[],\"subCategory\":[]}]},{\"id\":10022,\"name\":\"Grãos e Cereais\",\"link\":\"/secoes/C10001/graos-e-cereais?ftr=facetSubShelf_ss:10001_Grãos e Cereais\",\"uiLink\":\"/alimentos/basico-da-despensa/graos-e-cereais\",\"slug\":\"\",\"type\":\"SHELF\",\"bannerList\":[],\"subCategory\":[{\"id\":10025,\"name\":\"Cereais matinais\",\"link\":\"/secoes/C10022/cereais-matinais?ftr=facetSubShelf_ss:10022_Cereais matinais\",\"uiLink\":\"/alimentos/basico-da-despensa/graos-e-cereais/cereais-matinais\",\"slug\":\"\",\"type\":\"SHELF\",\"bannerList\":[],\"subCategory\":[]},{\"id\":10024,\"name\":\"Aveias\",\"link\":\"/secoes/C10022/aveias?ftr=facetSubShelf_ss:10022_Aveias\",\"uiLink\":\"/alimentos/basico-da-despensa/graos-e-cereais/aveias\",\"slug\":\"\",\"type\":\"SHELF\",\"bannerList\":[],\"subCategory\":[]},{\"id\":10028,\"name\":\"Granola\",\"link\":\"/secoes/C10022/granola?ftr=facetSubShelf_ss:10022_Granola\",\"uiLink\":\"/alimentos/basico-da-despensa/graos-e-cereais/granola\",\"slug\":\"\",\"type\":\"SHELF\",\"bannerList\":[],\"subCategory\":[]},{\"id\":10023,\"name\":\"Arroz\",\"link\":\"/secoes/C10022/arroz?ftr=facetSubShelf_ss:10022_Arroz\",\"uiLink\":\"/alimentos/basico-da-despensa/graos-e-cereais/arroz\",\"slug\":\"\",\"type\":\"SHELF\",\"bannerList\":[],\"subCategory\":[]},{\"id\":10031,\"name\":\"Milho\",\"link\":\"/secoes/C10022/milho?ftr=facetSubShelf_ss:10022_Milho\",\"uiLink\":\"/alimentos/basico-da-despensa/graos-e-cereais/milho\",\"slug\":\"\",\"type\":\"SHELF\",\"bannerList\":[],\"subCategory\":[]},{\"id\":10036,\"name\":\"Trigo\",\"link\":\"/secoes/C10022/trigo?ftr=facetSubShelf_ss:10022_Trigo\",\"uiLink\":\"/alimentos/basico-da-despensa/graos-e-cereais/trigo\",\"slug\":\"\",\"type\":\"SHELF\",\"bannerList\":[],\"subCategory\":[]},{\"id\":10032,\"name\":\"Outros cereais\",\"link\":\"/secoes/C10022/outros-cereais?ftr=facetSubShelf_ss:10022_Outros cereais\",\"uiLink\":\"/alimentos/basico-da-despensa/graos-e-cereais/outros-cereais\",\"slug\":\"\",\"type\":\"SHELF\",\"bannerList\":[],\"subCategory\":[]},{\"id\":10027,\"name\":\"Feijão\",\"link\":\"/secoes/C10022/feijao?ftr=facetSubShelf_ss:10022_Feijão\",\"uiLink\":\"/alimentos/basico-da-despensa/graos-e-cereais/feijao\",\"slug\":\"\",\"type\":\"SHELF\",\"bannerList\":[],\"subCategory\":[]},{\"id\":10034,\"name\":\"Quinoa\",\"link\":\"/secoes/C10022/quinoa?ftr=facetSubShelf_ss:10022_Quinoa\",\"uiLink\":\"/alimentos/basico-da-despensa/graos-e-cereais/quinoa\",\"slug\":\"\",\"type\":\"SHELF\",\"bannerList\":[],\"subCategory\":[]},{\"id\":10035,\"name\":\"Soja\",\"link\":\"/secoes/C10022/soja?ftr=facetSubShelf_ss:10022_Soja\",\"uiLink\":\"/alimentos/basico-da-despensa/graos-e-cereais/soja\",\"slug\":\"\",\"type\":\"SHELF\",\"bannerList\":[],\"subCategory\":[]},{\"id\":10029,\"name\":\"Grão de bico\",\"link\":\"/secoes/C10022/grao-de-bico?ftr=facetSubShelf_ss:10022_Grão de bico\",\"uiLink\":\"/alimentos/basico-da-despensa/graos-e-cereais/grao-de-bico\",\"slug\":\"\",\"type\":\"SHELF\",\"bannerList\":[],\"subCategory\":[]},{\"id\":10026,\"name\":\"Ervilha\",\"link\":\"/secoes/C10022/ervilha?ftr=facetSubShelf_ss:10022_Ervilha\",\"uiLink\":\"/alimentos/basico-da-despensa/graos-e-cereais/ervilha\",\"slug\":\"\",\"type\":\"SHELF\",\"bannerList\":[],\"subCategory\":[]},{\"id\":10030,\"name\":\"Lentilha\",\"link\":\"/secoes/C10022/lentilha?ftr=facetSubShelf_ss:10022_Lentilha\",\"uiLink\":\"/alimentos/basico-da-despensa/graos-e-cereais/lentilha\",\"slug\":\"\",\"type\":\"SHELF\",\"bannerList\":[],\"subCategory\":[]},{\"id\":10033,\"name\":\"Outros grãos\",\"link\":\"/secoes/C10022/outros-graos?ftr=facetSubShelf_ss:10022_Outros grãos\",\"uiLink\":\"/alimentos/basico-da-despensa/graos-e-cereais/outros-graos\",\"slug\":\"\",\"type\":\"SHELF\",\"bannerList\":[],\"subCategory\":[]}]}]},{\"id\":10052,\"name\":\"Biscoitos, salgadinhos e snacks\",\"link\":\"/secoes/C10000/biscoitos-salgadinhos-e-snacks?ftr=facetSubShelf_ss:10000_Biscoitos, salgadinhos e snacks\",\"uiLink\":\"/alimentos/biscoitos-salgadinhos-e-snacks\",\"slug\":\"\",\"metaDescription\":\"Aproveite para comprar os melhores Biscoitos, Salgadinhos e Snacks aqui no Paodeacucar.com, o seu supermercado online!\",\"type\":\"SHELF\",\"bannerList\":[],\"subCategory\":[{\"id\":10056,\"name\":\"Salgadinhos e snacks\",\"link\":\"/secoes/C10052/salgadinhos-e-snacks?ftr=facetSubShelf_ss:10052_Salgadinhos e snacks\",\"uiLink\":\"/alimentos/biscoitos-salgadinhos-e-snacks/salgadinhos-e-snacks\",\"slug\":\"\",\"type\":\"SHELF\",\"bannerList\":[],\"subCategory\":[{\"id\":10062,\"name\":\"Salgadinhos\",\"link\":\"/secoes/C10056/salgadinhos?ftr=facetSubShelf_ss:10056_Salgadinhos\",\"uiLink\":\"/alimentos/biscoitos-salgadinhos-e-snacks/salgadinhos-e-snacks/salgadinhos\",\"slug\":\"\",\"type\":\"SHELF\",\"bannerList\":[],\"subCategory\":[]},{\"id\":10061,\"name\":\"Pipoca\",\"link\":\"/secoes/C10056/pipoca?ftr=facetSubShelf_ss:10056_Pipoca\",\"uiLink\":\"/alimentos/biscoitos-salgadinhos-e-snacks/salgadinhos-e-snacks/pipoca\",\"slug\":\"\",\"type\":\"SHELF\",\"bannerList\":[],\"subCategory\":[]},{\"id\":10057,\"name\":\"Aperitivos\",\"link\":\"/secoes/C10056/aperitivos?ftr=facetSubShelf_ss:10056_Aperitivos\",\"uiLink\":\"/alimentos/biscoitos-salgadinhos-e-snacks/salgadinhos-e-snacks/aperitivos\",\"slug\":\"\",\"type\":\"SHELF\",\"bannerList\":[],\"subCategory\":[]},{\"id\":10058,\"name\":\"Batata palha\",\"link\":\"/secoes/C10056/batata-palha?ftr=facetSubShelf_ss:10056_Batata palha\",\"uiLink\":\"/alimentos/biscoitos-salgadinhos-e-snacks/salgadinhos-e-snacks/batata-palha\",\"slug\":\"\",\"type\":\"SHELF\",\"bannerList\":[],\"subCategory\":[]},{\"id\":10059,\"name\":\"Chips\",\"link\":\"/secoes/C10056/chips?ftr=facetSubShelf_ss:10056_Chips\",\"uiLink\":\"/alimentos/biscoitos-salgadinhos-e-snacks/salgadinhos-e-snacks/chips\",\"slug\":\"\",\"type\":\"SHELF\",\"bannerList\":[],\"subCategory\":[]},{\"id\":10060,\"name\":\"Outros salgadinhos\",\"link\":\"/secoes/C10056/outros-salgadinhos?ftr=facetSubShelf_ss:10056_Outros salgadinhos\",\"uiLink\":\"/alimentos/biscoitos-salgadinhos-e-snacks/salgadinhos-e-snacks/outros-salgadinhos\",\"slug\":\"\",\"type\":\"SHELF\",\"bannerList\":[],\"subCategory\":[]}]},{\"id\":10053,\"name\":\"Biscoitos e bolachas\",\"link\":\"/secoes/C10052/biscoitos-e-bolachas?ftr=facetSubShelf_ss:10052_Biscoitos e bolachas\",\"uiLink\":\"/alimentos/biscoitos-salgadinhos-e-snacks/biscoitos-e-bolachas\",\"slug\":\"\",\"type\":\"SHELF\",\"bannerList\":[],\"subCategory\":[{\"id\":10054,\"name\":\"Biscoitos doces\",\"link\":\"/secoes/C10053/biscoitos-doces?ftr=facetSubShelf_ss:10053_Biscoitos doces\",\"uiLink\":\"/alimentos/biscoitos-salgadinhos-e-snacks/biscoitos-e-bolachas/biscoitos-doces\",\"slug\":\"\",\"type\":\"SHELF\",\"bannerList\":[],\"subCategory\":[]},{\"id\":10055,\"name\":\"Biscoitos salgados\",\"link\":\"/secoes/C10053/biscoitos-salgados?ftr=facetSubShelf_ss:10053_Biscoitos salgados\",\"uiLink\":\"/alimentos/biscoitos-salgadinhos-e-snacks/biscoitos-e-bolachas/biscoitos-salgados\",\"slug\":\"\",\"type\":\"SHELF\",\"bannerList\":[],\"subCategory\":[]}]}]},{\"id\":10063,\"name\":\"Carnes e aves\",\"link\":\"/secoes/C10000/carnes-e-aves?ftr=facetSubShelf_ss:10000_Carnes e aves\",\"uiLink\":\"/alimentos/carnes-e-aves\",\"slug\":\"\",\"metaDescription\":\"Garanta as melhores Carnes e Aves para as suas refeições no Paodecucar.com!\",\"type\":\"SHELF\",\"bannerList\":[],\"subCategory\":[{\"id\":10064,\"name\":\"Aves\",\"link\":\"/secoes/C10063/aves?ftr=facetSubShelf_ss:10063_Aves\",\"uiLink\":\"/alimentos/carnes-e-aves/aves\",\"slug\":\"\",\"type\":\"SHELF\",\"bannerList\":[],\"subCategory\":[{\"id\":10065,\"name\":\"Frango\",\"link\":\"/secoes/C10064/frango?ftr=facetSubShelf_ss:10064_Frango\",\"uiLink\":\"/alimentos/carnes-e-aves/aves/frango\",\"slug\":\"\",\"type\":\"SHELF\",\"bannerList\":[],\"subCategory\":[]},{\"id\":10067,\"name\":\"Pato\",\"link\":\"/secoes/C10064/pato?ftr=facetSubShelf_ss:10064_Pato\",\"uiLink\":\"/alimentos/carnes-e-aves/aves/pato\",\"slug\":\"\",\"type\":\"SHELF\",\"bannerList\":[],\"subCategory\":[]},{\"id\":10068,\"name\":\"Peru\",\"link\":\"/secoes/C10064/peru?ftr=facetSubShelf_ss:10064_Peru\",\"uiLink\":\"/alimentos/carnes-e-aves/aves/peru\",\"slug\":\"\",\"type\":\"SHELF\",\"bannerList\":[],\"subCategory\":[]},{\"id\":10066,\"name\":\"Outros\",\"link\":\"/secoes/C10064/outros?ftr=facetSubShelf_ss:10064_Outros\",\"uiLink\":\"/alimentos/carnes-e-aves/aves/outros\",\"slug\":\"\",\"type\":\"SHELF\",\"bannerList\":[],\"subCategory\":[]}]},{\"id\":10069,\"name\":\"Carnes\",\"link\":\"/secoes/C10063/carnes?ftr=facetSubShelf_ss:10063_Carnes\",\"uiLink\":\"/alimentos/carnes-e-aves/carnes\",\"slug\":\"\",\"type\":\"SHELF\",\"bannerList\":[],\"subCategory\":[{\"id\":10070,\"name\":\"Bovina\",\"link\":\"/secoes/C10069/bovina?ftr=facetSubShelf_ss:10069_Bovina\",\"uiLink\":\"/alimentos/carnes-e-aves/carnes/bovina\",\"slug\":\"\",\"type\":\"SHELF\",\"bannerList\":[],\"subCategory\":[]},{\"id\":10074,\"name\":\"Suína\",\"link\":\"/secoes/C10069/suina?ftr=facetSubShelf_ss:10069_Suína\",\"uiLink\":\"/alimentos/carnes-e-aves/carnes/suina\",\"slug\":\"\",\"type\":\"SHELF\",\"bannerList\":[],\"subCategory\":[]},{\"id\":10071,\"name\":\"Cordeiro\",\"link\":\"/secoes/C10069/cordeiro?ftr=facetSubShelf_ss:10069_Cordeiro\",\"uiLink\":\"/alimentos/carnes-e-aves/carnes/cordeiro\",\"slug\":\"\",\"type\":\"SHELF\",\"bannerList\":[],\"subCategory\":[]},{\"id\":10072,\"name\":\"Exóticas\",\"link\":\"/secoes/C10069/exoticas?ftr=facetSubShelf_ss:10069_Exóticas\",\"uiLink\":\"/alimentos/carnes-e-aves/carnes/exoticas\",\"slug\":\"\",\"type\":\"SHELF\",\"bannerList\":[],\"subCategory\":[]},{\"id\":10073,\"name\":\"Outros\",\"link\":\"/secoes/C10069/outros?ftr=facetSubShelf_ss:10069_Outros\",\"uiLink\":\"/alimentos/carnes-e-aves/carnes/outros\",\"slug\":\"\",\"type\":\"SHELF\",\"bannerList\":[],\"subCategory\":[]}]}]},{\"id\":10075,\"name\":\"Congelados\",\"link\":\"/secoes/C10000/congelados?ftr=facetSubShelf_ss:10000_Congelados\",\"uiLink\":\"/alimentos/congelados\",\"slug\":\"\",\"type\":\"SHELF\",\"bannerList\":[],\"subCategory\":[{\"id\":10081,\"name\":\"Legumes congelados\",\"link\":\"/secoes/C10075/legumes-congelados?ftr=facetSubShelf_ss:10075_Legumes congelados\",\"uiLink\":\"/alimentos/congelados/legumes-congelados\",\"slug\":\"\",\"type\":\"SHELF\",\"bannerList\":[],\"subCategory\":[{\"id\":10083,\"name\":\"Seleta de legumes\",\"link\":\"/secoes/C10081/seleta-de-legumes?ftr=facetSubShelf_ss:10081_Seleta de legumes\",\"uiLink\":\"/alimentos/congelados/legumes-congelados/seleta-de-legumes\",\"slug\":\"\",\"type\":\"SHELF\",\"bannerList\":[],\"subCategory\":[]},{\"id\":10082,\"name\":\"Outros\",\"link\":\"/secoes/C10081/outros?ftr=facetSubShelf_ss:10081_Outros\",\"uiLink\":\"/alimentos/congelados/legumes-congelados/outros\",\"slug\":\"\",\"type\":\"SHELF\",\"bannerList\":[],\"subCategory\":[]},{\"id\":6,\"name\":\"Legumes\",\"uiLink\":\"/alimentos/legumes-e-verduras/legumes/legumes-congelados\",\"type\":\"GHOST_SHELF\",\"bannerList\":[],\"subCategory\":[]}]},{\"id\":10088,\"name\":\"Petiscos e salgados\",\"link\":\"/secoes/C10075/petiscos-e-salgados?ftr=facetSubShelf_ss:10075_Petiscos e salgados\",\"uiLink\":\"/alimentos/congelados/petiscos-e-salgados\",\"slug\":\"\",\"type\":\"SHELF\",\"bannerList\":[],\"subCategory\":[{\"id\":10091,\"name\":\"Pão de queijo congelado\",\"link\":\"/secoes/C10088/pao-de-queijo-congelado?ftr=facetSubShelf_ss:10088_Pão de queijo congelado\",\"uiLink\":\"/alimentos/congelados/petiscos-e-salgados/pao-de-queijo-congelado\",\"slug\":\"\",\"type\":\"SHELF\",\"bannerList\":[],\"subCategory\":[]},{\"id\":10089,\"name\":\"Esfirras e croquetes congelados\",\"link\":\"/secoes/C10088/esfirras-e-croquetes-congelados?ftr=facetSubShelf_ss:10088_Esfirras e croquetes congelados\",\"uiLink\":\"/alimentos/congelados/petiscos-e-salgados/esfirras-e-croquetes-congelados\",\"slug\":\"\",\"type\":\"SHELF\",\"bannerList\":[],\"subCategory\":[]},{\"id\":10092,\"name\":\"Salgadinhos congelados\",\"link\":\"/secoes/C10088/salgadinhos-congelados?ftr=facetSubShelf_ss:10088_Salgadinhos congelados\",\"uiLink\":\"/alimentos/congelados/petiscos-e-salgados/salgadinhos-congelados\",\"slug\":\"\",\"type\":\"SHELF\",\"bannerList\":[],\"subCategory\":[]},{\"id\":10090,\"name\":\"Outros\",\"link\":\"/secoes/C10088/outros?ftr=facetSubShelf_ss:10088_Outros\",\"uiLink\":\"/alimentos/congelados/petiscos-e-salgados/outros\",\"slug\":\"\",\"type\":\"SHELF\",\"bannerList\":[],\"subCategory\":[]}]},{\"id\":10093,\"name\":\"Polpas e frutas congeladas\",\"link\":\"/secoes/C10075/polpas-e-frutas-congeladas?ftr=facetSubShelf_ss:10075_Polpas e frutas congeladas\",\"uiLink\":\"/alimentos/congelados/polpas-e-frutas-congeladas\",\"slug\":\"\",\"type\":\"SHELF\",\"bannerList\":[],\"subCategory\":[{\"id\":10095,\"name\":\"Polpas de frutas congeladas\",\"link\":\"/secoes/C10093/polpas-de-frutas-congeladas?ftr=facetSubShelf_ss:10093_Polpas de frutas congeladas\",\"uiLink\":\"/alimentos/congelados/polpas-e-frutas-congeladas/polpas-de-frutas-congeladas\",\"slug\":\"\",\"type\":\"SHELF\",\"bannerList\":[],\"subCategory\":[]},{\"id\":10094,\"name\":\"Açaí\",\"link\":\"/secoes/C10093/acai?ftr=facetSubShelf_ss:10093_Açaí\",\"uiLink\":\"/alimentos/congelados/polpas-e-frutas-congeladas/acai\",\"slug\":\"\",\"type\":\"SHELF\",\"bannerList\":[],\"subCategory\":[]},{\"id\":21,\"name\":\"Frutas\",\"uiLink\":\"/alimentos/frutas/frutas-congeladas\",\"type\":\"GHOST_SHELF\",\"bannerList\":[],\"subCategory\":[]}]},{\"id\":10096,\"name\":\"Pratos prontos\",\"link\":\"/secoes/C10075/pratos-prontos?ftr=facetSubShelf_ss:10075_Pratos prontos\",\"uiLink\":\"/alimentos/congelados/pratos-prontos\",\"slug\":\"\",\"type\":\"SHELF\",\"bannerList\":[],\"subCategory\":[{\"id\":10097,\"name\":\"Massas congeladas\",\"link\":\"/secoes/C10096/massas-congeladas?ftr=facetSubShelf_ss:10096_Massas congeladas\",\"uiLink\":\"/alimentos/congelados/pratos-prontos/massas-congeladas\",\"slug\":\"\",\"type\":\"SHELF\",\"bannerList\":[],\"subCategory\":[]},{\"id\":10100,\"name\":\"Refeições congeladas\",\"link\":\"/secoes/C10096/refeicoes-congeladas?ftr=facetSubShelf_ss:10096_Refeições congeladas\",\"uiLink\":\"/alimentos/congelados/pratos-prontos/refeicoes-congeladas\",\"slug\":\"\",\"type\":\"SHELF\",\"bannerList\":[],\"subCategory\":[]},{\"id\":10101,\"name\":\"Tortas salgadas e quiches\",\"link\":\"/secoes/C10096/tortas-salgadas-e-quiches?ftr=facetSubShelf_ss:10096_Tortas salgadas e quiches\",\"uiLink\":\"/alimentos/congelados/pratos-prontos/tortas-salgadas-e-quiches\",\"slug\":\"\",\"type\":\"SHELF\",\"bannerList\":[],\"subCategory\":[]},{\"id\":10099,\"name\":\"Pizzas congeladas\",\"link\":\"/secoes/C10096/pizzas-congeladas?ftr=facetSubShelf_ss:10096_Pizzas congeladas\",\"uiLink\":\"/alimentos/congelados/pratos-prontos/pizzas-congeladas\",\"slug\":\"\",\"type\":\"SHELF\",\"bannerList\":[],\"subCategory\":[]},{\"id\":10098,\"name\":\"Outros\",\"link\":\"/secoes/C10096/outros?ftr=facetSubShelf_ss:10096_Outros\",\"uiLink\":\"/alimentos/congelados/pratos-prontos/outros\",\"slug\":\"\",\"type\":\"SHELF\",\"bannerList\":[],\"subCategory\":[]}]},{\"id\":10102,\"name\":\"Sobremesas prontas\",\"link\":\"/secoes/C10075/sobremesas-prontas?ftr=facetSubShelf_ss:10075_Sobremesas prontas\",\"uiLink\":\"/alimentos/congelados/sobremesas-prontas\",\"slug\":\"\",\"type\":\"SHELF\",\"bannerList\":[],\"subCategory\":[{\"id\":10103,\"name\":\"Bolos e brownies\",\"link\":\"/secoes/C10102/bolos-e-brownies?ftr=facetSubShelf_ss:10102_Bolos e brownies\",\"uiLink\":\"/alimentos/congelados/sobremesas-prontas/bolos-e-brownies\",\"slug\":\"\",\"type\":\"SHELF\",\"bannerList\":[],\"subCategory\":[]},{\"id\":10105,\"name\":\"Tortas doces\",\"link\":\"/secoes/C10102/tortas-doces?ftr=facetSubShelf_ss:10102_Tortas doces\",\"uiLink\":\"/alimentos/congelados/sobremesas-prontas/tortas-doces\",\"slug\":\"\",\"type\":\"SHELF\",\"bannerList\":[],\"subCategory\":[]},{\"id\":10104,\"name\":\"Outros\",\"link\":\"/secoes/C10102/outros?ftr=facetSubShelf_ss:10102_Outros\",\"uiLink\":\"/alimentos/congelados/sobremesas-prontas/outros\",\"slug\":\"\",\"type\":\"SHELF\",\"bannerList\":[],\"subCategory\":[]}]},{\"id\":10076,\"name\":\"Hambúrgueres e almôndegas\",\"link\":\"/secoes/C10075/hamburgueres-e-almondegas?ftr=facetSubShelf_ss:10075_Hambúrgueres e almôndegas\",\"uiLink\":\"/alimentos/congelados/hamburgueres-e-almondegas\",\"slug\":\"\",\"type\":\"SHELF\",\"bannerList\":[],\"subCategory\":[{\"id\":10079,\"name\":\"Hambúrguer de carne\",\"link\":\"/secoes/C10076/hamburguer-de-carne?ftr=facetSubShelf_ss:10076_Hambúrguer de carne\",\"uiLink\":\"/alimentos/congelados/hamburgueres-e-almondegas/hamburguer-de-carne\",\"slug\":\"\",\"type\":\"SHELF\",\"bannerList\":[],\"subCategory\":[]},{\"id\":10080,\"name\":\"Hambúrguer vegetariano\",\"link\":\"/secoes/C10076/hamburguer-vegetariano?ftr=facetSubShelf_ss:10076_Hambúrguer vegetariano\",\"uiLink\":\"/alimentos/congelados/hamburgueres-e-almondegas/hamburguer-vegetariano\",\"slug\":\"\",\"type\":\"SHELF\",\"bannerList\":[],\"subCategory\":[]},{\"id\":10077,\"name\":\"Almôndegas de carne\",\"link\":\"/secoes/C10076/almondegas-de-carne?ftr=facetSubShelf_ss:10076_Almôndegas de carne\",\"uiLink\":\"/alimentos/congelados/hamburgueres-e-almondegas/almondegas-de-carne\",\"slug\":\"\",\"type\":\"SHELF\",\"bannerList\":[],\"subCategory\":[]},{\"id\":10078,\"name\":\"Almôndegas vegetarianas\",\"link\":\"/secoes/C10076/almondegas-vegetarianas?ftr=facetSubShelf_ss:10076_Almôndegas vegetarianas\",\"uiLink\":\"/alimentos/congelados/hamburgueres-e-almondegas/almondegas-vegetarianas\",\"slug\":\"\",\"type\":\"SHELF\",\"bannerList\":[],\"subCategory\":[]}]},{\"id\":10084,\"name\":\"Outros congelados\",\"link\":\"/secoes/C10075/outros-congelados?ftr=facetSubShelf_ss:10075_Outros congelados\",\"uiLink\":\"/alimentos/congelados/outros-congelados\",\"slug\":\"\",\"type\":\"SHELF\",\"bannerList\":[],\"subCategory\":[{\"id\":10085,\"name\":\"Gelo\",\"link\":\"/secoes/C10084/gelo?ftr=facetSubShelf_ss:10084_Gelo\",\"uiLink\":\"/alimentos/congelados/outros-congelados/gelo\",\"slug\":\"\",\"type\":\"SHELF\",\"bannerList\":[],\"subCategory\":[]},{\"id\":10086,\"name\":\"Outros\",\"link\":\"/secoes/C10084/outros?ftr=facetSubShelf_ss:10084_Outros\",\"uiLink\":\"/alimentos/congelados/outros-congelados/outros\",\"slug\":\"\",\"type\":\"SHELF\",\"bannerList\":[],\"subCategory\":[]},{\"id\":10087,\"name\":\"Pão de alho\",\"link\":\"/secoes/C10084/pao-de-alho?ftr=facetSubShelf_ss:10084_Pão de alho\",\"uiLink\":\"/alimentos/congelados/outros-congelados/pao-de-alho\",\"slug\":\"\",\"type\":\"SHELF\",\"bannerList\":[],\"subCategory\":[]}]}]},{\"id\":10106,\"name\":\"Doces e sobremesas\",\"link\":\"/secoes/C10000/doces-e-sobremesas?ftr=facetSubShelf_ss:10000_Doces e sobremesas\",\"uiLink\":\"/alimentos/doces-e-sobremesas\",\"slug\":\"\",\"type\":\"SHELF\",\"bannerList\":[],\"subCategory\":[{\"id\":10107,\"name\":\"Bomboniere\",\"link\":\"/secoes/C10106/bomboniere?ftr=facetSubShelf_ss:10106_Bomboniere\",\"uiLink\":\"/alimentos/doces-e-sobremesas/bomboniere\",\"slug\":\"\",\"type\":\"SHELF\",\"bannerList\":[],\"subCategory\":[{\"id\":10108,\"name\":\"Balas\",\"link\":\"/secoes/C10107/balas?ftr=facetSubShelf_ss:10107_Balas\",\"uiLink\":\"/alimentos/doces-e-sobremesas/bomboniere/balas\",\"slug\":\"\",\"type\":\"SHELF\",\"bannerList\":[],\"subCategory\":[]},{\"id\":10111,\"name\":\"Goma de mascar\",\"link\":\"/secoes/C10107/goma-de-mascar?ftr=facetSubShelf_ss:10107_Goma de mascar\",\"uiLink\":\"/alimentos/doces-e-sobremesas/bomboniere/goma-de-mascar\",\"slug\":\"\",\"type\":\"SHELF\",\"bannerList\":[],\"subCategory\":[]},{\"id\":10109,\"name\":\"Bombons\",\"link\":\"/secoes/C10107/bombons?ftr=facetSubShelf_ss:10107_Bombons\",\"uiLink\":\"/alimentos/doces-e-sobremesas/bomboniere/bombons\",\"slug\":\"\",\"type\":\"SHELF\",\"bannerList\":[],\"subCategory\":[]},{\"id\":10110,\"name\":\"Chocolate\",\"link\":\"/secoes/C10107/chocolate?ftr=facetSubShelf_ss:10107_Chocolate\",\"uiLink\":\"/alimentos/doces-e-sobremesas/bomboniere/chocolate\",\"slug\":\"\",\"type\":\"SHELF\",\"bannerList\":[],\"subCategory\":[]},{\"id\":10113,\"name\":\"Paçoca\",\"link\":\"/secoes/C10107/pacoca?ftr=facetSubShelf_ss:10107_Paçoca\",\"uiLink\":\"/alimentos/doces-e-sobremesas/bomboniere/pacoca\",\"slug\":\"\",\"type\":\"SHELF\",\"bannerList\":[],\"subCategory\":[]},{\"id\":10114,\"name\":\"Pé de moleque\",\"link\":\"/secoes/C10107/pe-de-moleque?ftr=facetSubShelf_ss:10107_Pé de moleque\",\"uiLink\":\"/alimentos/doces-e-sobremesas/bomboniere/pe-de-moleque\",\"slug\":\"\",\"type\":\"SHELF\",\"bannerList\":[],\"subCategory\":[]},{\"id\":10112,\"name\":\"Outros\",\"link\":\"/secoes/C10107/outros?ftr=facetSubShelf_ss:10107_Outros\",\"uiLink\":\"/alimentos/doces-e-sobremesas/bomboniere/outros\",\"slug\":\"\",\"type\":\"SHELF\",\"bannerList\":[],\"subCategory\":[]}]},{\"id\":10115,\"name\":\"Compotas e frutas\",\"link\":\"/secoes/C10106/compotas-e-frutas?ftr=facetSubShelf_ss:10106_Compotas e frutas\",\"uiLink\":\"/alimentos/doces-e-sobremesas/compotas-e-frutas\",\"slug\":\"\",\"type\":\"SHELF\",\"bannerList\":[],\"subCategory\":[{\"id\":10116,\"name\":\"Compotas\",\"link\":\"/secoes/C10115/compotas?ftr=facetSubShelf_ss:10115_Compotas\",\"uiLink\":\"/alimentos/doces-e-sobremesas/compotas-e-frutas/compotas\",\"slug\":\"\",\"type\":\"SHELF\",\"bannerList\":[],\"subCategory\":[]},{\"id\":10117,\"name\":\"Doces em calda\",\"link\":\"/secoes/C10115/doces-em-calda?ftr=facetSubShelf_ss:10115_Doces em calda\",\"uiLink\":\"/alimentos/doces-e-sobremesas/compotas-e-frutas/doces-em-calda\",\"slug\":\"\",\"type\":\"SHELF\",\"bannerList\":[],\"subCategory\":[]}]},{\"id\":10127,\"name\":\"Sorvetes\",\"link\":\"/secoes/C10106/sorvetes?ftr=facetSubShelf_ss:10106_Sorvetes\",\"uiLink\":\"/alimentos/doces-e-sobremesas/sorvetes\",\"slug\":\"\",\"type\":\"SHELF\",\"bannerList\":[],\"subCategory\":[{\"id\":10128,\"name\":\"Sorvete de massa\",\"link\":\"/secoes/C10127/sorvete-de-massa?ftr=facetSubShelf_ss:10127_Sorvete de massa\",\"uiLink\":\"/alimentos/doces-e-sobremesas/sorvetes/sorvete-de-massa\",\"slug\":\"\",\"type\":\"SHELF\",\"bannerList\":[],\"subCategory\":[]},{\"id\":10129,\"name\":\"Sorvete de palito\",\"link\":\"/secoes/C10127/sorvete-de-palito?ftr=facetSubShelf_ss:10127_Sorvete de palito\",\"uiLink\":\"/alimentos/doces-e-sobremesas/sorvetes/sorvete-de-palito\",\"slug\":\"\",\"type\":\"SHELF\",\"bannerList\":[],\"subCategory\":[]}]},{\"id\":10118,\"name\":\"Outros doces\",\"link\":\"/secoes/C10106/outros-doces?ftr=facetSubShelf_ss:10106_Outros doces\",\"uiLink\":\"/alimentos/doces-e-sobremesas/outros-doces\",\"slug\":\"\",\"type\":\"SHELF\",\"bannerList\":[],\"subCategory\":[{\"id\":10123,\"name\":\"Gelatinas\",\"link\":\"/secoes/C10118/gelatinas?ftr=facetSubShelf_ss:10118_Gelatinas\",\"uiLink\":\"/alimentos/doces-e-sobremesas/outros-doces/gelatinas\",\"slug\":\"\",\"type\":\"SHELF\",\"bannerList\":[],\"subCategory\":[]},{\"id\":10126,\"name\":\"Pudim e mousses\",\"link\":\"/secoes/C10118/pudim-e-mousses?ftr=facetSubShelf_ss:10118_Pudim e mousses\",\"uiLink\":\"/alimentos/doces-e-sobremesas/outros-doces/pudim-e-mousses\",\"slug\":\"\",\"type\":\"SHELF\",\"bannerList\":[],\"subCategory\":[]},{\"id\":10121,\"name\":\"Creme de avelã\",\"link\":\"/secoes/C10118/creme-de-avela?ftr=facetSubShelf_ss:10118_Creme de avelã\",\"uiLink\":\"/alimentos/doces-e-sobremesas/outros-doces/creme-de-avela\",\"slug\":\"\",\"type\":\"SHELF\",\"bannerList\":[],\"subCategory\":[]},{\"id\":10122,\"name\":\"Doce de leite\",\"link\":\"/secoes/C10118/doce-de-leite?ftr=facetSubShelf_ss:10118_Doce de leite\",\"uiLink\":\"/alimentos/doces-e-sobremesas/outros-doces/doce-de-leite\",\"slug\":\"\",\"type\":\"SHELF\",\"bannerList\":[],\"subCategory\":[]},{\"id\":10125,\"name\":\"Pasta de amendoim\",\"link\":\"/secoes/C10118/pasta-de-amendoim?ftr=facetSubShelf_ss:10118_Pasta de amendoim\",\"uiLink\":\"/alimentos/doces-e-sobremesas/outros-doces/pasta-de-amendoim\",\"slug\":\"\",\"type\":\"SHELF\",\"bannerList\":[],\"subCategory\":[]},{\"id\":10119,\"name\":\"Brigadeiro\",\"link\":\"/secoes/C10118/brigadeiro?ftr=facetSubShelf_ss:10118_Brigadeiro\",\"uiLink\":\"/alimentos/doces-e-sobremesas/outros-doces/brigadeiro\",\"slug\":\"\",\"type\":\"SHELF\",\"bannerList\":[],\"subCategory\":[]},{\"id\":10120,\"name\":\"Confeitos\",\"link\":\"/secoes/C10118/confeitos?ftr=facetSubShelf_ss:10118_Confeitos\",\"uiLink\":\"/alimentos/doces-e-sobremesas/outros-doces/confeitos\",\"slug\":\"\",\"type\":\"SHELF\",\"bannerList\":[],\"subCategory\":[]},{\"id\":10124,\"name\":\"Outros\",\"link\":\"/secoes/C10118/outros?ftr=facetSubShelf_ss:10118_Outros\",\"uiLink\":\"/alimentos/doces-e-sobremesas/outros-doces/outros\",\"slug\":\"\",\"type\":\"SHELF\",\"bannerList\":[],\"subCategory\":[]}]}]},{\"id\":10130,\"name\":\"Enlatados e conservas\",\"link\":\"/secoes/C10000/enlatados-e-conservas?ftr=facetSubShelf_ss:10000_Enlatados e conservas\",\"uiLink\":\"/alimentos/enlatados-e-conservas\",\"slug\":\"\",\"type\":\"SHELF\",\"bannerList\":[],\"subCategory\":[{\"id\":10131,\"name\":\"Enlatados e conservas\",\"link\":\"/secoes/C10130/enlatados-e-conservas?ftr=facetSubShelf_ss:10130_Enlatados e conservas\",\"uiLink\":\"/alimentos/enlatados-e-conservas/enlatados-e-conservas\",\"slug\":\"\",\"type\":\"SHELF\",\"bannerList\":[],\"subCategory\":[{\"id\":10135,\"name\":\"Creme de leite\",\"link\":\"/secoes/C10131/creme-de-leite?ftr=facetSubShelf_ss:10131_Creme de leite\",\"uiLink\":\"/alimentos/enlatados-e-conservas/enlatados-e-conservas/creme-de-leite\",\"slug\":\"\",\"type\":\"SHELF\",\"bannerList\":[],\"subCategory\":[]},{\"id\":10138,\"name\":\"Leite condensado\",\"link\":\"/secoes/C10131/leite-condensado?ftr=facetSubShelf_ss:10131_Leite condensado\",\"uiLink\":\"/alimentos/enlatados-e-conservas/enlatados-e-conservas/leite-condensado\",\"slug\":\"\",\"type\":\"SHELF\",\"bannerList\":[],\"subCategory\":[]},{\"id\":10132,\"name\":\"Atum e sardinha\",\"link\":\"/secoes/C10131/atum-e-sardinha?ftr=facetSubShelf_ss:10131_Atum e sardinha\",\"uiLink\":\"/alimentos/enlatados-e-conservas/enlatados-e-conservas/atum-e-sardinha\",\"slug\":\"\",\"type\":\"SHELF\",\"bannerList\":[],\"subCategory\":[]},{\"id\":10133,\"name\":\"Azeitonas\",\"link\":\"/secoes/C10131/azeitonas?ftr=facetSubShelf_ss:10131_Azeitonas\",\"uiLink\":\"/alimentos/enlatados-e-conservas/enlatados-e-conservas/azeitonas\",\"slug\":\"\",\"type\":\"SHELF\",\"bannerList\":[],\"subCategory\":[]},{\"id\":10142,\"name\":\"Palmito\",\"link\":\"/secoes/C10131/palmito?ftr=facetSubShelf_ss:10131_Palmito\",\"uiLink\":\"/alimentos/enlatados-e-conservas/enlatados-e-conservas/palmito\",\"slug\":\"\",\"type\":\"SHELF\",\"bannerList\":[],\"subCategory\":[]},{\"id\":10139,\"name\":\"Milho\",\"link\":\"/secoes/C10131/milho?ftr=facetSubShelf_ss:10131_Milho\",\"uiLink\":\"/alimentos/enlatados-e-conservas/enlatados-e-conservas/milho\",\"slug\":\"\",\"type\":\"SHELF\",\"bannerList\":[],\"subCategory\":[]},{\"id\":10136,\"name\":\"Ervilha\",\"link\":\"/secoes/C10131/ervilha?ftr=facetSubShelf_ss:10131_Ervilha\",\"uiLink\":\"/alimentos/enlatados-e-conservas/enlatados-e-conservas/ervilha\",\"slug\":\"\",\"type\":\"SHELF\",\"bannerList\":[],\"subCategory\":[]},{\"id\":10134,\"name\":\"Cogumelos\",\"link\":\"/secoes/C10131/cogumelos?ftr=facetSubShelf_ss:10131_Cogumelos\",\"uiLink\":\"/alimentos/enlatados-e-conservas/enlatados-e-conservas/cogumelos\",\"slug\":\"\",\"type\":\"SHELF\",\"bannerList\":[],\"subCategory\":[]},{\"id\":10140,\"name\":\"Outras conservas\",\"link\":\"/secoes/C10131/outras-conservas?ftr=facetSubShelf_ss:10131_Outras conservas\",\"uiLink\":\"/alimentos/enlatados-e-conservas/enlatados-e-conservas/outras-conservas\",\"slug\":\"\",\"type\":\"SHELF\",\"bannerList\":[],\"subCategory\":[]},{\"id\":10141,\"name\":\"Outros enlatados\",\"link\":\"/secoes/C10131/outros-enlatados?ftr=facetSubShelf_ss:10131_Outros enlatados\",\"uiLink\":\"/alimentos/enlatados-e-conservas/enlatados-e-conservas/outros-enlatados\",\"slug\":\"\",\"type\":\"SHELF\",\"bannerList\":[],\"subCategory\":[]},{\"id\":10143,\"name\":\"Patês\",\"link\":\"/secoes/C10131/pates?ftr=facetSubShelf_ss:10131_Patês\",\"uiLink\":\"/alimentos/enlatados-e-conservas/enlatados-e-conservas/pates\",\"slug\":\"\",\"type\":\"SHELF\",\"bannerList\":[],\"subCategory\":[]},{\"id\":10137,\"name\":\"Legumes enlatados\",\"link\":\"/secoes/C10131/legumes-enlatados?ftr=facetSubShelf_ss:10131_Legumes enlatados\",\"uiLink\":\"/alimentos/enlatados-e-conservas/enlatados-e-conservas/legumes-enlatados\",\"slug\":\"\",\"type\":\"SHELF\",\"bannerList\":[],\"subCategory\":[]}]}]},{\"id\":10144,\"name\":\"Frios\",\"link\":\"/secoes/C10000/frios?ftr=facetSubShelf_ss:10000_Frios\",\"uiLink\":\"/alimentos/frios\",\"slug\":\"\",\"type\":\"SHELF\",\"bannerList\":[],\"subCategory\":[{\"id\":10145,\"name\":\"Linguiças e salsichas\",\"link\":\"/secoes/C10144/linguicas-e-salsichas?ftr=facetSubShelf_ss:10144_Linguiças e salsichas\",\"uiLink\":\"/alimentos/frios/linguicas-e-salsichas\",\"slug\":\"\",\"type\":\"SHELF\",\"bannerList\":[],\"subCategory\":[{\"id\":10146,\"name\":\"Linguiça\",\"link\":\"/secoes/C10145/linguica?ftr=facetSubShelf_ss:10145_Linguiça\",\"uiLink\":\"/alimentos/frios/linguicas-e-salsichas/linguica\",\"slug\":\"\",\"type\":\"SHELF\",\"bannerList\":[],\"subCategory\":[]},{\"id\":10147,\"name\":\"Salsicha\",\"link\":\"/secoes/C10145/salsicha?ftr=facetSubShelf_ss:10145_Salsicha\",\"uiLink\":\"/alimentos/frios/linguicas-e-salsichas/salsicha\",\"slug\":\"\",\"type\":\"SHELF\",\"bannerList\":[],\"subCategory\":[]}]},{\"id\":10148,\"name\":\"Mortadelas, presuntos e apresuntados\",\"link\":\"/secoes/C10144/mortadelas-presuntos-e-apresuntados?ftr=facetSubShelf_ss:10144_Mortadelas, presuntos e apresuntados\",\"uiLink\":\"/alimentos/frios/mortadelas-presuntos-e-apresuntados\",\"slug\":\"\",\"type\":\"SHELF\",\"bannerList\":[],\"subCategory\":[{\"id\":10149,\"name\":\"Mortadela\",\"link\":\"/secoes/C10148/mortadela?ftr=facetSubShelf_ss:10148_Mortadela\",\"uiLink\":\"/alimentos/frios/mortadelas-presuntos-e-apresuntados/mortadela\",\"slug\":\"\",\"type\":\"SHELF\",\"bannerList\":[],\"subCategory\":[]},{\"id\":10150,\"name\":\"Presunto e apresuntados\",\"link\":\"/secoes/C10148/presunto-e-apresuntados?ftr=facetSubShelf_ss:10148_Presunto e apresuntados\",\"uiLink\":\"/alimentos/frios/mortadelas-presuntos-e-apresuntados/presunto-e-apresuntados\",\"slug\":\"\",\"type\":\"SHELF\",\"bannerList\":[],\"subCategory\":[]}]},{\"id\":10157,\"name\":\"Salame e copa\",\"link\":\"/secoes/C10144/salame-e-copa?ftr=facetSubShelf_ss:10144_Salame e copa\",\"uiLink\":\"/alimentos/frios/salame-e-copa\",\"slug\":\"\",\"type\":\"SHELF\",\"bannerList\":[],\"subCategory\":[{\"id\":10159,\"name\":\"Salames\",\"link\":\"/secoes/C10157/salames?ftr=facetSubShelf_ss:10157_Salames\",\"uiLink\":\"/alimentos/frios/salame-e-copa/salames\",\"slug\":\"\",\"type\":\"SHELF\",\"bannerList\":[],\"subCategory\":[]},{\"id\":10158,\"name\":\"Copa\",\"link\":\"/secoes/C10157/copa?ftr=facetSubShelf_ss:10157_Copa\",\"uiLink\":\"/alimentos/frios/salame-e-copa/copa\",\"slug\":\"\",\"type\":\"SHELF\",\"bannerList\":[],\"subCategory\":[]}]},{\"id\":10153,\"name\":\"Peito de peru, blanquet e frango\",\"link\":\"/secoes/C10144/peito-de-peru-blanquet-e-frango?ftr=facetSubShelf_ss:10144_Peito de peru, blanquet e frango\",\"uiLink\":\"/alimentos/frios/peito-de-peru-blanquet-e-frango\",\"slug\":\"\",\"type\":\"SHELF\",\"bannerList\":[],\"subCategory\":[{\"id\":10156,\"name\":\"Peito de peru\",\"link\":\"/secoes/C10153/peito-de-peru?ftr=facetSubShelf_ss:10153_Peito de peru\",\"uiLink\":\"/alimentos/frios/peito-de-peru-blanquet-e-frango/peito-de-peru\",\"slug\":\"\",\"type\":\"SHELF\",\"bannerList\":[],\"subCategory\":[]},{\"id\":10154,\"name\":\"Blanquet de frango\",\"link\":\"/secoes/C10153/blanquet-de-frango?ftr=facetSubShelf_ss:10153_Blanquet de frango\",\"uiLink\":\"/alimentos/frios/peito-de-peru-blanquet-e-frango/blanquet-de-frango\",\"slug\":\"\",\"type\":\"SHELF\",\"bannerList\":[],\"subCategory\":[]},{\"id\":10155,\"name\":\"Outros\",\"link\":\"/secoes/C10153/outros?ftr=facetSubShelf_ss:10153_Outros\",\"uiLink\":\"/alimentos/frios/peito-de-peru-blanquet-e-frango/outros\",\"slug\":\"\",\"type\":\"SHELF\",\"bannerList\":[],\"subCategory\":[]}]},{\"id\":10151,\"name\":\"Outros frios\",\"link\":\"/secoes/C10144/outros-frios?ftr=facetSubShelf_ss:10144_Outros frios\",\"uiLink\":\"/alimentos/frios/outros-frios\",\"slug\":\"\",\"type\":\"SHELF\",\"bannerList\":[],\"subCategory\":[{\"id\":10152,\"name\":\"Outros\",\"link\":\"/secoes/C10151/outros?ftr=facetSubShelf_ss:10151_Outros\",\"uiLink\":\"/alimentos/frios/outros-frios/outros\",\"slug\":\"\",\"type\":\"SHELF\",\"bannerList\":[],\"subCategory\":[]}]}]},{\"id\":10160,\"name\":\"Frutas\",\"link\":\"/secoes/C10000/frutas?ftr=facetSubShelf_ss:10000_Frutas\",\"uiLink\":\"/alimentos/frutas\",\"slug\":\"\",\"type\":\"SHELF\",\"bannerList\":[],\"subCategory\":[{\"id\":10164,\"name\":\"Frutas secas\",\"link\":\"/secoes/C10160/frutas-secas?ftr=facetSubShelf_ss:10160_Frutas secas\",\"uiLink\":\"/alimentos/frutas/frutas-secas\",\"slug\":\"\",\"type\":\"SHELF\",\"bannerList\":[],\"subCategory\":[]},{\"id\":10163,\"name\":\"Frutas frescas\",\"link\":\"/secoes/C10160/frutas-frescas?ftr=facetSubShelf_ss:10160_Frutas frescas\",\"uiLink\":\"/alimentos/frutas/frutas-frescas\",\"slug\":\"\",\"type\":\"SHELF\",\"bannerList\":[],\"subCategory\":[]},{\"id\":10161,\"name\":\"Frutas congeladas\",\"link\":\"/secoes/C10160/frutas-congeladas?ftr=facetSubShelf_ss:10160_Frutas congeladas\",\"uiLink\":\"/alimentos/frutas/frutas-congeladas\",\"slug\":\"\",\"type\":\"SHELF\",\"bannerList\":[],\"subCategory\":[]},{\"id\":10162,\"name\":\"Frutas fracionadas\",\"link\":\"/secoes/C10160/frutas-fracionadas?ftr=facetSubShelf_ss:10160_Frutas fracionadas\",\"uiLink\":\"/alimentos/frutas/frutas-fracionadas\",\"slug\":\"\",\"type\":\"SHELF\",\"bannerList\":[],\"subCategory\":[]}]},{\"id\":10165,\"name\":\"Legumes e verduras\",\"link\":\"/secoes/C10000/legumes-e-verduras?ftr=facetSubShelf_ss:10000_Legumes e verduras\",\"uiLink\":\"/alimentos/legumes-e-verduras\",\"slug\":\"\",\"type\":\"SHELF\",\"bannerList\":[],\"subCategory\":[{\"id\":10166,\"name\":\"Legumes\",\"link\":\"/secoes/C10165/legumes?ftr=facetSubShelf_ss:10165_Legumes\",\"uiLink\":\"/alimentos/legumes-e-verduras/legumes\",\"slug\":\"\",\"type\":\"SHELF\",\"bannerList\":[],\"subCategory\":[{\"id\":10167,\"name\":\"Legumes congelados\",\"link\":\"/secoes/C10166/legumes-congelados?ftr=facetSubShelf_ss:10166_Legumes congelados\",\"uiLink\":\"/alimentos/legumes-e-verduras/legumes/legumes-congelados\",\"slug\":\"\",\"type\":\"SHELF\",\"bannerList\":[],\"subCategory\":[]},{\"id\":10169,\"name\":\"Legumes frescos\",\"link\":\"/secoes/C10166/legumes-frescos?ftr=facetSubShelf_ss:10166_Legumes frescos\",\"uiLink\":\"/alimentos/legumes-e-verduras/legumes/legumes-frescos\",\"slug\":\"\",\"type\":\"SHELF\",\"bannerList\":[],\"subCategory\":[]},{\"id\":10168,\"name\":\"Legumes fracionados\",\"link\":\"/secoes/C10166/legumes-fracionados?ftr=facetSubShelf_ss:10166_Legumes fracionados\",\"uiLink\":\"/alimentos/legumes-e-verduras/legumes/legumes-fracionados\",\"slug\":\"\",\"type\":\"SHELF\",\"bannerList\":[],\"subCategory\":[]}]},{\"id\":10173,\"name\":\"Verduras\",\"link\":\"/secoes/C10165/verduras?ftr=facetSubShelf_ss:10165_Verduras\",\"uiLink\":\"/alimentos/legumes-e-verduras/verduras\",\"slug\":\"\",\"type\":\"SHELF\",\"bannerList\":[],\"subCategory\":[{\"id\":10174,\"name\":\"Verduras congeladas\",\"link\":\"/secoes/C10173/verduras-congeladas?ftr=facetSubShelf_ss:10173_Verduras congeladas\",\"uiLink\":\"/alimentos/legumes-e-verduras/verduras/verduras-congeladas\",\"slug\":\"\",\"type\":\"SHELF\",\"bannerList\":[],\"subCategory\":[]},{\"id\":10176,\"name\":\"Verduras frescas\",\"link\":\"/secoes/C10173/verduras-frescas?ftr=facetSubShelf_ss:10173_Verduras frescas\",\"uiLink\":\"/alimentos/legumes-e-verduras/verduras/verduras-frescas\",\"slug\":\"\",\"type\":\"SHELF\",\"bannerList\":[],\"subCategory\":[]},{\"id\":10175,\"name\":\"Verduras fracionadas\",\"link\":\"/secoes/C10173/verduras-fracionadas?ftr=facetSubShelf_ss:10173_Verduras fracionadas\",\"uiLink\":\"/alimentos/legumes-e-verduras/verduras/verduras-fracionadas\",\"slug\":\"\",\"type\":\"SHELF\",\"bannerList\":[],\"subCategory\":[]}]},{\"id\":10170,\"name\":\"Temperos\",\"link\":\"/secoes/C10165/temperos?ftr=facetSubShelf_ss:10165_Temperos\",\"uiLink\":\"/alimentos/legumes-e-verduras/temperos\",\"slug\":\"\",\"type\":\"SHELF\",\"bannerList\":[],\"subCategory\":[{\"id\":10172,\"name\":\"Temperos frescos\",\"link\":\"/secoes/C10170/temperos-frescos?ftr=facetSubShelf_ss:10170_Temperos frescos\",\"uiLink\":\"/alimentos/legumes-e-verduras/temperos/temperos-frescos\",\"slug\":\"\",\"type\":\"SHELF\",\"bannerList\":[],\"subCategory\":[]},{\"id\":10171,\"name\":\"Outros\",\"link\":\"/secoes/C10170/outros?ftr=facetSubShelf_ss:10170_Outros\",\"uiLink\":\"/alimentos/legumes-e-verduras/temperos/outros\",\"slug\":\"\",\"type\":\"SHELF\",\"bannerList\":[],\"subCategory\":[]}]}]},{\"id\":10177,\"name\":\"Molhos, temperos e condimentos\",\"link\":\"/secoes/C10000/molhos-temperos-e-condimentos?ftr=facetSubShelf_ss:10000_Molhos, temperos e condimentos\",\"uiLink\":\"/alimentos/molhos-temperos-e-condimentos\",\"slug\":\"\",\"type\":\"SHELF\",\"bannerList\":[],\"subCategory\":[{\"id\":10178,\"name\":\"Molhos e condimentos\",\"link\":\"/secoes/C10177/molhos-e-condimentos?ftr=facetSubShelf_ss:10177_Molhos e condimentos\",\"uiLink\":\"/alimentos/molhos-temperos-e-condimentos/molhos-e-condimentos\",\"slug\":\"\",\"type\":\"SHELF\",\"bannerList\":[],\"subCategory\":[{\"id\":10179,\"name\":\"Condimentos prontos e secos\",\"link\":\"/secoes/C10178/condimentos-prontos-e-secos?ftr=facetSubShelf_ss:10178_Condimentos prontos e secos\",\"uiLink\":\"/alimentos/molhos-temperos-e-condimentos/molhos-e-condimentos/condimentos-prontos-e-secos\",\"slug\":\"\",\"type\":\"SHELF\",\"bannerList\":[],\"subCategory\":[]},{\"id\":10180,\"name\":\"Ketchup\",\"link\":\"/secoes/C10178/ketchup?ftr=facetSubShelf_ss:10178_Ketchup\",\"uiLink\":\"/alimentos/molhos-temperos-e-condimentos/molhos-e-condimentos/ketchup\",\"slug\":\"\",\"type\":\"SHELF\",\"bannerList\":[],\"subCategory\":[]},{\"id\":10181,\"name\":\"Maionese\",\"link\":\"/secoes/C10178/maionese?ftr=facetSubShelf_ss:10178_Maionese\",\"uiLink\":\"/alimentos/molhos-temperos-e-condimentos/molhos-e-condimentos/maionese\",\"slug\":\"\",\"type\":\"SHELF\",\"bannerList\":[],\"subCategory\":[]},{\"id\":10187,\"name\":\"Mostarda\",\"link\":\"/secoes/C10178/mostarda?ftr=facetSubShelf_ss:10178_Mostarda\",\"uiLink\":\"/alimentos/molhos-temperos-e-condimentos/molhos-e-condimentos/mostarda\",\"slug\":\"\",\"type\":\"SHELF\",\"bannerList\":[],\"subCategory\":[]},{\"id\":10189,\"name\":\"Temperos secos\",\"link\":\"/secoes/C10178/temperos-secos?ftr=facetSubShelf_ss:10178_Temperos secos\",\"uiLink\":\"/alimentos/molhos-temperos-e-condimentos/molhos-e-condimentos/temperos-secos\",\"slug\":\"\",\"type\":\"SHELF\",\"bannerList\":[],\"subCategory\":[]},{\"id\":10186,\"name\":\"Molhos para salada\",\"link\":\"/secoes/C10178/molhos-para-salada?ftr=facetSubShelf_ss:10178_Molhos para salada\",\"uiLink\":\"/alimentos/molhos-temperos-e-condimentos/molhos-e-condimentos/molhos-para-salada\",\"slug\":\"\",\"type\":\"SHELF\",\"bannerList\":[],\"subCategory\":[]},{\"id\":10185,\"name\":\"Molhos de pimenta e alho\",\"link\":\"/secoes/C10178/molhos-de-pimenta-e-alho?ftr=facetSubShelf_ss:10178_Molhos de pimenta e alho\",\"uiLink\":\"/alimentos/molhos-temperos-e-condimentos/molhos-e-condimentos/molhos-de-pimenta-e-alho\",\"slug\":\"\",\"type\":\"SHELF\",\"bannerList\":[],\"subCategory\":[]},{\"id\":10183,\"name\":\"Molhos atomatados\",\"link\":\"/secoes/C10178/molhos-atomatados?ftr=facetSubShelf_ss:10178_Molhos atomatados\",\"uiLink\":\"/alimentos/molhos-temperos-e-condimentos/molhos-e-condimentos/molhos-atomatados\",\"slug\":\"\",\"type\":\"SHELF\",\"bannerList\":[],\"subCategory\":[]},{\"id\":10190,\"name\":\"Vinagres e agrins\",\"link\":\"/secoes/C10178/vinagres-e-agrins?ftr=facetSubShelf_ss:10178_Vinagres e agrins\",\"uiLink\":\"/alimentos/molhos-temperos-e-condimentos/molhos-e-condimentos/vinagres-e-agrins\",\"slug\":\"\",\"type\":\"SHELF\",\"bannerList\":[],\"subCategory\":[]},{\"id\":10184,\"name\":\"Molhos brancos\",\"link\":\"/secoes/C10178/molhos-brancos?ftr=facetSubShelf_ss:10178_Molhos brancos\",\"uiLink\":\"/alimentos/molhos-temperos-e-condimentos/molhos-e-condimentos/molhos-brancos\",\"slug\":\"\",\"type\":\"SHELF\",\"bannerList\":[],\"subCategory\":[]},{\"id\":10182,\"name\":\"Molho pesto\",\"link\":\"/secoes/C10178/molho-pesto?ftr=facetSubShelf_ss:10178_Molho pesto\",\"uiLink\":\"/alimentos/molhos-temperos-e-condimentos/molhos-e-condimentos/molho-pesto\",\"slug\":\"\",\"type\":\"SHELF\",\"bannerList\":[],\"subCategory\":[]},{\"id\":10188,\"name\":\"Outros molhos\",\"link\":\"/secoes/C10178/outros-molhos?ftr=facetSubShelf_ss:10178_Outros molhos\",\"uiLink\":\"/alimentos/molhos-temperos-e-condimentos/molhos-e-condimentos/outros-molhos\",\"slug\":\"\",\"type\":\"SHELF\",\"bannerList\":[],\"subCategory\":[]}]},{\"id\":10191,\"name\":\"Sal, caldos e realçadores de sabor\",\"link\":\"/secoes/C10177/sal-caldos-e-realcadores-de-sabor?ftr=facetSubShelf_ss:10177_Sal, caldos e realçadores de sabor\",\"uiLink\":\"/alimentos/molhos-temperos-e-condimentos/sal-caldos-e-realcadores-de-sabor\",\"slug\":\"\",\"type\":\"SHELF\",\"bannerList\":[],\"subCategory\":[{\"id\":10194,\"name\":\"Sal\",\"link\":\"/secoes/C10191/sal?ftr=facetSubShelf_ss:10191_Sal\",\"uiLink\":\"/alimentos/molhos-temperos-e-condimentos/sal-caldos-e-realcadores-de-sabor/sal\",\"slug\":\"\",\"type\":\"SHELF\",\"bannerList\":[],\"subCategory\":[]},{\"id\":10192,\"name\":\"Caldos\",\"link\":\"/secoes/C10191/caldos?ftr=facetSubShelf_ss:10191_Caldos\",\"uiLink\":\"/alimentos/molhos-temperos-e-condimentos/sal-caldos-e-realcadores-de-sabor/caldos\",\"slug\":\"\",\"type\":\"SHELF\",\"bannerList\":[],\"subCategory\":[]},{\"id\":10193,\"name\":\"Realçadores de sabor\",\"link\":\"/secoes/C10191/realcadores-de-sabor?ftr=facetSubShelf_ss:10191_Realçadores de sabor\",\"uiLink\":\"/alimentos/molhos-temperos-e-condimentos/sal-caldos-e-realcadores-de-sabor/realcadores-de-sabor\",\"slug\":\"\",\"type\":\"SHELF\",\"bannerList\":[],\"subCategory\":[]}]}]},{\"id\":10195,\"name\":\"Ovos\",\"link\":\"/secoes/C10000/ovos?ftr=facetSubShelf_ss:10000_Ovos\",\"uiLink\":\"/alimentos/ovos\",\"slug\":\"\",\"type\":\"SHELF\",\"bannerList\":[],\"subCategory\":[{\"id\":10198,\"name\":\"Ovos de galinha\",\"link\":\"/secoes/C10195/ovos-de-galinha?ftr=facetSubShelf_ss:10195_Ovos de galinha\",\"uiLink\":\"/alimentos/ovos/ovos-de-galinha\",\"slug\":\"\",\"type\":\"SHELF\",\"bannerList\":[],\"subCategory\":[]},{\"id\":10197,\"name\":\"Ovos de codorna\",\"link\":\"/secoes/C10195/ovos-de-codorna?ftr=facetSubShelf_ss:10195_Ovos de codorna\",\"uiLink\":\"/alimentos/ovos/ovos-de-codorna\",\"slug\":\"\",\"type\":\"SHELF\",\"bannerList\":[],\"subCategory\":[]},{\"id\":10199,\"name\":\"Ovos de galinhas livres\",\"link\":\"/secoes/C10195/ovos-de-galinhas-livres?ftr=facetSubShelf_ss:10195_Ovos de galinhas livres\",\"uiLink\":\"/alimentos/ovos/ovos-de-galinhas-livres\",\"slug\":\"\",\"type\":\"SHELF\",\"bannerList\":[],\"subCategory\":[]},{\"id\":10196,\"name\":\"Outros\",\"link\":\"/secoes/C10195/outros?ftr=facetSubShelf_ss:10195_Outros\",\"uiLink\":\"/alimentos/ovos/outros\",\"slug\":\"\",\"type\":\"SHELF\",\"bannerList\":[],\"subCategory\":[]}]},{\"id\":10200,\"name\":\"Padaria e confeitaria\",\"link\":\"/secoes/C10000/padaria-e-confeitaria?ftr=facetSubShelf_ss:10000_Padaria e confeitaria\",\"uiLink\":\"/alimentos/padaria-e-confeitaria\",\"slug\":\"\",\"type\":\"SHELF\",\"bannerList\":[],\"subCategory\":[{\"id\":10206,\"name\":\"Padaria\",\"link\":\"/secoes/C10200/padaria?ftr=facetSubShelf_ss:10200_Padaria\",\"uiLink\":\"/alimentos/padaria-e-confeitaria/padaria\",\"slug\":\"\",\"type\":\"SHELF\",\"bannerList\":[],\"subCategory\":[{\"id\":10209,\"name\":\"Pão branco\",\"link\":\"/secoes/C10206/pao-branco?ftr=facetSubShelf_ss:10206_Pão branco\",\"uiLink\":\"/alimentos/padaria-e-confeitaria/padaria/pao-branco\",\"slug\":\"\",\"type\":\"SHELF\",\"bannerList\":[],\"subCategory\":[]},{\"id\":10211,\"name\":\"Pão integral\",\"link\":\"/secoes/C10206/pao-integral?ftr=facetSubShelf_ss:10206_Pão integral\",\"uiLink\":\"/alimentos/padaria-e-confeitaria/padaria/pao-integral\",\"slug\":\"\",\"type\":\"SHELF\",\"bannerList\":[],\"subCategory\":[]},{\"id\":10207,\"name\":\"Baquetes e pães italianos e franceses\",\"link\":\"/secoes/C10206/baquetes-e-paes-italianos-e-franceses?ftr=facetSubShelf_ss:10206_Baquetes e pães italianos e franceses\",\"uiLink\":\"/alimentos/padaria-e-confeitaria/padaria/baquetes-e-paes-italianos-e-franceses\",\"slug\":\"\",\"type\":\"SHELF\",\"bannerList\":[],\"subCategory\":[]},{\"id\":10212,\"name\":\"Torradas\",\"link\":\"/secoes/C10206/torradas?ftr=facetSubShelf_ss:10206_Torradas\",\"uiLink\":\"/alimentos/padaria-e-confeitaria/padaria/torradas\",\"slug\":\"\",\"type\":\"SHELF\",\"bannerList\":[],\"subCategory\":[]},{\"id\":10210,\"name\":\"Pão de queijo e chipa\",\"link\":\"/secoes/C10206/pao-de-queijo-e-chipa?ftr=facetSubShelf_ss:10206_Pão de queijo e chipa\",\"uiLink\":\"/alimentos/padaria-e-confeitaria/padaria/pao-de-queijo-e-chipa\",\"slug\":\"\",\"type\":\"SHELF\",\"bannerList\":[],\"subCategory\":[]},{\"id\":10208,\"name\":\"Outros pães\",\"link\":\"/secoes/C10206/outros-paes?ftr=facetSubShelf_ss:10206_Outros pães\",\"uiLink\":\"/alimentos/padaria-e-confeitaria/padaria/outros-paes\",\"slug\":\"\",\"type\":\"SHELF\",\"bannerList\":[],\"subCategory\":[]}]},{\"id\":10201,\"name\":\"Confeitaria\",\"link\":\"/secoes/C10200/confeitaria?ftr=facetSubShelf_ss:10200_Confeitaria\",\"uiLink\":\"/alimentos/padaria-e-confeitaria/confeitaria\",\"slug\":\"\",\"type\":\"SHELF\",\"bannerList\":[],\"subCategory\":[{\"id\":10203,\"name\":\"Bolos secos\",\"link\":\"/secoes/C10201/bolos-secos?ftr=facetSubShelf_ss:10201_Bolos secos\",\"uiLink\":\"/alimentos/padaria-e-confeitaria/confeitaria/bolos-secos\",\"slug\":\"\",\"type\":\"SHELF\",\"bannerList\":[],\"subCategory\":[]},{\"id\":10202,\"name\":\"Bolos prontos\",\"link\":\"/secoes/C10201/bolos-prontos?ftr=facetSubShelf_ss:10201_Bolos prontos\",\"uiLink\":\"/alimentos/padaria-e-confeitaria/confeitaria/bolos-prontos\",\"slug\":\"\",\"type\":\"SHELF\",\"bannerList\":[],\"subCategory\":[]},{\"id\":10204,\"name\":\"Confeitaria gelada\",\"link\":\"/secoes/C10201/confeitaria-gelada?ftr=facetSubShelf_ss:10201_Confeitaria gelada\",\"uiLink\":\"/alimentos/padaria-e-confeitaria/confeitaria/confeitaria-gelada\",\"slug\":\"\",\"type\":\"SHELF\",\"bannerList\":[],\"subCategory\":[]},{\"id\":10205,\"name\":\"Outros itens de confeitaria\",\"link\":\"/secoes/C10201/outros-itens-de-confeitaria?ftr=facetSubShelf_ss:10201_Outros itens de confeitaria\",\"uiLink\":\"/alimentos/padaria-e-confeitaria/confeitaria/outros-itens-de-confeitaria\",\"slug\":\"\",\"type\":\"SHELF\",\"bannerList\":[],\"subCategory\":[]}]}]},{\"id\":10213,\"name\":\"Peixaria\",\"link\":\"/secoes/C10000/peixaria?ftr=facetSubShelf_ss:10000_Peixaria\",\"uiLink\":\"/alimentos/peixaria\",\"slug\":\"\",\"type\":\"SHELF\",\"bannerList\":[],\"subCategory\":[{\"id\":10217,\"name\":\"Pescados\",\"link\":\"/secoes/C10213/pescados?ftr=facetSubShelf_ss:10213_Pescados\",\"uiLink\":\"/alimentos/peixaria/pescados\",\"slug\":\"\",\"type\":\"SHELF\",\"bannerList\":[],\"subCategory\":[{\"id\":10219,\"name\":\"Peixes frescos\",\"link\":\"/secoes/C10217/peixes-frescos?ftr=facetSubShelf_ss:10217_Peixes frescos\",\"uiLink\":\"/alimentos/peixaria/pescados/peixes-frescos\",\"slug\":\"\",\"type\":\"SHELF\",\"bannerList\":[],\"subCategory\":[]},{\"id\":10218,\"name\":\"Peixes congelados\",\"link\":\"/secoes/C10217/peixes-congelados?ftr=facetSubShelf_ss:10217_Peixes congelados\",\"uiLink\":\"/alimentos/peixaria/pescados/peixes-congelados\",\"slug\":\"\",\"type\":\"SHELF\",\"bannerList\":[],\"subCategory\":[]}]},{\"id\":10214,\"name\":\"Frutos do mar\",\"link\":\"/secoes/C10213/frutos-do-mar?ftr=facetSubShelf_ss:10213_Frutos do mar\",\"uiLink\":\"/alimentos/peixaria/frutos-do-mar\",\"slug\":\"\",\"type\":\"SHELF\",\"bannerList\":[],\"subCategory\":[{\"id\":10216,\"name\":\"Frutos do mar frescos\",\"link\":\"/secoes/C10214/frutos-do-mar-frescos?ftr=facetSubShelf_ss:10214_Frutos do mar frescos\",\"uiLink\":\"/alimentos/peixaria/frutos-do-mar/frutos-do-mar-frescos\",\"slug\":\"\",\"type\":\"SHELF\",\"bannerList\":[],\"subCategory\":[]},{\"id\":10215,\"name\":\"Frutos do mar congelados\",\"link\":\"/secoes/C10214/frutos-do-mar-congelados?ftr=facetSubShelf_ss:10214_Frutos do mar congelados\",\"uiLink\":\"/alimentos/peixaria/frutos-do-mar/frutos-do-mar-congelados\",\"slug\":\"\",\"type\":\"SHELF\",\"bannerList\":[],\"subCategory\":[]}]}]},{\"id\":10220,\"name\":\"Queijos e laticínios\",\"link\":\"/secoes/C10000/queijos-e-laticinios?ftr=facetSubShelf_ss:10000_Queijos e laticínios\",\"uiLink\":\"/alimentos/queijos-e-laticinios\",\"slug\":\"\",\"type\":\"SHELF\",\"bannerList\":[],\"subCategory\":[{\"id\":10221,\"name\":\"Laticínios\",\"link\":\"/secoes/C10220/laticinios?ftr=facetSubShelf_ss:10220_Laticínios\",\"uiLink\":\"/alimentos/queijos-e-laticinios/laticinios\",\"slug\":\"\",\"type\":\"SHELF\",\"bannerList\":[],\"subCategory\":[{\"id\":10224,\"name\":\"Iogurte\",\"link\":\"/secoes/C10221/iogurte?ftr=facetSubShelf_ss:10221_Iogurte\",\"uiLink\":\"/alimentos/queijos-e-laticinios/laticinios/iogurte\",\"slug\":\"\",\"type\":\"SHELF\",\"bannerList\":[],\"subCategory\":[]},{\"id\":10222,\"name\":\"Chantilly\",\"link\":\"/secoes/C10221/chantilly?ftr=facetSubShelf_ss:10221_Chantilly\",\"uiLink\":\"/alimentos/queijos-e-laticinios/laticinios/chantilly\",\"slug\":\"\",\"type\":\"SHELF\",\"bannerList\":[],\"subCategory\":[]},{\"id\":10226,\"name\":\"Manteiga\",\"link\":\"/secoes/C10221/manteiga?ftr=facetSubShelf_ss:10221_Manteiga\",\"uiLink\":\"/alimentos/queijos-e-laticinios/laticinios/manteiga\",\"slug\":\"\",\"type\":\"SHELF\",\"bannerList\":[],\"subCategory\":[]},{\"id\":10223,\"name\":\"Cream Cheese\",\"link\":\"/secoes/C10221/cream-cheese?ftr=facetSubShelf_ss:10221_Cream Cheese\",\"uiLink\":\"/alimentos/queijos-e-laticinios/laticinios/cream-cheese\",\"slug\":\"\",\"type\":\"SHELF\",\"bannerList\":[],\"subCategory\":[]},{\"id\":10229,\"name\":\"Petit suísse\",\"link\":\"/secoes/C10221/petit-suisse?ftr=facetSubShelf_ss:10221_Petit suísse\",\"uiLink\":\"/alimentos/queijos-e-laticinios/laticinios/petit-suisse\",\"slug\":\"\",\"type\":\"SHELF\",\"bannerList\":[],\"subCategory\":[]},{\"id\":10227,\"name\":\"Margarina\",\"link\":\"/secoes/C10221/margarina?ftr=facetSubShelf_ss:10221_Margarina\",\"uiLink\":\"/alimentos/queijos-e-laticinios/laticinios/margarina\",\"slug\":\"\",\"type\":\"SHELF\",\"bannerList\":[],\"subCategory\":[]},{\"id\":10228,\"name\":\"Outros\",\"link\":\"/secoes/C10221/outros?ftr=facetSubShelf_ss:10221_Outros\",\"uiLink\":\"/alimentos/queijos-e-laticinios/laticinios/outros\",\"slug\":\"\",\"type\":\"SHELF\",\"bannerList\":[],\"subCategory\":[]},{\"id\":10231,\"name\":\"Sobremesas refrigeradas\",\"link\":\"/secoes/C10221/sobremesas-refrigeradas?ftr=facetSubShelf_ss:10221_Sobremesas refrigeradas\",\"uiLink\":\"/alimentos/queijos-e-laticinios/laticinios/sobremesas-refrigeradas\",\"slug\":\"\",\"type\":\"SHELF\",\"bannerList\":[],\"subCategory\":[]},{\"id\":10225,\"name\":\"Leites fermentados\",\"link\":\"/secoes/C10221/leites-fermentados?ftr=facetSubShelf_ss:10221_Leites fermentados\",\"uiLink\":\"/alimentos/queijos-e-laticinios/laticinios/leites-fermentados\",\"slug\":\"\",\"type\":\"SHELF\",\"bannerList\":[],\"subCategory\":[]},{\"id\":10230,\"name\":\"Requeijão\",\"link\":\"/secoes/C10221/requeijao?ftr=facetSubShelf_ss:10221_Requeijão\",\"uiLink\":\"/alimentos/queijos-e-laticinios/laticinios/requeijao\",\"slug\":\"\",\"type\":\"SHELF\",\"bannerList\":[],\"subCategory\":[]}]},{\"id\":10232,\"name\":\"Queijos\",\"link\":\"/secoes/C10220/queijos?ftr=facetSubShelf_ss:10220_Queijos\",\"uiLink\":\"/alimentos/queijos-e-laticinios/queijos\",\"slug\":\"\",\"type\":\"SHELF\",\"bannerList\":[],\"subCategory\":[{\"id\":10237,\"name\":\"Queijos frescos\",\"link\":\"/secoes/C10232/queijos-frescos?ftr=facetSubShelf_ss:10232_Queijos frescos\",\"uiLink\":\"/alimentos/queijos-e-laticinios/queijos/queijos-frescos\",\"slug\":\"\",\"type\":\"SHELF\",\"bannerList\":[],\"subCategory\":[]},{\"id\":10236,\"name\":\"Queijos duros\",\"link\":\"/secoes/C10232/queijos-duros?ftr=facetSubShelf_ss:10232_Queijos duros\",\"uiLink\":\"/alimentos/queijos-e-laticinios/queijos/queijos-duros\",\"slug\":\"\",\"type\":\"SHELF\",\"bannerList\":[],\"subCategory\":[]},{\"id\":10238,\"name\":\"Queijos macios\",\"link\":\"/secoes/C10232/queijos-macios?ftr=facetSubShelf_ss:10232_Queijos macios\",\"uiLink\":\"/alimentos/queijos-e-laticinios/queijos/queijos-macios\",\"slug\":\"\",\"type\":\"SHELF\",\"bannerList\":[],\"subCategory\":[]},{\"id\":10233,\"name\":\"Cremes\",\"link\":\"/secoes/C10232/cremes?ftr=facetSubShelf_ss:10232_Cremes\",\"uiLink\":\"/alimentos/queijos-e-laticinios/queijos/cremes\",\"slug\":\"\",\"type\":\"SHELF\",\"bannerList\":[],\"subCategory\":[]},{\"id\":10235,\"name\":\"Queijos azuis\",\"link\":\"/secoes/C10232/queijos-azuis?ftr=facetSubShelf_ss:10232_Queijos azuis\",\"uiLink\":\"/alimentos/queijos-e-laticinios/queijos/queijos-azuis\",\"slug\":\"\",\"type\":\"SHELF\",\"bannerList\":[],\"subCategory\":[]},{\"id\":10239,\"name\":\"Queijos ralados\",\"link\":\"/secoes/C10232/queijos-ralados?ftr=facetSubShelf_ss:10232_Queijos ralados\",\"uiLink\":\"/alimentos/queijos-e-laticinios/queijos/queijos-ralados\",\"slug\":\"\",\"type\":\"SHELF\",\"bannerList\":[],\"subCategory\":[]},{\"id\":10234,\"name\":\"Outros\",\"link\":\"/secoes/C10232/outros?ftr=facetSubShelf_ss:10232_Outros\",\"uiLink\":\"/alimentos/queijos-e-laticinios/queijos/outros\",\"slug\":\"\",\"type\":\"SHELF\",\"bannerList\":[],\"subCategory\":[]}]}]},{\"id\":10240,\"name\":\"Rotisserie\",\"link\":\"/secoes/C10000/rotisserie?ftr=facetSubShelf_ss:10000_Rotisserie\",\"uiLink\":\"/alimentos/rotisserie\",\"slug\":\"\",\"type\":\"SHELF\",\"bannerList\":[],\"subCategory\":[{\"id\":10241,\"name\":\"Carnes e Peixes\",\"link\":\"/secoes/C10240/carnes-e-peixes?ftr=facetSubShelf_ss:10240_Carnes e Peixes\",\"uiLink\":\"/alimentos/rotisserie/carnes-e-peixes\",\"slug\":\"\",\"type\":\"SHELF\",\"bannerList\":[],\"subCategory\":[{\"id\":10242,\"name\":\"Carne Bovina\",\"link\":\"/secoes/C10241/carne-bovina?ftr=facetSubShelf_ss:10241_Carne Bovina\",\"uiLink\":\"/alimentos/rotisserie/carnes-e-peixes/carne-bovina\",\"slug\":\"\",\"type\":\"SHELF\",\"bannerList\":[],\"subCategory\":[]},{\"id\":10243,\"name\":\"Carne Suína\",\"link\":\"/secoes/C10241/carne-suina?ftr=facetSubShelf_ss:10241_Carne Suína\",\"uiLink\":\"/alimentos/rotisserie/carnes-e-peixes/carne-suina\",\"slug\":\"\",\"type\":\"SHELF\",\"bannerList\":[],\"subCategory\":[]},{\"id\":10244,\"name\":\"Frango\",\"link\":\"/secoes/C10241/frango?ftr=facetSubShelf_ss:10241_Frango\",\"uiLink\":\"/alimentos/rotisserie/carnes-e-peixes/frango\",\"slug\":\"\",\"type\":\"SHELF\",\"bannerList\":[],\"subCategory\":[]},{\"id\":10245,\"name\":\"Peixes e frutos do mar\",\"link\":\"/secoes/C10241/peixes-e-frutos-do-mar?ftr=facetSubShelf_ss:10241_Peixes e frutos do mar\",\"uiLink\":\"/alimentos/rotisserie/carnes-e-peixes/peixes-e-frutos-do-mar\",\"slug\":\"\",\"type\":\"SHELF\",\"bannerList\":[],\"subCategory\":[]}]},{\"id\":10246,\"name\":\"Guarnições e acompanhamentos\",\"link\":\"/secoes/C10240/guarnicoes-e-acompanhamentos?ftr=facetSubShelf_ss:10240_Guarnições e acompanhamentos\",\"uiLink\":\"/alimentos/rotisserie/guarnicoes-e-acompanhamentos\",\"slug\":\"\",\"type\":\"SHELF\",\"bannerList\":[],\"subCategory\":[]},{\"id\":10247,\"name\":\"Legumes e vegetais\",\"link\":\"/secoes/C10240/legumes-e-vegetais?ftr=facetSubShelf_ss:10240_Legumes e vegetais\",\"uiLink\":\"/alimentos/rotisserie/legumes-e-vegetais\",\"slug\":\"\",\"type\":\"SHELF\",\"bannerList\":[],\"subCategory\":[]},{\"id\":10249,\"name\":\"Pratos resfriados\",\"link\":\"/secoes/C10240/pratos-resfriados?ftr=facetSubShelf_ss:10240_Pratos resfriados\",\"uiLink\":\"/alimentos/rotisserie/pratos-resfriados\",\"slug\":\"\",\"type\":\"SHELF\",\"bannerList\":[],\"subCategory\":[]},{\"id\":10248,\"name\":\"Outros itens de rotisserie\",\"link\":\"/secoes/C10240/outros-itens-de-rotisserie?ftr=facetSubShelf_ss:10240_Outros itens de rotisserie\",\"uiLink\":\"/alimentos/rotisserie/outros-itens-de-rotisserie\",\"slug\":\"\",\"type\":\"SHELF\",\"bannerList\":[],\"subCategory\":[]}]},{\"id\":10250,\"name\":\"Sementes e oleaginosas\",\"link\":\"/secoes/C10000/sementes-e-oleaginosas?ftr=facetSubShelf_ss:10000_Sementes e oleaginosas\",\"uiLink\":\"/alimentos/sementes-e-oleaginosas\",\"slug\":\"\",\"type\":\"SHELF\",\"bannerList\":[],\"subCategory\":[{\"id\":10255,\"name\":\"Sementes\",\"link\":\"/secoes/C10250/sementes?ftr=facetSubShelf_ss:10250_Sementes\",\"uiLink\":\"/alimentos/sementes-e-oleaginosas/sementes\",\"slug\":\"\",\"type\":\"SHELF\",\"bannerList\":[],\"subCategory\":[]},{\"id\":10251,\"name\":\"Amendoim\",\"link\":\"/secoes/C10250/amendoim?ftr=facetSubShelf_ss:10250_Amendoim\",\"uiLink\":\"/alimentos/sementes-e-oleaginosas/amendoim\",\"slug\":\"\",\"type\":\"SHELF\",\"bannerList\":[],\"subCategory\":[]},{\"id\":10252,\"name\":\"Castanhas\",\"link\":\"/secoes/C10250/castanhas?ftr=facetSubShelf_ss:10250_Castanhas\",\"uiLink\":\"/alimentos/sementes-e-oleaginosas/castanhas\",\"slug\":\"\",\"type\":\"SHELF\",\"bannerList\":[],\"subCategory\":[]},{\"id\":10253,\"name\":\"Nozes\",\"link\":\"/secoes/C10250/nozes?ftr=facetSubShelf_ss:10250_Nozes\",\"uiLink\":\"/alimentos/sementes-e-oleaginosas/nozes\",\"slug\":\"\",\"type\":\"SHELF\",\"bannerList\":[],\"subCategory\":[]},{\"id\":10254,\"name\":\"Outros\",\"link\":\"/secoes/C10250/outros?ftr=facetSubShelf_ss:10250_Outros\",\"uiLink\":\"/alimentos/sementes-e-oleaginosas/outros\",\"slug\":\"\",\"type\":\"SHELF\",\"bannerList\":[],\"subCategory\":[]}]}],\"bannerList\":[]},{\"id\":10340,\"link\":\"/secoes/C10340/bebidas\",\"uiLink\":\"/bebidas\",\"slug\":\"\",\"name\":\"Bebidas\",\"icon\":\"/img/uploads/1/815/667815.jpg\",\"metaDescription\":\"Aqui no Paodeacucar.com, você encontra Bebidas pelos melhores preços. Confira em nosso site!\",\"type\":\"SHELF\",\"subCategory\":[{\"id\":10341,\"name\":\"Água, sucos e chás\",\"link\":\"/secoes/C10340/agua-sucos-e-chas?ftr=facetSubShelf_ss:10340_Água, sucos e chás\",\"uiLink\":\"/bebidas/agua-sucos-e-chas\",\"slug\":\"\",\"type\":\"SHELF\",\"bannerList\":[],\"subCategory\":[{\"id\":10342,\"name\":\"Águas\",\"link\":\"/secoes/C10341/aguas?ftr=facetSubShelf_ss:10341_Águas\",\"uiLink\":\"/bebidas/agua-sucos-e-chas/aguas\",\"slug\":\"\",\"type\":\"SHELF\",\"bannerList\":[],\"subCategory\":[]},{\"id\":10343,\"name\":\"Chás\",\"link\":\"/secoes/C10341/chas?ftr=facetSubShelf_ss:10341_Chás\",\"uiLink\":\"/bebidas/agua-sucos-e-chas/chas\",\"slug\":\"\",\"type\":\"SHELF\",\"bannerList\":[],\"subCategory\":[]},{\"id\":10344,\"name\":\"Sucos\",\"link\":\"/secoes/C10341/sucos?ftr=facetSubShelf_ss:10341_Sucos\",\"uiLink\":\"/bebidas/agua-sucos-e-chas/sucos\",\"slug\":\"\",\"type\":\"SHELF\",\"bannerList\":[],\"subCategory\":[]}]},{\"id\":10345,\"name\":\"Energéticos e isotônicos\",\"link\":\"/secoes/C10340/energeticos-e-isotonicos?ftr=facetSubShelf_ss:10340_Energéticos e isotônicos\",\"uiLink\":\"/bebidas/energeticos-e-isotonicos\",\"slug\":\"\",\"type\":\"SHELF\",\"bannerList\":[],\"subCategory\":[{\"id\":10346,\"name\":\"Energéticos\",\"link\":\"/secoes/C10345/energeticos?ftr=facetSubShelf_ss:10345_Energéticos\",\"uiLink\":\"/bebidas/energeticos-e-isotonicos/energeticos\",\"slug\":\"\",\"type\":\"SHELF\",\"bannerList\":[],\"subCategory\":[]},{\"id\":10347,\"name\":\"Isotônicos\",\"link\":\"/secoes/C10345/isotonicos?ftr=facetSubShelf_ss:10345_Isotônicos\",\"uiLink\":\"/bebidas/energeticos-e-isotonicos/isotonicos\",\"slug\":\"\",\"type\":\"SHELF\",\"bannerList\":[],\"subCategory\":[]}]},{\"id\":10348,\"name\":\"Leites\",\"link\":\"/secoes/C10340/leites?ftr=facetSubShelf_ss:10340_Leites\",\"uiLink\":\"/bebidas/leites\",\"slug\":\"\",\"type\":\"SHELF\",\"bannerList\":[],\"subCategory\":[{\"id\":10350,\"name\":\"Leite fresco\",\"link\":\"/secoes/C10348/leite-fresco?ftr=facetSubShelf_ss:10348_Leite fresco\",\"uiLink\":\"/bebidas/leites/leite-fresco\",\"slug\":\"\",\"type\":\"SHELF\",\"bannerList\":[],\"subCategory\":[]},{\"id\":10349,\"name\":\"Leite em pó\",\"link\":\"/secoes/C10348/leite-em-po?ftr=facetSubShelf_ss:10348_Leite em pó\",\"uiLink\":\"/bebidas/leites/leite-em-po\",\"slug\":\"\",\"type\":\"SHELF\",\"bannerList\":[],\"subCategory\":[]},{\"id\":10351,\"name\":\"Leite longa vida\",\"link\":\"/secoes/C10348/leite-longa-vida?ftr=facetSubShelf_ss:10348_Leite longa vida\",\"uiLink\":\"/bebidas/leites/leite-longa-vida\",\"slug\":\"\",\"type\":\"SHELF\",\"bannerList\":[],\"subCategory\":[]},{\"id\":10352,\"name\":\"Leites vegetais\",\"link\":\"/secoes/C10348/leites-vegetais?ftr=facetSubShelf_ss:10348_Leites vegetais\",\"uiLink\":\"/bebidas/leites/leites-vegetais\",\"slug\":\"\",\"type\":\"SHELF\",\"bannerList\":[],\"subCategory\":[]},{\"id\":10353,\"name\":\"Outros leites\",\"link\":\"/secoes/C10348/outros-leites?ftr=facetSubShelf_ss:10348_Outros leites\",\"uiLink\":\"/bebidas/leites/outros-leites\",\"slug\":\"\",\"type\":\"SHELF\",\"bannerList\":[],\"subCategory\":[]}]},{\"id\":10354,\"name\":\"Refrigerantes\",\"link\":\"/secoes/C10340/refrigerantes?ftr=facetSubShelf_ss:10340_Refrigerantes\",\"uiLink\":\"/bebidas/refrigerantes\",\"slug\":\"\",\"type\":\"SHELF\",\"bannerList\":[],\"subCategory\":[{\"id\":10355,\"name\":\"Cola\",\"link\":\"/secoes/C10354/cola?ftr=facetSubShelf_ss:10354_Cola\",\"uiLink\":\"/bebidas/refrigerantes/cola\",\"slug\":\"\",\"type\":\"SHELF\",\"bannerList\":[],\"subCategory\":[]},{\"id\":10356,\"name\":\"Guaraná\",\"link\":\"/secoes/C10354/guarana?ftr=facetSubShelf_ss:10354_Guaraná\",\"uiLink\":\"/bebidas/refrigerantes/guarana\",\"slug\":\"\",\"type\":\"SHELF\",\"bannerList\":[],\"subCategory\":[]},{\"id\":10358,\"name\":\"Limão\",\"link\":\"/secoes/C10354/limao?ftr=facetSubShelf_ss:10354_Limão\",\"uiLink\":\"/bebidas/refrigerantes/limao\",\"slug\":\"\",\"type\":\"SHELF\",\"bannerList\":[],\"subCategory\":[]},{\"id\":10357,\"name\":\"Laranja\",\"link\":\"/secoes/C10354/laranja?ftr=facetSubShelf_ss:10354_Laranja\",\"uiLink\":\"/bebidas/refrigerantes/laranja\",\"slug\":\"\",\"type\":\"SHELF\",\"bannerList\":[],\"subCategory\":[]},{\"id\":10359,\"name\":\"Outros\",\"link\":\"/secoes/C10354/outros?ftr=facetSubShelf_ss:10354_Outros\",\"uiLink\":\"/bebidas/refrigerantes/outros\",\"slug\":\"\",\"type\":\"SHELF\",\"bannerList\":[],\"subCategory\":[]}]}],\"bannerList\":[]},{\"id\":10386,\"link\":\"/secoes/C10386/beleza-e-perfumaria\",\"uiLink\":\"/beleza-e-perfumaria\",\"slug\":\"\",\"name\":\"Beleza e perfumaria\",\"icon\":\"/img/uploads/1/817/667817.png\",\"metaDescription\":\"Os melhores itens de Beleza e Perfumaria você encontra em nosso site. Paodeacucar.com, o seu supermercado online!\",\"type\":\"SHELF\",\"subCategory\":[{\"id\":10437,\"name\":\"Maquiagem\",\"link\":\"/secoes/C10386/maquiagem?ftr=facetSubShelf_ss:10386_Maquiagem\",\"uiLink\":\"/beleza-e-perfumaria/maquiagem\",\"slug\":\"\",\"type\":\"SHELF\",\"bannerList\":[],\"subCategory\":[{\"id\":10442,\"name\":\"Maquiagem para o rosto\",\"link\":\"/secoes/C10437/maquiagem-para-o-rosto?ftr=facetSubShelf_ss:10437_Maquiagem para o rosto\",\"uiLink\":\"/beleza-e-perfumaria/maquiagem/maquiagem-para-o-rosto\",\"slug\":\"\",\"type\":\"SHELF\",\"bannerList\":[],\"subCategory\":[]},{\"id\":10444,\"name\":\"Maquiagem para os olhos\",\"link\":\"/secoes/C10437/maquiagem-para-os-olhos?ftr=facetSubShelf_ss:10437_Maquiagem para os olhos\",\"uiLink\":\"/beleza-e-perfumaria/maquiagem/maquiagem-para-os-olhos\",\"slug\":\"\",\"type\":\"SHELF\",\"bannerList\":[],\"subCategory\":[]},{\"id\":10445,\"name\":\"Maquiagem para sobrancelhas\",\"link\":\"/secoes/C10437/maquiagem-para-sobrancelhas?ftr=facetSubShelf_ss:10437_Maquiagem para sobrancelhas\",\"uiLink\":\"/beleza-e-perfumaria/maquiagem/maquiagem-para-sobrancelhas\",\"slug\":\"\",\"type\":\"SHELF\",\"bannerList\":[],\"subCategory\":[]},{\"id\":10443,\"name\":\"Maquiagem para os lábios\",\"link\":\"/secoes/C10437/maquiagem-para-os-labios?ftr=facetSubShelf_ss:10437_Maquiagem para os lábios\",\"uiLink\":\"/beleza-e-perfumaria/maquiagem/maquiagem-para-os-labios\",\"slug\":\"\",\"type\":\"SHELF\",\"bannerList\":[],\"subCategory\":[]},{\"id\":10441,\"name\":\"Maquiagem corporal\",\"link\":\"/secoes/C10437/maquiagem-corporal?ftr=facetSubShelf_ss:10437_Maquiagem corporal\",\"uiLink\":\"/beleza-e-perfumaria/maquiagem/maquiagem-corporal\",\"slug\":\"\",\"type\":\"SHELF\",\"bannerList\":[],\"subCategory\":[]},{\"id\":10450,\"name\":\"Unhas\",\"link\":\"/secoes/C10437/unhas?ftr=facetSubShelf_ss:10437_Unhas\",\"uiLink\":\"/beleza-e-perfumaria/maquiagem/unhas\",\"slug\":\"\",\"type\":\"SHELF\",\"bannerList\":[],\"subCategory\":[]},{\"id\":10438,\"name\":\"Acessórios de maquiagem\",\"link\":\"/secoes/C10437/acessorios-de-maquiagem?ftr=facetSubShelf_ss:10437_Acessórios de maquiagem\",\"uiLink\":\"/beleza-e-perfumaria/maquiagem/acessorios-de-maquiagem\",\"slug\":\"\",\"type\":\"SHELF\",\"bannerList\":[],\"subCategory\":[]},{\"id\":10440,\"name\":\"Maleta de maquiagem\",\"link\":\"/secoes/C10437/maleta-de-maquiagem?ftr=facetSubShelf_ss:10437_Maleta de maquiagem\",\"uiLink\":\"/beleza-e-perfumaria/maquiagem/maleta-de-maquiagem\",\"slug\":\"\",\"type\":\"SHELF\",\"bannerList\":[],\"subCategory\":[]},{\"id\":10439,\"name\":\"Kits de maquiagem\",\"link\":\"/secoes/C10437/kits-de-maquiagem?ftr=facetSubShelf_ss:10437_Kits de maquiagem\",\"uiLink\":\"/beleza-e-perfumaria/maquiagem/kits-de-maquiagem\",\"slug\":\"\",\"type\":\"SHELF\",\"bannerList\":[],\"subCategory\":[]},{\"id\":10447,\"name\":\"Paletas\",\"link\":\"/secoes/C10437/paletas?ftr=facetSubShelf_ss:10437_Paletas\",\"uiLink\":\"/beleza-e-perfumaria/maquiagem/paletas\",\"slug\":\"\",\"type\":\"SHELF\",\"bannerList\":[],\"subCategory\":[]},{\"id\":10448,\"name\":\"Pincéis de maquiagem\",\"link\":\"/secoes/C10437/pinceis-de-maquiagem?ftr=facetSubShelf_ss:10437_Pincéis de maquiagem\",\"uiLink\":\"/beleza-e-perfumaria/maquiagem/pinceis-de-maquiagem\",\"slug\":\"\",\"type\":\"SHELF\",\"bannerList\":[],\"subCategory\":[]},{\"id\":10449,\"name\":\"Remoção de maquiagem\",\"link\":\"/secoes/C10437/remocao-de-maquiagem?ftr=facetSubShelf_ss:10437_Remoção de maquiagem\",\"uiLink\":\"/beleza-e-perfumaria/maquiagem/remocao-de-maquiagem\",\"slug\":\"\",\"type\":\"SHELF\",\"bannerList\":[],\"subCategory\":[]},{\"id\":10446,\"name\":\"Outros itens de maquiagem\",\"link\":\"/secoes/C10437/outros-itens-de-maquiagem?ftr=facetSubShelf_ss:10437_Outros itens de maquiagem\",\"uiLink\":\"/beleza-e-perfumaria/maquiagem/outros-itens-de-maquiagem\",\"slug\":\"\",\"type\":\"SHELF\",\"bannerList\":[],\"subCategory\":[]}]},{\"id\":10395,\"name\":\"Barbearia\",\"link\":\"/secoes/C10386/barbearia?ftr=facetSubShelf_ss:10386_Barbearia\",\"uiLink\":\"/beleza-e-perfumaria/barbearia\",\"slug\":\"\",\"type\":\"SHELF\",\"bannerList\":[],\"subCategory\":[{\"id\":10397,\"name\":\"Cremes de barbear\",\"link\":\"/secoes/C10395/cremes-de-barbear?ftr=facetSubShelf_ss:10395_Cremes de barbear\",\"uiLink\":\"/beleza-e-perfumaria/barbearia/cremes-de-barbear\",\"slug\":\"\",\"type\":\"SHELF\",\"bannerList\":[],\"subCategory\":[]},{\"id\":10398,\"name\":\"Kits de barbear\",\"link\":\"/secoes/C10395/kits-de-barbear?ftr=facetSubShelf_ss:10395_Kits de barbear\",\"uiLink\":\"/beleza-e-perfumaria/barbearia/kits-de-barbear\",\"slug\":\"\",\"type\":\"SHELF\",\"bannerList\":[],\"subCategory\":[]},{\"id\":10399,\"name\":\"Loção pós-barba\",\"link\":\"/secoes/C10395/locao-pos-barba?ftr=facetSubShelf_ss:10395_Loção pós-barba\",\"uiLink\":\"/beleza-e-perfumaria/barbearia/locao-pos-barba\",\"slug\":\"\",\"type\":\"SHELF\",\"bannerList\":[],\"subCategory\":[]},{\"id\":10400,\"name\":\"Navalhas e lâminas de barbear\",\"link\":\"/secoes/C10395/navalhas-e-laminas-de-barbear?ftr=facetSubShelf_ss:10395_Navalhas e lâminas de barbear\",\"uiLink\":\"/beleza-e-perfumaria/barbearia/navalhas-e-laminas-de-barbear\",\"slug\":\"\",\"type\":\"SHELF\",\"bannerList\":[],\"subCategory\":[]},{\"id\":10402,\"name\":\"Pincéis de barba\",\"link\":\"/secoes/C10395/pinceis-de-barba?ftr=facetSubShelf_ss:10395_Pincéis de barba\",\"uiLink\":\"/beleza-e-perfumaria/barbearia/pinceis-de-barba\",\"slug\":\"\",\"type\":\"SHELF\",\"bannerList\":[],\"subCategory\":[]},{\"id\":10404,\"name\":\"Tigelas e canecas de barbear\",\"link\":\"/secoes/C10395/tigelas-e-canecas-de-barbear?ftr=facetSubShelf_ss:10395_Tigelas e canecas de barbear\",\"uiLink\":\"/beleza-e-perfumaria/barbearia/tigelas-e-canecas-de-barbear\",\"slug\":\"\",\"type\":\"SHELF\",\"bannerList\":[],\"subCategory\":[]},{\"id\":10401,\"name\":\"Outros itens de barbearia\",\"link\":\"/secoes/C10395/outros-itens-de-barbearia?ftr=facetSubShelf_ss:10395_Outros itens de barbearia\",\"uiLink\":\"/beleza-e-perfumaria/barbearia/outros-itens-de-barbearia\",\"slug\":\"\",\"type\":\"SHELF\",\"bannerList\":[],\"subCategory\":[]},{\"id\":10403,\"name\":\"Shampoo para barba\",\"link\":\"/secoes/C10395/shampoo-para-barba?ftr=facetSubShelf_ss:10395_Shampoo para barba\",\"uiLink\":\"/beleza-e-perfumaria/barbearia/shampoo-para-barba\",\"slug\":\"\",\"type\":\"SHELF\",\"bannerList\":[],\"subCategory\":[]},{\"id\":10396,\"name\":\"Barbeadores\",\"link\":\"/secoes/C10395/barbeadores?ftr=facetSubShelf_ss:10395_Barbeadores\",\"uiLink\":\"/beleza-e-perfumaria/barbearia/barbeadores\",\"slug\":\"\",\"type\":\"SHELF\",\"bannerList\":[],\"subCategory\":[]}]},{\"id\":10405,\"name\":\"Cabelos\",\"link\":\"/secoes/C10386/cabelos?ftr=facetSubShelf_ss:10386_Cabelos\",\"uiLink\":\"/beleza-e-perfumaria/cabelos\",\"slug\":\"\",\"type\":\"SHELF\",\"bannerList\":[],\"subCategory\":[{\"id\":10417,\"name\":\"Tratamentos \",\"link\":\"/secoes/C10405/tratamentos-?ftr=facetSubShelf_ss:10405_Tratamentos \",\"uiLink\":\"/beleza-e-perfumaria/cabelos/tratamentos-\",\"slug\":\"\",\"type\":\"SHELF\",\"bannerList\":[],\"subCategory\":[]},{\"id\":10410,\"name\":\"Leave-in e cremes para pentear\",\"link\":\"/secoes/C10405/leave-in-e-cremes-para-pentear?ftr=facetSubShelf_ss:10405_Leave-in e cremes para pentear\",\"uiLink\":\"/beleza-e-perfumaria/cabelos/leave-in-e-cremes-para-pentear\",\"slug\":\"\",\"type\":\"SHELF\",\"bannerList\":[],\"subCategory\":[]},{\"id\":10408,\"name\":\"Finalizadores e modeladores\",\"link\":\"/secoes/C10405/finalizadores-e-modeladores?ftr=facetSubShelf_ss:10405_Finalizadores e modeladores\",\"uiLink\":\"/beleza-e-perfumaria/cabelos/finalizadores-e-modeladores\",\"slug\":\"\",\"type\":\"SHELF\",\"bannerList\":[],\"subCategory\":[]},{\"id\":10406,\"name\":\"Acessórios para cabelo\",\"link\":\"/secoes/C10405/acessorios-para-cabelo?ftr=facetSubShelf_ss:10405_Acessórios para cabelo\",\"uiLink\":\"/beleza-e-perfumaria/cabelos/acessorios-para-cabelo\",\"slug\":\"\",\"type\":\"SHELF\",\"bannerList\":[],\"subCategory\":[]},{\"id\":10407,\"name\":\"Coloração e tintura\",\"link\":\"/secoes/C10405/coloracao-e-tintura?ftr=facetSubShelf_ss:10405_Coloração e tintura\",\"uiLink\":\"/beleza-e-perfumaria/cabelos/coloracao-e-tintura\",\"slug\":\"\",\"type\":\"SHELF\",\"bannerList\":[],\"subCategory\":[]},{\"id\":10412,\"name\":\"Máquinas e tesouras para cabelo\",\"link\":\"/secoes/C10405/maquinas-e-tesouras-para-cabelo?ftr=facetSubShelf_ss:10405_Máquinas e tesouras para cabelo\",\"uiLink\":\"/beleza-e-perfumaria/cabelos/maquinas-e-tesouras-para-cabelo\",\"slug\":\"\",\"type\":\"SHELF\",\"bannerList\":[],\"subCategory\":[]},{\"id\":10413,\"name\":\"Máscara capilar\",\"link\":\"/secoes/C10405/mascara-capilar?ftr=facetSubShelf_ss:10405_Máscara capilar\",\"uiLink\":\"/beleza-e-perfumaria/cabelos/mascara-capilar\",\"slug\":\"\",\"type\":\"SHELF\",\"bannerList\":[],\"subCategory\":[]},{\"id\":10409,\"name\":\"Kits para cabelos\",\"link\":\"/secoes/C10405/kits-para-cabelos?ftr=facetSubShelf_ss:10405_Kits para cabelos\",\"uiLink\":\"/beleza-e-perfumaria/cabelos/kits-para-cabelos\",\"slug\":\"\",\"type\":\"SHELF\",\"bannerList\":[],\"subCategory\":[]},{\"id\":10415,\"name\":\"Protetores \",\"link\":\"/secoes/C10405/protetores-?ftr=facetSubShelf_ss:10405_Protetores \",\"uiLink\":\"/beleza-e-perfumaria/cabelos/protetores-\",\"slug\":\"\",\"type\":\"SHELF\",\"bannerList\":[],\"subCategory\":[]},{\"id\":10411,\"name\":\"Linha profissional\",\"link\":\"/secoes/C10405/linha-profissional?ftr=facetSubShelf_ss:10405_Linha profissional\",\"uiLink\":\"/beleza-e-perfumaria/cabelos/linha-profissional\",\"slug\":\"\",\"type\":\"SHELF\",\"bannerList\":[],\"subCategory\":[]},{\"id\":10414,\"name\":\"Outros itens de cabelo\",\"link\":\"/secoes/C10405/outros-itens-de-cabelo?ftr=facetSubShelf_ss:10405_Outros itens de cabelo\",\"uiLink\":\"/beleza-e-perfumaria/cabelos/outros-itens-de-cabelo\",\"slug\":\"\",\"type\":\"SHELF\",\"bannerList\":[],\"subCategory\":[]},{\"id\":10416,\"name\":\"Secadores, chapinhas e outros itens de cabelo\",\"link\":\"/secoes/C10405/secadores-chapinhas-e-outros-itens-de-cabelo?ftr=facetSubShelf_ss:10405_Secadores, chapinhas e outros itens de cabelo\",\"uiLink\":\"/beleza-e-perfumaria/cabelos/secadores-chapinhas-e-outros-itens-de-cabelo\",\"slug\":\"\",\"type\":\"SHELF\",\"bannerList\":[],\"subCategory\":[]},{\"id\":9,\"name\":\"Condicionador\",\"uiLink\":\"/cuidados-pessoais/cuidados-com-o-cabelo/condicionador\",\"type\":\"GHOST_SHELF\",\"bannerList\":[],\"subCategory\":[]},{\"id\":10,\"name\":\"Shampoo\",\"uiLink\":\"/cuidados-pessoais/cuidados-com-o-cabelo/shampoo\",\"type\":\"GHOST_SHELF\",\"bannerList\":[],\"subCategory\":[]}]},{\"id\":10418,\"name\":\"Corpo\",\"link\":\"/secoes/C10386/corpo?ftr=facetSubShelf_ss:10386_Corpo\",\"uiLink\":\"/beleza-e-perfumaria/corpo\",\"slug\":\"\",\"type\":\"SHELF\",\"bannerList\":[],\"subCategory\":[{\"id\":10419,\"name\":\"Esponjas e escovas de banho\",\"link\":\"/secoes/C10418/esponjas-e-escovas-de-banho?ftr=facetSubShelf_ss:10418_Esponjas e escovas de banho\",\"uiLink\":\"/beleza-e-perfumaria/corpo/esponjas-e-escovas-de-banho\",\"slug\":\"\",\"type\":\"SHELF\",\"bannerList\":[],\"subCategory\":[]},{\"id\":10428,\"name\":\"Sais de banho e banho de espuma\",\"link\":\"/secoes/C10418/sais-de-banho-e-banho-de-espuma?ftr=facetSubShelf_ss:10418_Sais de banho e banho de espuma\",\"uiLink\":\"/beleza-e-perfumaria/corpo/sais-de-banho-e-banho-de-espuma\",\"slug\":\"\",\"type\":\"SHELF\",\"bannerList\":[],\"subCategory\":[]},{\"id\":10425,\"name\":\"Produtos para bronzeamento\",\"link\":\"/secoes/C10418/produtos-para-bronzeamento?ftr=facetSubShelf_ss:10418_Produtos para bronzeamento\",\"uiLink\":\"/beleza-e-perfumaria/corpo/produtos-para-bronzeamento\",\"slug\":\"\",\"type\":\"SHELF\",\"bannerList\":[],\"subCategory\":[]},{\"id\":10420,\"name\":\"Kits de tratamento\",\"link\":\"/secoes/C10418/kits-de-tratamento?ftr=facetSubShelf_ss:10418_Kits de tratamento\",\"uiLink\":\"/beleza-e-perfumaria/corpo/kits-de-tratamento\",\"slug\":\"\",\"type\":\"SHELF\",\"bannerList\":[],\"subCategory\":[]},{\"id\":10421,\"name\":\"Óleos corporais\",\"link\":\"/secoes/C10418/oleos-corporais?ftr=facetSubShelf_ss:10418_Óleos corporais\",\"uiLink\":\"/beleza-e-perfumaria/corpo/oleos-corporais\",\"slug\":\"\",\"type\":\"SHELF\",\"bannerList\":[],\"subCategory\":[]},{\"id\":10424,\"name\":\"Produtos de massagem\",\"link\":\"/secoes/C10418/produtos-de-massagem?ftr=facetSubShelf_ss:10418_Produtos de massagem\",\"uiLink\":\"/beleza-e-perfumaria/corpo/produtos-de-massagem\",\"slug\":\"\",\"type\":\"SHELF\",\"bannerList\":[],\"subCategory\":[]},{\"id\":10426,\"name\":\"Produtos para o banho\",\"link\":\"/secoes/C10418/produtos-para-o-banho?ftr=facetSubShelf_ss:10418_Produtos para o banho\",\"uiLink\":\"/beleza-e-perfumaria/corpo/produtos-para-o-banho\",\"slug\":\"\",\"type\":\"SHELF\",\"bannerList\":[],\"subCategory\":[]},{\"id\":10427,\"name\":\"Produtos para o pós-banho\",\"link\":\"/secoes/C10418/produtos-para-o-pos-banho?ftr=facetSubShelf_ss:10418_Produtos para o pós-banho\",\"uiLink\":\"/beleza-e-perfumaria/corpo/produtos-para-o-pos-banho\",\"slug\":\"\",\"type\":\"SHELF\",\"bannerList\":[],\"subCategory\":[]},{\"id\":10423,\"name\":\"Produtos de depilação\",\"link\":\"/secoes/C10418/produtos-de-depilacao?ftr=facetSubShelf_ss:10418_Produtos de depilação\",\"uiLink\":\"/beleza-e-perfumaria/corpo/produtos-de-depilacao\",\"slug\":\"\",\"type\":\"SHELF\",\"bannerList\":[],\"subCategory\":[]},{\"id\":10422,\"name\":\"Outros itens de corpo\",\"link\":\"/secoes/C10418/outros-itens-de-corpo?ftr=facetSubShelf_ss:10418_Outros itens de corpo\",\"uiLink\":\"/beleza-e-perfumaria/corpo/outros-itens-de-corpo\",\"slug\":\"\",\"type\":\"SHELF\",\"bannerList\":[],\"subCategory\":[]},{\"id\":11,\"name\":\"Desodorantes\",\"uiLink\":\"/cuidados-pessoais/cuidados-com-o-corpo/desodorantes\",\"type\":\"GHOST_SHELF\",\"bannerList\":[],\"subCategory\":[]},{\"id\":12,\"name\":\"Sabonetes\",\"uiLink\":\"/cuidados-pessoais/cuidados-com-o-corpo/sabonetes\",\"type\":\"GHOST_SHELF\",\"bannerList\":[],\"subCategory\":[]},{\"id\":13,\"name\":\"Esfoliantes corporais\",\"uiLink\":\"/cuidados-pessoais/cuidados-com-o-corpo/cremes-e-esfoliantes\",\"type\":\"GHOST_SHELF\",\"bannerList\":[],\"subCategory\":[]},{\"id\":14,\"name\":\"Protetores solares\",\"uiLink\":\"/cuidados-pessoais/protecao/protetor-solar\",\"type\":\"GHOST_SHELF\",\"bannerList\":[],\"subCategory\":[]},{\"id\":15,\"name\":\"Cremes hidratantes\",\"uiLink\":\"/cuidados-pessoais/cuidados-com-o-corpo/cremes-e-esfoliantes\",\"type\":\"GHOST_SHELF\",\"bannerList\":[],\"subCategory\":[]}]},{\"id\":10451,\"name\":\"Perfumes e colônias\",\"link\":\"/secoes/C10386/perfumes-e-colonias?ftr=facetSubShelf_ss:10386_Perfumes e colônias\",\"uiLink\":\"/beleza-e-perfumaria/perfumes-e-colonias\",\"slug\":\"\",\"type\":\"SHELF\",\"bannerList\":[],\"subCategory\":[{\"id\":10455,\"name\":\"Perfumes femininos\",\"link\":\"/secoes/C10451/perfumes-femininos?ftr=facetSubShelf_ss:10451_Perfumes femininos\",\"uiLink\":\"/beleza-e-perfumaria/perfumes-e-colonias/perfumes-femininos\",\"slug\":\"\",\"type\":\"SHELF\",\"bannerList\":[],\"subCategory\":[]},{\"id\":10457,\"name\":\"Perfumes masculinos\",\"link\":\"/secoes/C10451/perfumes-masculinos?ftr=facetSubShelf_ss:10451_Perfumes masculinos\",\"uiLink\":\"/beleza-e-perfumaria/perfumes-e-colonias/perfumes-masculinos\",\"slug\":\"\",\"type\":\"SHELF\",\"bannerList\":[],\"subCategory\":[]},{\"id\":10459,\"name\":\"Perfumes unissex\",\"link\":\"/secoes/C10451/perfumes-unissex?ftr=facetSubShelf_ss:10451_Perfumes unissex\",\"uiLink\":\"/beleza-e-perfumaria/perfumes-e-colonias/perfumes-unissex\",\"slug\":\"\",\"type\":\"SHELF\",\"bannerList\":[],\"subCategory\":[]},{\"id\":10456,\"name\":\"Perfumes infantis\",\"link\":\"/secoes/C10451/perfumes-infantis?ftr=facetSubShelf_ss:10451_Perfumes infantis\",\"uiLink\":\"/beleza-e-perfumaria/perfumes-e-colonias/perfumes-infantis\",\"slug\":\"\",\"type\":\"SHELF\",\"bannerList\":[],\"subCategory\":[]},{\"id\":10453,\"name\":\"Kits para presentear\",\"link\":\"/secoes/C10451/kits-para-presentear?ftr=facetSubShelf_ss:10451_Kits para presentear\",\"uiLink\":\"/beleza-e-perfumaria/perfumes-e-colonias/kits-para-presentear\",\"slug\":\"\",\"type\":\"SHELF\",\"bannerList\":[],\"subCategory\":[]},{\"id\":10458,\"name\":\"Perfumes para o corpo\",\"link\":\"/secoes/C10451/perfumes-para-o-corpo?ftr=facetSubShelf_ss:10451_Perfumes para o corpo\",\"uiLink\":\"/beleza-e-perfumaria/perfumes-e-colonias/perfumes-para-o-corpo\",\"slug\":\"\",\"type\":\"SHELF\",\"bannerList\":[],\"subCategory\":[]},{\"id\":10452,\"name\":\"Colônias\",\"link\":\"/secoes/C10451/colonias?ftr=facetSubShelf_ss:10451_Colônias\",\"uiLink\":\"/beleza-e-perfumaria/perfumes-e-colonias/colonias\",\"slug\":\"\",\"type\":\"SHELF\",\"bannerList\":[],\"subCategory\":[]},{\"id\":10454,\"name\":\"Outros itens de perfume\",\"link\":\"/secoes/C10451/outros-itens-de-perfume?ftr=facetSubShelf_ss:10451_Outros itens de perfume\",\"uiLink\":\"/beleza-e-perfumaria/perfumes-e-colonias/outros-itens-de-perfume\",\"slug\":\"\",\"type\":\"SHELF\",\"bannerList\":[],\"subCategory\":[]}]},{\"id\":10460,\"name\":\"Pés e mãos\",\"link\":\"/secoes/C10386/pes-e-maos?ftr=facetSubShelf_ss:10386_Pés e mãos\",\"uiLink\":\"/beleza-e-perfumaria/pes-e-maos\",\"slug\":\"\",\"type\":\"SHELF\",\"bannerList\":[],\"subCategory\":[{\"id\":10467,\"name\":\"Palmilhas e proteções para os pés\",\"link\":\"/secoes/C10460/palmilhas-e-protecoes-para-os-pes?ftr=facetSubShelf_ss:10460_Palmilhas e proteções para os pés\",\"uiLink\":\"/beleza-e-perfumaria/pes-e-maos/palmilhas-e-protecoes-para-os-pes\",\"slug\":\"\",\"type\":\"SHELF\",\"bannerList\":[],\"subCategory\":[]},{\"id\":10470,\"name\":\"Separador de dedos\",\"link\":\"/secoes/C10460/separador-de-dedos?ftr=facetSubShelf_ss:10460_Separador de dedos\",\"uiLink\":\"/beleza-e-perfumaria/pes-e-maos/separador-de-dedos\",\"slug\":\"\",\"type\":\"SHELF\",\"bannerList\":[],\"subCategory\":[]},{\"id\":10463,\"name\":\"Esmaltes e bases\",\"link\":\"/secoes/C10460/esmaltes-e-bases?ftr=facetSubShelf_ss:10460_Esmaltes e bases\",\"uiLink\":\"/beleza-e-perfumaria/pes-e-maos/esmaltes-e-bases\",\"slug\":\"\",\"type\":\"SHELF\",\"bannerList\":[],\"subCategory\":[]},{\"id\":10469,\"name\":\"Secantes para unhas\",\"link\":\"/secoes/C10460/secantes-para-unhas?ftr=facetSubShelf_ss:10460_Secantes para unhas\",\"uiLink\":\"/beleza-e-perfumaria/pes-e-maos/secantes-para-unhas\",\"slug\":\"\",\"type\":\"SHELF\",\"bannerList\":[],\"subCategory\":[]},{\"id\":10468,\"name\":\"Removedores de esmalte\",\"link\":\"/secoes/C10460/removedores-de-esmalte?ftr=facetSubShelf_ss:10460_Removedores de esmalte\",\"uiLink\":\"/beleza-e-perfumaria/pes-e-maos/removedores-de-esmalte\",\"slug\":\"\",\"type\":\"SHELF\",\"bannerList\":[],\"subCategory\":[]},{\"id\":10462,\"name\":\"Cuidados com cutículas\",\"link\":\"/secoes/C10460/cuidados-com-cuticulas?ftr=facetSubShelf_ss:10460_Cuidados com cutículas\",\"uiLink\":\"/beleza-e-perfumaria/pes-e-maos/cuidados-com-cuticulas\",\"slug\":\"\",\"type\":\"SHELF\",\"bannerList\":[],\"subCategory\":[]},{\"id\":10465,\"name\":\"Outros produtos para pés\",\"link\":\"/secoes/C10460/outros-produtos-para-pes?ftr=facetSubShelf_ss:10460_Outros produtos para pés\",\"uiLink\":\"/beleza-e-perfumaria/pes-e-maos/outros-produtos-para-pes\",\"slug\":\"\",\"type\":\"SHELF\",\"bannerList\":[],\"subCategory\":[]},{\"id\":10466,\"name\":\"Outros produtos para unhas\",\"link\":\"/secoes/C10460/outros-produtos-para-unhas?ftr=facetSubShelf_ss:10460_Outros produtos para unhas\",\"uiLink\":\"/beleza-e-perfumaria/pes-e-maos/outros-produtos-para-unhas\",\"slug\":\"\",\"type\":\"SHELF\",\"bannerList\":[],\"subCategory\":[]},{\"id\":10464,\"name\":\"Outros produtos para mãos\",\"link\":\"/secoes/C10460/outros-produtos-para-maos?ftr=facetSubShelf_ss:10460_Outros produtos para mãos\",\"uiLink\":\"/beleza-e-perfumaria/pes-e-maos/outros-produtos-para-maos\",\"slug\":\"\",\"type\":\"SHELF\",\"bannerList\":[],\"subCategory\":[]},{\"id\":10461,\"name\":\"Cremes e hidratantes\",\"link\":\"/secoes/C10460/cremes-e-hidratantes?ftr=facetSubShelf_ss:10460_Cremes e hidratantes\",\"uiLink\":\"/beleza-e-perfumaria/pes-e-maos/cremes-e-hidratantes\",\"slug\":\"\",\"type\":\"SHELF\",\"bannerList\":[],\"subCategory\":[]}]},{\"id\":10471,\"name\":\"Rosto\",\"link\":\"/secoes/C10386/rosto?ftr=facetSubShelf_ss:10386_Rosto\",\"uiLink\":\"/beleza-e-perfumaria/rosto\",\"slug\":\"\",\"type\":\"SHELF\",\"bannerList\":[],\"subCategory\":[{\"id\":10474,\"name\":\"Máscaras e peelings faciais\",\"link\":\"/secoes/C10471/mascaras-e-peelings-faciais?ftr=facetSubShelf_ss:10471_Máscaras e peelings faciais\",\"uiLink\":\"/beleza-e-perfumaria/rosto/mascaras-e-peelings-faciais\",\"slug\":\"\",\"type\":\"SHELF\",\"bannerList\":[],\"subCategory\":[]},{\"id\":10473,\"name\":\"Cremes anti-idade\",\"link\":\"/secoes/C10471/cremes-anti-idade?ftr=facetSubShelf_ss:10471_Cremes anti-idade\",\"uiLink\":\"/beleza-e-perfumaria/rosto/cremes-anti-idade\",\"slug\":\"\",\"type\":\"SHELF\",\"bannerList\":[],\"subCategory\":[]},{\"id\":10472,\"name\":\"Cremes anti-acne\",\"link\":\"/secoes/C10471/cremes-anti-acne?ftr=facetSubShelf_ss:10471_Cremes anti-acne\",\"uiLink\":\"/beleza-e-perfumaria/rosto/cremes-anti-acne\",\"slug\":\"\",\"type\":\"SHELF\",\"bannerList\":[],\"subCategory\":[]},{\"id\":10476,\"name\":\"Removedor de oleosidade\",\"link\":\"/secoes/C10471/removedor-de-oleosidade?ftr=facetSubShelf_ss:10471_Removedor de oleosidade\",\"uiLink\":\"/beleza-e-perfumaria/rosto/removedor-de-oleosidade\",\"slug\":\"\",\"type\":\"SHELF\",\"bannerList\":[],\"subCategory\":[]},{\"id\":10475,\"name\":\"Outros itens de rosto\",\"link\":\"/secoes/C10471/outros-itens-de-rosto?ftr=facetSubShelf_ss:10471_Outros itens de rosto\",\"uiLink\":\"/beleza-e-perfumaria/rosto/outros-itens-de-rosto\",\"slug\":\"\",\"type\":\"SHELF\",\"bannerList\":[],\"subCategory\":[]},{\"id\":16,\"name\":\"Limpeza de pele\",\"uiLink\":\"/cuidados-pessoais/cuidados-com-o-rosto/limpeza-e-demaquilante\",\"type\":\"GHOST_SHELF\",\"bannerList\":[],\"subCategory\":[]}]},{\"id\":10387,\"name\":\"Acessórios\",\"link\":\"/secoes/C10386/acessorios?ftr=facetSubShelf_ss:10386_Acessórios\",\"uiLink\":\"/beleza-e-perfumaria/acessorios\",\"slug\":\"\",\"type\":\"SHELF\",\"bannerList\":[],\"subCategory\":[{\"id\":10392,\"name\":\"Pinças\",\"link\":\"/secoes/C10387/pincas?ftr=facetSubShelf_ss:10387_Pinças\",\"uiLink\":\"/beleza-e-perfumaria/acessorios/pincas\",\"slug\":\"\",\"type\":\"SHELF\",\"bannerList\":[],\"subCategory\":[]},{\"id\":10394,\"name\":\"Tesouras\",\"link\":\"/secoes/C10387/tesouras?ftr=facetSubShelf_ss:10387_Tesouras\",\"uiLink\":\"/beleza-e-perfumaria/acessorios/tesouras\",\"slug\":\"\",\"type\":\"SHELF\",\"bannerList\":[],\"subCategory\":[]},{\"id\":10390,\"name\":\"Organizadores\",\"link\":\"/secoes/C10387/organizadores?ftr=facetSubShelf_ss:10387_Organizadores\",\"uiLink\":\"/beleza-e-perfumaria/acessorios/organizadores\",\"slug\":\"\",\"type\":\"SHELF\",\"bannerList\":[],\"subCategory\":[]},{\"id\":10389,\"name\":\"Curvadores de cílios\",\"link\":\"/secoes/C10387/curvadores-de-cilios?ftr=facetSubShelf_ss:10387_Curvadores de cílios\",\"uiLink\":\"/beleza-e-perfumaria/acessorios/curvadores-de-cilios\",\"slug\":\"\",\"type\":\"SHELF\",\"bannerList\":[],\"subCategory\":[]},{\"id\":10393,\"name\":\"Pincéis\",\"link\":\"/secoes/C10387/pinceis?ftr=facetSubShelf_ss:10387_Pincéis\",\"uiLink\":\"/beleza-e-perfumaria/acessorios/pinceis\",\"slug\":\"\",\"type\":\"SHELF\",\"bannerList\":[],\"subCategory\":[]},{\"id\":10388,\"name\":\"Apontadores de lápis\",\"link\":\"/secoes/C10387/apontadores-de-lapis?ftr=facetSubShelf_ss:10387_Apontadores de lápis\",\"uiLink\":\"/beleza-e-perfumaria/acessorios/apontadores-de-lapis\",\"slug\":\"\",\"type\":\"SHELF\",\"bannerList\":[],\"subCategory\":[]},{\"id\":10391,\"name\":\"Outros acessórios\",\"link\":\"/secoes/C10387/outros-acessorios?ftr=facetSubShelf_ss:10387_Outros acessórios\",\"uiLink\":\"/beleza-e-perfumaria/acessorios/outros-acessorios\",\"slug\":\"\",\"type\":\"SHELF\",\"bannerList\":[],\"subCategory\":[]}]},{\"id\":10429,\"name\":\"Dermocosméticos\",\"link\":\"/secoes/C10386/dermocosmeticos?ftr=facetSubShelf_ss:10386_Dermocosméticos\",\"uiLink\":\"/beleza-e-perfumaria/dermocosmeticos\",\"slug\":\"\",\"type\":\"SHELF\",\"bannerList\":[],\"subCategory\":[{\"id\":10435,\"name\":\"Rosto\",\"link\":\"/secoes/C10429/rosto?ftr=facetSubShelf_ss:10429_Rosto\",\"uiLink\":\"/beleza-e-perfumaria/dermocosmeticos/rosto\",\"slug\":\"\",\"type\":\"SHELF\",\"bannerList\":[],\"subCategory\":[]},{\"id\":10433,\"name\":\"Olhos\",\"link\":\"/secoes/C10429/olhos?ftr=facetSubShelf_ss:10429_Olhos\",\"uiLink\":\"/beleza-e-perfumaria/dermocosmeticos/olhos\",\"slug\":\"\",\"type\":\"SHELF\",\"bannerList\":[],\"subCategory\":[]},{\"id\":10436,\"name\":\"Unhas\",\"link\":\"/secoes/C10429/unhas?ftr=facetSubShelf_ss:10429_Unhas\",\"uiLink\":\"/beleza-e-perfumaria/dermocosmeticos/unhas\",\"slug\":\"\",\"type\":\"SHELF\",\"bannerList\":[],\"subCategory\":[]},{\"id\":10430,\"name\":\"Cabelos\",\"link\":\"/secoes/C10429/cabelos?ftr=facetSubShelf_ss:10429_Cabelos\",\"uiLink\":\"/beleza-e-perfumaria/dermocosmeticos/cabelos\",\"slug\":\"\",\"type\":\"SHELF\",\"bannerList\":[],\"subCategory\":[]},{\"id\":10431,\"name\":\"Corpo\",\"link\":\"/secoes/C10429/corpo?ftr=facetSubShelf_ss:10429_Corpo\",\"uiLink\":\"/beleza-e-perfumaria/dermocosmeticos/corpo\",\"slug\":\"\",\"type\":\"SHELF\",\"bannerList\":[],\"subCategory\":[]},{\"id\":10432,\"name\":\"Maquiagens\",\"link\":\"/secoes/C10429/maquiagens?ftr=facetSubShelf_ss:10429_Maquiagens\",\"uiLink\":\"/beleza-e-perfumaria/dermocosmeticos/maquiagens\",\"slug\":\"\",\"type\":\"SHELF\",\"bannerList\":[],\"subCategory\":[]},{\"id\":10434,\"name\":\"Outros dermocosméticos\",\"link\":\"/secoes/C10429/outros-dermocosmeticos?ftr=facetSubShelf_ss:10429_Outros dermocosméticos\",\"uiLink\":\"/beleza-e-perfumaria/dermocosmeticos/outros-dermocosmeticos\",\"slug\":\"\",\"type\":\"SHELF\",\"bannerList\":[],\"subCategory\":[]}]}],\"bannerList\":[]},{\"id\":10360,\"link\":\"/secoes/C10360/bebidas-alcoolicas\",\"uiLink\":\"/bebidas-alcoolicas\",\"slug\":\"\",\"name\":\"Bebidas alcóolicas\",\"icon\":\"/img/uploads/1/816/667816.png\",\"metaDescription\":\"Encontre Bebidas Alcóolicas das melhores marcas em nosso site. Paodeacucar.com, o seu supermercado online!\",\"type\":\"SHELF\",\"subCategory\":[{\"id\":10361,\"name\":\"Cervejas\",\"link\":\"/secoes/C10360/cervejas?ftr=facetSubShelf_ss:10360_Cervejas\",\"uiLink\":\"/bebidas-alcoolicas/cervejas\",\"slug\":\"\",\"metaDescription\":\"Está pensando em planejar aquele encontro com os amigos, ou apenas quer relaxar? Aqui no Paodeacucar.com, você encontra Cervejas dos melhores tipos. Confira!\",\"type\":\"SHELF\",\"bannerList\":[],\"subCategory\":[{\"id\":10363,\"name\":\"Cervejas Premium\",\"link\":\"/secoes/C10361/cervejas-premium?ftr=facetSubShelf_ss:10361_Cervejas Premium\",\"uiLink\":\"/bebidas-alcoolicas/cervejas/cervejas-premium\",\"slug\":\"\",\"type\":\"SHELF\",\"bannerList\":[],\"subCategory\":[]},{\"id\":10362,\"name\":\"Cervejas Especiais e artesanais\",\"link\":\"/secoes/C10361/cervejas-especiais-e-artesanais?ftr=facetSubShelf_ss:10361_Cervejas Especiais e artesanais\",\"uiLink\":\"/bebidas-alcoolicas/cervejas/cervejas-especiais-e-artesanais\",\"slug\":\"\",\"type\":\"SHELF\",\"bannerList\":[],\"subCategory\":[]},{\"id\":10364,\"name\":\"Cervejas sem álcool\",\"link\":\"/secoes/C10361/cervejas-sem-alcool?ftr=facetSubShelf_ss:10361_Cervejas sem álcool\",\"uiLink\":\"/bebidas-alcoolicas/cervejas/cervejas-sem-alcool\",\"slug\":\"\",\"type\":\"SHELF\",\"bannerList\":[],\"subCategory\":[]}]},{\"id\":10365,\"name\":\"Destilados, licores e coquetéis\",\"link\":\"/secoes/C10360/destilados-licores-e-coqueteis?ftr=facetSubShelf_ss:10360_Destilados, licores e coquetéis\",\"uiLink\":\"/bebidas-alcoolicas/destilados-licores-e-coqueteis\",\"slug\":\"\",\"type\":\"SHELF\",\"bannerList\":[],\"subCategory\":[{\"id\":10367,\"name\":\"Cachaça\",\"link\":\"/secoes/C10365/cachaca?ftr=facetSubShelf_ss:10365_Cachaça\",\"uiLink\":\"/bebidas-alcoolicas/destilados-licores-e-coqueteis/cachaca\",\"slug\":\"\",\"type\":\"SHELF\",\"bannerList\":[],\"subCategory\":[]},{\"id\":10375,\"name\":\"Sakê\",\"link\":\"/secoes/C10365/sake?ftr=facetSubShelf_ss:10365_Sakê\",\"uiLink\":\"/bebidas-alcoolicas/destilados-licores-e-coqueteis/sake\",\"slug\":\"\",\"type\":\"SHELF\",\"bannerList\":[],\"subCategory\":[]},{\"id\":10376,\"name\":\"Vodka\",\"link\":\"/secoes/C10365/vodka?ftr=facetSubShelf_ss:10365_Vodka\",\"uiLink\":\"/bebidas-alcoolicas/destilados-licores-e-coqueteis/vodka\",\"slug\":\"\",\"type\":\"SHELF\",\"bannerList\":[],\"subCategory\":[]},{\"id\":10377,\"name\":\"Whisky\",\"link\":\"/secoes/C10365/whisky?ftr=facetSubShelf_ss:10365_Whisky\",\"uiLink\":\"/bebidas-alcoolicas/destilados-licores-e-coqueteis/whisky\",\"slug\":\"\",\"type\":\"SHELF\",\"bannerList\":[],\"subCategory\":[]},{\"id\":10371,\"name\":\"Gin\",\"link\":\"/secoes/C10365/gin?ftr=facetSubShelf_ss:10365_Gin\",\"uiLink\":\"/bebidas-alcoolicas/destilados-licores-e-coqueteis/gin\",\"slug\":\"\",\"type\":\"SHELF\",\"bannerList\":[],\"subCategory\":[]},{\"id\":10368,\"name\":\"Conhaque\",\"link\":\"/secoes/C10365/conhaque?ftr=facetSubShelf_ss:10365_Conhaque\",\"uiLink\":\"/bebidas-alcoolicas/destilados-licores-e-coqueteis/conhaque\",\"slug\":\"\",\"type\":\"SHELF\",\"bannerList\":[],\"subCategory\":[]},{\"id\":10366,\"name\":\"Aperitivos\",\"link\":\"/secoes/C10365/aperitivos?ftr=facetSubShelf_ss:10365_Aperitivos\",\"uiLink\":\"/bebidas-alcoolicas/destilados-licores-e-coqueteis/aperitivos\",\"slug\":\"\",\"type\":\"SHELF\",\"bannerList\":[],\"subCategory\":[]},{\"id\":10370,\"name\":\"Drinks prontos\",\"link\":\"/secoes/C10365/drinks-prontos?ftr=facetSubShelf_ss:10365_Drinks prontos\",\"uiLink\":\"/bebidas-alcoolicas/destilados-licores-e-coqueteis/drinks-prontos\",\"slug\":\"\",\"type\":\"SHELF\",\"bannerList\":[],\"subCategory\":[]},{\"id\":10374,\"name\":\"Outros\",\"link\":\"/secoes/C10365/outros?ftr=facetSubShelf_ss:10365_Outros\",\"uiLink\":\"/bebidas-alcoolicas/destilados-licores-e-coqueteis/outros\",\"slug\":\"\",\"type\":\"SHELF\",\"bannerList\":[],\"subCategory\":[]},{\"id\":10372,\"name\":\"Licores\",\"link\":\"/secoes/C10365/licores?ftr=facetSubShelf_ss:10365_Licores\",\"uiLink\":\"/bebidas-alcoolicas/destilados-licores-e-coqueteis/licores\",\"slug\":\"\",\"type\":\"SHELF\",\"bannerList\":[],\"subCategory\":[]},{\"id\":10369,\"name\":\"Coquetéis\",\"link\":\"/secoes/C10365/coqueteis?ftr=facetSubShelf_ss:10365_Coquetéis\",\"uiLink\":\"/bebidas-alcoolicas/destilados-licores-e-coqueteis/coqueteis\",\"slug\":\"\",\"type\":\"SHELF\",\"bannerList\":[],\"subCategory\":[]},{\"id\":10373,\"name\":\"Outras bebidas\",\"link\":\"/secoes/C10365/outras-bebidas?ftr=facetSubShelf_ss:10365_Outras bebidas\",\"uiLink\":\"/bebidas-alcoolicas/destilados-licores-e-coqueteis/outras-bebidas\",\"slug\":\"\",\"type\":\"SHELF\",\"bannerList\":[],\"subCategory\":[]}]},{\"id\":10378,\"name\":\"Vinhos e espumantes\",\"link\":\"/secoes/C10360/vinhos-e-espumantes?ftr=facetSubShelf_ss:10360_Vinhos e espumantes\",\"uiLink\":\"/bebidas-alcoolicas/vinhos-e-espumantes\",\"slug\":\"\",\"metaDescription\":\"Assim como você, também somos apreciadores de ótimos Vinhos e Espumantes. Veja nosso catálogo de produtos, e garanta o vinho para aquele jantar especial!\",\"type\":\"SHELF\",\"bannerList\":[],\"subCategory\":[{\"id\":10385,\"name\":\"Vinhos tintos\",\"link\":\"/secoes/C10378/vinhos-tintos?ftr=facetSubShelf_ss:10378_Vinhos tintos\",\"uiLink\":\"/bebidas-alcoolicas/vinhos-e-espumantes/vinhos-tintos\",\"slug\":\"\",\"type\":\"SHELF\",\"bannerList\":[],\"subCategory\":[]},{\"id\":10381,\"name\":\"Vinhos brancos\",\"link\":\"/secoes/C10378/vinhos-brancos?ftr=facetSubShelf_ss:10378_Vinhos brancos\",\"uiLink\":\"/bebidas-alcoolicas/vinhos-e-espumantes/vinhos-brancos\",\"slug\":\"\",\"type\":\"SHELF\",\"bannerList\":[],\"subCategory\":[]},{\"id\":10379,\"name\":\"Espumantes\",\"link\":\"/secoes/C10378/espumantes?ftr=facetSubShelf_ss:10378_Espumantes\",\"uiLink\":\"/bebidas-alcoolicas/vinhos-e-espumantes/espumantes\",\"slug\":\"\",\"type\":\"SHELF\",\"bannerList\":[],\"subCategory\":[]},{\"id\":10382,\"name\":\"Vinhos do Porto\",\"link\":\"/secoes/C10378/vinhos-do-porto?ftr=facetSubShelf_ss:10378_Vinhos do Porto\",\"uiLink\":\"/bebidas-alcoolicas/vinhos-e-espumantes/vinhos-do-porto\",\"slug\":\"\",\"type\":\"SHELF\",\"bannerList\":[],\"subCategory\":[]},{\"id\":10384,\"name\":\"Vinhos rose\",\"link\":\"/secoes/C10378/vinhos-rose?ftr=facetSubShelf_ss:10378_Vinhos rose\",\"uiLink\":\"/bebidas-alcoolicas/vinhos-e-espumantes/vinhos-rose\",\"slug\":\"\",\"type\":\"SHELF\",\"bannerList\":[],\"subCategory\":[]},{\"id\":10383,\"name\":\"Vinhos licorosos\",\"link\":\"/secoes/C10378/vinhos-licorosos?ftr=facetSubShelf_ss:10378_Vinhos licorosos\",\"uiLink\":\"/bebidas-alcoolicas/vinhos-e-espumantes/vinhos-licorosos\",\"slug\":\"\",\"type\":\"SHELF\",\"bannerList\":[],\"subCategory\":[]},{\"id\":10380,\"name\":\"Outros vinhos\",\"link\":\"/secoes/C10378/outros-vinhos?ftr=facetSubShelf_ss:10378_Outros vinhos\",\"uiLink\":\"/bebidas-alcoolicas/vinhos-e-espumantes/outros-vinhos\",\"slug\":\"\",\"type\":\"SHELF\",\"bannerList\":[],\"subCategory\":[]}]}],\"bannerList\":[]},{\"id\":10973,\"link\":\"/secoes/C10973/limpeza\",\"uiLink\":\"/limpeza\",\"slug\":\"\",\"name\":\"Limpeza\",\"icon\":\"/img/uploads/1/837/667837.png\",\"metaDescription\":\"Aqui no Paodeacucar.com, você encontra produtos de Limpeza com os melhores preços. Veja mais detalhes em nosso site.\",\"type\":\"SHELF\",\"subCategory\":[{\"id\":10974,\"name\":\"Cuidados com a casa\",\"link\":\"/secoes/C10973/cuidados-com-a-casa?ftr=facetSubShelf_ss:10973_Cuidados com a casa\",\"uiLink\":\"/limpeza/cuidados-com-a-casa\",\"slug\":\"\",\"type\":\"SHELF\",\"bannerList\":[],\"subCategory\":[{\"id\":10976,\"name\":\"Ceras e lustradores\",\"link\":\"/secoes/C10974/ceras-e-lustradores?ftr=facetSubShelf_ss:10974_Ceras e lustradores\",\"uiLink\":\"/limpeza/cuidados-com-a-casa/ceras-e-lustradores\",\"slug\":\"\",\"type\":\"SHELF\",\"bannerList\":[],\"subCategory\":[]},{\"id\":10978,\"name\":\"Desinfetante\",\"link\":\"/secoes/C10974/desinfetante?ftr=facetSubShelf_ss:10974_Desinfetante\",\"uiLink\":\"/limpeza/cuidados-com-a-casa/desinfetante\",\"slug\":\"\",\"type\":\"SHELF\",\"bannerList\":[],\"subCategory\":[]},{\"id\":10979,\"name\":\"Detergente\",\"link\":\"/secoes/C10974/detergente?ftr=facetSubShelf_ss:10974_Detergente\",\"uiLink\":\"/limpeza/cuidados-com-a-casa/detergente\",\"slug\":\"\",\"type\":\"SHELF\",\"bannerList\":[],\"subCategory\":[]},{\"id\":10977,\"name\":\"Desengordurante\",\"link\":\"/secoes/C10974/desengordurante?ftr=facetSubShelf_ss:10974_Desengordurante\",\"uiLink\":\"/limpeza/cuidados-com-a-casa/desengordurante\",\"slug\":\"\",\"type\":\"SHELF\",\"bannerList\":[],\"subCategory\":[]},{\"id\":10984,\"name\":\"Sabão\",\"link\":\"/secoes/C10974/sabao?ftr=facetSubShelf_ss:10974_Sabão\",\"uiLink\":\"/limpeza/cuidados-com-a-casa/sabao\",\"slug\":\"\",\"type\":\"SHELF\",\"bannerList\":[],\"subCategory\":[]},{\"id\":10981,\"name\":\"Odorizador\",\"link\":\"/secoes/C10974/odorizador?ftr=facetSubShelf_ss:10974_Odorizador\",\"uiLink\":\"/limpeza/cuidados-com-a-casa/odorizador\",\"slug\":\"\",\"type\":\"SHELF\",\"bannerList\":[],\"subCategory\":[]},{\"id\":10975,\"name\":\"Álcool\",\"link\":\"/secoes/C10974/alcool?ftr=facetSubShelf_ss:10974_Álcool\",\"uiLink\":\"/limpeza/cuidados-com-a-casa/alcool\",\"slug\":\"\",\"type\":\"SHELF\",\"bannerList\":[],\"subCategory\":[]},{\"id\":10983,\"name\":\"Removedores\",\"link\":\"/secoes/C10974/removedores?ftr=facetSubShelf_ss:10974_Removedores\",\"uiLink\":\"/limpeza/cuidados-com-a-casa/removedores\",\"slug\":\"\",\"type\":\"SHELF\",\"bannerList\":[],\"subCategory\":[]},{\"id\":10982,\"name\":\"Outros produtos\",\"link\":\"/secoes/C10974/outros-produtos?ftr=facetSubShelf_ss:10974_Outros produtos\",\"uiLink\":\"/limpeza/cuidados-com-a-casa/outros-produtos\",\"slug\":\"\",\"type\":\"SHELF\",\"bannerList\":[],\"subCategory\":[]},{\"id\":10980,\"name\":\"Inseticidas\",\"link\":\"/secoes/C10974/inseticidas?ftr=facetSubShelf_ss:10974_Inseticidas\",\"uiLink\":\"/limpeza/cuidados-com-a-casa/inseticidas\",\"slug\":\"\",\"type\":\"SHELF\",\"bannerList\":[],\"subCategory\":[]}]},{\"id\":10985,\"name\":\"Cuidados com a roupa\",\"link\":\"/secoes/C10973/cuidados-com-a-roupa?ftr=facetSubShelf_ss:10973_Cuidados com a roupa\",\"uiLink\":\"/limpeza/cuidados-com-a-roupa\",\"slug\":\"\",\"type\":\"SHELF\",\"bannerList\":[],\"subCategory\":[{\"id\":10988,\"name\":\"Lava roupas\",\"link\":\"/secoes/C10985/lava-roupas?ftr=facetSubShelf_ss:10985_Lava roupas\",\"uiLink\":\"/limpeza/cuidados-com-a-roupa/lava-roupas\",\"slug\":\"\",\"type\":\"SHELF\",\"bannerList\":[],\"subCategory\":[]},{\"id\":10987,\"name\":\"Amaciante\",\"link\":\"/secoes/C10985/amaciante?ftr=facetSubShelf_ss:10985_Amaciante\",\"uiLink\":\"/limpeza/cuidados-com-a-roupa/amaciante\",\"slug\":\"\",\"type\":\"SHELF\",\"bannerList\":[],\"subCategory\":[]},{\"id\":10991,\"name\":\"Tira manchas\",\"link\":\"/secoes/C10985/tira-manchas?ftr=facetSubShelf_ss:10985_Tira manchas\",\"uiLink\":\"/limpeza/cuidados-com-a-roupa/tira-manchas\",\"slug\":\"\",\"type\":\"SHELF\",\"bannerList\":[],\"subCategory\":[]},{\"id\":10990,\"name\":\"Passa roupas\",\"link\":\"/secoes/C10985/passa-roupas?ftr=facetSubShelf_ss:10985_Passa roupas\",\"uiLink\":\"/limpeza/cuidados-com-a-roupa/passa-roupas\",\"slug\":\"\",\"type\":\"SHELF\",\"bannerList\":[],\"subCategory\":[]},{\"id\":10986,\"name\":\"Alvejante\",\"link\":\"/secoes/C10985/alvejante?ftr=facetSubShelf_ss:10985_Alvejante\",\"uiLink\":\"/limpeza/cuidados-com-a-roupa/alvejante\",\"slug\":\"\",\"type\":\"SHELF\",\"bannerList\":[],\"subCategory\":[]},{\"id\":10989,\"name\":\"Outros produtos\",\"link\":\"/secoes/C10985/outros-produtos?ftr=facetSubShelf_ss:10985_Outros produtos\",\"uiLink\":\"/limpeza/cuidados-com-a-roupa/outros-produtos\",\"slug\":\"\",\"type\":\"SHELF\",\"bannerList\":[],\"subCategory\":[]}]}],\"bannerList\":[]},{\"id\":10316,\"link\":\"/secoes/C10316/bebes-e-criancas\",\"uiLink\":\"/bebes-e-criancas\",\"slug\":\"\",\"name\":\"Bebês e crianças\",\"icon\":\"/img/uploads/1/814/667814.png\",\"metaDescription\":\"No Paodecucar.com, você garante o cuidado para os Bebês e Crianças com os melhores preços. Confira em nosso site.\",\"type\":\"SHELF\",\"subCategory\":[{\"id\":10333,\"name\":\"Hora de comer\",\"link\":\"/secoes/C10316/hora-de-comer?ftr=facetSubShelf_ss:10316_Hora de comer\",\"uiLink\":\"/bebes-e-criancas/hora-de-comer\",\"slug\":\"\",\"type\":\"SHELF\",\"bannerList\":[],\"subCategory\":[{\"id\":10339,\"name\":\"Papinhas\",\"link\":\"/secoes/C10333/papinhas?ftr=facetSubShelf_ss:10333_Papinhas\",\"uiLink\":\"/bebes-e-criancas/hora-de-comer/papinhas\",\"slug\":\"\",\"type\":\"SHELF\",\"bannerList\":[],\"subCategory\":[]},{\"id\":10336,\"name\":\"Fórmulas infantis\",\"link\":\"/secoes/C10333/formulas-infantis?ftr=facetSubShelf_ss:10333_Fórmulas infantis\",\"uiLink\":\"/bebes-e-criancas/hora-de-comer/formulas-infantis\",\"slug\":\"\",\"type\":\"SHELF\",\"bannerList\":[],\"subCategory\":[]},{\"id\":10337,\"name\":\"Mamadeiras\",\"link\":\"/secoes/C10333/mamadeiras?ftr=facetSubShelf_ss:10333_Mamadeiras\",\"uiLink\":\"/bebes-e-criancas/hora-de-comer/mamadeiras\",\"slug\":\"\",\"type\":\"SHELF\",\"bannerList\":[],\"subCategory\":[]},{\"id\":10334,\"name\":\"Babadores e acessórios para refeição\",\"link\":\"/secoes/C10333/babadores-e-acessorios-para-refeicao?ftr=facetSubShelf_ss:10333_Babadores e acessórios para refeição\",\"uiLink\":\"/bebes-e-criancas/hora-de-comer/babadores-e-acessorios-para-refeicao\",\"slug\":\"\",\"type\":\"SHELF\",\"bannerList\":[],\"subCategory\":[]},{\"id\":10335,\"name\":\"Cadeiras\",\"link\":\"/secoes/C10333/cadeiras?ftr=facetSubShelf_ss:10333_Cadeiras\",\"uiLink\":\"/bebes-e-criancas/hora-de-comer/cadeiras\",\"slug\":\"\",\"type\":\"SHELF\",\"bannerList\":[],\"subCategory\":[]},{\"id\":10338,\"name\":\"Outros produtos\",\"link\":\"/secoes/C10333/outros-produtos?ftr=facetSubShelf_ss:10333_Outros produtos\",\"uiLink\":\"/bebes-e-criancas/hora-de-comer/outros-produtos\",\"slug\":\"\",\"type\":\"SHELF\",\"bannerList\":[],\"subCategory\":[]}]},{\"id\":10317,\"name\":\"Higiene e cuidados\",\"link\":\"/secoes/C10316/higiene-e-cuidados?ftr=facetSubShelf_ss:10316_Higiene e cuidados\",\"uiLink\":\"/bebes-e-criancas/higiene-e-cuidados\",\"slug\":\"\",\"type\":\"SHELF\",\"bannerList\":[],\"subCategory\":[{\"id\":10322,\"name\":\"Higiene bucal infantil\",\"link\":\"/secoes/C10317/higiene-bucal-infantil?ftr=facetSubShelf_ss:10317_Higiene bucal infantil\",\"uiLink\":\"/bebes-e-criancas/higiene-e-cuidados/higiene-bucal-infantil\",\"slug\":\"\",\"type\":\"SHELF\",\"bannerList\":[],\"subCategory\":[]},{\"id\":10321,\"name\":\"Fraldas\",\"link\":\"/secoes/C10317/fraldas?ftr=facetSubShelf_ss:10317_Fraldas\",\"uiLink\":\"/bebes-e-criancas/higiene-e-cuidados/fraldas\",\"slug\":\"\",\"type\":\"SHELF\",\"bannerList\":[],\"subCategory\":[]},{\"id\":10323,\"name\":\"Lenços umedecidos\",\"link\":\"/secoes/C10317/lencos-umedecidos?ftr=facetSubShelf_ss:10317_Lenços umedecidos\",\"uiLink\":\"/bebes-e-criancas/higiene-e-cuidados/lencos-umedecidos\",\"slug\":\"\",\"type\":\"SHELF\",\"bannerList\":[],\"subCategory\":[]},{\"id\":10324,\"name\":\"Óleos e lavandas\",\"link\":\"/secoes/C10317/oleos-e-lavandas?ftr=facetSubShelf_ss:10317_Óleos e lavandas\",\"uiLink\":\"/bebes-e-criancas/higiene-e-cuidados/oleos-e-lavandas\",\"slug\":\"\",\"type\":\"SHELF\",\"bannerList\":[],\"subCategory\":[]},{\"id\":10318,\"name\":\"Acessórios\",\"link\":\"/secoes/C10317/acessorios?ftr=facetSubShelf_ss:10317_Acessórios\",\"uiLink\":\"/bebes-e-criancas/higiene-e-cuidados/acessorios\",\"slug\":\"\",\"type\":\"SHELF\",\"bannerList\":[],\"subCategory\":[]},{\"id\":10326,\"name\":\"Proteção\",\"link\":\"/secoes/C10317/protecao?ftr=facetSubShelf_ss:10317_Proteção\",\"uiLink\":\"/bebes-e-criancas/higiene-e-cuidados/protecao\",\"slug\":\"\",\"type\":\"SHELF\",\"bannerList\":[],\"subCategory\":[]},{\"id\":10327,\"name\":\"Troninhos e penicos\",\"link\":\"/secoes/C10317/troninhos-e-penicos?ftr=facetSubShelf_ss:10317_Troninhos e penicos\",\"uiLink\":\"/bebes-e-criancas/higiene-e-cuidados/troninhos-e-penicos\",\"slug\":\"\",\"type\":\"SHELF\",\"bannerList\":[],\"subCategory\":[]},{\"id\":10320,\"name\":\"Equipamentos de segurança\",\"link\":\"/secoes/C10317/equipamentos-de-seguranca?ftr=facetSubShelf_ss:10317_Equipamentos de segurança\",\"uiLink\":\"/bebes-e-criancas/higiene-e-cuidados/equipamentos-de-seguranca\",\"slug\":\"\",\"type\":\"SHELF\",\"bannerList\":[],\"subCategory\":[]},{\"id\":10319,\"name\":\"Chupetas e mordedores\",\"link\":\"/secoes/C10317/chupetas-e-mordedores?ftr=facetSubShelf_ss:10317_Chupetas e mordedores\",\"uiLink\":\"/bebes-e-criancas/higiene-e-cuidados/chupetas-e-mordedores\",\"slug\":\"\",\"type\":\"SHELF\",\"bannerList\":[],\"subCategory\":[]},{\"id\":10325,\"name\":\"Outros produtos\",\"link\":\"/secoes/C10317/outros-produtos?ftr=facetSubShelf_ss:10317_Outros produtos\",\"uiLink\":\"/bebes-e-criancas/higiene-e-cuidados/outros-produtos\",\"slug\":\"\",\"type\":\"SHELF\",\"bannerList\":[],\"subCategory\":[]}]},{\"id\":10328,\"name\":\"Hora de brincar\",\"link\":\"/secoes/C10316/hora-de-brincar?ftr=facetSubShelf_ss:10316_Hora de brincar\",\"uiLink\":\"/bebes-e-criancas/hora-de-brincar\",\"slug\":\"\",\"type\":\"SHELF\",\"bannerList\":[],\"subCategory\":[{\"id\":10329,\"name\":\"Acessórios\",\"link\":\"/secoes/C10328/acessorios?ftr=facetSubShelf_ss:10328_Acessórios\",\"uiLink\":\"/bebes-e-criancas/hora-de-brincar/acessorios\",\"slug\":\"\",\"type\":\"SHELF\",\"bannerList\":[],\"subCategory\":[]},{\"id\":10331,\"name\":\"Carrinhos, andadores e outros\",\"link\":\"/secoes/C10328/carrinhos-andadores-e-outros?ftr=facetSubShelf_ss:10328_Carrinhos, andadores e outros\",\"uiLink\":\"/bebes-e-criancas/hora-de-brincar/carrinhos-andadores-e-outros\",\"slug\":\"\",\"type\":\"SHELF\",\"bannerList\":[],\"subCategory\":[]},{\"id\":10330,\"name\":\"Balanços, móveis e itens de quarto\",\"link\":\"/secoes/C10328/balancos-moveis-e-itens-de-quarto?ftr=facetSubShelf_ss:10328_Balanços, móveis e itens de quarto\",\"uiLink\":\"/bebes-e-criancas/hora-de-brincar/balancos-moveis-e-itens-de-quarto\",\"slug\":\"\",\"type\":\"SHELF\",\"bannerList\":[],\"subCategory\":[]},{\"id\":10332,\"name\":\"Outros produtos\",\"link\":\"/secoes/C10328/outros-produtos?ftr=facetSubShelf_ss:10328_Outros produtos\",\"uiLink\":\"/bebes-e-criancas/hora-de-brincar/outros-produtos\",\"slug\":\"\",\"type\":\"SHELF\",\"bannerList\":[],\"subCategory\":[]},{\"id\":1,\"name\":\"Bonecas\",\"uiLink\":\"/brinquedos-e-jogos/brinquedos/bonecas\",\"type\":\"GHOST_SHELF\",\"bannerList\":[],\"subCategory\":[]},{\"id\":2,\"name\":\"Brinquedos\",\"uiLink\":\"/brinquedos-e-jogos\",\"type\":\"GHOST_SHELF\",\"bannerList\":[],\"subCategory\":[]},{\"id\":3,\"name\":\"Jogos\",\"uiLink\":\"/brinquedos-e-jogos/jogos-/jogos-infantis\",\"type\":\"GHOST_SHELF\",\"bannerList\":[],\"subCategory\":[]},{\"id\":5,\"name\":\"Pelúcias\",\"uiLink\":\"/brinquedos-e-jogos/brinquedos/pelucia\",\"type\":\"GHOST_SHELF\",\"bannerList\":[],\"subCategory\":[]}]}],\"bannerList\":[]},{\"id\":10709,\"link\":\"/secoes/C10709/cuidados-pessoais\",\"uiLink\":\"/cuidados-pessoais\",\"slug\":\"\",\"name\":\"Cuidados pessoais\",\"icon\":\"/img/uploads/1/826/667826.png\",\"metaDescription\":\"Cuide-se bem com os melhores itens de Cuidados Pessoais, disponíveis em nosso site. Veja nosso catálogo de produtos!\",\"type\":\"SHELF\",\"subCategory\":[{\"id\":10710,\"name\":\"Cuidados com o cabelo\",\"link\":\"/secoes/C10709/cuidados-com-o-cabelo?ftr=facetSubShelf_ss:10709_Cuidados com o cabelo\",\"uiLink\":\"/cuidados-pessoais/cuidados-com-o-cabelo\",\"slug\":\"\",\"type\":\"SHELF\",\"bannerList\":[],\"subCategory\":[{\"id\":10715,\"name\":\"Shampoo\",\"link\":\"/secoes/C10710/shampoo?ftr=facetSubShelf_ss:10710_Shampoo\",\"uiLink\":\"/cuidados-pessoais/cuidados-com-o-cabelo/shampoo\",\"slug\":\"\",\"type\":\"SHELF\",\"bannerList\":[],\"subCategory\":[]},{\"id\":10711,\"name\":\"Condicionador\",\"link\":\"/secoes/C10710/condicionador?ftr=facetSubShelf_ss:10710_Condicionador\",\"uiLink\":\"/cuidados-pessoais/cuidados-com-o-cabelo/condicionador\",\"slug\":\"\",\"type\":\"SHELF\",\"bannerList\":[],\"subCategory\":[]},{\"id\":10712,\"name\":\"Escovas e acessórios\",\"link\":\"/secoes/C10710/escovas-e-acessorios?ftr=facetSubShelf_ss:10710_Escovas e acessórios\",\"uiLink\":\"/cuidados-pessoais/cuidados-com-o-cabelo/escovas-e-acessorios\",\"slug\":\"\",\"type\":\"SHELF\",\"bannerList\":[],\"subCategory\":[]},{\"id\":10713,\"name\":\"Gel, fixadores e modeladores\",\"link\":\"/secoes/C10710/gel-fixadores-e-modeladores?ftr=facetSubShelf_ss:10710_Gel, fixadores e modeladores\",\"uiLink\":\"/cuidados-pessoais/cuidados-com-o-cabelo/gel-fixadores-e-modeladores\",\"slug\":\"\",\"type\":\"SHELF\",\"bannerList\":[],\"subCategory\":[]},{\"id\":10716,\"name\":\"Tinturas e colorações\",\"link\":\"/secoes/C10710/tinturas-e-coloracoes?ftr=facetSubShelf_ss:10710_Tinturas e colorações\",\"uiLink\":\"/cuidados-pessoais/cuidados-com-o-cabelo/tinturas-e-coloracoes\",\"slug\":\"\",\"type\":\"SHELF\",\"bannerList\":[],\"subCategory\":[]},{\"id\":10714,\"name\":\"Outros produtos\",\"link\":\"/secoes/C10710/outros-produtos?ftr=facetSubShelf_ss:10710_Outros produtos\",\"uiLink\":\"/cuidados-pessoais/cuidados-com-o-cabelo/outros-produtos\",\"slug\":\"\",\"type\":\"SHELF\",\"bannerList\":[],\"subCategory\":[]},{\"id\":7,\"name\":\"Cremes\",\"uiLink\":\"/beleza-e-perfumaria/cabelos/leave-in-e-cremes-para-pentear\",\"type\":\"GHOST_SHELF\",\"bannerList\":[],\"subCategory\":[]}]},{\"id\":10717,\"name\":\"Cuidados com o corpo\",\"link\":\"/secoes/C10709/cuidados-com-o-corpo?ftr=facetSubShelf_ss:10709_Cuidados com o corpo\",\"uiLink\":\"/cuidados-pessoais/cuidados-com-o-corpo\",\"slug\":\"\",\"type\":\"SHELF\",\"bannerList\":[],\"subCategory\":[{\"id\":10720,\"name\":\"Cremes e esfoliantes\",\"link\":\"/secoes/C10717/cremes-e-esfoliantes?ftr=facetSubShelf_ss:10717_Cremes e esfoliantes\",\"uiLink\":\"/cuidados-pessoais/cuidados-com-o-corpo/cremes-e-esfoliantes\",\"slug\":\"\",\"type\":\"SHELF\",\"bannerList\":[],\"subCategory\":[]},{\"id\":10719,\"name\":\"Algodão e curativos\",\"link\":\"/secoes/C10717/algodao-e-curativos?ftr=facetSubShelf_ss:10717_Algodão e curativos\",\"uiLink\":\"/cuidados-pessoais/cuidados-com-o-corpo/algodao-e-curativos\",\"slug\":\"\",\"type\":\"SHELF\",\"bannerList\":[],\"subCategory\":[]},{\"id\":10721,\"name\":\"Desodorantes\",\"link\":\"/secoes/C10717/desodorantes?ftr=facetSubShelf_ss:10717_Desodorantes\",\"uiLink\":\"/cuidados-pessoais/cuidados-com-o-corpo/desodorantes\",\"slug\":\"\",\"type\":\"SHELF\",\"bannerList\":[],\"subCategory\":[]},{\"id\":10723,\"name\":\"Hidratantes\",\"link\":\"/secoes/C10717/hidratantes?ftr=facetSubShelf_ss:10717_Hidratantes\",\"uiLink\":\"/cuidados-pessoais/cuidados-com-o-corpo/hidratantes\",\"slug\":\"\",\"type\":\"SHELF\",\"bannerList\":[],\"subCategory\":[]},{\"id\":10725,\"name\":\"Sabonetes\",\"link\":\"/secoes/C10717/sabonetes?ftr=facetSubShelf_ss:10717_Sabonetes\",\"uiLink\":\"/cuidados-pessoais/cuidados-com-o-corpo/sabonetes\",\"slug\":\"\",\"type\":\"SHELF\",\"bannerList\":[],\"subCategory\":[]},{\"id\":10726,\"name\":\"Talco\",\"link\":\"/secoes/C10717/talco?ftr=facetSubShelf_ss:10717_Talco\",\"uiLink\":\"/cuidados-pessoais/cuidados-com-o-corpo/talco\",\"slug\":\"\",\"type\":\"SHELF\",\"bannerList\":[],\"subCategory\":[]},{\"id\":10722,\"name\":\"Esmaltes e removedores\",\"link\":\"/secoes/C10717/esmaltes-e-removedores?ftr=facetSubShelf_ss:10717_Esmaltes e removedores\",\"uiLink\":\"/cuidados-pessoais/cuidados-com-o-corpo/esmaltes-e-removedores\",\"slug\":\"\",\"type\":\"SHELF\",\"bannerList\":[],\"subCategory\":[]},{\"id\":10718,\"name\":\"Acessórios\",\"link\":\"/secoes/C10717/acessorios?ftr=facetSubShelf_ss:10717_Acessórios\",\"uiLink\":\"/cuidados-pessoais/cuidados-com-o-corpo/acessorios\",\"slug\":\"\",\"type\":\"SHELF\",\"bannerList\":[],\"subCategory\":[]},{\"id\":10724,\"name\":\"Outros produtos\",\"link\":\"/secoes/C10717/outros-produtos?ftr=facetSubShelf_ss:10717_Outros produtos\",\"uiLink\":\"/cuidados-pessoais/cuidados-com-o-corpo/outros-produtos\",\"slug\":\"\",\"type\":\"SHELF\",\"bannerList\":[],\"subCategory\":[]}]},{\"id\":10733,\"name\":\"Higiene bucal\",\"link\":\"/secoes/C10709/higiene-bucal?ftr=facetSubShelf_ss:10709_Higiene bucal\",\"uiLink\":\"/cuidados-pessoais/higiene-bucal\",\"slug\":\"\",\"type\":\"SHELF\",\"bannerList\":[],\"subCategory\":[{\"id\":10734,\"name\":\"Creme dental\",\"link\":\"/secoes/C10733/creme-dental?ftr=facetSubShelf_ss:10733_Creme dental\",\"uiLink\":\"/cuidados-pessoais/higiene-bucal/creme-dental\",\"slug\":\"\",\"type\":\"SHELF\",\"bannerList\":[],\"subCategory\":[]},{\"id\":10735,\"name\":\"Enxaguante bucal\",\"link\":\"/secoes/C10733/enxaguante-bucal?ftr=facetSubShelf_ss:10733_Enxaguante bucal\",\"uiLink\":\"/cuidados-pessoais/higiene-bucal/enxaguante-bucal\",\"slug\":\"\",\"type\":\"SHELF\",\"bannerList\":[],\"subCategory\":[]},{\"id\":10736,\"name\":\"Escova de dente\",\"link\":\"/secoes/C10733/escova-de-dente?ftr=facetSubShelf_ss:10733_Escova de dente\",\"uiLink\":\"/cuidados-pessoais/higiene-bucal/escova-de-dente\",\"slug\":\"\",\"type\":\"SHELF\",\"bannerList\":[],\"subCategory\":[]},{\"id\":10737,\"name\":\"Fio dental\",\"link\":\"/secoes/C10733/fio-dental?ftr=facetSubShelf_ss:10733_Fio dental\",\"uiLink\":\"/cuidados-pessoais/higiene-bucal/fio-dental\",\"slug\":\"\",\"type\":\"SHELF\",\"bannerList\":[],\"subCategory\":[]},{\"id\":10738,\"name\":\"Outros produtos\",\"link\":\"/secoes/C10733/outros-produtos?ftr=facetSubShelf_ss:10733_Outros produtos\",\"uiLink\":\"/cuidados-pessoais/higiene-bucal/outros-produtos\",\"slug\":\"\",\"type\":\"SHELF\",\"bannerList\":[],\"subCategory\":[]}]},{\"id\":10739,\"name\":\"Higiene íntima\",\"link\":\"/secoes/C10709/higiene-intima?ftr=facetSubShelf_ss:10709_Higiene íntima\",\"uiLink\":\"/cuidados-pessoais/higiene-intima\",\"slug\":\"\",\"type\":\"SHELF\",\"bannerList\":[],\"subCategory\":[{\"id\":10745,\"name\":\"Sabonete íntimo\",\"link\":\"/secoes/C10739/sabonete-intimo?ftr=facetSubShelf_ss:10739_Sabonete íntimo\",\"uiLink\":\"/cuidados-pessoais/higiene-intima/sabonete-intimo\",\"slug\":\"\",\"type\":\"SHELF\",\"bannerList\":[],\"subCategory\":[]},{\"id\":10740,\"name\":\"Absorventes\",\"link\":\"/secoes/C10739/absorventes?ftr=facetSubShelf_ss:10739_Absorventes\",\"uiLink\":\"/cuidados-pessoais/higiene-intima/absorventes\",\"slug\":\"\",\"type\":\"SHELF\",\"bannerList\":[],\"subCategory\":[]},{\"id\":10741,\"name\":\"Fralda geriátrica\",\"link\":\"/secoes/C10739/fralda-geriatrica?ftr=facetSubShelf_ss:10739_Fralda geriátrica\",\"uiLink\":\"/cuidados-pessoais/higiene-intima/fralda-geriatrica\",\"slug\":\"\",\"type\":\"SHELF\",\"bannerList\":[],\"subCategory\":[]},{\"id\":10744,\"name\":\"Papel higiênico\",\"link\":\"/secoes/C10739/papel-higienico?ftr=facetSubShelf_ss:10739_Papel higiênico\",\"uiLink\":\"/cuidados-pessoais/higiene-intima/papel-higienico\",\"slug\":\"\",\"type\":\"SHELF\",\"bannerList\":[],\"subCategory\":[]},{\"id\":10742,\"name\":\"Lenços umedecidos\",\"link\":\"/secoes/C10739/lencos-umedecidos?ftr=facetSubShelf_ss:10739_Lenços umedecidos\",\"uiLink\":\"/cuidados-pessoais/higiene-intima/lencos-umedecidos\",\"slug\":\"\",\"type\":\"SHELF\",\"bannerList\":[],\"subCategory\":[]},{\"id\":10743,\"name\":\"Outros produtos\",\"link\":\"/secoes/C10739/outros-produtos?ftr=facetSubShelf_ss:10739_Outros produtos\",\"uiLink\":\"/cuidados-pessoais/higiene-intima/outros-produtos\",\"slug\":\"\",\"type\":\"SHELF\",\"bannerList\":[],\"subCategory\":[]}]},{\"id\":10746,\"name\":\"Proteção\",\"link\":\"/secoes/C10709/protecao?ftr=facetSubShelf_ss:10709_Proteção\",\"uiLink\":\"/cuidados-pessoais/protecao\",\"slug\":\"\",\"type\":\"SHELF\",\"bannerList\":[],\"subCategory\":[{\"id\":10749,\"name\":\"Preservativos\",\"link\":\"/secoes/C10746/preservativos?ftr=facetSubShelf_ss:10746_Preservativos\",\"uiLink\":\"/cuidados-pessoais/protecao/preservativos\",\"slug\":\"\",\"type\":\"SHELF\",\"bannerList\":[],\"subCategory\":[]},{\"id\":10751,\"name\":\"Repelentes\",\"link\":\"/secoes/C10746/repelentes?ftr=facetSubShelf_ss:10746_Repelentes\",\"uiLink\":\"/cuidados-pessoais/protecao/repelentes\",\"slug\":\"\",\"type\":\"SHELF\",\"bannerList\":[],\"subCategory\":[]},{\"id\":10750,\"name\":\"Protetor solar\",\"link\":\"/secoes/C10746/protetor-solar?ftr=facetSubShelf_ss:10746_Protetor solar\",\"uiLink\":\"/cuidados-pessoais/protecao/protetor-solar\",\"slug\":\"\",\"type\":\"SHELF\",\"bannerList\":[],\"subCategory\":[]},{\"id\":10747,\"name\":\"Lubrificantes íntimos\",\"link\":\"/secoes/C10746/lubrificantes-intimos?ftr=facetSubShelf_ss:10746_Lubrificantes íntimos\",\"uiLink\":\"/cuidados-pessoais/protecao/lubrificantes-intimos\",\"slug\":\"\",\"type\":\"SHELF\",\"bannerList\":[],\"subCategory\":[]},{\"id\":10748,\"name\":\"Outros produtos\",\"link\":\"/secoes/C10746/outros-produtos?ftr=facetSubShelf_ss:10746_Outros produtos\",\"uiLink\":\"/cuidados-pessoais/protecao/outros-produtos\",\"slug\":\"\",\"type\":\"SHELF\",\"bannerList\":[],\"subCategory\":[]}]},{\"id\":10727,\"name\":\"Cuidados com o rosto\",\"link\":\"/secoes/C10709/cuidados-com-o-rosto?ftr=facetSubShelf_ss:10709_Cuidados com o rosto\",\"uiLink\":\"/cuidados-pessoais/cuidados-com-o-rosto\",\"slug\":\"\",\"type\":\"SHELF\",\"bannerList\":[],\"subCategory\":[{\"id\":10729,\"name\":\"Hidratantes e esfoliantes\",\"link\":\"/secoes/C10727/hidratantes-e-esfoliantes?ftr=facetSubShelf_ss:10727_Hidratantes e esfoliantes\",\"uiLink\":\"/cuidados-pessoais/cuidados-com-o-rosto/hidratantes-e-esfoliantes\",\"slug\":\"\",\"type\":\"SHELF\",\"bannerList\":[],\"subCategory\":[]},{\"id\":10730,\"name\":\"Limpeza e demaquilante\",\"link\":\"/secoes/C10727/limpeza-e-demaquilante?ftr=facetSubShelf_ss:10727_Limpeza e demaquilante\",\"uiLink\":\"/cuidados-pessoais/cuidados-com-o-rosto/limpeza-e-demaquilante\",\"slug\":\"\",\"type\":\"SHELF\",\"bannerList\":[],\"subCategory\":[]},{\"id\":10732,\"name\":\"Sabonetes para o rosto\",\"link\":\"/secoes/C10727/sabonetes-para-o-rosto?ftr=facetSubShelf_ss:10727_Sabonetes para o rosto\",\"uiLink\":\"/cuidados-pessoais/cuidados-com-o-rosto/sabonetes-para-o-rosto\",\"slug\":\"\",\"type\":\"SHELF\",\"bannerList\":[],\"subCategory\":[]},{\"id\":10728,\"name\":\"Hastes flexíveis\",\"link\":\"/secoes/C10727/hastes-flexiveis?ftr=facetSubShelf_ss:10727_Hastes flexíveis\",\"uiLink\":\"/cuidados-pessoais/cuidados-com-o-rosto/hastes-flexiveis\",\"slug\":\"\",\"type\":\"SHELF\",\"bannerList\":[],\"subCategory\":[]},{\"id\":10731,\"name\":\"Outros produtos\",\"link\":\"/secoes/C10727/outros-produtos?ftr=facetSubShelf_ss:10727_Outros produtos\",\"uiLink\":\"/cuidados-pessoais/cuidados-com-o-rosto/outros-produtos\",\"slug\":\"\",\"type\":\"SHELF\",\"bannerList\":[],\"subCategory\":[]},{\"id\":8,\"name\":\"Produtos para a barba\",\"uiLink\":\"/beleza-e-perfumaria/barbearia\",\"type\":\"GHOST_SHELF\",\"bannerList\":[],\"subCategory\":[]}]}],\"bannerList\":[]},{\"id\":11195,\"link\":\"/secoes/C11195/suplementos-alimentares\",\"uiLink\":\"/suplementos-alimentares\",\"slug\":\"\",\"name\":\"Suplementos alimentares\",\"icon\":\"/img/uploads/1/812/667812.png\",\"metaDescription\":\"Procurando Suplementos Alimentares das melhores marcas? Navegue pelo nosso site e faça a sua escolha. Temos as melhores opções!\",\"type\":\"SHELF\",\"subCategory\":[{\"id\":11202,\"name\":\"Suplementos esportivos\",\"link\":\"/secoes/C11195/suplementos-esportivos?ftr=facetSubShelf_ss:11195_Suplementos esportivos\",\"uiLink\":\"/suplementos-alimentares/suplementos-esportivos\",\"slug\":\"\",\"type\":\"SHELF\",\"bannerList\":[],\"subCategory\":[{\"id\":11204,\"name\":\"Carboidratos e energéticos\",\"link\":\"/secoes/C11202/carboidratos-e-energeticos?ftr=facetSubShelf_ss:11202_Carboidratos e energéticos\",\"uiLink\":\"/suplementos-alimentares/suplementos-esportivos/carboidratos-e-energeticos\",\"slug\":\"\",\"type\":\"SHELF\",\"bannerList\":[],\"subCategory\":[]},{\"id\":11208,\"name\":\"Shakes\",\"link\":\"/secoes/C11202/shakes?ftr=facetSubShelf_ss:11202_Shakes\",\"uiLink\":\"/suplementos-alimentares/suplementos-esportivos/shakes\",\"slug\":\"\",\"type\":\"SHELF\",\"bannerList\":[],\"subCategory\":[]},{\"id\":11203,\"name\":\"Barras nutritivas\",\"link\":\"/secoes/C11202/barras-nutritivas?ftr=facetSubShelf_ss:11202_Barras nutritivas\",\"uiLink\":\"/suplementos-alimentares/suplementos-esportivos/barras-nutritivas\",\"slug\":\"\",\"type\":\"SHELF\",\"bannerList\":[],\"subCategory\":[]},{\"id\":11207,\"name\":\"Proteínas e aminoácidos\",\"link\":\"/secoes/C11202/proteinas-e-aminoacidos?ftr=facetSubShelf_ss:11202_Proteínas e aminoácidos\",\"uiLink\":\"/suplementos-alimentares/suplementos-esportivos/proteinas-e-aminoacidos\",\"slug\":\"\",\"type\":\"SHELF\",\"bannerList\":[],\"subCategory\":[]},{\"id\":11209,\"name\":\"Termogênicos e ergogênicos\",\"link\":\"/secoes/C11202/termogenicos-e-ergogenicos?ftr=facetSubShelf_ss:11202_Termogênicos e ergogênicos\",\"uiLink\":\"/suplementos-alimentares/suplementos-esportivos/termogenicos-e-ergogenicos\",\"slug\":\"\",\"type\":\"SHELF\",\"bannerList\":[],\"subCategory\":[]},{\"id\":11206,\"name\":\"Outros suplementos\",\"link\":\"/secoes/C11202/outros-suplementos?ftr=facetSubShelf_ss:11202_Outros suplementos\",\"uiLink\":\"/suplementos-alimentares/suplementos-esportivos/outros-suplementos\",\"slug\":\"\",\"type\":\"SHELF\",\"bannerList\":[],\"subCategory\":[]}]},{\"id\":11210,\"name\":\"Vitaminas e complementos alimentares\",\"link\":\"/secoes/C11195/vitaminas-e-complementos-alimentares?ftr=facetSubShelf_ss:11195_Vitaminas e complementos alimentares\",\"uiLink\":\"/suplementos-alimentares/vitaminas-e-complementos-alimentares\",\"slug\":\"\",\"type\":\"SHELF\",\"bannerList\":[],\"subCategory\":[{\"id\":11215,\"name\":\"Vitaminas e minerais\",\"link\":\"/secoes/C11210/vitaminas-e-minerais?ftr=facetSubShelf_ss:11210_Vitaminas e minerais\",\"uiLink\":\"/suplementos-alimentares/vitaminas-e-complementos-alimentares/vitaminas-e-minerais\",\"slug\":\"\",\"type\":\"SHELF\",\"bannerList\":[],\"subCategory\":[]},{\"id\":11211,\"name\":\"Fibras alimentares\",\"link\":\"/secoes/C11210/fibras-alimentares?ftr=facetSubShelf_ss:11210_Fibras alimentares\",\"uiLink\":\"/suplementos-alimentares/vitaminas-e-complementos-alimentares/fibras-alimentares\",\"slug\":\"\",\"type\":\"SHELF\",\"bannerList\":[],\"subCategory\":[]}]}],\"bannerList\":[]},{\"id\":10868,\"link\":\"/secoes/C10868/eventos-e-festas\",\"uiLink\":\"/eventos-e-festas\",\"slug\":\"\",\"name\":\"Eventos e festas\",\"icon\":\"/img/uploads/1/830/667830.png\",\"metaDescription\":\"Garanta ótimos Eventos e Festas com o Paodeacucar.com! Temos os melhores itens para você, veja o catálogo em nosso site.\",\"type\":\"SHELF\",\"subCategory\":[{\"id\":10869,\"name\":\"Churrasco\",\"link\":\"/secoes/C10868/churrasco?ftr=facetSubShelf_ss:10868_Churrasco\",\"uiLink\":\"/eventos-e-festas/churrasco\",\"slug\":\"\",\"type\":\"SHELF\",\"bannerList\":[],\"subCategory\":[{\"id\":10872,\"name\":\"Carvão\",\"link\":\"/secoes/C10869/carvao?ftr=facetSubShelf_ss:10869_Carvão\",\"uiLink\":\"/eventos-e-festas/churrasco/carvao\",\"slug\":\"\",\"type\":\"SHELF\",\"bannerList\":[],\"subCategory\":[]},{\"id\":10874,\"name\":\"Espeto e grelhas\",\"link\":\"/secoes/C10869/espeto-e-grelhas?ftr=facetSubShelf_ss:10869_Espeto e grelhas\",\"uiLink\":\"/eventos-e-festas/churrasco/espeto-e-grelhas\",\"slug\":\"\",\"type\":\"SHELF\",\"bannerList\":[],\"subCategory\":[]},{\"id\":10871,\"name\":\"Acessórios para churrasco\",\"link\":\"/secoes/C10869/acessorios-para-churrasco?ftr=facetSubShelf_ss:10869_Acessórios para churrasco\",\"uiLink\":\"/eventos-e-festas/churrasco/acessorios-para-churrasco\",\"slug\":\"\",\"type\":\"SHELF\",\"bannerList\":[],\"subCategory\":[]},{\"id\":10875,\"name\":\"Outros itens\",\"link\":\"/secoes/C10869/outros-itens?ftr=facetSubShelf_ss:10869_Outros itens\",\"uiLink\":\"/eventos-e-festas/churrasco/outros-itens\",\"slug\":\"\",\"type\":\"SHELF\",\"bannerList\":[],\"subCategory\":[]}]},{\"id\":10876,\"name\":\"Festas\",\"link\":\"/secoes/C10868/festas?ftr=facetSubShelf_ss:10868_Festas\",\"uiLink\":\"/eventos-e-festas/festas\",\"slug\":\"\",\"type\":\"SHELF\",\"bannerList\":[],\"subCategory\":[{\"id\":10877,\"name\":\"Bexigas e infláveis para festa\",\"link\":\"/secoes/C10876/bexigas-e-inflaveis-para-festa?ftr=facetSubShelf_ss:10876_Bexigas e infláveis para festa\",\"uiLink\":\"/eventos-e-festas/festas/bexigas-e-inflaveis-para-festa\",\"slug\":\"\",\"type\":\"SHELF\",\"bannerList\":[],\"subCategory\":[]},{\"id\":10880,\"name\":\"Velas \",\"link\":\"/secoes/C10876/velas-?ftr=facetSubShelf_ss:10876_Velas \",\"uiLink\":\"/eventos-e-festas/festas/velas-\",\"slug\":\"\",\"type\":\"SHELF\",\"bannerList\":[],\"subCategory\":[]},{\"id\":10878,\"name\":\"Itens decorativos\",\"link\":\"/secoes/C10876/itens-decorativos?ftr=facetSubShelf_ss:10876_Itens decorativos\",\"uiLink\":\"/eventos-e-festas/festas/itens-decorativos\",\"slug\":\"\",\"type\":\"SHELF\",\"bannerList\":[],\"subCategory\":[]},{\"id\":10879,\"name\":\"Outros itens de festa\",\"link\":\"/secoes/C10876/outros-itens-de-festa?ftr=facetSubShelf_ss:10876_Outros itens de festa\",\"uiLink\":\"/eventos-e-festas/festas/outros-itens-de-festa\",\"slug\":\"\",\"type\":\"SHELF\",\"bannerList\":[],\"subCategory\":[]}]}],\"bannerList\":[]},{\"id\":11264,\"link\":\"/secoes/C11264/utensilios-e-descartaveis\",\"uiLink\":\"/utensilios-e-descartaveis\",\"slug\":\"\",\"name\":\"Utensílios e descartáveis\",\"icon\":\"/img/uploads/1/813/667813.jpg\",\"metaDescription\":\"Utilizar utensílios de qualidade, ajuda na tarefa de manter a casa organizada. Aqui no Paodeacucar.com, temos os melhores produtos para você. Aproveite!\",\"type\":\"SHELF\",\"subCategory\":[{\"id\":11295,\"name\":\"Utensílios para lavanderia\",\"link\":\"/secoes/C11264/utensilios-para-lavanderia?ftr=facetSubShelf_ss:11264_Utensílios para lavanderia\",\"uiLink\":\"/utensilios-e-descartaveis/utensilios-para-lavanderia\",\"slug\":\"\",\"type\":\"SHELF\",\"bannerList\":[],\"subCategory\":[{\"id\":11296,\"name\":\"Baldes e bacias\",\"link\":\"/secoes/C11295/baldes-e-bacias?ftr=facetSubShelf_ss:11295_Baldes e bacias\",\"uiLink\":\"/utensilios-e-descartaveis/utensilios-para-lavanderia/baldes-e-bacias\",\"slug\":\"\",\"type\":\"SHELF\",\"bannerList\":[],\"subCategory\":[]},{\"id\":11298,\"name\":\"Panos e flanelas\",\"link\":\"/secoes/C11295/panos-e-flanelas?ftr=facetSubShelf_ss:11295_Panos e flanelas\",\"uiLink\":\"/utensilios-e-descartaveis/utensilios-para-lavanderia/panos-e-flanelas\",\"slug\":\"\",\"type\":\"SHELF\",\"bannerList\":[],\"subCategory\":[]},{\"id\":11299,\"name\":\"Rodos, vassouras e pás\",\"link\":\"/secoes/C11295/rodos-vassouras-e-pas?ftr=facetSubShelf_ss:11295_Rodos, vassouras e pás\",\"uiLink\":\"/utensilios-e-descartaveis/utensilios-para-lavanderia/rodos-vassouras-e-pas\",\"slug\":\"\",\"type\":\"SHELF\",\"bannerList\":[],\"subCategory\":[]},{\"id\":11300,\"name\":\"Varais e prendedores de roupa\",\"link\":\"/secoes/C11295/varais-e-prendedores-de-roupa?ftr=facetSubShelf_ss:11295_Varais e prendedores de roupa\",\"uiLink\":\"/utensilios-e-descartaveis/utensilios-para-lavanderia/varais-e-prendedores-de-roupa\",\"slug\":\"\",\"type\":\"SHELF\",\"bannerList\":[],\"subCategory\":[]},{\"id\":11297,\"name\":\"Outros itens\",\"link\":\"/secoes/C11295/outros-itens?ftr=facetSubShelf_ss:11295_Outros itens\",\"uiLink\":\"/utensilios-e-descartaveis/utensilios-para-lavanderia/outros-itens\",\"slug\":\"\",\"type\":\"SHELF\",\"bannerList\":[],\"subCategory\":[]}]},{\"id\":11284,\"name\":\"Utensílios para a casa\",\"link\":\"/secoes/C11264/utensilios-para-a-casa?ftr=facetSubShelf_ss:11264_Utensílios para a casa\",\"uiLink\":\"/utensilios-e-descartaveis/utensilios-para-a-casa\",\"slug\":\"\",\"type\":\"SHELF\",\"bannerList\":[],\"subCategory\":[{\"id\":11292,\"name\":\"Sacolas, bolsas e garrafas térmicas\",\"link\":\"/secoes/C11284/sacolas-bolsas-e-garrafas-termicas?ftr=facetSubShelf_ss:11284_Sacolas, bolsas e garrafas térmicas\",\"uiLink\":\"/utensilios-e-descartaveis/utensilios-para-a-casa/sacolas-bolsas-e-garrafas-termicas\",\"slug\":\"\",\"type\":\"SHELF\",\"bannerList\":[],\"subCategory\":[]},{\"id\":11291,\"name\":\"Pratos e aparelhos de jantar\",\"link\":\"/secoes/C11284/pratos-e-aparelhos-de-jantar?ftr=facetSubShelf_ss:11284_Pratos e aparelhos de jantar\",\"uiLink\":\"/utensilios-e-descartaveis/utensilios-para-a-casa/pratos-e-aparelhos-de-jantar\",\"slug\":\"\",\"type\":\"SHELF\",\"bannerList\":[],\"subCategory\":[]},{\"id\":11285,\"name\":\"Copos e taças\",\"link\":\"/secoes/C11284/copos-e-tacas?ftr=facetSubShelf_ss:11284_Copos e taças\",\"uiLink\":\"/utensilios-e-descartaveis/utensilios-para-a-casa/copos-e-tacas\",\"slug\":\"\",\"type\":\"SHELF\",\"bannerList\":[],\"subCategory\":[]},{\"id\":11286,\"name\":\"Formas e assadeiras\",\"link\":\"/secoes/C11284/formas-e-assadeiras?ftr=facetSubShelf_ss:11284_Formas e assadeiras\",\"uiLink\":\"/utensilios-e-descartaveis/utensilios-para-a-casa/formas-e-assadeiras\",\"slug\":\"\",\"type\":\"SHELF\",\"bannerList\":[],\"subCategory\":[]},{\"id\":11289,\"name\":\"Panelas e caçarolas\",\"link\":\"/secoes/C11284/panelas-e-cacarolas?ftr=facetSubShelf_ss:11284_Panelas e caçarolas\",\"uiLink\":\"/utensilios-e-descartaveis/utensilios-para-a-casa/panelas-e-cacarolas\",\"slug\":\"\",\"type\":\"SHELF\",\"bannerList\":[],\"subCategory\":[]},{\"id\":11287,\"name\":\"Jarras e garrafas\",\"link\":\"/secoes/C11284/jarras-e-garrafas?ftr=facetSubShelf_ss:11284_Jarras e garrafas\",\"uiLink\":\"/utensilios-e-descartaveis/utensilios-para-a-casa/jarras-e-garrafas\",\"slug\":\"\",\"type\":\"SHELF\",\"bannerList\":[],\"subCategory\":[]},{\"id\":11290,\"name\":\"Potes e refratários\",\"link\":\"/secoes/C11284/potes-e-refratarios?ftr=facetSubShelf_ss:11284_Potes e refratários\",\"uiLink\":\"/utensilios-e-descartaveis/utensilios-para-a-casa/potes-e-refratarios\",\"slug\":\"\",\"type\":\"SHELF\",\"bannerList\":[],\"subCategory\":[]},{\"id\":11293,\"name\":\"Talheres\",\"link\":\"/secoes/C11284/talheres?ftr=facetSubShelf_ss:11284_Talheres\",\"uiLink\":\"/utensilios-e-descartaveis/utensilios-para-a-casa/talheres\",\"slug\":\"\",\"type\":\"SHELF\",\"bannerList\":[],\"subCategory\":[]},{\"id\":11294,\"name\":\"Xícaras e canecas\",\"link\":\"/secoes/C11284/xicaras-e-canecas?ftr=facetSubShelf_ss:11284_Xícaras e canecas\",\"uiLink\":\"/utensilios-e-descartaveis/utensilios-para-a-casa/xicaras-e-canecas\",\"slug\":\"\",\"type\":\"SHELF\",\"bannerList\":[],\"subCategory\":[]},{\"id\":11288,\"name\":\"Outros utensílios\",\"link\":\"/secoes/C11284/outros-utensilios?ftr=facetSubShelf_ss:11284_Outros utensílios\",\"uiLink\":\"/utensilios-e-descartaveis/utensilios-para-a-casa/outros-utensilios\",\"slug\":\"\",\"type\":\"SHELF\",\"bannerList\":[],\"subCategory\":[]}]},{\"id\":11265,\"name\":\"Descartáveis\",\"link\":\"/secoes/C11264/descartaveis?ftr=facetSubShelf_ss:11264_Descartáveis\",\"uiLink\":\"/utensilios-e-descartaveis/descartaveis\",\"slug\":\"\",\"type\":\"SHELF\",\"bannerList\":[],\"subCategory\":[{\"id\":11266,\"name\":\"Copos\",\"link\":\"/secoes/C11265/copos?ftr=facetSubShelf_ss:11265_Copos\",\"uiLink\":\"/utensilios-e-descartaveis/descartaveis/copos\",\"slug\":\"\",\"type\":\"SHELF\",\"bannerList\":[],\"subCategory\":[]},{\"id\":11270,\"name\":\"Pratos\",\"link\":\"/secoes/C11265/pratos?ftr=facetSubShelf_ss:11265_Pratos\",\"uiLink\":\"/utensilios-e-descartaveis/descartaveis/pratos\",\"slug\":\"\",\"type\":\"SHELF\",\"bannerList\":[],\"subCategory\":[]},{\"id\":11271,\"name\":\"Talheres\",\"link\":\"/secoes/C11265/talheres?ftr=facetSubShelf_ss:11265_Talheres\",\"uiLink\":\"/utensilios-e-descartaveis/descartaveis/talheres\",\"slug\":\"\",\"type\":\"SHELF\",\"bannerList\":[],\"subCategory\":[]},{\"id\":11267,\"name\":\"Embalagens\",\"link\":\"/secoes/C11265/embalagens?ftr=facetSubShelf_ss:11265_Embalagens\",\"uiLink\":\"/utensilios-e-descartaveis/descartaveis/embalagens\",\"slug\":\"\",\"type\":\"SHELF\",\"bannerList\":[],\"subCategory\":[]},{\"id\":11269,\"name\":\"Pilhas\",\"link\":\"/secoes/C11265/pilhas?ftr=facetSubShelf_ss:11265_Pilhas\",\"uiLink\":\"/utensilios-e-descartaveis/descartaveis/pilhas\",\"slug\":\"\",\"type\":\"SHELF\",\"bannerList\":[],\"subCategory\":[]},{\"id\":11268,\"name\":\"Outros descartáveis\",\"link\":\"/secoes/C11265/outros-descartaveis?ftr=facetSubShelf_ss:11265_Outros descartáveis\",\"uiLink\":\"/utensilios-e-descartaveis/descartaveis/outros-descartaveis\",\"slug\":\"\",\"type\":\"SHELF\",\"bannerList\":[],\"subCategory\":[]}]},{\"id\":11272,\"name\":\"Descartáveis higiênicos\",\"link\":\"/secoes/C11264/descartaveis-higienicos?ftr=facetSubShelf_ss:11264_Descartáveis higiênicos\",\"uiLink\":\"/utensilios-e-descartaveis/descartaveis-higienicos\",\"slug\":\"\",\"type\":\"SHELF\",\"bannerList\":[],\"subCategory\":[{\"id\":11275,\"name\":\"Papel toalha\",\"link\":\"/secoes/C11272/papel-toalha?ftr=facetSubShelf_ss:11272_Papel toalha\",\"uiLink\":\"/utensilios-e-descartaveis/descartaveis-higienicos/papel-toalha\",\"slug\":\"\",\"type\":\"SHELF\",\"bannerList\":[],\"subCategory\":[]},{\"id\":11273,\"name\":\"Guardanapos e papeis\",\"link\":\"/secoes/C11272/guardanapos-e-papeis?ftr=facetSubShelf_ss:11272_Guardanapos e papeis\",\"uiLink\":\"/utensilios-e-descartaveis/descartaveis-higienicos/guardanapos-e-papeis\",\"slug\":\"\",\"type\":\"SHELF\",\"bannerList\":[],\"subCategory\":[]},{\"id\":11274,\"name\":\"Outros produtos\",\"link\":\"/secoes/C11272/outros-produtos?ftr=facetSubShelf_ss:11272_Outros produtos\",\"uiLink\":\"/utensilios-e-descartaveis/descartaveis-higienicos/outros-produtos\",\"slug\":\"\",\"type\":\"SHELF\",\"bannerList\":[],\"subCategory\":[]}]},{\"id\":11276,\"name\":\"Descartáveis para a casa\",\"link\":\"/secoes/C11264/descartaveis-para-a-casa?ftr=facetSubShelf_ss:11264_Descartáveis para a casa\",\"uiLink\":\"/utensilios-e-descartaveis/descartaveis-para-a-casa\",\"slug\":\"\",\"type\":\"SHELF\",\"bannerList\":[],\"subCategory\":[{\"id\":11277,\"name\":\"Esponja\",\"link\":\"/secoes/C11276/esponja?ftr=facetSubShelf_ss:11276_Esponja\",\"uiLink\":\"/utensilios-e-descartaveis/descartaveis-para-a-casa/esponja\",\"slug\":\"\",\"type\":\"SHELF\",\"bannerList\":[],\"subCategory\":[]},{\"id\":11278,\"name\":\"Esponja de aço\",\"link\":\"/secoes/C11276/esponja-de-aco?ftr=facetSubShelf_ss:11276_Esponja de aço\",\"uiLink\":\"/utensilios-e-descartaveis/descartaveis-para-a-casa/esponja-de-aco\",\"slug\":\"\",\"type\":\"SHELF\",\"bannerList\":[],\"subCategory\":[]},{\"id\":11280,\"name\":\"Luvas\",\"link\":\"/secoes/C11276/luvas?ftr=facetSubShelf_ss:11276_Luvas\",\"uiLink\":\"/utensilios-e-descartaveis/descartaveis-para-a-casa/luvas\",\"slug\":\"\",\"type\":\"SHELF\",\"bannerList\":[],\"subCategory\":[]},{\"id\":11283,\"name\":\"Sacos Para lixo\",\"link\":\"/secoes/C11276/sacos-para-lixo?ftr=facetSubShelf_ss:11276_Sacos Para lixo\",\"uiLink\":\"/utensilios-e-descartaveis/descartaveis-para-a-casa/sacos-para-lixo\",\"slug\":\"\",\"type\":\"SHELF\",\"bannerList\":[],\"subCategory\":[]},{\"id\":11282,\"name\":\"Papel alumínio, papel toalha e PVC\",\"link\":\"/secoes/C11276/papel-aluminio-papel-toalha-e-pvc?ftr=facetSubShelf_ss:11276_Papel alumínio, papel toalha e PVC\",\"uiLink\":\"/utensilios-e-descartaveis/descartaveis-para-a-casa/papel-aluminio-papel-toalha-e-pvc\",\"slug\":\"\",\"type\":\"SHELF\",\"bannerList\":[],\"subCategory\":[]},{\"id\":11279,\"name\":\"Filtros\",\"link\":\"/secoes/C11276/filtros?ftr=facetSubShelf_ss:11276_Filtros\",\"uiLink\":\"/utensilios-e-descartaveis/descartaveis-para-a-casa/filtros\",\"slug\":\"\",\"type\":\"SHELF\",\"bannerList\":[],\"subCategory\":[]},{\"id\":11281,\"name\":\"Outros descartáveis\",\"link\":\"/secoes/C11276/outros-descartaveis?ftr=facetSubShelf_ss:11276_Outros descartáveis\",\"uiLink\":\"/utensilios-e-descartaveis/descartaveis-para-a-casa/outros-descartaveis\",\"slug\":\"\",\"type\":\"SHELF\",\"bannerList\":[],\"subCategory\":[]}]}],\"bannerList\":[]},{\"id\":11176,\"link\":\"/secoes/C11176/petshop\",\"uiLink\":\"/petshop\",\"slug\":\"\",\"name\":\"Petshop\",\"icon\":\"/img/uploads/1/842/667842.jpg\",\"metaDescription\":\"Deixe o seu bixinho sempre protegido, fazendo o uso de produtos de qualidade. Aproveite nossa Categoria de Petshop e faça o seu pedido!\",\"type\":\"SHELF\",\"subCategory\":[{\"id\":11177,\"name\":\"Cães\",\"link\":\"/secoes/C11176/caes?ftr=facetSubShelf_ss:11176_Cães\",\"uiLink\":\"/petshop/caes\",\"slug\":\"\",\"type\":\"SHELF\",\"bannerList\":[],\"subCategory\":[{\"id\":11178,\"name\":\"Alimentação\",\"link\":\"/secoes/C11177/alimentacao?ftr=facetSubShelf_ss:11177_Alimentação\",\"uiLink\":\"/petshop/caes/alimentacao\",\"slug\":\"\",\"type\":\"SHELF\",\"bannerList\":[],\"subCategory\":[]},{\"id\":11181,\"name\":\"Petiscos\",\"link\":\"/secoes/C11177/petiscos?ftr=facetSubShelf_ss:11177_Petiscos\",\"uiLink\":\"/petshop/caes/petiscos\",\"slug\":\"\",\"type\":\"SHELF\",\"bannerList\":[],\"subCategory\":[]},{\"id\":11182,\"name\":\"Produtos de higiene\",\"link\":\"/secoes/C11177/produtos-de-higiene?ftr=facetSubShelf_ss:11177_Produtos de higiene\",\"uiLink\":\"/petshop/caes/produtos-de-higiene\",\"slug\":\"\",\"type\":\"SHELF\",\"bannerList\":[],\"subCategory\":[]},{\"id\":11179,\"name\":\"Brinquedos\",\"link\":\"/secoes/C11177/brinquedos?ftr=facetSubShelf_ss:11177_Brinquedos\",\"uiLink\":\"/petshop/caes/brinquedos\",\"slug\":\"\",\"type\":\"SHELF\",\"bannerList\":[],\"subCategory\":[]},{\"id\":11180,\"name\":\"Outros produtos\",\"link\":\"/secoes/C11177/outros-produtos?ftr=facetSubShelf_ss:11177_Outros produtos\",\"uiLink\":\"/petshop/caes/outros-produtos\",\"slug\":\"\",\"type\":\"SHELF\",\"bannerList\":[],\"subCategory\":[]}]},{\"id\":11183,\"name\":\"Gatos\",\"link\":\"/secoes/C11176/gatos?ftr=facetSubShelf_ss:11176_Gatos\",\"uiLink\":\"/petshop/gatos\",\"slug\":\"\",\"type\":\"SHELF\",\"bannerList\":[],\"subCategory\":[{\"id\":11184,\"name\":\"Alimentação\",\"link\":\"/secoes/C11183/alimentacao?ftr=facetSubShelf_ss:11183_Alimentação\",\"uiLink\":\"/petshop/gatos/alimentacao\",\"slug\":\"\",\"type\":\"SHELF\",\"bannerList\":[],\"subCategory\":[]},{\"id\":11187,\"name\":\"Petiscos\",\"link\":\"/secoes/C11183/petiscos?ftr=facetSubShelf_ss:11183_Petiscos\",\"uiLink\":\"/petshop/gatos/petiscos\",\"slug\":\"\",\"type\":\"SHELF\",\"bannerList\":[],\"subCategory\":[]},{\"id\":11188,\"name\":\"Produtos de higiene\",\"link\":\"/secoes/C11183/produtos-de-higiene?ftr=facetSubShelf_ss:11183_Produtos de higiene\",\"uiLink\":\"/petshop/gatos/produtos-de-higiene\",\"slug\":\"\",\"type\":\"SHELF\",\"bannerList\":[],\"subCategory\":[]},{\"id\":11185,\"name\":\"Brinquedos\",\"link\":\"/secoes/C11183/brinquedos?ftr=facetSubShelf_ss:11183_Brinquedos\",\"uiLink\":\"/petshop/gatos/brinquedos\",\"slug\":\"\",\"type\":\"SHELF\",\"bannerList\":[],\"subCategory\":[]},{\"id\":11186,\"name\":\"Outros produtos\",\"link\":\"/secoes/C11183/outros-produtos?ftr=facetSubShelf_ss:11183_Outros produtos\",\"uiLink\":\"/petshop/gatos/outros-produtos\",\"slug\":\"\",\"type\":\"SHELF\",\"bannerList\":[],\"subCategory\":[]}]},{\"id\":11189,\"name\":\"Outros animais\",\"link\":\"/secoes/C11176/outros-animais?ftr=facetSubShelf_ss:11176_Outros animais\",\"uiLink\":\"/petshop/outros-animais\",\"slug\":\"\",\"type\":\"SHELF\",\"bannerList\":[],\"subCategory\":[{\"id\":11190,\"name\":\"Alimentação\",\"link\":\"/secoes/C11189/alimentacao?ftr=facetSubShelf_ss:11189_Alimentação\",\"uiLink\":\"/petshop/outros-animais/alimentacao\",\"slug\":\"\",\"type\":\"SHELF\",\"bannerList\":[],\"subCategory\":[]},{\"id\":11193,\"name\":\"Petiscos\",\"link\":\"/secoes/C11189/petiscos?ftr=facetSubShelf_ss:11189_Petiscos\",\"uiLink\":\"/petshop/outros-animais/petiscos\",\"slug\":\"\",\"type\":\"SHELF\",\"bannerList\":[],\"subCategory\":[]},{\"id\":11194,\"name\":\"Produtos de higiene\",\"link\":\"/secoes/C11189/produtos-de-higiene?ftr=facetSubShelf_ss:11189_Produtos de higiene\",\"uiLink\":\"/petshop/outros-animais/produtos-de-higiene\",\"slug\":\"\",\"type\":\"SHELF\",\"bannerList\":[],\"subCategory\":[]},{\"id\":11191,\"name\":\"Brinquedos\",\"link\":\"/secoes/C11189/brinquedos?ftr=facetSubShelf_ss:11189_Brinquedos\",\"uiLink\":\"/petshop/outros-animais/brinquedos\",\"slug\":\"\",\"type\":\"SHELF\",\"bannerList\":[],\"subCategory\":[]},{\"id\":11192,\"name\":\"Outros produtos\",\"link\":\"/secoes/C11189/outros-produtos?ftr=facetSubShelf_ss:11189_Outros produtos\",\"uiLink\":\"/petshop/outros-animais/outros-produtos\",\"slug\":\"\",\"type\":\"SHELF\",\"bannerList\":[],\"subCategory\":[]}]}],\"bannerList\":[]},{\"id\":10881,\"link\":\"/secoes/C10881/floricultura-e-jardim\",\"uiLink\":\"/floricultura-e-jardim\",\"slug\":\"\",\"name\":\"Floricultura e jardim\",\"icon\":\"/img/uploads/1/831/667831.jpg\",\"metaDescription\":\"Garanta o cuidado ideal para as suas plantas, com os itens de Floricultura e Jardim! Confira as opções disponíveis em nosso site.\",\"type\":\"SHELF\",\"subCategory\":[{\"id\":10892,\"name\":\"Plantas\",\"link\":\"/secoes/C10881/plantas?ftr=facetSubShelf_ss:10881_Plantas\",\"uiLink\":\"/floricultura-e-jardim/plantas\",\"slug\":\"\",\"type\":\"SHELF\",\"bannerList\":[],\"subCategory\":[{\"id\":10896,\"name\":\"Mudas\",\"link\":\"/secoes/C10892/mudas?ftr=facetSubShelf_ss:10892_Mudas\",\"uiLink\":\"/floricultura-e-jardim/plantas/mudas\",\"slug\":\"\",\"type\":\"SHELF\",\"bannerList\":[],\"subCategory\":[]},{\"id\":10893,\"name\":\"Flores\",\"link\":\"/secoes/C10892/flores?ftr=facetSubShelf_ss:10892_Flores\",\"uiLink\":\"/floricultura-e-jardim/plantas/flores\",\"slug\":\"\",\"type\":\"SHELF\",\"bannerList\":[],\"subCategory\":[]},{\"id\":10894,\"name\":\"Folhagens\",\"link\":\"/secoes/C10892/folhagens?ftr=facetSubShelf_ss:10892_Folhagens\",\"uiLink\":\"/floricultura-e-jardim/plantas/folhagens\",\"slug\":\"\",\"type\":\"SHELF\",\"bannerList\":[],\"subCategory\":[]},{\"id\":10895,\"name\":\"Horta\",\"link\":\"/secoes/C10892/horta?ftr=facetSubShelf_ss:10892_Horta\",\"uiLink\":\"/floricultura-e-jardim/plantas/horta\",\"slug\":\"\",\"type\":\"SHELF\",\"bannerList\":[],\"subCategory\":[]},{\"id\":10897,\"name\":\"Sementes\",\"link\":\"/secoes/C10892/sementes?ftr=facetSubShelf_ss:10892_Sementes\",\"uiLink\":\"/floricultura-e-jardim/plantas/sementes\",\"slug\":\"\",\"type\":\"SHELF\",\"bannerList\":[],\"subCategory\":[]}]},{\"id\":10882,\"name\":\"Acessórios\",\"link\":\"/secoes/C10881/acessorios?ftr=facetSubShelf_ss:10881_Acessórios\",\"uiLink\":\"/floricultura-e-jardim/acessorios\",\"slug\":\"\",\"type\":\"SHELF\",\"bannerList\":[],\"subCategory\":[{\"id\":10886,\"name\":\"Vasos e suportes\",\"link\":\"/secoes/C10882/vasos-e-suportes?ftr=facetSubShelf_ss:10882_Vasos e suportes\",\"uiLink\":\"/floricultura-e-jardim/acessorios/vasos-e-suportes\",\"slug\":\"\",\"type\":\"SHELF\",\"bannerList\":[],\"subCategory\":[]},{\"id\":10883,\"name\":\"Irrigação\",\"link\":\"/secoes/C10882/irrigacao?ftr=facetSubShelf_ss:10882_Irrigação\",\"uiLink\":\"/floricultura-e-jardim/acessorios/irrigacao\",\"slug\":\"\",\"type\":\"SHELF\",\"bannerList\":[],\"subCategory\":[]},{\"id\":10884,\"name\":\"Manutenção\",\"link\":\"/secoes/C10882/manutencao?ftr=facetSubShelf_ss:10882_Manutenção\",\"uiLink\":\"/floricultura-e-jardim/acessorios/manutencao\",\"slug\":\"\",\"type\":\"SHELF\",\"bannerList\":[],\"subCategory\":[]},{\"id\":10885,\"name\":\"Outros acessórios\",\"link\":\"/secoes/C10882/outros-acessorios?ftr=facetSubShelf_ss:10882_Outros acessórios\",\"uiLink\":\"/floricultura-e-jardim/acessorios/outros-acessorios\",\"slug\":\"\",\"type\":\"SHELF\",\"bannerList\":[],\"subCategory\":[]}]},{\"id\":10887,\"name\":\"Fertilizantes e substratos\",\"link\":\"/secoes/C10881/fertilizantes-e-substratos?ftr=facetSubShelf_ss:10881_Fertilizantes e substratos\",\"uiLink\":\"/floricultura-e-jardim/fertilizantes-e-substratos\",\"slug\":\"\",\"type\":\"SHELF\",\"bannerList\":[],\"subCategory\":[{\"id\":10889,\"name\":\"Fertilizantes\",\"link\":\"/secoes/C10887/fertilizantes?ftr=facetSubShelf_ss:10887_Fertilizantes\",\"uiLink\":\"/floricultura-e-jardim/fertilizantes-e-substratos/fertilizantes\",\"slug\":\"\",\"type\":\"SHELF\",\"bannerList\":[],\"subCategory\":[]},{\"id\":10888,\"name\":\"Defensivos\",\"link\":\"/secoes/C10887/defensivos?ftr=facetSubShelf_ss:10887_Defensivos\",\"uiLink\":\"/floricultura-e-jardim/fertilizantes-e-substratos/defensivos\",\"slug\":\"\",\"type\":\"SHELF\",\"bannerList\":[],\"subCategory\":[]},{\"id\":10891,\"name\":\"Substratos\",\"link\":\"/secoes/C10887/substratos?ftr=facetSubShelf_ss:10887_Substratos\",\"uiLink\":\"/floricultura-e-jardim/fertilizantes-e-substratos/substratos\",\"slug\":\"\",\"type\":\"SHELF\",\"bannerList\":[],\"subCategory\":[]},{\"id\":10890,\"name\":\"Outros produtos\",\"link\":\"/secoes/C10887/outros-produtos?ftr=facetSubShelf_ss:10887_Outros produtos\",\"uiLink\":\"/floricultura-e-jardim/fertilizantes-e-substratos/outros-produtos\",\"slug\":\"\",\"type\":\"SHELF\",\"bannerList\":[],\"subCategory\":[]}]}],\"bannerList\":[]},{\"id\":10806,\"link\":\"/secoes/C10806/esporte-e-lazer\",\"uiLink\":\"/esporte-e-lazer\",\"slug\":\"\",\"name\":\"Esporte e Lazer\",\"icon\":\"/img/uploads/1/829/667829.png\",\"metaDescription\":\"A prática de Esporte e Lazer contribui para uma rotina de vida mais saudável. Veja os produtos disponíveis em nosso site, e aproveite os melhores preços!\",\"type\":\"SHELF\",\"subCategory\":[{\"id\":10856,\"name\":\"Viagens e lazer\",\"link\":\"/secoes/C10806/viagens-e-lazer?ftr=facetSubShelf_ss:10806_Viagens e lazer\",\"uiLink\":\"/esporte-e-lazer/viagens-e-lazer\",\"slug\":\"\",\"type\":\"SHELF\",\"bannerList\":[],\"subCategory\":[{\"id\":10857,\"name\":\"Boias e flutuadores\",\"link\":\"/secoes/C10856/boias-e-flutuadores?ftr=facetSubShelf_ss:10856_Boias e flutuadores\",\"uiLink\":\"/esporte-e-lazer/viagens-e-lazer/boias-e-flutuadores\",\"slug\":\"\",\"type\":\"SHELF\",\"bannerList\":[],\"subCategory\":[]},{\"id\":10859,\"name\":\"Cadeiras, mesas de praia e guarda-sol\",\"link\":\"/secoes/C10856/cadeiras-mesas-de-praia-e-guarda-sol?ftr=facetSubShelf_ss:10856_Cadeiras, mesas de praia e guarda-sol\",\"uiLink\":\"/esporte-e-lazer/viagens-e-lazer/cadeiras-mesas-de-praia-e-guarda-sol\",\"slug\":\"\",\"type\":\"SHELF\",\"bannerList\":[],\"subCategory\":[]},{\"id\":10866,\"name\":\"Piscina portátil\",\"link\":\"/secoes/C10856/piscina-portatil?ftr=facetSubShelf_ss:10856_Piscina portátil\",\"uiLink\":\"/esporte-e-lazer/viagens-e-lazer/piscina-portatil\",\"slug\":\"\",\"type\":\"SHELF\",\"bannerList\":[],\"subCategory\":[]},{\"id\":10860,\"name\":\"Caixas térmicas\",\"link\":\"/secoes/C10856/caixas-termicas?ftr=facetSubShelf_ss:10856_Caixas térmicas\",\"uiLink\":\"/esporte-e-lazer/viagens-e-lazer/caixas-termicas\",\"slug\":\"\",\"type\":\"SHELF\",\"bannerList\":[],\"subCategory\":[]},{\"id\":10858,\"name\":\"Brinquedos e jogos aquáticos\",\"link\":\"/secoes/C10856/brinquedos-e-jogos-aquaticos?ftr=facetSubShelf_ss:10856_Brinquedos e jogos aquáticos\",\"uiLink\":\"/esporte-e-lazer/viagens-e-lazer/brinquedos-e-jogos-aquaticos\",\"slug\":\"\",\"type\":\"SHELF\",\"bannerList\":[],\"subCategory\":[]},{\"id\":10865,\"name\":\"Outros itens de praia e piscina\",\"link\":\"/secoes/C10856/outros-itens-de-praia-e-piscina?ftr=facetSubShelf_ss:10856_Outros itens de praia e piscina\",\"uiLink\":\"/esporte-e-lazer/viagens-e-lazer/outros-itens-de-praia-e-piscina\",\"slug\":\"\",\"type\":\"SHELF\",\"bannerList\":[],\"subCategory\":[]},{\"id\":10862,\"name\":\"Malas\",\"link\":\"/secoes/C10856/malas?ftr=facetSubShelf_ss:10856_Malas\",\"uiLink\":\"/esporte-e-lazer/viagens-e-lazer/malas\",\"slug\":\"\",\"type\":\"SHELF\",\"bannerList\":[],\"subCategory\":[]},{\"id\":10864,\"name\":\"Outros acessórios de viagem\",\"link\":\"/secoes/C10856/outros-acessorios-de-viagem?ftr=facetSubShelf_ss:10856_Outros acessórios de viagem\",\"uiLink\":\"/esporte-e-lazer/viagens-e-lazer/outros-acessorios-de-viagem\",\"slug\":\"\",\"type\":\"SHELF\",\"bannerList\":[],\"subCategory\":[]}]},{\"id\":10807,\"name\":\"Esportes em grupo\",\"link\":\"/secoes/C10806/esportes-em-grupo?ftr=facetSubShelf_ss:10806_Esportes em grupo\",\"uiLink\":\"/esporte-e-lazer/esportes-em-grupo\",\"slug\":\"\",\"type\":\"SHELF\",\"bannerList\":[],\"subCategory\":[{\"id\":10808,\"name\":\"Basquete\",\"link\":\"/secoes/C10807/basquete?ftr=facetSubShelf_ss:10807_Basquete\",\"uiLink\":\"/esporte-e-lazer/esportes-em-grupo/basquete\",\"slug\":\"\",\"type\":\"SHELF\",\"bannerList\":[],\"subCategory\":[]},{\"id\":10810,\"name\":\"Futebol\",\"link\":\"/secoes/C10807/futebol?ftr=facetSubShelf_ss:10807_Futebol\",\"uiLink\":\"/esporte-e-lazer/esportes-em-grupo/futebol\",\"slug\":\"\",\"type\":\"SHELF\",\"bannerList\":[],\"subCategory\":[]}]},{\"id\":10816,\"name\":\"Esportes individuais\",\"link\":\"/secoes/C10806/esportes-individuais?ftr=facetSubShelf_ss:10806_Esportes individuais\",\"uiLink\":\"/esporte-e-lazer/esportes-individuais\",\"slug\":\"\",\"type\":\"SHELF\",\"bannerList\":[],\"subCategory\":[{\"id\":10818,\"name\":\"Bicicleta\",\"link\":\"/secoes/C10816/bicicleta?ftr=facetSubShelf_ss:10816_Bicicleta\",\"uiLink\":\"/esporte-e-lazer/esportes-individuais/bicicleta\",\"slug\":\"\",\"type\":\"SHELF\",\"bannerList\":[],\"subCategory\":[]},{\"id\":10835,\"name\":\"Tênis\",\"link\":\"/secoes/C10816/tenis?ftr=facetSubShelf_ss:10816_Tênis\",\"uiLink\":\"/esporte-e-lazer/esportes-individuais/tenis\",\"slug\":\"\",\"type\":\"SHELF\",\"bannerList\":[],\"subCategory\":[]},{\"id\":10828,\"name\":\"Outros esportes individuais\",\"link\":\"/secoes/C10816/outros-esportes-individuais?ftr=facetSubShelf_ss:10816_Outros esportes individuais\",\"uiLink\":\"/esporte-e-lazer/esportes-individuais/outros-esportes-individuais\",\"slug\":\"\",\"type\":\"SHELF\",\"bannerList\":[],\"subCategory\":[]}]},{\"id\":10845,\"name\":\"Musculação e fitness\",\"link\":\"/secoes/C10806/musculacao-e-fitness?ftr=facetSubShelf_ss:10806_Musculação e fitness\",\"uiLink\":\"/esporte-e-lazer/musculacao-e-fitness\",\"slug\":\"\",\"type\":\"SHELF\",\"bannerList\":[],\"subCategory\":[{\"id\":10851,\"name\":\"Colchonetes e tapetes\",\"link\":\"/secoes/C10845/colchonetes-e-tapetes?ftr=facetSubShelf_ss:10845_Colchonetes e tapetes\",\"uiLink\":\"/esporte-e-lazer/musculacao-e-fitness/colchonetes-e-tapetes\",\"slug\":\"\",\"type\":\"SHELF\",\"bannerList\":[],\"subCategory\":[]}]},{\"id\":10837,\"name\":\"Instrumentos musicais\",\"link\":\"/secoes/C10806/instrumentos-musicais?ftr=facetSubShelf_ss:10806_Instrumentos musicais\",\"uiLink\":\"/esporte-e-lazer/instrumentos-musicais\",\"slug\":\"\",\"type\":\"SHELF\",\"bannerList\":[],\"subCategory\":[{\"id\":10839,\"name\":\"Baterias e percussão\",\"link\":\"/secoes/C10837/baterias-e-percussao?ftr=facetSubShelf_ss:10837_Baterias e percussão\",\"uiLink\":\"/esporte-e-lazer/instrumentos-musicais/baterias-e-percussao\",\"slug\":\"\",\"type\":\"SHELF\",\"bannerList\":[],\"subCategory\":[]},{\"id\":10842,\"name\":\"Outros instrumentos musicais\",\"link\":\"/secoes/C10837/outros-instrumentos-musicais?ftr=facetSubShelf_ss:10837_Outros instrumentos musicais\",\"uiLink\":\"/esporte-e-lazer/instrumentos-musicais/outros-instrumentos-musicais\",\"slug\":\"\",\"type\":\"SHELF\",\"bannerList\":[],\"subCategory\":[]}]}],\"bannerList\":[]},{\"id\":10654,\"link\":\"/secoes/C10654/cuidados-com-a-saude\",\"uiLink\":\"/cuidados-com-a-saude\",\"slug\":\"\",\"name\":\"Cuidados com a saúde\",\"icon\":\"/img/uploads/1/825/667825.png\",\"metaDescription\":\"Ter acesso à produtos de qualidade, é essencial para manter os Cuidados com a Saúde. Em nosso site, disponibilizamos os melhores aparatos para a área da saúde, kits de primeiros socorros para a sua casa, e muito mais!\",\"type\":\"SHELF\",\"subCategory\":[{\"id\":10680,\"name\":\"Equipamentos médicos, odontológicos e hospitalares\",\"link\":\"/secoes/C10654/equipamentos-medicos-odontologicos-e-hospitalares?ftr=facetSubShelf_ss:10654_Equipamentos médicos, odontológicos e hospitalares\",\"uiLink\":\"/cuidados-com-a-saude/equipamentos-medicos-odontologicos-e-hospitalares\",\"slug\":\"\",\"type\":\"SHELF\",\"bannerList\":[],\"subCategory\":[{\"id\":10681,\"name\":\"Balanças\",\"link\":\"/secoes/C10680/balancas?ftr=facetSubShelf_ss:10680_Balanças\",\"uiLink\":\"/cuidados-com-a-saude/equipamentos-medicos-odontologicos-e-hospitalares/balancas\",\"slug\":\"\",\"type\":\"SHELF\",\"bannerList\":[],\"subCategory\":[]}]},{\"id\":10699,\"name\":\"Primeiros socorros\",\"link\":\"/secoes/C10654/primeiros-socorros?ftr=facetSubShelf_ss:10654_Primeiros socorros\",\"uiLink\":\"/cuidados-com-a-saude/primeiros-socorros\",\"slug\":\"\",\"type\":\"SHELF\",\"bannerList\":[],\"subCategory\":[{\"id\":10706,\"name\":\"Kits de primeiros socorros\",\"link\":\"/secoes/C10699/kits-de-primeiros-socorros?ftr=facetSubShelf_ss:10699_Kits de primeiros socorros\",\"uiLink\":\"/cuidados-com-a-saude/primeiros-socorros/kits-de-primeiros-socorros\",\"slug\":\"\",\"type\":\"SHELF\",\"bannerList\":[],\"subCategory\":[]}]}],\"bannerList\":[]},{\"id\":11047,\"link\":\"/secoes/C11047/moveis-e-decoracao\",\"uiLink\":\"/moveis-e-decoracao\",\"slug\":\"\",\"name\":\"Móveis e decoração\",\"icon\":\"/img/uploads/1/840/667840.jpg\",\"metaDescription\":\"Deixe o seu lar ainda mais aconchegante com as melhores marcas de Móveis e Decoração do mercado! Acesse nosso site e confira.\",\"type\":\"SHELF\",\"subCategory\":[{\"id\":11082,\"name\":\"Decoração\",\"link\":\"/secoes/C11047/decoracao?ftr=facetSubShelf_ss:11047_Decoração\",\"uiLink\":\"/moveis-e-decoracao/decoracao\",\"slug\":\"\",\"type\":\"SHELF\",\"bannerList\":[],\"subCategory\":[{\"id\":11083,\"name\":\"Almofadas e estofados\",\"link\":\"/secoes/C11082/almofadas-e-estofados?ftr=facetSubShelf_ss:11082_Almofadas e estofados\",\"uiLink\":\"/moveis-e-decoracao/decoracao/almofadas-e-estofados\",\"slug\":\"\",\"type\":\"SHELF\",\"bannerList\":[],\"subCategory\":[]},{\"id\":11085,\"name\":\"Cortinas e tapetes\",\"link\":\"/secoes/C11082/cortinas-e-tapetes?ftr=facetSubShelf_ss:11082_Cortinas e tapetes\",\"uiLink\":\"/moveis-e-decoracao/decoracao/cortinas-e-tapetes\",\"slug\":\"\",\"type\":\"SHELF\",\"bannerList\":[],\"subCategory\":[]},{\"id\":11088,\"name\":\"Peças decorativas\",\"link\":\"/secoes/C11082/pecas-decorativas?ftr=facetSubShelf_ss:11082_Peças decorativas\",\"uiLink\":\"/moveis-e-decoracao/decoracao/pecas-decorativas\",\"slug\":\"\",\"type\":\"SHELF\",\"bannerList\":[],\"subCategory\":[]},{\"id\":11087,\"name\":\"Papel de parede e adesivos\",\"link\":\"/secoes/C11082/papel-de-parede-e-adesivos?ftr=facetSubShelf_ss:11082_Papel de parede e adesivos\",\"uiLink\":\"/moveis-e-decoracao/decoracao/papel-de-parede-e-adesivos\",\"slug\":\"\",\"type\":\"SHELF\",\"bannerList\":[],\"subCategory\":[]},{\"id\":11084,\"name\":\"Capas para sofá e almofadas\",\"link\":\"/secoes/C11082/capas-para-sofa-e-almofadas?ftr=facetSubShelf_ss:11082_Capas para sofá e almofadas\",\"uiLink\":\"/moveis-e-decoracao/decoracao/capas-para-sofa-e-almofadas\",\"slug\":\"\",\"type\":\"SHELF\",\"bannerList\":[],\"subCategory\":[]},{\"id\":11086,\"name\":\"Decoração sazonal\",\"link\":\"/secoes/C11082/decoracao-sazonal?ftr=facetSubShelf_ss:11082_Decoração sazonal\",\"uiLink\":\"/moveis-e-decoracao/decoracao/decoracao-sazonal\",\"slug\":\"\",\"type\":\"SHELF\",\"bannerList\":[],\"subCategory\":[]},{\"id\":11089,\"name\":\"Velas e Fragrâncias \",\"link\":\"/secoes/C11082/velas-e-fragrancias-?ftr=facetSubShelf_ss:11082_Velas e Fragrâncias \",\"uiLink\":\"/moveis-e-decoracao/decoracao/velas-e-fragrancias-\",\"slug\":\"\",\"type\":\"SHELF\",\"bannerList\":[],\"subCategory\":[]}]},{\"id\":11048,\"name\":\"Acessórios\",\"link\":\"/secoes/C11047/acessorios?ftr=facetSubShelf_ss:11047_Acessórios\",\"uiLink\":\"/moveis-e-decoracao/acessorios\",\"slug\":\"\",\"type\":\"SHELF\",\"bannerList\":[],\"subCategory\":[{\"id\":11049,\"name\":\"Acessórios para banheiro e área de serviço\",\"link\":\"/secoes/C11048/acessorios-para-banheiro-e-area-de-servico?ftr=facetSubShelf_ss:11048_Acessórios para banheiro e área de serviço\",\"uiLink\":\"/moveis-e-decoracao/acessorios/acessorios-para-banheiro-e-area-de-servico\",\"slug\":\"\",\"type\":\"SHELF\",\"bannerList\":[],\"subCategory\":[]},{\"id\":11050,\"name\":\"Acessórios para cozinha e eletrodomésticos\",\"link\":\"/secoes/C11048/acessorios-para-cozinha-e-eletrodomesticos?ftr=facetSubShelf_ss:11048_Acessórios para cozinha e eletrodomésticos\",\"uiLink\":\"/moveis-e-decoracao/acessorios/acessorios-para-cozinha-e-eletrodomesticos\",\"slug\":\"\",\"type\":\"SHELF\",\"bannerList\":[],\"subCategory\":[]},{\"id\":11055,\"name\":\"Cestos e Organização\",\"link\":\"/secoes/C11048/cestos-e-organizacao?ftr=facetSubShelf_ss:11048_Cestos e Organização\",\"uiLink\":\"/moveis-e-decoracao/acessorios/cestos-e-organizacao\",\"slug\":\"\",\"type\":\"SHELF\",\"bannerList\":[],\"subCategory\":[]},{\"id\":11057,\"name\":\"Sacolas Retornáveis e Carrinhos de Compras\",\"link\":\"/secoes/C11048/sacolas-retornaveis-e-carrinhos-de-compras?ftr=facetSubShelf_ss:11048_Sacolas Retornáveis e Carrinhos de Compras\",\"uiLink\":\"/moveis-e-decoracao/acessorios/sacolas-retornaveis-e-carrinhos-de-compras\",\"slug\":\"\",\"type\":\"SHELF\",\"bannerList\":[],\"subCategory\":[]},{\"id\":11052,\"name\":\"Acessórios para iluminação e lareira\",\"link\":\"/secoes/C11048/acessorios-para-iluminacao-e-lareira?ftr=facetSubShelf_ss:11048_Acessórios para iluminação e lareira\",\"uiLink\":\"/moveis-e-decoracao/acessorios/acessorios-para-iluminacao-e-lareira\",\"slug\":\"\",\"type\":\"SHELF\",\"bannerList\":[],\"subCategory\":[]},{\"id\":11054,\"name\":\"Acessórios para sala de estar e jantar\",\"link\":\"/secoes/C11048/acessorios-para-sala-de-estar-e-jantar?ftr=facetSubShelf_ss:11048_Acessórios para sala de estar e jantar\",\"uiLink\":\"/moveis-e-decoracao/acessorios/acessorios-para-sala-de-estar-e-jantar\",\"slug\":\"\",\"type\":\"SHELF\",\"bannerList\":[],\"subCategory\":[]},{\"id\":11053,\"name\":\"Acessórios para jardins e varandas\",\"link\":\"/secoes/C11048/acessorios-para-jardins-e-varandas?ftr=facetSubShelf_ss:11048_Acessórios para jardins e varandas\",\"uiLink\":\"/moveis-e-decoracao/acessorios/acessorios-para-jardins-e-varandas\",\"slug\":\"\",\"type\":\"SHELF\",\"bannerList\":[],\"subCategory\":[]},{\"id\":11056,\"name\":\"Outros acessórios domésticos\",\"link\":\"/secoes/C11048/outros-acessorios-domesticos?ftr=facetSubShelf_ss:11048_Outros acessórios domésticos\",\"uiLink\":\"/moveis-e-decoracao/acessorios/outros-acessorios-domesticos\",\"slug\":\"\",\"type\":\"SHELF\",\"bannerList\":[],\"subCategory\":[]}]},{\"id\":11129,\"name\":\"Varanda e jardim\",\"link\":\"/secoes/C11047/varanda-e-jardim?ftr=facetSubShelf_ss:11047_Varanda e jardim\",\"uiLink\":\"/moveis-e-decoracao/varanda-e-jardim\",\"slug\":\"\",\"type\":\"SHELF\",\"bannerList\":[],\"subCategory\":[{\"id\":11133,\"name\":\"Casinhas e comedouros para animais\",\"link\":\"/secoes/C11129/casinhas-e-comedouros-para-animais?ftr=facetSubShelf_ss:11129_Casinhas e comedouros para animais\",\"uiLink\":\"/moveis-e-decoracao/varanda-e-jardim/casinhas-e-comedouros-para-animais\",\"slug\":\"\",\"type\":\"SHELF\",\"bannerList\":[],\"subCategory\":[]},{\"id\":11143,\"name\":\"Sistemas de irrigação e iluminação\",\"link\":\"/secoes/C11129/sistemas-de-irrigacao-e-iluminacao?ftr=facetSubShelf_ss:11129_Sistemas de irrigação e iluminação\",\"uiLink\":\"/moveis-e-decoracao/varanda-e-jardim/sistemas-de-irrigacao-e-iluminacao\",\"slug\":\"\",\"type\":\"SHELF\",\"bannerList\":[],\"subCategory\":[]},{\"id\":11137,\"name\":\"Itens decorativos \",\"link\":\"/secoes/C11129/itens-decorativos-?ftr=facetSubShelf_ss:11129_Itens decorativos \",\"uiLink\":\"/moveis-e-decoracao/varanda-e-jardim/itens-decorativos-\",\"slug\":\"\",\"type\":\"SHELF\",\"bannerList\":[],\"subCategory\":[]},{\"id\":11142,\"name\":\"Piscinas e acessórios\",\"link\":\"/secoes/C11129/piscinas-e-acessorios?ftr=facetSubShelf_ss:11129_Piscinas e acessórios\",\"uiLink\":\"/moveis-e-decoracao/varanda-e-jardim/piscinas-e-acessorios\",\"slug\":\"\",\"type\":\"SHELF\",\"bannerList\":[],\"subCategory\":[]},{\"id\":11135,\"name\":\"Churrasqueiras e itens de churrasco\",\"link\":\"/secoes/C11129/churrasqueiras-e-itens-de-churrasco?ftr=facetSubShelf_ss:11129_Churrasqueiras e itens de churrasco\",\"uiLink\":\"/moveis-e-decoracao/varanda-e-jardim/churrasqueiras-e-itens-de-churrasco\",\"slug\":\"\",\"type\":\"SHELF\",\"bannerList\":[],\"subCategory\":[]},{\"id\":11130,\"name\":\"Bancos\",\"link\":\"/secoes/C11129/bancos?ftr=facetSubShelf_ss:11129_Bancos\",\"uiLink\":\"/moveis-e-decoracao/varanda-e-jardim/bancos\",\"slug\":\"\",\"type\":\"SHELF\",\"bannerList\":[],\"subCategory\":[]},{\"id\":11131,\"name\":\"Cadeiras\",\"link\":\"/secoes/C11129/cadeiras?ftr=facetSubShelf_ss:11129_Cadeiras\",\"uiLink\":\"/moveis-e-decoracao/varanda-e-jardim/cadeiras\",\"slug\":\"\",\"type\":\"SHELF\",\"bannerList\":[],\"subCategory\":[]},{\"id\":11140,\"name\":\"Outros itens de jardim e varanda\",\"link\":\"/secoes/C11129/outros-itens-de-jardim-e-varanda?ftr=facetSubShelf_ss:11129_Outros itens de jardim e varanda\",\"uiLink\":\"/moveis-e-decoracao/varanda-e-jardim/outros-itens-de-jardim-e-varanda\",\"slug\":\"\",\"type\":\"SHELF\",\"bannerList\":[],\"subCategory\":[]},{\"id\":11141,\"name\":\"Outros móveis de varanda e jardim\",\"link\":\"/secoes/C11129/outros-moveis-de-varanda-e-jardim?ftr=facetSubShelf_ss:11129_Outros móveis de varanda e jardim\",\"uiLink\":\"/moveis-e-decoracao/varanda-e-jardim/outros-moveis-de-varanda-e-jardim\",\"slug\":\"\",\"type\":\"SHELF\",\"bannerList\":[],\"subCategory\":[]}]},{\"id\":11058,\"name\":\"Área de serviço\",\"link\":\"/secoes/C11047/area-de-servico?ftr=facetSubShelf_ss:11047_Área de serviço\",\"uiLink\":\"/moveis-e-decoracao/area-de-servico\",\"slug\":\"\",\"type\":\"SHELF\",\"bannerList\":[],\"subCategory\":[{\"id\":11059,\"name\":\"Armários multiuso\",\"link\":\"/secoes/C11058/armarios-multiuso?ftr=facetSubShelf_ss:11058_Armários multiuso\",\"uiLink\":\"/moveis-e-decoracao/area-de-servico/armarios-multiuso\",\"slug\":\"\",\"type\":\"SHELF\",\"bannerList\":[],\"subCategory\":[]},{\"id\":11062,\"name\":\"Tábua de passar\",\"link\":\"/secoes/C11058/tabua-de-passar?ftr=facetSubShelf_ss:11058_Tábua de passar\",\"uiLink\":\"/moveis-e-decoracao/area-de-servico/tabua-de-passar\",\"slug\":\"\",\"type\":\"SHELF\",\"bannerList\":[],\"subCategory\":[]},{\"id\":11060,\"name\":\"Conjuntos\",\"link\":\"/secoes/C11058/conjuntos?ftr=facetSubShelf_ss:11058_Conjuntos\",\"uiLink\":\"/moveis-e-decoracao/area-de-servico/conjuntos\",\"slug\":\"\",\"type\":\"SHELF\",\"bannerList\":[],\"subCategory\":[]}]},{\"id\":11103,\"name\":\"Quarto\",\"link\":\"/secoes/C11047/quarto?ftr=facetSubShelf_ss:11047_Quarto\",\"uiLink\":\"/moveis-e-decoracao/quarto\",\"slug\":\"\",\"type\":\"SHELF\",\"bannerList\":[],\"subCategory\":[{\"id\":11108,\"name\":\"Guarda-roupa\",\"link\":\"/secoes/C11103/guarda-roupa?ftr=facetSubShelf_ss:11103_Guarda-roupa\",\"uiLink\":\"/moveis-e-decoracao/quarto/guarda-roupa\",\"slug\":\"\",\"type\":\"SHELF\",\"bannerList\":[],\"subCategory\":[]},{\"id\":11106,\"name\":\"Camas, bicamas e beliches\",\"link\":\"/secoes/C11103/camas-bicamas-e-beliches?ftr=facetSubShelf_ss:11103_Camas, bicamas e beliches\",\"uiLink\":\"/moveis-e-decoracao/quarto/camas-bicamas-e-beliches\",\"slug\":\"\",\"type\":\"SHELF\",\"bannerList\":[],\"subCategory\":[]},{\"id\":11105,\"name\":\"Cabeceiras e mesas de cabeceira\",\"link\":\"/secoes/C11103/cabeceiras-e-mesas-de-cabeceira?ftr=facetSubShelf_ss:11103_Cabeceiras e mesas de cabeceira\",\"uiLink\":\"/moveis-e-decoracao/quarto/cabeceiras-e-mesas-de-cabeceira\",\"slug\":\"\",\"type\":\"SHELF\",\"bannerList\":[],\"subCategory\":[]},{\"id\":11107,\"name\":\"Cômodas\",\"link\":\"/secoes/C11103/comodas?ftr=facetSubShelf_ss:11103_Cômodas\",\"uiLink\":\"/moveis-e-decoracao/quarto/comodas\",\"slug\":\"\",\"type\":\"SHELF\",\"bannerList\":[],\"subCategory\":[]},{\"id\":11104,\"name\":\"Armários\",\"link\":\"/secoes/C11103/armarios?ftr=facetSubShelf_ss:11103_Armários\",\"uiLink\":\"/moveis-e-decoracao/quarto/armarios\",\"slug\":\"\",\"type\":\"SHELF\",\"bannerList\":[],\"subCategory\":[]},{\"id\":11109,\"name\":\"Outros móveis de quarto\",\"link\":\"/secoes/C11103/outros-moveis-de-quarto?ftr=facetSubShelf_ss:11103_Outros móveis de quarto\",\"uiLink\":\"/moveis-e-decoracao/quarto/outros-moveis-de-quarto\",\"slug\":\"\",\"type\":\"SHELF\",\"bannerList\":[],\"subCategory\":[]}]},{\"id\":11110,\"name\":\"Quarto infantil\",\"link\":\"/secoes/C11047/quarto-infantil?ftr=facetSubShelf_ss:11047_Quarto infantil\",\"uiLink\":\"/moveis-e-decoracao/quarto-infantil\",\"slug\":\"\",\"type\":\"SHELF\",\"bannerList\":[],\"subCategory\":[{\"id\":11111,\"name\":\"Camas e berços\",\"link\":\"/secoes/C11110/camas-e-bercos?ftr=facetSubShelf_ss:11110_Camas e berços\",\"uiLink\":\"/moveis-e-decoracao/quarto-infantil/camas-e-bercos\",\"slug\":\"\",\"type\":\"SHELF\",\"bannerList\":[],\"subCategory\":[]},{\"id\":11112,\"name\":\"Cômodas\",\"link\":\"/secoes/C11110/comodas?ftr=facetSubShelf_ss:11110_Cômodas\",\"uiLink\":\"/moveis-e-decoracao/quarto-infantil/comodas\",\"slug\":\"\",\"type\":\"SHELF\",\"bannerList\":[],\"subCategory\":[]},{\"id\":11114,\"name\":\"Mesas e cadeiras\",\"link\":\"/secoes/C11110/mesas-e-cadeiras?ftr=facetSubShelf_ss:11110_Mesas e cadeiras\",\"uiLink\":\"/moveis-e-decoracao/quarto-infantil/mesas-e-cadeiras\",\"slug\":\"\",\"type\":\"SHELF\",\"bannerList\":[],\"subCategory\":[]},{\"id\":11113,\"name\":\"Guarda-roupas\",\"link\":\"/secoes/C11110/guarda-roupas?ftr=facetSubShelf_ss:11110_Guarda-roupas\",\"uiLink\":\"/moveis-e-decoracao/quarto-infantil/guarda-roupas\",\"slug\":\"\",\"type\":\"SHELF\",\"bannerList\":[],\"subCategory\":[]},{\"id\":11115,\"name\":\"Outros móveis de quarto infantil\",\"link\":\"/secoes/C11110/outros-moveis-de-quarto-infantil?ftr=facetSubShelf_ss:11110_Outros móveis de quarto infantil\",\"uiLink\":\"/moveis-e-decoracao/quarto-infantil/outros-moveis-de-quarto-infantil\",\"slug\":\"\",\"type\":\"SHELF\",\"bannerList\":[],\"subCategory\":[]}]},{\"id\":11076,\"name\":\"Cozinha\",\"link\":\"/secoes/C11047/cozinha?ftr=facetSubShelf_ss:11047_Cozinha\",\"uiLink\":\"/moveis-e-decoracao/cozinha\",\"slug\":\"\",\"type\":\"SHELF\",\"bannerList\":[],\"subCategory\":[{\"id\":11077,\"name\":\"Armários de cozinha\",\"link\":\"/secoes/C11076/armarios-de-cozinha?ftr=facetSubShelf_ss:11076_Armários de cozinha\",\"uiLink\":\"/moveis-e-decoracao/cozinha/armarios-de-cozinha\",\"slug\":\"\",\"type\":\"SHELF\",\"bannerList\":[],\"subCategory\":[]},{\"id\":11080,\"name\":\"Mesas e cadeiras\",\"link\":\"/secoes/C11076/mesas-e-cadeiras?ftr=facetSubShelf_ss:11076_Mesas e cadeiras\",\"uiLink\":\"/moveis-e-decoracao/cozinha/mesas-e-cadeiras\",\"slug\":\"\",\"type\":\"SHELF\",\"bannerList\":[],\"subCategory\":[]},{\"id\":11078,\"name\":\"Bancos e banquetas\",\"link\":\"/secoes/C11076/bancos-e-banquetas?ftr=facetSubShelf_ss:11076_Bancos e banquetas\",\"uiLink\":\"/moveis-e-decoracao/cozinha/bancos-e-banquetas\",\"slug\":\"\",\"type\":\"SHELF\",\"bannerList\":[],\"subCategory\":[]},{\"id\":11079,\"name\":\"Conjuntos\",\"link\":\"/secoes/C11076/conjuntos?ftr=facetSubShelf_ss:11076_Conjuntos\",\"uiLink\":\"/moveis-e-decoracao/cozinha/conjuntos\",\"slug\":\"\",\"type\":\"SHELF\",\"bannerList\":[],\"subCategory\":[]},{\"id\":11081,\"name\":\"Outros móveis de cozinha\",\"link\":\"/secoes/C11076/outros-moveis-de-cozinha?ftr=facetSubShelf_ss:11076_Outros móveis de cozinha\",\"uiLink\":\"/moveis-e-decoracao/cozinha/outros-moveis-de-cozinha\",\"slug\":\"\",\"type\":\"SHELF\",\"bannerList\":[],\"subCategory\":[]}]},{\"id\":11090,\"name\":\"Escritório\",\"link\":\"/secoes/C11047/escritorio?ftr=facetSubShelf_ss:11047_Escritório\",\"uiLink\":\"/moveis-e-decoracao/escritorio\",\"slug\":\"\",\"type\":\"SHELF\",\"bannerList\":[],\"subCategory\":[{\"id\":11092,\"name\":\"Escrivaninhas\",\"link\":\"/secoes/C11090/escrivaninhas?ftr=facetSubShelf_ss:11090_Escrivaninhas\",\"uiLink\":\"/moveis-e-decoracao/escritorio/escrivaninhas\",\"slug\":\"\",\"type\":\"SHELF\",\"bannerList\":[],\"subCategory\":[]},{\"id\":11093,\"name\":\"Mesas\",\"link\":\"/secoes/C11090/mesas?ftr=facetSubShelf_ss:11090_Mesas\",\"uiLink\":\"/moveis-e-decoracao/escritorio/mesas\",\"slug\":\"\",\"type\":\"SHELF\",\"bannerList\":[],\"subCategory\":[]},{\"id\":11091,\"name\":\"Cadeiras e poltronas\",\"link\":\"/secoes/C11090/cadeiras-e-poltronas?ftr=facetSubShelf_ss:11090_Cadeiras e poltronas\",\"uiLink\":\"/moveis-e-decoracao/escritorio/cadeiras-e-poltronas\",\"slug\":\"\",\"type\":\"SHELF\",\"bannerList\":[],\"subCategory\":[]},{\"id\":11094,\"name\":\"Outros móveis de escritório\",\"link\":\"/secoes/C11090/outros-moveis-de-escritorio?ftr=facetSubShelf_ss:11090_Outros móveis de escritório\",\"uiLink\":\"/moveis-e-decoracao/escritorio/outros-moveis-de-escritorio\",\"slug\":\"\",\"type\":\"SHELF\",\"bannerList\":[],\"subCategory\":[]}]},{\"id\":11117,\"name\":\"Sala de estar\",\"link\":\"/secoes/C11047/sala-de-estar?ftr=facetSubShelf_ss:11047_Sala de estar\",\"uiLink\":\"/moveis-e-decoracao/sala-de-estar\",\"slug\":\"\",\"type\":\"SHELF\",\"bannerList\":[],\"subCategory\":[{\"id\":11121,\"name\":\"Sofás\",\"link\":\"/secoes/C11117/sofas?ftr=facetSubShelf_ss:11117_Sofás\",\"uiLink\":\"/moveis-e-decoracao/sala-de-estar/sofas\",\"slug\":\"\",\"type\":\"SHELF\",\"bannerList\":[],\"subCategory\":[]},{\"id\":11119,\"name\":\"Poltronas\",\"link\":\"/secoes/C11117/poltronas?ftr=facetSubShelf_ss:11117_Poltronas\",\"uiLink\":\"/moveis-e-decoracao/sala-de-estar/poltronas\",\"slug\":\"\",\"type\":\"SHELF\",\"bannerList\":[],\"subCategory\":[]},{\"id\":11122,\"name\":\"Sofás-cama\",\"link\":\"/secoes/C11117/sofas-cama?ftr=facetSubShelf_ss:11117_Sofás-cama\",\"uiLink\":\"/moveis-e-decoracao/sala-de-estar/sofas-cama\",\"slug\":\"\",\"type\":\"SHELF\",\"bannerList\":[],\"subCategory\":[]},{\"id\":11120,\"name\":\"Racks e painéis\",\"link\":\"/secoes/C11117/racks-e-paineis?ftr=facetSubShelf_ss:11117_Racks e painéis\",\"uiLink\":\"/moveis-e-decoracao/sala-de-estar/racks-e-paineis\",\"slug\":\"\",\"type\":\"SHELF\",\"bannerList\":[],\"subCategory\":[]},{\"id\":11118,\"name\":\"Outros móveis de sala de estar\",\"link\":\"/secoes/C11117/outros-moveis-de-sala-de-estar?ftr=facetSubShelf_ss:11117_Outros móveis de sala de estar\",\"uiLink\":\"/moveis-e-decoracao/sala-de-estar/outros-moveis-de-sala-de-estar\",\"slug\":\"\",\"type\":\"SHELF\",\"bannerList\":[],\"subCategory\":[]}]},{\"id\":11123,\"name\":\"Sala de jantar\",\"link\":\"/secoes/C11047/sala-de-jantar?ftr=facetSubShelf_ss:11047_Sala de jantar\",\"uiLink\":\"/moveis-e-decoracao/sala-de-jantar\",\"slug\":\"\",\"type\":\"SHELF\",\"bannerList\":[],\"subCategory\":[{\"id\":11127,\"name\":\"Mesas de jantar\",\"link\":\"/secoes/C11123/mesas-de-jantar?ftr=facetSubShelf_ss:11123_Mesas de jantar\",\"uiLink\":\"/moveis-e-decoracao/sala-de-jantar/mesas-de-jantar\",\"slug\":\"\",\"type\":\"SHELF\",\"bannerList\":[],\"subCategory\":[]},{\"id\":11126,\"name\":\"Cadeiras de jantar\",\"link\":\"/secoes/C11123/cadeiras-de-jantar?ftr=facetSubShelf_ss:11123_Cadeiras de jantar\",\"uiLink\":\"/moveis-e-decoracao/sala-de-jantar/cadeiras-de-jantar\",\"slug\":\"\",\"type\":\"SHELF\",\"bannerList\":[],\"subCategory\":[]},{\"id\":11125,\"name\":\"Buffets e aparadores\",\"link\":\"/secoes/C11123/buffets-e-aparadores?ftr=facetSubShelf_ss:11123_Buffets e aparadores\",\"uiLink\":\"/moveis-e-decoracao/sala-de-jantar/buffets-e-aparadores\",\"slug\":\"\",\"type\":\"SHELF\",\"bannerList\":[],\"subCategory\":[]},{\"id\":11124,\"name\":\"Bares\",\"link\":\"/secoes/C11123/bares?ftr=facetSubShelf_ss:11123_Bares\",\"uiLink\":\"/moveis-e-decoracao/sala-de-jantar/bares\",\"slug\":\"\",\"type\":\"SHELF\",\"bannerList\":[],\"subCategory\":[]},{\"id\":11128,\"name\":\"Outros móveis de sala de jantar\",\"link\":\"/secoes/C11123/outros-moveis-de-sala-de-jantar?ftr=facetSubShelf_ss:11123_Outros móveis de sala de jantar\",\"uiLink\":\"/moveis-e-decoracao/sala-de-jantar/outros-moveis-de-sala-de-jantar\",\"slug\":\"\",\"type\":\"SHELF\",\"bannerList\":[],\"subCategory\":[]}]},{\"id\":11064,\"name\":\"Banheiro\",\"link\":\"/secoes/C11047/banheiro?ftr=facetSubShelf_ss:11047_Banheiro\",\"uiLink\":\"/moveis-e-decoracao/banheiro\",\"slug\":\"\",\"type\":\"SHELF\",\"bannerList\":[],\"subCategory\":[{\"id\":11065,\"name\":\"Armários de banheiro\",\"link\":\"/secoes/C11064/armarios-de-banheiro?ftr=facetSubShelf_ss:11064_Armários de banheiro\",\"uiLink\":\"/moveis-e-decoracao/banheiro/armarios-de-banheiro\",\"slug\":\"\",\"type\":\"SHELF\",\"bannerList\":[],\"subCategory\":[]},{\"id\":11068,\"name\":\"Espelheiras\",\"link\":\"/secoes/C11064/espelheiras?ftr=facetSubShelf_ss:11064_Espelheiras\",\"uiLink\":\"/moveis-e-decoracao/banheiro/espelheiras\",\"slug\":\"\",\"type\":\"SHELF\",\"bannerList\":[],\"subCategory\":[]},{\"id\":11069,\"name\":\"Gabinetes\",\"link\":\"/secoes/C11064/gabinetes?ftr=facetSubShelf_ss:11064_Gabinetes\",\"uiLink\":\"/moveis-e-decoracao/banheiro/gabinetes\",\"slug\":\"\",\"type\":\"SHELF\",\"bannerList\":[],\"subCategory\":[]},{\"id\":11066,\"name\":\"Bancadas e tampos\",\"link\":\"/secoes/C11064/bancadas-e-tampos?ftr=facetSubShelf_ss:11064_Bancadas e tampos\",\"uiLink\":\"/moveis-e-decoracao/banheiro/bancadas-e-tampos\",\"slug\":\"\",\"type\":\"SHELF\",\"bannerList\":[],\"subCategory\":[]},{\"id\":11067,\"name\":\"Conjuntos\",\"link\":\"/secoes/C11064/conjuntos?ftr=facetSubShelf_ss:11064_Conjuntos\",\"uiLink\":\"/moveis-e-decoracao/banheiro/conjuntos\",\"slug\":\"\",\"type\":\"SHELF\",\"bannerList\":[],\"subCategory\":[]},{\"id\":11070,\"name\":\"Outros móveis para banheiro\",\"link\":\"/secoes/C11064/outros-moveis-para-banheiro?ftr=facetSubShelf_ss:11064_Outros móveis para banheiro\",\"uiLink\":\"/moveis-e-decoracao/banheiro/outros-moveis-para-banheiro\",\"slug\":\"\",\"type\":\"SHELF\",\"bannerList\":[],\"subCategory\":[]}]},{\"id\":11071,\"name\":\"Corredor e entrada\",\"link\":\"/secoes/C11047/corredor-e-entrada?ftr=facetSubShelf_ss:11047_Corredor e entrada\",\"uiLink\":\"/moveis-e-decoracao/corredor-e-entrada\",\"slug\":\"\",\"type\":\"SHELF\",\"bannerList\":[],\"subCategory\":[{\"id\":11072,\"name\":\"Aparadores\",\"link\":\"/secoes/C11071/aparadores?ftr=facetSubShelf_ss:11071_Aparadores\",\"uiLink\":\"/moveis-e-decoracao/corredor-e-entrada/aparadores\",\"slug\":\"\",\"type\":\"SHELF\",\"bannerList\":[],\"subCategory\":[]},{\"id\":11074,\"name\":\"Porta-sapatos\",\"link\":\"/secoes/C11071/porta-sapatos?ftr=facetSubShelf_ss:11071_Porta-sapatos\",\"uiLink\":\"/moveis-e-decoracao/corredor-e-entrada/porta-sapatos\",\"slug\":\"\",\"type\":\"SHELF\",\"bannerList\":[],\"subCategory\":[]}]},{\"id\":11101,\"name\":\"Outros móveis\",\"link\":\"/secoes/C11047/outros-moveis?ftr=facetSubShelf_ss:11047_Outros móveis\",\"uiLink\":\"/moveis-e-decoracao/outros-moveis\",\"slug\":\"\",\"type\":\"SHELF\",\"bannerList\":[],\"subCategory\":[{\"id\":11102,\"name\":\"Outros\",\"link\":\"/secoes/C11101/outros?ftr=facetSubShelf_ss:11101_Outros\",\"uiLink\":\"/moveis-e-decoracao/outros-moveis/outros\",\"slug\":\"\",\"type\":\"SHELF\",\"bannerList\":[],\"subCategory\":[]}]},{\"id\":11096,\"name\":\"Iluminação\",\"link\":\"/secoes/C11047/iluminacao?ftr=facetSubShelf_ss:11047_Iluminação\",\"uiLink\":\"/moveis-e-decoracao/iluminacao\",\"slug\":\"\",\"type\":\"SHELF\",\"bannerList\":[],\"subCategory\":[{\"id\":11097,\"name\":\"Iluminação externa e interna\",\"link\":\"/secoes/C11096/iluminacao-externa-e-interna?ftr=facetSubShelf_ss:11096_Iluminação externa e interna\",\"uiLink\":\"/moveis-e-decoracao/iluminacao/iluminacao-externa-e-interna\",\"slug\":\"\",\"type\":\"SHELF\",\"bannerList\":[],\"subCategory\":[]},{\"id\":11098,\"name\":\"Lâmpadas e luminárias\",\"link\":\"/secoes/C11096/lampadas-e-luminarias?ftr=facetSubShelf_ss:11096_Lâmpadas e luminárias\",\"uiLink\":\"/moveis-e-decoracao/iluminacao/lampadas-e-luminarias\",\"slug\":\"\",\"type\":\"SHELF\",\"bannerList\":[],\"subCategory\":[]},{\"id\":11099,\"name\":\"Lustres, abajures e pendentes\",\"link\":\"/secoes/C11096/lustres-abajures-e-pendentes?ftr=facetSubShelf_ss:11096_Lustres, abajures e pendentes\",\"uiLink\":\"/moveis-e-decoracao/iluminacao/lustres-abajures-e-pendentes\",\"slug\":\"\",\"type\":\"SHELF\",\"bannerList\":[],\"subCategory\":[]},{\"id\":11100,\"name\":\"Outros itens de iluminação\",\"link\":\"/secoes/C11096/outros-itens-de-iluminacao?ftr=facetSubShelf_ss:11096_Outros itens de iluminação\",\"uiLink\":\"/moveis-e-decoracao/iluminacao/outros-itens-de-iluminacao\",\"slug\":\"\",\"type\":\"SHELF\",\"bannerList\":[],\"subCategory\":[]}]}],\"bannerList\":[]},{\"id\":10505,\"link\":\"/secoes/C10505/cama-mesa-e-banho\",\"uiLink\":\"/cama-mesa-e-banho\",\"slug\":\"\",\"name\":\"Cama, mesa e banho\",\"icon\":\"/img/uploads/1/819/667819.png\",\"metaDescription\":\"Deixe o seu lar ainda mais aconchegante com os itens de Cama, Mesa e Banho! Acesse o nosso site, e confira nosso catálogo de produtos.\",\"type\":\"SHELF\",\"subCategory\":[{\"id\":10506,\"name\":\"Banho\",\"link\":\"/secoes/C10505/banho?ftr=facetSubShelf_ss:10505_Banho\",\"uiLink\":\"/cama-mesa-e-banho/banho\",\"slug\":\"\",\"type\":\"SHELF\",\"bannerList\":[],\"subCategory\":[{\"id\":10511,\"name\":\"Toalha de banho\",\"link\":\"/secoes/C10506/toalha-de-banho?ftr=facetSubShelf_ss:10506_Toalha de banho\",\"uiLink\":\"/cama-mesa-e-banho/banho/toalha-de-banho\",\"slug\":\"\",\"type\":\"SHELF\",\"bannerList\":[],\"subCategory\":[]},{\"id\":10515,\"name\":\"Toalha de rosto e mãos\",\"link\":\"/secoes/C10506/toalha-de-rosto-e-maos?ftr=facetSubShelf_ss:10506_Toalha de rosto e mãos\",\"uiLink\":\"/cama-mesa-e-banho/banho/toalha-de-rosto-e-maos\",\"slug\":\"\",\"type\":\"SHELF\",\"bannerList\":[],\"subCategory\":[]},{\"id\":10514,\"name\":\"Toalha de praia\",\"link\":\"/secoes/C10506/toalha-de-praia?ftr=facetSubShelf_ss:10506_Toalha de praia\",\"uiLink\":\"/cama-mesa-e-banho/banho/toalha-de-praia\",\"slug\":\"\",\"type\":\"SHELF\",\"bannerList\":[],\"subCategory\":[]},{\"id\":10510,\"name\":\"Tapete para banheiro\",\"link\":\"/secoes/C10506/tapete-para-banheiro?ftr=facetSubShelf_ss:10506_Tapete para banheiro\",\"uiLink\":\"/cama-mesa-e-banho/banho/tapete-para-banheiro\",\"slug\":\"\",\"type\":\"SHELF\",\"bannerList\":[],\"subCategory\":[]},{\"id\":10512,\"name\":\"Toalha de bebê\",\"link\":\"/secoes/C10506/toalha-de-bebe?ftr=facetSubShelf_ss:10506_Toalha de bebê\",\"uiLink\":\"/cama-mesa-e-banho/banho/toalha-de-bebe\",\"slug\":\"\",\"type\":\"SHELF\",\"bannerList\":[],\"subCategory\":[]},{\"id\":10513,\"name\":\"Toalha de cabelo\",\"link\":\"/secoes/C10506/toalha-de-cabelo?ftr=facetSubShelf_ss:10506_Toalha de cabelo\",\"uiLink\":\"/cama-mesa-e-banho/banho/toalha-de-cabelo\",\"slug\":\"\",\"type\":\"SHELF\",\"bannerList\":[],\"subCategory\":[]},{\"id\":10516,\"name\":\"Toalha poncho\",\"link\":\"/secoes/C10506/toalha-poncho?ftr=facetSubShelf_ss:10506_Toalha poncho\",\"uiLink\":\"/cama-mesa-e-banho/banho/toalha-poncho\",\"slug\":\"\",\"type\":\"SHELF\",\"bannerList\":[],\"subCategory\":[]},{\"id\":10509,\"name\":\"Roupão\",\"link\":\"/secoes/C10506/roupao?ftr=facetSubShelf_ss:10506_Roupão\",\"uiLink\":\"/cama-mesa-e-banho/banho/roupao\",\"slug\":\"\",\"type\":\"SHELF\",\"bannerList\":[],\"subCategory\":[]},{\"id\":10517,\"name\":\"Touca de banho\",\"link\":\"/secoes/C10506/touca-de-banho?ftr=facetSubShelf_ss:10506_Touca de banho\",\"uiLink\":\"/cama-mesa-e-banho/banho/touca-de-banho\",\"slug\":\"\",\"type\":\"SHELF\",\"bannerList\":[],\"subCategory\":[]},{\"id\":10508,\"name\":\"Pantufa\",\"link\":\"/secoes/C10506/pantufa?ftr=facetSubShelf_ss:10506_Pantufa\",\"uiLink\":\"/cama-mesa-e-banho/banho/pantufa\",\"slug\":\"\",\"type\":\"SHELF\",\"bannerList\":[],\"subCategory\":[]},{\"id\":10507,\"name\":\"Outros itens de banho\",\"link\":\"/secoes/C10506/outros-itens-de-banho?ftr=facetSubShelf_ss:10506_Outros itens de banho\",\"uiLink\":\"/cama-mesa-e-banho/banho/outros-itens-de-banho\",\"slug\":\"\",\"type\":\"SHELF\",\"bannerList\":[],\"subCategory\":[]}]},{\"id\":10518,\"name\":\"Cama\",\"link\":\"/secoes/C10505/cama?ftr=facetSubShelf_ss:10505_Cama\",\"uiLink\":\"/cama-mesa-e-banho/cama\",\"slug\":\"\",\"type\":\"SHELF\",\"bannerList\":[],\"subCategory\":[{\"id\":10520,\"name\":\"Cobertores e mantas\",\"link\":\"/secoes/C10518/cobertores-e-mantas?ftr=facetSubShelf_ss:10518_Cobertores e mantas\",\"uiLink\":\"/cama-mesa-e-banho/cama/cobertores-e-mantas\",\"slug\":\"\",\"type\":\"SHELF\",\"bannerList\":[],\"subCategory\":[]},{\"id\":10527,\"name\":\"Lençol e fronha\",\"link\":\"/secoes/C10518/lencol-e-fronha?ftr=facetSubShelf_ss:10518_Lençol e fronha\",\"uiLink\":\"/cama-mesa-e-banho/cama/lencol-e-fronha\",\"slug\":\"\",\"type\":\"SHELF\",\"bannerList\":[],\"subCategory\":[]},{\"id\":10530,\"name\":\"Travesseiros\",\"link\":\"/secoes/C10518/travesseiros?ftr=facetSubShelf_ss:10518_Travesseiros\",\"uiLink\":\"/cama-mesa-e-banho/cama/travesseiros\",\"slug\":\"\",\"type\":\"SHELF\",\"bannerList\":[],\"subCategory\":[]},{\"id\":10522,\"name\":\"Colchões\",\"link\":\"/secoes/C10518/colchoes?ftr=facetSubShelf_ss:10518_Colchões\",\"uiLink\":\"/cama-mesa-e-banho/cama/colchoes\",\"slug\":\"\",\"type\":\"SHELF\",\"bannerList\":[],\"subCategory\":[]},{\"id\":10529,\"name\":\"Protetores e capa de colchão\",\"link\":\"/secoes/C10518/protetores-e-capa-de-colchao?ftr=facetSubShelf_ss:10518_Protetores e capa de colchão\",\"uiLink\":\"/cama-mesa-e-banho/cama/protetores-e-capa-de-colchao\",\"slug\":\"\",\"type\":\"SHELF\",\"bannerList\":[],\"subCategory\":[]},{\"id\":10523,\"name\":\"Edredom\",\"link\":\"/secoes/C10518/edredom?ftr=facetSubShelf_ss:10518_Edredom\",\"uiLink\":\"/cama-mesa-e-banho/cama/edredom\",\"slug\":\"\",\"type\":\"SHELF\",\"bannerList\":[],\"subCategory\":[]},{\"id\":10521,\"name\":\"Cobre-leito e colchas\",\"link\":\"/secoes/C10518/cobre-leito-e-colchas?ftr=facetSubShelf_ss:10518_Cobre-leito e colchas\",\"uiLink\":\"/cama-mesa-e-banho/cama/cobre-leito-e-colchas\",\"slug\":\"\",\"type\":\"SHELF\",\"bannerList\":[],\"subCategory\":[]},{\"id\":10524,\"name\":\"Fragâncias para cama\",\"link\":\"/secoes/C10518/fragancias-para-cama?ftr=facetSubShelf_ss:10518_Fragâncias para cama\",\"uiLink\":\"/cama-mesa-e-banho/cama/fragancias-para-cama\",\"slug\":\"\",\"type\":\"SHELF\",\"bannerList\":[],\"subCategory\":[]},{\"id\":10525,\"name\":\"Jogo de cama\",\"link\":\"/secoes/C10518/jogo-de-cama?ftr=facetSubShelf_ss:10518_Jogo de cama\",\"uiLink\":\"/cama-mesa-e-banho/cama/jogo-de-cama\",\"slug\":\"\",\"type\":\"SHELF\",\"bannerList\":[],\"subCategory\":[]},{\"id\":10526,\"name\":\"Kits\",\"link\":\"/secoes/C10518/kits?ftr=facetSubShelf_ss:10518_Kits\",\"uiLink\":\"/cama-mesa-e-banho/cama/kits\",\"slug\":\"\",\"type\":\"SHELF\",\"bannerList\":[],\"subCategory\":[]},{\"id\":10528,\"name\":\"Outros itens de cama\",\"link\":\"/secoes/C10518/outros-itens-de-cama?ftr=facetSubShelf_ss:10518_Outros itens de cama\",\"uiLink\":\"/cama-mesa-e-banho/cama/outros-itens-de-cama\",\"slug\":\"\",\"type\":\"SHELF\",\"bannerList\":[],\"subCategory\":[]}]},{\"id\":10531,\"name\":\"Mesa\",\"link\":\"/secoes/C10505/mesa?ftr=facetSubShelf_ss:10505_Mesa\",\"uiLink\":\"/cama-mesa-e-banho/mesa\",\"slug\":\"\",\"type\":\"SHELF\",\"bannerList\":[],\"subCategory\":[{\"id\":10540,\"name\":\"Toalhas de mesa\",\"link\":\"/secoes/C10531/toalhas-de-mesa?ftr=facetSubShelf_ss:10531_Toalhas de mesa\",\"uiLink\":\"/cama-mesa-e-banho/mesa/toalhas-de-mesa\",\"slug\":\"\",\"type\":\"SHELF\",\"bannerList\":[],\"subCategory\":[]},{\"id\":10537,\"name\":\"Jogos americanos\",\"link\":\"/secoes/C10531/jogos-americanos?ftr=facetSubShelf_ss:10531_Jogos americanos\",\"uiLink\":\"/cama-mesa-e-banho/mesa/jogos-americanos\",\"slug\":\"\",\"type\":\"SHELF\",\"bannerList\":[],\"subCategory\":[]},{\"id\":10532,\"name\":\"Acessórios para a mesa\",\"link\":\"/secoes/C10531/acessorios-para-a-mesa?ftr=facetSubShelf_ss:10531_Acessórios para a mesa\",\"uiLink\":\"/cama-mesa-e-banho/mesa/acessorios-para-a-mesa\",\"slug\":\"\",\"type\":\"SHELF\",\"bannerList\":[],\"subCategory\":[]},{\"id\":10539,\"name\":\"Tapetes de cozinha\",\"link\":\"/secoes/C10531/tapetes-de-cozinha?ftr=facetSubShelf_ss:10531_Tapetes de cozinha\",\"uiLink\":\"/cama-mesa-e-banho/mesa/tapetes-de-cozinha\",\"slug\":\"\",\"type\":\"SHELF\",\"bannerList\":[],\"subCategory\":[]},{\"id\":10534,\"name\":\"Avental\",\"link\":\"/secoes/C10531/avental?ftr=facetSubShelf_ss:10531_Avental\",\"uiLink\":\"/cama-mesa-e-banho/mesa/avental\",\"slug\":\"\",\"type\":\"SHELF\",\"bannerList\":[],\"subCategory\":[]},{\"id\":10535,\"name\":\"Centro de mesa\",\"link\":\"/secoes/C10531/centro-de-mesa?ftr=facetSubShelf_ss:10531_Centro de mesa\",\"uiLink\":\"/cama-mesa-e-banho/mesa/centro-de-mesa\",\"slug\":\"\",\"type\":\"SHELF\",\"bannerList\":[],\"subCategory\":[]},{\"id\":10538,\"name\":\"Outros itens de mesa\",\"link\":\"/secoes/C10531/outros-itens-de-mesa?ftr=facetSubShelf_ss:10531_Outros itens de mesa\",\"uiLink\":\"/cama-mesa-e-banho/mesa/outros-itens-de-mesa\",\"slug\":\"\",\"type\":\"SHELF\",\"bannerList\":[],\"subCategory\":[]}]}],\"bannerList\":[]},{\"id\":11145,\"link\":\"/secoes/C11145/papelaria\",\"uiLink\":\"/papelaria\",\"slug\":\"\",\"name\":\"Papelaria\",\"icon\":\"/img/uploads/1/841/667841.png\",\"metaDescription\":\"Para quem vive a rotina de estudos, ter acesso aos produtos de Papelaria é fundamental, não é mesmo? Pensando nisso, selecionamos itens de primeira qualidade para você. Confira no site!\",\"type\":\"SHELF\",\"subCategory\":[{\"id\":11155,\"name\":\"Material Escolar\",\"link\":\"/secoes/C11145/material-escolar?ftr=facetSubShelf_ss:11145_Material Escolar\",\"uiLink\":\"/papelaria/material-escolar\",\"slug\":\"\",\"type\":\"SHELF\",\"bannerList\":[],\"subCategory\":[{\"id\":11157,\"name\":\"Cadernos\",\"link\":\"/secoes/C11155/cadernos?ftr=facetSubShelf_ss:11155_Cadernos\",\"uiLink\":\"/papelaria/material-escolar/cadernos\",\"slug\":\"\",\"type\":\"SHELF\",\"bannerList\":[],\"subCategory\":[]},{\"id\":11158,\"name\":\"Estojos\",\"link\":\"/secoes/C11155/estojos?ftr=facetSubShelf_ss:11155_Estojos\",\"uiLink\":\"/papelaria/material-escolar/estojos\",\"slug\":\"\",\"type\":\"SHELF\",\"bannerList\":[],\"subCategory\":[]},{\"id\":11163,\"name\":\"Mochilas\",\"link\":\"/secoes/C11155/mochilas?ftr=facetSubShelf_ss:11155_Mochilas\",\"uiLink\":\"/papelaria/material-escolar/mochilas\",\"slug\":\"\",\"type\":\"SHELF\",\"bannerList\":[],\"subCategory\":[]},{\"id\":11160,\"name\":\"Lancheiras\",\"link\":\"/secoes/C11155/lancheiras?ftr=facetSubShelf_ss:11155_Lancheiras\",\"uiLink\":\"/papelaria/material-escolar/lancheiras\",\"slug\":\"\",\"type\":\"SHELF\",\"bannerList\":[],\"subCategory\":[]},{\"id\":11161,\"name\":\"Lápis, canetas e lapiseiras\",\"link\":\"/secoes/C11155/lapis-canetas-e-lapiseiras?ftr=facetSubShelf_ss:11155_Lápis, canetas e lapiseiras\",\"uiLink\":\"/papelaria/material-escolar/lapis-canetas-e-lapiseiras\",\"slug\":\"\",\"type\":\"SHELF\",\"bannerList\":[],\"subCategory\":[]},{\"id\":11156,\"name\":\"Borrachas, corretivos e apontadores\",\"link\":\"/secoes/C11155/borrachas-corretivos-e-apontadores?ftr=facetSubShelf_ss:11155_Borrachas, corretivos e apontadores\",\"uiLink\":\"/papelaria/material-escolar/borrachas-corretivos-e-apontadores\",\"slug\":\"\",\"type\":\"SHELF\",\"bannerList\":[],\"subCategory\":[]},{\"id\":11164,\"name\":\"Outros itens de escrita e desenho\",\"link\":\"/secoes/C11155/outros-itens-de-escrita-e-desenho?ftr=facetSubShelf_ss:11155_Outros itens de escrita e desenho\",\"uiLink\":\"/papelaria/material-escolar/outros-itens-de-escrita-e-desenho\",\"slug\":\"\",\"type\":\"SHELF\",\"bannerList\":[],\"subCategory\":[]},{\"id\":11162,\"name\":\"Material de pintura\",\"link\":\"/secoes/C11155/material-de-pintura?ftr=facetSubShelf_ss:11155_Material de pintura\",\"uiLink\":\"/papelaria/material-escolar/material-de-pintura\",\"slug\":\"\",\"type\":\"SHELF\",\"bannerList\":[],\"subCategory\":[]},{\"id\":11159,\"name\":\"Fichários e pastas\",\"link\":\"/secoes/C11155/ficharios-e-pastas?ftr=facetSubShelf_ss:11155_Fichários e pastas\",\"uiLink\":\"/papelaria/material-escolar/ficharios-e-pastas\",\"slug\":\"\",\"type\":\"SHELF\",\"bannerList\":[],\"subCategory\":[]},{\"id\":11166,\"name\":\"Papel sulfite\",\"link\":\"/secoes/C11155/papel-sulfite?ftr=facetSubShelf_ss:11155_Papel sulfite\",\"uiLink\":\"/papelaria/material-escolar/papel-sulfite\",\"slug\":\"\",\"type\":\"SHELF\",\"bannerList\":[],\"subCategory\":[]},{\"id\":11165,\"name\":\"Outros materiais escolares\",\"link\":\"/secoes/C11155/outros-materiais-escolares?ftr=facetSubShelf_ss:11155_Outros materiais escolares\",\"uiLink\":\"/papelaria/material-escolar/outros-materiais-escolares\",\"slug\":\"\",\"type\":\"SHELF\",\"bannerList\":[],\"subCategory\":[]}]},{\"id\":11146,\"name\":\"Material de escritório\",\"link\":\"/secoes/C11145/material-de-escritorio?ftr=facetSubShelf_ss:11145_Material de escritório\",\"uiLink\":\"/papelaria/material-de-escritorio\",\"slug\":\"\",\"type\":\"SHELF\",\"bannerList\":[],\"subCategory\":[{\"id\":11152,\"name\":\"Pastas\",\"link\":\"/secoes/C11146/pastas?ftr=facetSubShelf_ss:11146_Pastas\",\"uiLink\":\"/papelaria/material-de-escritorio/pastas\",\"slug\":\"\",\"type\":\"SHELF\",\"bannerList\":[],\"subCategory\":[]},{\"id\":11147,\"name\":\"Agendas\",\"link\":\"/secoes/C11146/agendas?ftr=facetSubShelf_ss:11146_Agendas\",\"uiLink\":\"/papelaria/material-de-escritorio/agendas\",\"slug\":\"\",\"type\":\"SHELF\",\"bannerList\":[],\"subCategory\":[]},{\"id\":11149,\"name\":\"Fitas adesivas e etiquetas\",\"link\":\"/secoes/C11146/fitas-adesivas-e-etiquetas?ftr=facetSubShelf_ss:11146_Fitas adesivas e etiquetas\",\"uiLink\":\"/papelaria/material-de-escritorio/fitas-adesivas-e-etiquetas\",\"slug\":\"\",\"type\":\"SHELF\",\"bannerList\":[],\"subCategory\":[]},{\"id\":11151,\"name\":\"Outros materiais de escritório\",\"link\":\"/secoes/C11146/outros-materiais-de-escritorio?ftr=facetSubShelf_ss:11146_Outros materiais de escritório\",\"uiLink\":\"/papelaria/material-de-escritorio/outros-materiais-de-escritorio\",\"slug\":\"\",\"type\":\"SHELF\",\"bannerList\":[],\"subCategory\":[]}]},{\"id\":11167,\"name\":\"Outros materiais de papelaria\",\"link\":\"/secoes/C11145/outros-materiais-de-papelaria?ftr=facetSubShelf_ss:11145_Outros materiais de papelaria\",\"uiLink\":\"/papelaria/outros-materiais-de-papelaria\",\"slug\":\"\",\"type\":\"SHELF\",\"bannerList\":[],\"subCategory\":[{\"id\":11175,\"name\":\"Papel para presente e embalagem\",\"link\":\"/secoes/C11167/papel-para-presente-e-embalagem?ftr=facetSubShelf_ss:11167_Papel para presente e embalagem\",\"uiLink\":\"/papelaria/outros-materiais-de-papelaria/papel-para-presente-e-embalagem\",\"slug\":\"\",\"type\":\"SHELF\",\"bannerList\":[],\"subCategory\":[]},{\"id\":11169,\"name\":\"Cadernos de anotação\",\"link\":\"/secoes/C11167/cadernos-de-anotacao?ftr=facetSubShelf_ss:11167_Cadernos de anotação\",\"uiLink\":\"/papelaria/outros-materiais-de-papelaria/cadernos-de-anotacao\",\"slug\":\"\",\"type\":\"SHELF\",\"bannerList\":[],\"subCategory\":[]},{\"id\":11170,\"name\":\"Calendários\",\"link\":\"/secoes/C11167/calendarios?ftr=facetSubShelf_ss:11167_Calendários\",\"uiLink\":\"/papelaria/outros-materiais-de-papelaria/calendarios\",\"slug\":\"\",\"type\":\"SHELF\",\"bannerList\":[],\"subCategory\":[]},{\"id\":11174,\"name\":\"Papeis em geral\",\"link\":\"/secoes/C11167/papeis-em-geral?ftr=facetSubShelf_ss:11167_Papeis em geral\",\"uiLink\":\"/papelaria/outros-materiais-de-papelaria/papeis-em-geral\",\"slug\":\"\",\"type\":\"SHELF\",\"bannerList\":[],\"subCategory\":[]},{\"id\":11173,\"name\":\"Outros itens\",\"link\":\"/secoes/C11167/outros-itens?ftr=facetSubShelf_ss:11167_Outros itens\",\"uiLink\":\"/papelaria/outros-materiais-de-papelaria/outros-itens\",\"slug\":\"\",\"type\":\"SHELF\",\"bannerList\":[],\"subCategory\":[]}]}],\"bannerList\":[]},{\"id\":10477,\"link\":\"/secoes/C10477/brinquedos-e-jogos\",\"uiLink\":\"/brinquedos-e-jogos\",\"slug\":\"\",\"name\":\"Brinquedos e jogos\",\"icon\":\"/img/uploads/1/818/667818.png\",\"metaDescription\":\"Seja para presentear, ou até mesmo para passar o tempo, os Brinquedos e Jogos são uma ótima opção. Acesse nosso site e confira o que temos para você!\",\"type\":\"SHELF\",\"subCategory\":[{\"id\":10497,\"name\":\"Jogos \",\"link\":\"/secoes/C10477/jogos-?ftr=facetSubShelf_ss:10477_Jogos \",\"uiLink\":\"/brinquedos-e-jogos/jogos-\",\"slug\":\"\",\"type\":\"SHELF\",\"bannerList\":[],\"subCategory\":[{\"id\":10500,\"name\":\"Jogos de tabuleiro\",\"link\":\"/secoes/C10497/jogos-de-tabuleiro?ftr=facetSubShelf_ss:10497_Jogos de tabuleiro\",\"uiLink\":\"/brinquedos-e-jogos/jogos-/jogos-de-tabuleiro\",\"slug\":\"\",\"type\":\"SHELF\",\"bannerList\":[],\"subCategory\":[]},{\"id\":10499,\"name\":\"jogos de carta\",\"link\":\"/secoes/C10497/jogos-de-carta?ftr=facetSubShelf_ss:10497_jogos de carta\",\"uiLink\":\"/brinquedos-e-jogos/jogos-/jogos-de-carta\",\"slug\":\"\",\"type\":\"SHELF\",\"bannerList\":[],\"subCategory\":[]},{\"id\":10501,\"name\":\"Jogos eletrônicos\",\"link\":\"/secoes/C10497/jogos-eletronicos?ftr=facetSubShelf_ss:10497_Jogos eletrônicos\",\"uiLink\":\"/brinquedos-e-jogos/jogos-/jogos-eletronicos\",\"slug\":\"\",\"type\":\"SHELF\",\"bannerList\":[],\"subCategory\":[]},{\"id\":10498,\"name\":\"Jogos clássicos\",\"link\":\"/secoes/C10497/jogos-classicos?ftr=facetSubShelf_ss:10497_Jogos clássicos\",\"uiLink\":\"/brinquedos-e-jogos/jogos-/jogos-classicos\",\"slug\":\"\",\"type\":\"SHELF\",\"bannerList\":[],\"subCategory\":[]},{\"id\":10504,\"name\":\"Quebra-cabeças\",\"link\":\"/secoes/C10497/quebra-cabecas?ftr=facetSubShelf_ss:10497_Quebra-cabeças\",\"uiLink\":\"/brinquedos-e-jogos/jogos-/quebra-cabecas\",\"slug\":\"\",\"type\":\"SHELF\",\"bannerList\":[],\"subCategory\":[]},{\"id\":10502,\"name\":\"Jogos infantis\",\"link\":\"/secoes/C10497/jogos-infantis?ftr=facetSubShelf_ss:10497_Jogos infantis\",\"uiLink\":\"/brinquedos-e-jogos/jogos-/jogos-infantis\",\"slug\":\"\",\"type\":\"SHELF\",\"bannerList\":[],\"subCategory\":[]},{\"id\":10503,\"name\":\"Outros jogos\",\"link\":\"/secoes/C10497/outros-jogos?ftr=facetSubShelf_ss:10497_Outros jogos\",\"uiLink\":\"/brinquedos-e-jogos/jogos-/outros-jogos\",\"slug\":\"\",\"type\":\"SHELF\",\"bannerList\":[],\"subCategory\":[]}]},{\"id\":10478,\"name\":\"Brinquedos\",\"link\":\"/secoes/C10477/brinquedos?ftr=facetSubShelf_ss:10477_Brinquedos\",\"uiLink\":\"/brinquedos-e-jogos/brinquedos\",\"slug\":\"\",\"type\":\"SHELF\",\"bannerList\":[],\"subCategory\":[{\"id\":10483,\"name\":\"Brinquedos de montar\",\"link\":\"/secoes/C10478/brinquedos-de-montar?ftr=facetSubShelf_ss:10478_Brinquedos de montar\",\"uiLink\":\"/brinquedos-e-jogos/brinquedos/brinquedos-de-montar\",\"slug\":\"\",\"type\":\"SHELF\",\"bannerList\":[],\"subCategory\":[]},{\"id\":10482,\"name\":\"Bonecos e carrinhos\",\"link\":\"/secoes/C10478/bonecos-e-carrinhos?ftr=facetSubShelf_ss:10478_Bonecos e carrinhos\",\"uiLink\":\"/brinquedos-e-jogos/brinquedos/bonecos-e-carrinhos\",\"slug\":\"\",\"type\":\"SHELF\",\"bannerList\":[],\"subCategory\":[]},{\"id\":10481,\"name\":\"Bonecas\",\"link\":\"/secoes/C10478/bonecas?ftr=facetSubShelf_ss:10478_Bonecas\",\"uiLink\":\"/brinquedos-e-jogos/brinquedos/bonecas\",\"slug\":\"\",\"type\":\"SHELF\",\"bannerList\":[],\"subCategory\":[]},{\"id\":10489,\"name\":\"Pelúcia\",\"link\":\"/secoes/C10478/pelucia?ftr=facetSubShelf_ss:10478_Pelúcia\",\"uiLink\":\"/brinquedos-e-jogos/brinquedos/pelucia\",\"slug\":\"\",\"type\":\"SHELF\",\"bannerList\":[],\"subCategory\":[]},{\"id\":10490,\"name\":\"Playground\",\"link\":\"/secoes/C10478/playground?ftr=facetSubShelf_ss:10478_Playground\",\"uiLink\":\"/brinquedos-e-jogos/brinquedos/playground\",\"slug\":\"\",\"type\":\"SHELF\",\"bannerList\":[],\"subCategory\":[]},{\"id\":10484,\"name\":\"Brinquedos eletrônicos\",\"link\":\"/secoes/C10478/brinquedos-eletronicos?ftr=facetSubShelf_ss:10478_Brinquedos eletrônicos\",\"uiLink\":\"/brinquedos-e-jogos/brinquedos/brinquedos-eletronicos\",\"slug\":\"\",\"type\":\"SHELF\",\"bannerList\":[],\"subCategory\":[]},{\"id\":10486,\"name\":\"Massinhas e slimes\",\"link\":\"/secoes/C10478/massinhas-e-slimes?ftr=facetSubShelf_ss:10478_Massinhas e slimes\",\"uiLink\":\"/brinquedos-e-jogos/brinquedos/massinhas-e-slimes\",\"slug\":\"\",\"type\":\"SHELF\",\"bannerList\":[],\"subCategory\":[]},{\"id\":10479,\"name\":\"Artes e atividades\",\"link\":\"/secoes/C10478/artes-e-atividades?ftr=facetSubShelf_ss:10478_Artes e atividades\",\"uiLink\":\"/brinquedos-e-jogos/brinquedos/artes-e-atividades\",\"slug\":\"\",\"type\":\"SHELF\",\"bannerList\":[],\"subCategory\":[]},{\"id\":10480,\"name\":\"Autoramas e pistas\",\"link\":\"/secoes/C10478/autoramas-e-pistas?ftr=facetSubShelf_ss:10478_Autoramas e pistas\",\"uiLink\":\"/brinquedos-e-jogos/brinquedos/autoramas-e-pistas\",\"slug\":\"\",\"type\":\"SHELF\",\"bannerList\":[],\"subCategory\":[]},{\"id\":10487,\"name\":\"Organizadores e acessórios\",\"link\":\"/secoes/C10478/organizadores-e-acessorios?ftr=facetSubShelf_ss:10478_Organizadores e acessórios\",\"uiLink\":\"/brinquedos-e-jogos/brinquedos/organizadores-e-acessorios\",\"slug\":\"\",\"type\":\"SHELF\",\"bannerList\":[],\"subCategory\":[]},{\"id\":10485,\"name\":\"Faz de conta\",\"link\":\"/secoes/C10478/faz-de-conta?ftr=facetSubShelf_ss:10478_Faz de conta\",\"uiLink\":\"/brinquedos-e-jogos/brinquedos/faz-de-conta\",\"slug\":\"\",\"type\":\"SHELF\",\"bannerList\":[],\"subCategory\":[]},{\"id\":10488,\"name\":\"Outros brinquedos\",\"link\":\"/secoes/C10478/outros-brinquedos?ftr=facetSubShelf_ss:10478_Outros brinquedos\",\"uiLink\":\"/brinquedos-e-jogos/brinquedos/outros-brinquedos\",\"slug\":\"\",\"type\":\"SHELF\",\"bannerList\":[],\"subCategory\":[]}]},{\"id\":10492,\"name\":\"Colecionáveis e miniaturas\",\"link\":\"/secoes/C10477/colecionaveis-e-miniaturas?ftr=facetSubShelf_ss:10477_Colecionáveis e miniaturas\",\"uiLink\":\"/brinquedos-e-jogos/colecionaveis-e-miniaturas\",\"slug\":\"\",\"type\":\"SHELF\",\"bannerList\":[],\"subCategory\":[{\"id\":10493,\"name\":\"Bonecos e action figures\",\"link\":\"/secoes/C10492/bonecos-e-action-figures?ftr=facetSubShelf_ss:10492_Bonecos e action figures\",\"uiLink\":\"/brinquedos-e-jogos/colecionaveis-e-miniaturas/bonecos-e-action-figures\",\"slug\":\"\",\"type\":\"SHELF\",\"bannerList\":[],\"subCategory\":[]},{\"id\":10494,\"name\":\"Carrinhos e outros veículos\",\"link\":\"/secoes/C10492/carrinhos-e-outros-veiculos?ftr=facetSubShelf_ss:10492_Carrinhos e outros veículos\",\"uiLink\":\"/brinquedos-e-jogos/colecionaveis-e-miniaturas/carrinhos-e-outros-veiculos\",\"slug\":\"\",\"type\":\"SHELF\",\"bannerList\":[],\"subCategory\":[]},{\"id\":10495,\"name\":\"Miniaturas e funkos\",\"link\":\"/secoes/C10492/miniaturas-e-funkos?ftr=facetSubShelf_ss:10492_Miniaturas e funkos\",\"uiLink\":\"/brinquedos-e-jogos/colecionaveis-e-miniaturas/miniaturas-e-funkos\",\"slug\":\"\",\"type\":\"SHELF\",\"bannerList\":[],\"subCategory\":[]},{\"id\":10496,\"name\":\"Outros colecionáveis\",\"link\":\"/secoes/C10492/outros-colecionaveis?ftr=facetSubShelf_ss:10492_Outros colecionáveis\",\"uiLink\":\"/brinquedos-e-jogos/colecionaveis-e-miniaturas/outros-colecionaveis\",\"slug\":\"\",\"type\":\"SHELF\",\"bannerList\":[],\"subCategory\":[]}]}],\"bannerList\":[]},{\"id\":10256,\"link\":\"/secoes/C10256/automotivos\",\"uiLink\":\"/automotivos\",\"slug\":\"\",\"name\":\"Automotivos\",\"icon\":\"/img/uploads/1/811/667811.png\",\"metaDescription\":\"Procurando itens Automotivos pelos melhores preços? Confira o catálogo de produtos em nosso site, e aproveite!\",\"type\":\"SHELF\",\"subCategory\":[{\"id\":10257,\"name\":\"Armazenamento e carga\",\"link\":\"/secoes/C10256/armazenamento-e-carga?ftr=facetSubShelf_ss:10256_Armazenamento e carga\",\"uiLink\":\"/automotivos/armazenamento-e-carga\",\"slug\":\"\",\"type\":\"SHELF\",\"bannerList\":[],\"subCategory\":[{\"id\":10259,\"name\":\"Bolsas e mochilas\",\"link\":\"/secoes/C10257/bolsas-e-mochilas?ftr=facetSubShelf_ss:10257_Bolsas e mochilas\",\"uiLink\":\"/automotivos/armazenamento-e-carga/bolsas-e-mochilas\",\"slug\":\"\",\"type\":\"SHELF\",\"bannerList\":[],\"subCategory\":[]}]},{\"id\":10270,\"name\":\"Eletrônicos para veículos\",\"link\":\"/secoes/C10256/eletronicos-para-veiculos?ftr=facetSubShelf_ss:10256_Eletrônicos para veículos\",\"uiLink\":\"/automotivos/eletronicos-para-veiculos\",\"slug\":\"\",\"type\":\"SHELF\",\"bannerList\":[],\"subCategory\":[{\"id\":10271,\"name\":\"Acessórios e adaptadores\",\"link\":\"/secoes/C10270/acessorios-e-adaptadores?ftr=facetSubShelf_ss:10270_Acessórios e adaptadores\",\"uiLink\":\"/automotivos/eletronicos-para-veiculos/acessorios-e-adaptadores\",\"slug\":\"\",\"type\":\"SHELF\",\"bannerList\":[],\"subCategory\":[]},{\"id\":10275,\"name\":\"Outros equipamentos\",\"link\":\"/secoes/C10270/outros-equipamentos?ftr=facetSubShelf_ss:10270_Outros equipamentos\",\"uiLink\":\"/automotivos/eletronicos-para-veiculos/outros-equipamentos\",\"slug\":\"\",\"type\":\"SHELF\",\"bannerList\":[],\"subCategory\":[]}]},{\"id\":10276,\"name\":\"Ferramentas e manutenção\",\"link\":\"/secoes/C10256/ferramentas-e-manutencao?ftr=facetSubShelf_ss:10256_Ferramentas e manutenção\",\"uiLink\":\"/automotivos/ferramentas-e-manutencao\",\"slug\":\"\",\"type\":\"SHELF\",\"bannerList\":[],\"subCategory\":[{\"id\":10277,\"name\":\"Acessórios de manutenção\",\"link\":\"/secoes/C10276/acessorios-de-manutencao?ftr=facetSubShelf_ss:10276_Acessórios de manutenção\",\"uiLink\":\"/automotivos/ferramentas-e-manutencao/acessorios-de-manutencao\",\"slug\":\"\",\"type\":\"SHELF\",\"bannerList\":[],\"subCategory\":[]},{\"id\":10278,\"name\":\"Capas e proteção\",\"link\":\"/secoes/C10276/capas-e-protecao?ftr=facetSubShelf_ss:10276_Capas e proteção\",\"uiLink\":\"/automotivos/ferramentas-e-manutencao/capas-e-protecao\",\"slug\":\"\",\"type\":\"SHELF\",\"bannerList\":[],\"subCategory\":[]},{\"id\":10280,\"name\":\"Ferramentas\",\"link\":\"/secoes/C10276/ferramentas?ftr=facetSubShelf_ss:10276_Ferramentas\",\"uiLink\":\"/automotivos/ferramentas-e-manutencao/ferramentas\",\"slug\":\"\",\"type\":\"SHELF\",\"bannerList\":[],\"subCategory\":[]},{\"id\":10281,\"name\":\"Outros produtos\",\"link\":\"/secoes/C10276/outros-produtos?ftr=facetSubShelf_ss:10276_Outros produtos\",\"uiLink\":\"/automotivos/ferramentas-e-manutencao/outros-produtos\",\"slug\":\"\",\"type\":\"SHELF\",\"bannerList\":[],\"subCategory\":[]}]},{\"id\":10282,\"name\":\"Limpeza e polimento\",\"link\":\"/secoes/C10256/limpeza-e-polimento?ftr=facetSubShelf_ss:10256_Limpeza e polimento\",\"uiLink\":\"/automotivos/limpeza-e-polimento\",\"slug\":\"\",\"type\":\"SHELF\",\"bannerList\":[],\"subCategory\":[{\"id\":10283,\"name\":\"Acessórios de limpeza\",\"link\":\"/secoes/C10282/acessorios-de-limpeza?ftr=facetSubShelf_ss:10282_Acessórios de limpeza\",\"uiLink\":\"/automotivos/limpeza-e-polimento/acessorios-de-limpeza\",\"slug\":\"\",\"type\":\"SHELF\",\"bannerList\":[],\"subCategory\":[]},{\"id\":10285,\"name\":\"Pintura de veículos\",\"link\":\"/secoes/C10282/pintura-de-veiculos?ftr=facetSubShelf_ss:10282_Pintura de veículos\",\"uiLink\":\"/automotivos/limpeza-e-polimento/pintura-de-veiculos\",\"slug\":\"\",\"type\":\"SHELF\",\"bannerList\":[],\"subCategory\":[]},{\"id\":10286,\"name\":\"Polidores\",\"link\":\"/secoes/C10282/polidores?ftr=facetSubShelf_ss:10282_Polidores\",\"uiLink\":\"/automotivos/limpeza-e-polimento/polidores\",\"slug\":\"\",\"type\":\"SHELF\",\"bannerList\":[],\"subCategory\":[]},{\"id\":10287,\"name\":\"Produtos de limpeza\",\"link\":\"/secoes/C10282/produtos-de-limpeza?ftr=facetSubShelf_ss:10282_Produtos de limpeza\",\"uiLink\":\"/automotivos/limpeza-e-polimento/produtos-de-limpeza\",\"slug\":\"\",\"type\":\"SHELF\",\"bannerList\":[],\"subCategory\":[]}]},{\"id\":10306,\"name\":\"Pneus, rodas e calotas\",\"link\":\"/secoes/C10256/pneus-rodas-e-calotas?ftr=facetSubShelf_ss:10256_Pneus, rodas e calotas\",\"uiLink\":\"/automotivos/pneus-rodas-e-calotas\",\"slug\":\"\",\"type\":\"SHELF\",\"bannerList\":[],\"subCategory\":[{\"id\":10307,\"name\":\"Pneus\",\"link\":\"/secoes/C10306/pneus?ftr=facetSubShelf_ss:10306_Pneus\",\"uiLink\":\"/automotivos/pneus-rodas-e-calotas/pneus\",\"slug\":\"\",\"type\":\"SHELF\",\"bannerList\":[],\"subCategory\":[]},{\"id\":10308,\"name\":\"Rodas e calotas\",\"link\":\"/secoes/C10306/rodas-e-calotas?ftr=facetSubShelf_ss:10306_Rodas e calotas\",\"uiLink\":\"/automotivos/pneus-rodas-e-calotas/rodas-e-calotas\",\"slug\":\"\",\"type\":\"SHELF\",\"bannerList\":[],\"subCategory\":[]}]}],\"bannerList\":[]},{\"id\":11013,\"link\":\"/secoes/C11013/moda\",\"uiLink\":\"/moda\",\"slug\":\"\",\"name\":\"Moda\",\"icon\":\"/img/uploads/1/839/667839.png\",\"metaDescription\":\"Andar conectado com a Moda, ficou ainda mais fácil com o Paodeacucar.com! Em nosso site, temos itens selecionados especialmente para você. Confira!\",\"type\":\"SHELF\",\"subCategory\":[{\"id\":11032,\"name\":\"Moda infantil\",\"link\":\"/secoes/C11013/moda-infantil?ftr=facetSubShelf_ss:11013_Moda infantil\",\"uiLink\":\"/moda/moda-infantil\",\"slug\":\"\",\"type\":\"SHELF\",\"bannerList\":[],\"subCategory\":[{\"id\":11035,\"name\":\"Roupas\",\"link\":\"/secoes/C11032/roupas?ftr=facetSubShelf_ss:11032_Roupas\",\"uiLink\":\"/moda/moda-infantil/roupas\",\"slug\":\"\",\"type\":\"SHELF\",\"bannerList\":[],\"subCategory\":[]}]},{\"id\":11041,\"name\":\"Moda masculina\",\"link\":\"/secoes/C11013/moda-masculina?ftr=facetSubShelf_ss:11013_Moda masculina\",\"uiLink\":\"/moda/moda-masculina\",\"slug\":\"\",\"type\":\"SHELF\",\"bannerList\":[],\"subCategory\":[{\"id\":11043,\"name\":\"Moda praia\",\"link\":\"/secoes/C11041/moda-praia?ftr=facetSubShelf_ss:11041_Moda praia\",\"uiLink\":\"/moda/moda-masculina/moda-praia\",\"slug\":\"\",\"type\":\"SHELF\",\"bannerList\":[],\"subCategory\":[]}]}],\"bannerList\":[]}]},\"componentProps\":{\"initialParams\":{\"storeId\":501,\"maxResults\":\"12\",\"sort\":null,\"customerId\":\"\",\"skipResults\":0,\"filters\":{\"filters\":[]},\"ppc\":null,\"sellType\":null,\"t\":null,\"isMultiSearch\":false},\"initialQueries\":{\"utmSource\":null,\"utmMedium\":null,\"utmCampaign\":null,\"utmTerm\":null,\"utmContent\":null,\"w\":\"coxão  mole\",\"qt\":\"12\",\"s\":null,\"p\":0,\"gt\":\"grid\",\"c\":\"\",\"t\":null,\"isSpecial\":false},\"responseS3\":null,\"searchResponse\":{\"result_meta\":{\"total\":9,\"this_page\":9,\"requested\":12},\"userid\":\"968370723\",\"pages\":{\"total\":1,\"current\":{\"name\":1,\"start\":0}},\"manual_click_logging\":\"p=LG\\\\u0026lot=json\\\\u0026lbc=paodeacucar\\\\u0026uid=968370723\\\\u0026ts=json-full\\\\u0026w=cox%c3%a3o%20%20mole\\\\u0026method=and\\\\u0026isort=score\",\"automatic_click_logging\":\"p=R\\\\u0026lot=json\\\\u0026lbc=paodeacucar\\\\u0026uid=968370723\\\\u0026ts=json-full\\\\u0026w=cox%c3%a3o%20%20mole\\\\u0026method=and\\\\u0026isort=score\",\"facets\":[{\"id\":\"categoria\",\"name\":\"Categoria\",\"total_count\":2,\"values\":[{\"id\":\"bovina\",\"name\":\"Bovina\",\"count\":9},{\"id\":\"swift\",\"name\":\"Swift\",\"count\":2}]},{\"id\":\"partner\",\"name\":\"Vendido Por\",\"total_count\":1,\"values\":[{\"id\":\"paodeacucar\",\"name\":\"Pão de Açúcar\",\"count\":9}]},{\"id\":\"marca\",\"name\":\"Marca\",\"total_count\":2,\"values\":[{\"id\":\"bassi\",\"name\":\"bassi\",\"count\":1},{\"id\":\"confrariagourmet\",\"name\":\"confraria gourmet\",\"count\":1}]},{\"id\":\"pb\",\"name\":\"Preço\",\"total_count\":2,\"values\":[{\"id\":\"01\",\"name\":\"R$10 - R$25\",\"count\":3},{\"id\":\"02\",\"name\":\"R$25 - R$50\",\"count\":6}]}],\"results\":[{\"title\":\"Coxão Mole Bovino Peça Resfriado Bandeja 1kg\",\"url\":\"https://www.paodeacucar.com/produto/64376\",\"text\":\"\",\"rank\":1,\"shelfList\":[],\"s_id\":0,\"image_url\":\"http://www.paodeacucar.com/img/uploads/1/450/666450x200x200.jpg\",\"price\":\"49,90\",\"instock\":\"1\",\"shelfname\":\"bovina\",\"sku\":\"0034838\",\"mainShelfId\":\"10070\",\"categorias\":[\"Bovina\"]},{\"title\":\"Coxão Mole (Chã de Dentro) em Bife Bandeja 500g\",\"url\":\"https://www.paodeacucar.com/produto/168491\",\"text\":\"BIFE \\\\u003cb\\\\u003eCOXAO\\\\u003c/b\\\\u003e \\\\u003cb\\\\u003eMOLE\\\\u003c/b\\\\u003e BOVINO 500G\",\"rank\":2,\"shelfList\":[],\"s_id\":0,\"image_url\":\"http://www.paodeacucar.com/img/uploads/1/984/471984x200x200.jpg\",\"price\":\"25,17\",\"instock\":\"1\",\"shelfname\":\"bovina\",\"sku\":\"0077224\",\"mainShelfId\":\"10070\",\"categorias\":[\"Bovina\"]},{\"title\":\"Coxão Mole para Strogonoff Resfriado Bandeja 400g\",\"url\":\"https://www.paodeacucar.com/produto/28742\",\"text\":\"STROGONOFCOXAOMOLE BOVRESF400G\",\"rank\":3,\"shelfList\":[],\"s_id\":0,\"image_url\":\"http://www.paodeacucar.com/img/uploads/1/579/511579x200x200.jpg\",\"price\":\"27,20\",\"instock\":\"1\",\"shelfname\":\"bovina\",\"sku\":\"0082587\",\"mainShelfId\":\"10070\",\"categorias\":[\"Bovina\"]},{\"title\":\"Coxão Mole Capa Bovino Resfriado Bandeja 500g\",\"url\":\"https://www.paodeacucar.com/produto/78629\",\"text\":\"CAPA \\\\u003cb\\\\u003eCOXAO\\\\u003c/b\\\\u003e \\\\u003cb\\\\u003eMOLE\\\\u003c/b\\\\u003e BOV RESF 500g\",\"rank\":4,\"shelfList\":[],\"s_id\":0,\"image_url\":\"http://www.paodeacucar.com/img/uploads/1/928/471928x200x200.jpg\",\"price\":\"24,50\",\"instock\":\"1\",\"shelfname\":\"bovina\",\"sku\":\"0021890\",\"mainShelfId\":\"10070\",\"brand\":\"BASSI\",\"categorias\":[\"Bovina\"]},{\"title\":\"Tiras de Strogonoff de Coxão Mole Bovino Resfriado 400g\",\"url\":\"https://www.paodeacucar.com/produto/185333\",\"text\":\"STEAK DE\",\"rank\":5,\"shelfList\":[],\"s_id\":0,\"image_url\":\"http://www.paodeacucar.com/img/uploads/1/471/665471x200x200.jpg\",\"price\":\"24,39\",\"instock\":\"0\",\"shelfname\":\"bovina\",\"sku\":\"0611626\",\"mainShelfId\":\"10070\",\"categorias\":[\"Bovina\"]},{\"title\":\"Coxão Mole Resfriada Novilho CONFRARIA GOURMET Bandeja 500g\",\"url\":\"https://www.paodeacucar.com/produto/113329\",\"text\":\"CG \\\\u003cb\\\\u003eCOXAO\\\\u003c/b\\\\u003e \\\\u003cb\\\\u003eMOLE\\\\u003c/b\\\\u003e NOVILHO BIFE 500G\",\"rank\":6,\"shelfList\":[],\"s_id\":0,\"image_url\":\"http://www.paodeacucar.com/img/uploads/1/618/645618x200x200.jpg\",\"price\":\"39,99\",\"instock\":\"0\",\"shelfname\":\"bovina\",\"sku\":\"0465786\",\"mainShelfId\":\"10070\",\"brand\":\"CONFRARIA GOURMET\",\"categorias\":[\"Bovina\"]},{\"title\":\"Tiras de Coxão Mole Congelado SWIFT 500G\",\"url\":\"https://www.paodeacucar.com/produto/419262\",\"text\":\"TIRAS DE \\\\u003cb\\\\u003eCOXAO\\\\u003c/b\\\\u003e \\\\u003cb\\\\u003eMOLE\\\\u003c/b\\\\u003e SWIFT 500G\",\"rank\":7,\"shelfList\":[],\"s_id\":0,\"image_url\":\"http://www.paodeacucar.com/img/uploads/1/509/11879509x200x200.png\",\"price\":\"21,39\",\"instock\":\"0\",\"shelfname\":\"bovina\",\"sku\":\"1160957\",\"mainShelfId\":\"10070\",\"categorias\":[\"Bovina\",\"Swift\"]},{\"title\":\"Coxão Mole para Strogonoff Rubia Gallega Qualitá 400g\",\"url\":\"https://www.paodeacucar.com/produto/181580\",\"text\":\"BUCHO RUBIA BOV NC KG\",\"rank\":8,\"shelfList\":[],\"s_id\":0,\"image_url\":\"http://www.paodeacucar.com/img/uploads/1/395/647395x200x200.jpg\",\"price\":\"26,26\",\"instock\":\"0\",\"shelfname\":\"bovina\",\"sku\":\"0115636\",\"mainShelfId\":\"10070\",\"categorias\":[\"Bovina\"]},{\"title\":\"Cubos De Coxão Mole SWIFT 500g\",\"url\":\"https://www.paodeacucar.com/produto/419193\",\"text\":\"CUBOS DE \\\\u003cb\\\\u003eCOXAO\\\\u003c/b\\\\u003e \\\\u003cb\\\\u003eMOLE\\\\u003c/b\\\\u003e SWIFT 500G\",\"rank\":9,\"shelfList\":[],\"s_id\":0,\"image_url\":\"http://www.paodeacucar.com/img/uploads/1/160/605160x200x200.png\",\"price\":\"25,93\",\"instock\":\"0\",\"shelfname\":\"bovina\",\"sku\":\"7561535\",\"mainShelfId\":\"10070\",\"categorias\":[\"Bovina\",\"Swift\"]}],\"productList\":[{\"id\":64376,\"stock\":true,\"priceType\":\"P\",\"price\":49.9,\"priceFrom\":null,\"pricePromo\":null,\"pricePromoMinimumQt\":null,\"productPromotions\":null,\"productPromotion\":null,\"priceProgressiveMap\":null,\"progressivePriceList\":null,\"unitPriceHomogeneousKit\":null,\"unitPricePromotionHomogeneousKit\":null,\"sku\":\"0034838\",\"brand\":null,\"facebookCodePixels\":null,\"mainShelf\":10070,\"mapOfImages\":{\"0\":{\"BIG\":\"/img/uploads/1/450/666450.jpg\",\"SMALL\":\"/img/uploads/1/450/666450x80x80.jpg\",\"MEDIUM\":\"/img/uploads/1/450/666450x200x200.jpg\",\"ALLOWZOOM\":true}},\"type\":\"simpleProduct\",\"urlDetails\":\"/produto/64376/coxao-mole-bovino-peca-resfriado-bandeja-1kg\",\"shelfList\":[{\"active\":true,\"id\":10070,\"name\":\"Bovina\",\"parentId\":10069,\"uiLink\":\"/alimentos/carnes-e-aves/carnes/bovina\"},{\"active\":true,\"id\":10069,\"name\":\"Carnes\",\"parentId\":10063,\"uiLink\":\"/alimentos/carnes-e-aves/carnes\"},{\"active\":true,\"id\":10063,\"name\":\"Carnes e aves\",\"parentId\":10000,\"uiLink\":\"/alimentos/carnes-e-aves\"},{\"active\":true,\"id\":10000,\"name\":\"Alimentos\",\"uiLink\":\"/alimentos\"}],\"provider\":null,\"name\":\"Coxão Mole Bovino Peça Resfriado Bandeja 1kg\",\"thumbPath\":\"/img/uploads/1/450/666450x50x50.jpg\",\"attributes\":{},\"sellerName\":\"Pão de Açúcar\",\"sellerId\":null,\"storeId\":501,\"sellType\":\"1P\",\"skuSeller\":null},{\"id\":168491,\"stock\":true,\"priceType\":\"P\",\"price\":25.17,\"priceFrom\":null,\"pricePromo\":null,\"pricePromoMinimumQt\":null,\"productPromotions\":null,\"productPromotion\":null,\"priceProgressiveMap\":null,\"progressivePriceList\":null,\"unitPriceHomogeneousKit\":null,\"unitPricePromotionHomogeneousKit\":null,\"sku\":\"0077224\",\"brand\":null,\"facebookCodePixels\":null,\"mainShelf\":10070,\"mapOfImages\":{\"0\":{\"BIG\":\"/img/uploads/1/984/471984.jpg\",\"SMALL\":\"/img/uploads/1/984/471984x80x80.jpg\",\"MEDIUM\":\"/img/uploads/1/984/471984x200x200.jpg\",\"ALLOWZOOM\":true}},\"type\":\"simpleProduct\",\"urlDetails\":\"/produto/168491/coxao-mole-(cha-de-dentro)-em-bife-bandeja-500g\",\"shelfList\":[{\"active\":true,\"id\":10070,\"name\":\"Bovina\",\"parentId\":10069,\"uiLink\":\"/alimentos/carnes-e-aves/carnes/bovina\"},{\"active\":true,\"id\":10069,\"name\":\"Carnes\",\"parentId\":10063,\"uiLink\":\"/alimentos/carnes-e-aves/carnes\"},{\"active\":true,\"id\":10063,\"name\":\"Carnes e aves\",\"parentId\":10000,\"uiLink\":\"/alimentos/carnes-e-aves\"},{\"active\":true,\"id\":10000,\"name\":\"Alimentos\",\"uiLink\":\"/alimentos\"}],\"provider\":null,\"name\":\"Coxão Mole (Chã de Dentro) em Bife Bandeja 500g\",\"thumbPath\":\"/img/uploads/1/984/471984x50x50.jpg\",\"attributes\":{\"Gorduras totais\":\"6,0g\",\"Gorduras totais VD\":\"7\",\"Gorduras saturadas\":\"2,0g\",\"Rodape\":\"(*) Valores Diários de Referência com base em uma dieta de 2.500 calorias. \\\\u003cbr\\\\u003e\",\"Proteínas\":\"21g\",\"Carboidratos\":\"0g\",\"Carboidratos VD\":\"0\",\"Gorduras saturadas VD\":\"8\",\"Sódio\":\"130mg\",\"Cabecalho\":\"Informação Nutricional\\\\u003cbr\\\\u003e Porção de 100g|Quantidade por porção|%VD*\",\"Proteínas VD\":\"42\",\"Sódio VD\":\"5\"},\"sellerName\":\"Pão de Açúcar\",\"sellerId\":null,\"storeId\":501,\"sellType\":\"1P\",\"skuSeller\":null},{\"id\":28742,\"stock\":true,\"priceType\":\"P\",\"price\":27.2,\"priceFrom\":null,\"pricePromo\":null,\"pricePromoMinimumQt\":null,\"productPromotions\":null,\"productPromotion\":null,\"priceProgressiveMap\":null,\"progressivePriceList\":null,\"unitPriceHomogeneousKit\":null,\"unitPricePromotionHomogeneousKit\":null,\"sku\":\"0082587\",\"brand\":null,\"facebookCodePixels\":null,\"mainShelf\":10070,\"mapOfImages\":{\"0\":{\"BIG\":\"/img/uploads/1/579/511579.jpg\",\"SMALL\":\"/img/uploads/1/579/511579x80x80.jpg\",\"MEDIUM\":\"/img/uploads/1/579/511579x200x200.jpg\",\"ALLOWZOOM\":true}},\"type\":\"simpleProduct\",\"urlDetails\":\"/produto/28742/coxao-mole-para-strogonoff-resfriado-bandeja-400g\",\"shelfList\":[{\"active\":true,\"id\":10070,\"name\":\"Bovina\",\"parentId\":10069,\"uiLink\":\"/alimentos/carnes-e-aves/carnes/bovina\"},{\"active\":true,\"id\":10069,\"name\":\"Carnes\",\"parentId\":10063,\"uiLink\":\"/alimentos/carnes-e-aves/carnes\"},{\"active\":true,\"id\":10063,\"name\":\"Carnes e aves\",\"parentId\":10000,\"uiLink\":\"/alimentos/carnes-e-aves\"},{\"active\":true,\"id\":10000,\"name\":\"Alimentos\",\"uiLink\":\"/alimentos\"}],\"provider\":null,\"name\":\"Coxão Mole para Strogonoff Resfriado Bandeja 400g\",\"thumbPath\":\"/img/uploads/1/579/511579x50x50.jpg\",\"attributes\":{\"Gorduras totais\":\"6,0g\",\"Gorduras totais VD\":\"7\",\"Gorduras saturadas\":\"2,0g\",\"Rodape\":\"(*) Valores Diários de Referência com base em uma dieta de 2.500 calorias. \\\\u003cbr\\\\u003e\",\"Proteínas\":\"21g\",\"Carboidratos\":\"0g\",\"Carboidratos VD\":\"0\",\"Gorduras saturadas VD\":\"8\",\"Sódio\":\"130mg\",\"Cabecalho\":\"Informação Nutricional\\\\u003cbr\\\\u003e Porção de 100g|Quantidade por porção|%VD*\",\"Proteínas VD\":\"42\",\"Sódio VD\":\"5\"},\"sellerName\":\"Pão de Açúcar\",\"sellerId\":null,\"storeId\":501,\"sellType\":\"1P\",\"skuSeller\":null},{\"id\":78629,\"stock\":true,\"priceType\":\"P\",\"price\":24.5,\"priceFrom\":null,\"pricePromo\":null,\"pricePromoMinimumQt\":null,\"productPromotions\":null,\"productPromotion\":null,\"priceProgressiveMap\":null,\"progressivePriceList\":null,\"unitPriceHomogeneousKit\":null,\"unitPricePromotionHomogeneousKit\":null,\"sku\":\"0021890\",\"brand\":\"BASSI\",\"facebookCodePixels\":null,\"mainShelf\":10070,\"mapOfImages\":{\"0\":{\"BIG\":\"/img/uploads/1/928/471928.jpg\",\"SMALL\":\"/img/uploads/1/928/471928x80x80.jpg\",\"MEDIUM\":\"/img/uploads/1/928/471928x200x200.jpg\",\"ALLOWZOOM\":true}},\"type\":\"simpleProduct\",\"urlDetails\":\"/produto/78629/coxao-mole-capa-bovino-resfriado-bandeja-500g\",\"shelfList\":[{\"active\":true,\"id\":10070,\"name\":\"Bovina\",\"parentId\":10069,\"uiLink\":\"/alimentos/carnes-e-aves/carnes/bovina\"},{\"active\":true,\"id\":10069,\"name\":\"Carnes\",\"parentId\":10063,\"uiLink\":\"/alimentos/carnes-e-aves/carnes\"},{\"active\":true,\"id\":10063,\"name\":\"Carnes e aves\",\"parentId\":10000,\"uiLink\":\"/alimentos/carnes-e-aves\"},{\"active\":true,\"id\":10000,\"name\":\"Alimentos\",\"uiLink\":\"/alimentos\"}],\"provider\":null,\"name\":\"Coxão Mole Capa Bovino Resfriado Bandeja 500g\",\"thumbPath\":\"/img/uploads/1/928/471928x50x50.jpg\",\"attributes\":{\"Valor Energético\":\"146kcal\",\"Gorduras saturadas VD\":\"9\",\"Sódio\":\"132mg\",\"Gorduras Trans VD\":\"**\",\"Cabecalho\":\"Informação Nutricional \\\\u003cb\\\\u003ePorção de 100g|Quantidade por porção|%VD*\",\"Proteínas VD\":\"28\",\"Gorduras Trans\":\"não contém\",\"Sódio VD\":\"5\",\"Gorduras totais\":\"6,1g\",\"Gorduras totais VD\":\"11\",\"Gorduras saturadas\":\"2,0g\",\"Valor Energético VD\":\"7\",\"Marca\":\"BASSI\",\"Rodape\":\"(*) Valores Diários de Referência com base em uma dieta de 2.000 calorias ou 8.400 Kj. \\\\u003cbr\\\\u003e(** )Valor Não Estabelecido \\\\u003cbr\\\\u003e\",\"Proteínas\":\"21g\",\"Carboidratos\":\"não contém\",\"Carboidratos VD\":\"0\"},\"sellerName\":\"Pão de Açúcar\",\"sellerId\":null,\"storeId\":501,\"sellType\":\"1P\",\"skuSeller\":null},{\"id\":185333,\"stock\":false,\"priceType\":\"P\",\"price\":24.39,\"priceFrom\":null,\"pricePromo\":null,\"pricePromoMinimumQt\":null,\"productPromotions\":null,\"productPromotion\":null,\"priceProgressiveMap\":null,\"progressivePriceList\":null,\"unitPriceHomogeneousKit\":null,\"unitPricePromotionHomogeneousKit\":null,\"sku\":\"0611626\",\"brand\":null,\"facebookCodePixels\":null,\"mainShelf\":10070,\"mapOfImages\":{\"0\":{\"BIG\":\"/img/uploads/1/471/665471.jpg\",\"SMALL\":\"/img/uploads/1/471/665471x80x80.jpg\",\"MEDIUM\":\"/img/uploads/1/471/665471x200x200.jpg\",\"ALLOWZOOM\":true}},\"type\":\"simpleProduct\",\"urlDetails\":\"/produto/185333/tiras-de-strogonoff-de-coxao-mole-bovino-resfriado-400g\",\"shelfList\":[{\"active\":true,\"id\":10070,\"name\":\"Bovina\",\"parentId\":10069,\"uiLink\":\"/alimentos/carnes-e-aves/carnes/bovina\"},{\"active\":true,\"id\":10069,\"name\":\"Carnes\",\"parentId\":10063,\"uiLink\":\"/alimentos/carnes-e-aves/carnes\"},{\"active\":true,\"id\":10063,\"name\":\"Carnes e aves\",\"parentId\":10000,\"uiLink\":\"/alimentos/carnes-e-aves\"},{\"active\":true,\"id\":10000,\"name\":\"Alimentos\",\"uiLink\":\"/alimentos\"}],\"provider\":null,\"name\":\"Tiras de Strogonoff de Coxão Mole Bovino Resfriado 400g\",\"thumbPath\":\"/img/uploads/1/471/665471x50x50.jpg\",\"attributes\":{},\"sellerName\":\"Pão de Açúcar\",\"sellerId\":null,\"storeId\":501,\"sellType\":\"1P\",\"skuSeller\":null},{\"id\":113329,\"stock\":false,\"priceType\":\"P\",\"price\":39.99,\"priceFrom\":null,\"pricePromo\":null,\"pricePromoMinimumQt\":null,\"productPromotions\":null,\"productPromotion\":null,\"priceProgressiveMap\":null,\"progressivePriceList\":null,\"unitPriceHomogeneousKit\":null,\"unitPricePromotionHomogeneousKit\":null,\"sku\":\"0465786\",\"brand\":\"CONFRARIA GOURMET\",\"facebookCodePixels\":null,\"mainShelf\":10070,\"mapOfImages\":{\"0\":{\"BIG\":\"/img/uploads/1/618/645618.jpg\",\"SMALL\":\"/img/uploads/1/618/645618x80x80.jpg\",\"MEDIUM\":\"/img/uploads/1/618/645618x200x200.jpg\",\"ALLOWZOOM\":true}},\"type\":\"simpleProduct\",\"urlDetails\":\"/produto/113329/coxao-mole-resfriada-novilho-confraria-gourmet-bandeja-500g\",\"shelfList\":[{\"active\":true,\"id\":10070,\"name\":\"Bovina\",\"parentId\":10069,\"uiLink\":\"/alimentos/carnes-e-aves/carnes/bovina\"},{\"active\":true,\"id\":10069,\"name\":\"Carnes\",\"parentId\":10063,\"uiLink\":\"/alimentos/carnes-e-aves/carnes\"},{\"active\":true,\"id\":10063,\"name\":\"Carnes e aves\",\"parentId\":10000,\"uiLink\":\"/alimentos/carnes-e-aves\"},{\"active\":true,\"id\":10000,\"name\":\"Alimentos\",\"uiLink\":\"/alimentos\"}],\"provider\":null,\"name\":\"Coxão Mole Resfriada Novilho CONFRARIA GOURMET Bandeja 500g\",\"thumbPath\":\"/img/uploads/1/618/645618x50x50.jpg\",\"attributes\":{\"Item\":\"Coxão Mole / Chã de Dentro\",\"Tipo\":\"Resfriado\",\"Marca\":\"CONFRARIA GOURMET\"},\"sellerName\":\"Pão de Açúcar\",\"sellerId\":null,\"storeId\":501,\"sellType\":\"1P\",\"skuSeller\":null},{\"id\":419262,\"stock\":false,\"priceType\":\"P\",\"price\":21.39,\"priceFrom\":null,\"pricePromo\":null,\"pricePromoMinimumQt\":null,\"productPromotions\":null,\"productPromotion\":null,\"priceProgressiveMap\":null,\"progressivePriceList\":null,\"unitPriceHomogeneousKit\":null,\"unitPricePromotionHomogeneousKit\":null,\"sku\":\"1160957\",\"brand\":null,\"facebookCodePixels\":null,\"mainShelf\":10070,\"mapOfImages\":{\"0\":{\"BIG\":\"/img/uploads/1/509/11879509.png\",\"SMALL\":\"/img/uploads/1/509/11879509x80x80.png\",\"MEDIUM\":\"/img/uploads/1/509/11879509x200x200.png\",\"ALLOWZOOM\":true},\"1\":{\"BIG\":\"/img/uploads/1/508/11879508.png\",\"SMALL\":\"/img/uploads/1/508/11879508x80x80.png\",\"MEDIUM\":\"/img/uploads/1/508/11879508x200x200.png\",\"ALLOWZOOM\":true},\"2\":{\"BIG\":\"/img/uploads/1/37/11883037.png\",\"SMALL\":\"/img/uploads/1/37/11883037x80x80.png\",\"MEDIUM\":\"/img/uploads/1/37/11883037x200x200.png\",\"ALLOWZOOM\":true}},\"type\":\"simpleProduct\",\"urlDetails\":\"/produto/419262/tiras-de-coxao-mole-congelado-swift-500g\",\"shelfList\":[{\"active\":true,\"id\":10070,\"name\":\"Bovina\",\"parentId\":10069,\"uiLink\":\"/alimentos/carnes-e-aves/carnes/bovina\"},{\"active\":true,\"id\":10069,\"name\":\"Carnes\",\"parentId\":10063,\"uiLink\":\"/alimentos/carnes-e-aves/carnes\"},{\"active\":true,\"id\":10063,\"name\":\"Carnes e aves\",\"parentId\":10000,\"uiLink\":\"/alimentos/carnes-e-aves\"},{\"active\":true,\"id\":10000,\"name\":\"Alimentos\",\"uiLink\":\"/alimentos\"}],\"provider\":null,\"name\":\"Tiras de Coxão Mole Congelado SWIFT 500G\",\"thumbPath\":\"/img/uploads/1/509/11879509x50x50.png\",\"attributes\":{},\"sellerName\":\"Pão de Açúcar\",\"sellerId\":null,\"storeId\":501,\"sellType\":\"1P\",\"skuSeller\":null},{\"id\":181580,\"stock\":false,\"priceType\":\"P\",\"price\":26.26,\"priceFrom\":null,\"pricePromo\":null,\"pricePromoMinimumQt\":null,\"productPromotions\":null,\"productPromotion\":null,\"priceProgressiveMap\":null,\"progressivePriceList\":null,\"unitPriceHomogeneousKit\":null,\"unitPricePromotionHomogeneousKit\":null,\"sku\":\"0115636\",\"brand\":null,\"facebookCodePixels\":null,\"mainShelf\":10070,\"mapOfImages\":{\"0\":{\"BIG\":\"/img/uploads/1/395/647395.jpg\",\"SMALL\":\"/img/uploads/1/395/647395x80x80.jpg\",\"MEDIUM\":\"/img/uploads/1/395/647395x200x200.jpg\",\"ALLOWZOOM\":true}},\"type\":\"simpleProduct\",\"urlDetails\":\"/produto/181580/coxao-mole-para-strogonoff-rubia-gallega-qualita-400g\",\"shelfList\":[{\"active\":true,\"id\":10070,\"name\":\"Bovina\",\"parentId\":10069,\"uiLink\":\"/alimentos/carnes-e-aves/carnes/bovina\"},{\"active\":true,\"id\":10069,\"name\":\"Carnes\",\"parentId\":10063,\"uiLink\":\"/alimentos/carnes-e-aves/carnes\"},{\"active\":true,\"id\":10063,\"name\":\"Carnes e aves\",\"parentId\":10000,\"uiLink\":\"/alimentos/carnes-e-aves\"},{\"active\":true,\"id\":10000,\"name\":\"Alimentos\",\"uiLink\":\"/alimentos\"}],\"provider\":null,\"name\":\"Coxão Mole para Strogonoff Rubia Gallega Qualitá 400g\",\"thumbPath\":\"/img/uploads/1/395/647395x50x50.jpg\",\"attributes\":{},\"sellerName\":\"Pão de Açúcar\",\"sellerId\":null,\"storeId\":501,\"sellType\":\"1P\",\"skuSeller\":null},{\"id\":419193,\"stock\":false,\"priceType\":\"P\",\"price\":25.93,\"priceFrom\":null,\"pricePromo\":null,\"pricePromoMinimumQt\":null,\"productPromotions\":null,\"productPromotion\":null,\"priceProgressiveMap\":null,\"progressivePriceList\":null,\"unitPriceHomogeneousKit\":null,\"unitPricePromotionHomogeneousKit\":null,\"sku\":\"7561535\",\"brand\":null,\"facebookCodePixels\":null,\"mainShelf\":10070,\"mapOfImages\":{\"0\":{\"BIG\":\"/img/uploads/1/160/605160.png\",\"SMALL\":\"/img/uploads/1/160/605160x80x80.png\",\"MEDIUM\":\"/img/uploads/1/160/605160x200x200.png\",\"ALLOWZOOM\":true},\"1\":{\"BIG\":\"/img/uploads/1/517/605517.jpg\",\"SMALL\":\"/img/uploads/1/517/605517x80x80.jpg\",\"MEDIUM\":\"/img/uploads/1/517/605517x200x200.jpg\",\"ALLOWZOOM\":true},\"2\":{\"BIG\":\"/img/uploads/1/777/11899777.png\",\"SMALL\":\"/img/uploads/1/777/11899777x80x80.png\",\"MEDIUM\":\"/img/uploads/1/777/11899777x200x200.png\",\"ALLOWZOOM\":true}},\"type\":\"simpleProduct\",\"urlDetails\":\"/produto/419193/cubos-de-coxao-mole-swift-500g\",\"shelfList\":[{\"active\":true,\"id\":10070,\"name\":\"Bovina\",\"parentId\":10069,\"uiLink\":\"/alimentos/carnes-e-aves/carnes/bovina\"},{\"active\":true,\"id\":10069,\"name\":\"Carnes\",\"parentId\":10063,\"uiLink\":\"/alimentos/carnes-e-aves/carnes\"},{\"active\":true,\"id\":10063,\"name\":\"Carnes e aves\",\"parentId\":10000,\"uiLink\":\"/alimentos/carnes-e-aves\"},{\"active\":true,\"id\":10000,\"name\":\"Alimentos\",\"uiLink\":\"/alimentos\"}],\"provider\":null,\"name\":\"Cubos De Coxão Mole SWIFT 500g\",\"thumbPath\":\"/img/uploads/1/160/605160x50x50.png\",\"attributes\":{},\"sellerName\":\"Pão de Açúcar\",\"sellerId\":null,\"storeId\":501,\"sellType\":\"1P\",\"skuSeller\":null}],\"totalProducts\":9,\"qtyRequestedProducts\":12}}},\"initialState\":{\"address\":{\"selectedAddress\":null,\"userAddresses\":[],\"lastUsedZipCode\":null,\"isLoadingAddressess\":false,\"isLoadingLastAddress\":false},\"cart\":{\"available\":[],\"actual\":{\"productList\":[]},\"isLoading\":false,\"hasFinished\":false,\"isAdding\":false,\"quantity\":0,\"deleted\":[],\"isReady\":false,\"baskets\":[],\"hasStore\":false,\"hasSeller\":false,\"sellers\":[],\"currentBasketStoreId\":null,\"isShortSideCartRendering\":false},\"deliveryOptions\":{\"selectedDeliveryOption\":null,\"selectedDeliveryOptionStoreId\":501,\"isDriveThru\":false,\"deliveryOptions\":[],\"deliveryOptionsSchedule\":[],\"availableDriveThruStores\":[],\"driveThruStoreSchedule\":[],\"isLoadingDeliveryOptions\":false,\"isLoadingDriveThruStores\":false,\"isLoadingDriveThruStoreSchedule\":false,\"storeId\":501,\"typeId\":null,\"selectedDriveThruOnModal\":null},\"login\":{\"loading\":false,\"accessToken\":\"\",\"refreshToken\":\"\",\"expiresIn\":null,\"customerName\":\"\",\"customerFirstName\":\"\",\"isLogged\":false},\"user\":{\"phones\":[],\"username\":null,\"fidelityStatus\":false,\"acceptPrivacyPolicy\":true,\"isLoadingUserPhones\":false,\"trackedDelivery\":null},\"modal\":{\"DeliveryOptionsModal\":{\"isOpen\":false},\"SelectActiveAddress\":{\"isOpen\":false},\"LoginSectionModal\":{\"isOpen\":false},\"SideCart\":{\"isOpen\":false},\"DriveThruSelectStore\":{\"isOpen\":false},\"GuidedPurchasePromotionProductsModal\":{\"isOpen\":false},\"PrivacyPolicyModal\":{\"isOpen\":false},\"DefaultOverlay\":{\"isOpen\":false},\"MethodSelectionModal\":{\"isOpen\":false},\"IdentificationModal\":{\"isOpen\":false},\"GetAppModal\":{\"isOpen\":false},\"SmsCodeVerificationModal\":{\"isOpen\":false},\"NewPasswordModal\":{\"isOpen\":false},\"ResendEmailLink\":{\"isOpen\":false}},\"guidedPurchase\":{\"isLoading\":false,\"erpCode\":null,\"lastRequestDate\":null,\"categories\":[],\"categoriesPromotions\":{},\"isFetchingProducts\":null},\"ficOffer\":{\"isLoadingOffer\":false,\"offer\":{},\"isActivePurchase\":false},\"analytics\":{\"dataLayer\":{}},\"order\":{\"trackedDelivery\":null,\"lastTrackedDeliveryId\":null},\"recoveryPassword\":{\"maskedCellphone\":null,\"maskedEmail\":null,\"token\":null,\"smsCodeExpirationMoment\":null,\"newLinkTimeout\":null,\"document\":null,\"email\":null,\"isLoading\":false,\"isLoadingUserInfo\":false}}},\"page\":\"/base/busca\",\"query\":{\"0\":\"/busca\",\"brand\":\"pa\",\"w\":\"coxão  mole\",\"qt\":\"12\",\"p\":\"1\",\"gt\":\"grid\"},\"buildId\":\"NBbxvacDk1A7x926n1YH6\",\"isFallback\":false,\"customServer\":true,\"gip\":true,\"appGip\":true,\"head\":[[\"link\",{\"real\":\"canonical\",\"href\":\"https://www.paodeacucar.com\"}],[\"link\",{\"rel\":\"shortcut icon\",\"href\":\"https://static.gpa.digital/images/pa/favicon.ico\"}],[\"link\",{\"rel\":\"stylesheet\",\"href\":\"https://static.gpa.digital/css/pa/fonts.css\",\"defer\":\"defer\",\"async\":\"async\"}],[\"link\",{\"rel\":\"preconnect\",\"href\":\"https://www.googletagmanager.com/\",\"crossOrigin\":\"crossorigin\"}],[\"link\",{\"rel\":\"preconnect\",\"href\":\"https://assets.adobedtm.com/\",\"crossOrigin\":\"crossorigin\"}],[\"link\",{\"rel\":\"preconnect\",\"href\":\"https://cdnjs.cloudflare.com/\",\"crossOrigin\":\"crossorigin\"}],[\"link\",{\"rel\":\"preconnect\",\"href\":\"https://b.sli-spark.com/\",\"crossOrigin\":\"crossorigin\"}],[\"link\",{\"rel\":\"preconnect\",\"href\":\"https://s3-sa-east-1.amazonaws.com/\",\"crossOrigin\":\"crossorigin\"}],[\"meta\",{\"property\":\"og:type\",\"content\":\"website\"}],[\"meta\",{\"property\":\"og:title\",\"content\":\"Pão de Açúcar | Supermercado Online\"}],[\"meta\",{\"property\":\"og:site_name\",\"content\":\"Pão de Açúcar\"}],[\"meta\",{\"property\":\"og:url\",\"content\":\"https://www.paodeacucar.com\"}],[\"meta\",{\"property\":\"og:description\",\"content\":\"Você já imaginou fazer supermercado online? Compre pela internet no Paodeacucar.com sem sair de casa e receba todos os produtos que você precisa, onde quiser!\"}],[\"meta\",{\"property\":\"og:image\",\"content\":\"https://static.gpa.digital/images/pa/logo-pa-share-image.png\"}],[\"script\",{\"rel\":\"preconnect\",\"crossOrigin\":\"crossorigin\",\"type\":\"text/javascript\",\"src\":\"https://b.sli-spark.com/sli-spark-3p.js\",\"async\":true,\"defer\":true}],[\"script\",{\"type\":\"text/javascript\",\"src\":\"https://s3-sa-east-1.amazonaws.com/assets.standout.com.br/js/script-standout-gpa.js\",\"async\":true,\"defer\":true}],[\"script\",{\"rel\":\"preconnect\",\"crossOrigin\":\"crossorigin\",\"src\":\"//assets.adobedtm.com/b075737ff6c3/dc5736e6f124/launch-b344edff13be.min.js\",\"async\":true}],[\"script\",{\"rel\":\"preconnect\",\"crossOrigin\":\"crossorigin\",\"src\":\"https://www.googletagmanager.com/gtm.js?id=GTM-KVR3T8\",\"async\":true}],[\"meta\",{\"charSet\":\"utf-8\"}],[\"title\",{\"children\":\"coxão  mole | Pão de Açúcar\"}],[\"meta\",{\"name\":\"description\",\"content\":\"Encontre os melhores produtos e ofertas aqui no seu supermercado online Pão de Açúcar!\"}],[\"meta\",{\"name\":\"robots\",\"content\":\"index, follow\"}],[\"link\",{\"real\":\"canonical\",\"href\":\"https://www.paodeacucar.com\"}],[\"meta\",{\"name\":\"viewport\",\"content\":\"width=device-width, initial-scale=1.0, maximum-scale=1.0, user-scalable=no\"}],[\"link\",{\"rel\":\"shortcut icon\",\"href\":\"https://static.gpa.digital/images/pa/favicon.ico\"}],[\"link\",{\"rel\":\"stylesheet\",\"href\":\"https://static.gpa.digital/css/pa/fonts.css\",\"defer\":\"defer\",\"async\":\"async\"}],[\"link\",{\"rel\":\"preconnect\",\"href\":\"https://www.googletagmanager.com/\",\"crossOrigin\":\"crossorigin\"}],[\"link\",{\"rel\":\"preconnect\",\"href\":\"https://assets.adobedtm.com/\",\"crossOrigin\":\"crossorigin\"}],[\"link\",{\"rel\":\"preconnect\",\"href\":\"https://cdnjs.cloudflare.com/\",\"crossOrigin\":\"crossorigin\"}],[\"link\",{\"rel\":\"preconnect\",\"href\":\"https://b.sli-spark.com/\",\"crossOrigin\":\"crossorigin\"}],[\"link\",{\"rel\":\"preconnect\",\"href\":\"https://s3-sa-east-1.amazonaws.com/\",\"crossOrigin\":\"crossorigin\"}],[\"meta\",{\"property\":\"og:type\",\"content\":\"website\"}],[\"meta\",{\"property\":\"og:title\",\"content\":\"coxão  mole | Pão de Açúcar\"}],[\"meta\",{\"property\":\"og:site_name\",\"content\":\"Pão de Açúcar\"}],[\"meta\",{\"property\":\"og:url\",\"content\":\"https://www.paodeacucar.com\"}],[\"meta\",{\"property\":\"og:description\",\"content\":\"Encontre os melhores produtos e ofertas aqui no seu supermercado online Pão de Açúcar!\"}],[\"meta\",{\"property\":\"og:image\",\"content\":\"https://static.gpa.digital/images/pa/logo-pa-share-image.png\"}],[\"script\",{\"rel\":\"preconnect\",\"crossOrigin\":\"crossorigin\",\"type\":\"text/javascript\",\"src\":\"https://b.sli-spark.com/sli-spark-3p.js\",\"async\":true,\"defer\":true}],[\"script\",{\"type\":\"text/javascript\",\"src\":\"https://s3-sa-east-1.amazonaws.com/assets.standout.com.br/js/script-standout-gpa.js\",\"async\":true,\"defer\":true}],[\"script\",{\"rel\":\"preconnect\",\"crossOrigin\":\"crossorigin\",\"src\":\"//assets.adobedtm.com/b075737ff6c3/dc5736e6f124/launch-b344edff13be.min.js\",\"async\":true}],[\"script\",{\"rel\":\"preconnect\",\"crossOrigin\":\"crossorigin\",\"src\":\"https://www.googletagmanager.com/gtm.js?id=GTM-KVR3T8\",\"async\":true}]]}'"
            ]
          },
          "metadata": {
            "tags": []
          },
          "execution_count": 24
        }
      ]
    },
    {
      "cell_type": "code",
      "metadata": {
        "id": "TYJOLGZhcrdB"
      },
      "source": [
        "import json"
      ],
      "execution_count": null,
      "outputs": []
    },
    {
      "cell_type": "code",
      "metadata": {
        "id": "5O_moDMyc4tK"
      },
      "source": [
        "jsn=json.loads(soup.find(\"html\").find(\"body\").find(\"script\").text)"
      ],
      "execution_count": null,
      "outputs": []
    },
    {
      "cell_type": "code",
      "metadata": {
        "colab": {
          "base_uri": "https://localhost:8080/"
        },
        "id": "7VVgdDA_gMBL",
        "outputId": "925bfbb1-ac76-483d-f524-ee069c8c8b5c"
      },
      "source": [
        "jsn.keys()"
      ],
      "execution_count": null,
      "outputs": [
        {
          "output_type": "execute_result",
          "data": {
            "text/plain": [
              "dict_keys(['props', 'page', 'query', 'buildId', 'isFallback', 'customServer', 'gip', 'appGip', 'head'])"
            ]
          },
          "metadata": {
            "tags": []
          },
          "execution_count": 32
        }
      ]
    },
    {
      "cell_type": "code",
      "metadata": {
        "colab": {
          "base_uri": "https://localhost:8080/"
        },
        "id": "6cL46LrTgiqb",
        "outputId": "8b919211-1b6a-42ba-c8f5-8b69a687aaa5"
      },
      "source": [
        "jsn['props'].keys()"
      ],
      "execution_count": null,
      "outputs": [
        {
          "output_type": "execute_result",
          "data": {
            "text/plain": [
              "dict_keys(['initialProps', 'initialState'])"
            ]
          },
          "metadata": {
            "tags": []
          },
          "execution_count": 42
        }
      ]
    },
    {
      "cell_type": "code",
      "metadata": {
        "colab": {
          "base_uri": "https://localhost:8080/"
        },
        "id": "7BuHp7LbgsRk",
        "outputId": "2e489d32-e8c9-4fef-8108-730e828fba58"
      },
      "source": [
        "jsn['props']['initialProps']['componentProps']['initialParams']"
      ],
      "execution_count": null,
      "outputs": [
        {
          "output_type": "execute_result",
          "data": {
            "text/plain": [
              "{'customerId': '',\n",
              " 'filters': {'filters': []},\n",
              " 'isMultiSearch': False,\n",
              " 'maxResults': '12',\n",
              " 'ppc': None,\n",
              " 'sellType': None,\n",
              " 'skipResults': 0,\n",
              " 'sort': None,\n",
              " 'storeId': 501,\n",
              " 't': None}"
            ]
          },
          "metadata": {
            "tags": []
          },
          "execution_count": 49
        }
      ]
    },
    {
      "cell_type": "code",
      "metadata": {
        "colab": {
          "base_uri": "https://localhost:8080/"
        },
        "id": "9WL6rDDohT4f",
        "outputId": "27a069b1-7409-4976-a0d4-c4c5be80ebf4"
      },
      "source": [
        "jsn['props']['initialProps']['componentProps'].keys()"
      ],
      "execution_count": null,
      "outputs": [
        {
          "output_type": "execute_result",
          "data": {
            "text/plain": [
              "dict_keys(['initialParams', 'initialQueries', 'responseS3', 'searchResponse'])"
            ]
          },
          "metadata": {
            "tags": []
          },
          "execution_count": 53
        }
      ]
    },
    {
      "cell_type": "code",
      "metadata": {
        "colab": {
          "base_uri": "https://localhost:8080/"
        },
        "id": "Dux4Wyh_huSe",
        "outputId": "885f9c4d-3e22-4605-90c8-e4cabb8d93c6"
      },
      "source": [
        "jsn['props']['initialProps']['componentProps']['searchResponse'].keys()"
      ],
      "execution_count": null,
      "outputs": [
        {
          "output_type": "execute_result",
          "data": {
            "text/plain": [
              "dict_keys(['result_meta', 'userid', 'pages', 'manual_click_logging', 'automatic_click_logging', 'facets', 'results', 'productList', 'totalProducts', 'qtyRequestedProducts'])"
            ]
          },
          "metadata": {
            "tags": []
          },
          "execution_count": 55
        }
      ]
    },
    {
      "cell_type": "code",
      "metadata": {
        "colab": {
          "base_uri": "https://localhost:8080/"
        },
        "id": "j1uwonLLh5_H",
        "outputId": "2ab3f835-1528-4165-9006-7c5b988c3d3a"
      },
      "source": [
        "jsn['props']['initialProps']['componentProps']['searchResponse']['results']"
      ],
      "execution_count": null,
      "outputs": [
        {
          "output_type": "execute_result",
          "data": {
            "text/plain": [
              "[{'categorias': ['Bovina'],\n",
              "  'image_url': 'http://www.paodeacucar.com/img/uploads/1/450/666450x200x200.jpg',\n",
              "  'instock': '1',\n",
              "  'mainShelfId': '10070',\n",
              "  'price': '49,90',\n",
              "  'rank': 1,\n",
              "  's_id': 0,\n",
              "  'shelfList': [],\n",
              "  'shelfname': 'bovina',\n",
              "  'sku': '0034838',\n",
              "  'text': '',\n",
              "  'title': 'Coxão Mole Bovino Peça Resfriado Bandeja 1kg',\n",
              "  'url': 'https://www.paodeacucar.com/produto/64376'},\n",
              " {'categorias': ['Bovina'],\n",
              "  'image_url': 'http://www.paodeacucar.com/img/uploads/1/984/471984x200x200.jpg',\n",
              "  'instock': '1',\n",
              "  'mainShelfId': '10070',\n",
              "  'price': '25,17',\n",
              "  'rank': 2,\n",
              "  's_id': 0,\n",
              "  'shelfList': [],\n",
              "  'shelfname': 'bovina',\n",
              "  'sku': '0077224',\n",
              "  'text': 'BIFE <b>COXAO</b> <b>MOLE</b> BOVINO 500G',\n",
              "  'title': 'Coxão Mole (Chã de Dentro) em Bife Bandeja 500g',\n",
              "  'url': 'https://www.paodeacucar.com/produto/168491'},\n",
              " {'categorias': ['Bovina'],\n",
              "  'image_url': 'http://www.paodeacucar.com/img/uploads/1/579/511579x200x200.jpg',\n",
              "  'instock': '1',\n",
              "  'mainShelfId': '10070',\n",
              "  'price': '27,20',\n",
              "  'rank': 3,\n",
              "  's_id': 0,\n",
              "  'shelfList': [],\n",
              "  'shelfname': 'bovina',\n",
              "  'sku': '0082587',\n",
              "  'text': 'STROGONOFCOXAOMOLE BOVRESF400G',\n",
              "  'title': 'Coxão Mole para Strogonoff Resfriado Bandeja 400g',\n",
              "  'url': 'https://www.paodeacucar.com/produto/28742'},\n",
              " {'brand': 'BASSI',\n",
              "  'categorias': ['Bovina'],\n",
              "  'image_url': 'http://www.paodeacucar.com/img/uploads/1/928/471928x200x200.jpg',\n",
              "  'instock': '1',\n",
              "  'mainShelfId': '10070',\n",
              "  'price': '24,50',\n",
              "  'rank': 4,\n",
              "  's_id': 0,\n",
              "  'shelfList': [],\n",
              "  'shelfname': 'bovina',\n",
              "  'sku': '0021890',\n",
              "  'text': 'CAPA <b>COXAO</b> <b>MOLE</b> BOV RESF 500g',\n",
              "  'title': 'Coxão Mole Capa Bovino Resfriado Bandeja 500g',\n",
              "  'url': 'https://www.paodeacucar.com/produto/78629'},\n",
              " {'categorias': ['Bovina'],\n",
              "  'image_url': 'http://www.paodeacucar.com/img/uploads/1/471/665471x200x200.jpg',\n",
              "  'instock': '0',\n",
              "  'mainShelfId': '10070',\n",
              "  'price': '24,39',\n",
              "  'rank': 5,\n",
              "  's_id': 0,\n",
              "  'shelfList': [],\n",
              "  'shelfname': 'bovina',\n",
              "  'sku': '0611626',\n",
              "  'text': 'STEAK DE',\n",
              "  'title': 'Tiras de Strogonoff de Coxão Mole Bovino Resfriado 400g',\n",
              "  'url': 'https://www.paodeacucar.com/produto/185333'},\n",
              " {'brand': 'CONFRARIA GOURMET',\n",
              "  'categorias': ['Bovina'],\n",
              "  'image_url': 'http://www.paodeacucar.com/img/uploads/1/618/645618x200x200.jpg',\n",
              "  'instock': '0',\n",
              "  'mainShelfId': '10070',\n",
              "  'price': '39,99',\n",
              "  'rank': 6,\n",
              "  's_id': 0,\n",
              "  'shelfList': [],\n",
              "  'shelfname': 'bovina',\n",
              "  'sku': '0465786',\n",
              "  'text': 'CG <b>COXAO</b> <b>MOLE</b> NOVILHO BIFE 500G',\n",
              "  'title': 'Coxão Mole Resfriada Novilho CONFRARIA GOURMET Bandeja 500g',\n",
              "  'url': 'https://www.paodeacucar.com/produto/113329'},\n",
              " {'categorias': ['Bovina', 'Swift'],\n",
              "  'image_url': 'http://www.paodeacucar.com/img/uploads/1/509/11879509x200x200.png',\n",
              "  'instock': '0',\n",
              "  'mainShelfId': '10070',\n",
              "  'price': '21,39',\n",
              "  'rank': 7,\n",
              "  's_id': 0,\n",
              "  'shelfList': [],\n",
              "  'shelfname': 'bovina',\n",
              "  'sku': '1160957',\n",
              "  'text': 'TIRAS DE <b>COXAO</b> <b>MOLE</b> SWIFT 500G',\n",
              "  'title': 'Tiras de Coxão Mole Congelado SWIFT 500G',\n",
              "  'url': 'https://www.paodeacucar.com/produto/419262'},\n",
              " {'categorias': ['Bovina'],\n",
              "  'image_url': 'http://www.paodeacucar.com/img/uploads/1/395/647395x200x200.jpg',\n",
              "  'instock': '0',\n",
              "  'mainShelfId': '10070',\n",
              "  'price': '26,26',\n",
              "  'rank': 8,\n",
              "  's_id': 0,\n",
              "  'shelfList': [],\n",
              "  'shelfname': 'bovina',\n",
              "  'sku': '0115636',\n",
              "  'text': 'BUCHO RUBIA BOV NC KG',\n",
              "  'title': 'Coxão Mole para Strogonoff Rubia Gallega Qualitá 400g',\n",
              "  'url': 'https://www.paodeacucar.com/produto/181580'},\n",
              " {'categorias': ['Bovina', 'Swift'],\n",
              "  'image_url': 'http://www.paodeacucar.com/img/uploads/1/160/605160x200x200.png',\n",
              "  'instock': '0',\n",
              "  'mainShelfId': '10070',\n",
              "  'price': '25,93',\n",
              "  'rank': 9,\n",
              "  's_id': 0,\n",
              "  'shelfList': [],\n",
              "  'shelfname': 'bovina',\n",
              "  'sku': '7561535',\n",
              "  'text': 'CUBOS DE <b>COXAO</b> <b>MOLE</b> SWIFT 500G',\n",
              "  'title': 'Cubos De Coxão Mole SWIFT 500g',\n",
              "  'url': 'https://www.paodeacucar.com/produto/419193'}]"
            ]
          },
          "metadata": {
            "tags": []
          },
          "execution_count": 56
        }
      ]
    },
    {
      "cell_type": "code",
      "metadata": {
        "colab": {
          "base_uri": "https://localhost:8080/"
        },
        "id": "YDIkrQYjiBHv",
        "outputId": "50c18233-6feb-4d09-dd4c-e58365146b20"
      },
      "source": [
        "len(jsn['props']['initialProps']['componentProps']['searchResponse']['results'])"
      ],
      "execution_count": null,
      "outputs": [
        {
          "output_type": "execute_result",
          "data": {
            "text/plain": [
              "9"
            ]
          },
          "metadata": {
            "tags": []
          },
          "execution_count": 57
        }
      ]
    },
    {
      "cell_type": "code",
      "metadata": {
        "id": "BgTwecMeiPkm"
      },
      "source": [
        "results=jsn['props']['initialProps']['componentProps']['searchResponse']['results']"
      ],
      "execution_count": null,
      "outputs": []
    },
    {
      "cell_type": "code",
      "metadata": {
        "id": "a8WpsWD6iW0P"
      },
      "source": [
        "import pandas as pd"
      ],
      "execution_count": null,
      "outputs": []
    },
    {
      "cell_type": "code",
      "metadata": {
        "id": "2NyScyc2imh7"
      },
      "source": [
        "df= pd.DataFrame.from_records(results)"
      ],
      "execution_count": null,
      "outputs": []
    },
    {
      "cell_type": "code",
      "metadata": {
        "colab": {
          "base_uri": "https://localhost:8080/",
          "height": 1000
        },
        "id": "75AQfsmAiuSR",
        "outputId": "300fa88a-17c2-4380-afc8-fe17ccbe1fe5"
      },
      "source": [
        "df"
      ],
      "execution_count": null,
      "outputs": [
        {
          "output_type": "execute_result",
          "data": {
            "text/html": [
              "<div>\n",
              "<style scoped>\n",
              "    .dataframe tbody tr th:only-of-type {\n",
              "        vertical-align: middle;\n",
              "    }\n",
              "\n",
              "    .dataframe tbody tr th {\n",
              "        vertical-align: top;\n",
              "    }\n",
              "\n",
              "    .dataframe thead th {\n",
              "        text-align: right;\n",
              "    }\n",
              "</style>\n",
              "<table border=\"1\" class=\"dataframe\">\n",
              "  <thead>\n",
              "    <tr style=\"text-align: right;\">\n",
              "      <th></th>\n",
              "      <th>title</th>\n",
              "      <th>url</th>\n",
              "      <th>text</th>\n",
              "      <th>rank</th>\n",
              "      <th>shelfList</th>\n",
              "      <th>s_id</th>\n",
              "      <th>image_url</th>\n",
              "      <th>price</th>\n",
              "      <th>instock</th>\n",
              "      <th>shelfname</th>\n",
              "      <th>sku</th>\n",
              "      <th>mainShelfId</th>\n",
              "      <th>categorias</th>\n",
              "      <th>brand</th>\n",
              "    </tr>\n",
              "  </thead>\n",
              "  <tbody>\n",
              "    <tr>\n",
              "      <th>0</th>\n",
              "      <td>Coxão Mole Bovino Peça Resfriado Bandeja 1kg</td>\n",
              "      <td>https://www.paodeacucar.com/produto/64376</td>\n",
              "      <td></td>\n",
              "      <td>1</td>\n",
              "      <td>[]</td>\n",
              "      <td>0</td>\n",
              "      <td>http://www.paodeacucar.com/img/uploads/1/450/6...</td>\n",
              "      <td>49,90</td>\n",
              "      <td>1</td>\n",
              "      <td>bovina</td>\n",
              "      <td>0034838</td>\n",
              "      <td>10070</td>\n",
              "      <td>[Bovina]</td>\n",
              "      <td>NaN</td>\n",
              "    </tr>\n",
              "    <tr>\n",
              "      <th>1</th>\n",
              "      <td>Coxão Mole (Chã de Dentro) em Bife Bandeja 500g</td>\n",
              "      <td>https://www.paodeacucar.com/produto/168491</td>\n",
              "      <td>BIFE &lt;b&gt;COXAO&lt;/b&gt; &lt;b&gt;MOLE&lt;/b&gt; BOVINO 500G</td>\n",
              "      <td>2</td>\n",
              "      <td>[]</td>\n",
              "      <td>0</td>\n",
              "      <td>http://www.paodeacucar.com/img/uploads/1/984/4...</td>\n",
              "      <td>25,17</td>\n",
              "      <td>1</td>\n",
              "      <td>bovina</td>\n",
              "      <td>0077224</td>\n",
              "      <td>10070</td>\n",
              "      <td>[Bovina]</td>\n",
              "      <td>NaN</td>\n",
              "    </tr>\n",
              "    <tr>\n",
              "      <th>2</th>\n",
              "      <td>Coxão Mole para Strogonoff Resfriado Bandeja 400g</td>\n",
              "      <td>https://www.paodeacucar.com/produto/28742</td>\n",
              "      <td>STROGONOFCOXAOMOLE BOVRESF400G</td>\n",
              "      <td>3</td>\n",
              "      <td>[]</td>\n",
              "      <td>0</td>\n",
              "      <td>http://www.paodeacucar.com/img/uploads/1/579/5...</td>\n",
              "      <td>27,20</td>\n",
              "      <td>1</td>\n",
              "      <td>bovina</td>\n",
              "      <td>0082587</td>\n",
              "      <td>10070</td>\n",
              "      <td>[Bovina]</td>\n",
              "      <td>NaN</td>\n",
              "    </tr>\n",
              "    <tr>\n",
              "      <th>3</th>\n",
              "      <td>Coxão Mole Capa Bovino Resfriado Bandeja 500g</td>\n",
              "      <td>https://www.paodeacucar.com/produto/78629</td>\n",
              "      <td>CAPA &lt;b&gt;COXAO&lt;/b&gt; &lt;b&gt;MOLE&lt;/b&gt; BOV RESF 500g</td>\n",
              "      <td>4</td>\n",
              "      <td>[]</td>\n",
              "      <td>0</td>\n",
              "      <td>http://www.paodeacucar.com/img/uploads/1/928/4...</td>\n",
              "      <td>24,50</td>\n",
              "      <td>1</td>\n",
              "      <td>bovina</td>\n",
              "      <td>0021890</td>\n",
              "      <td>10070</td>\n",
              "      <td>[Bovina]</td>\n",
              "      <td>BASSI</td>\n",
              "    </tr>\n",
              "    <tr>\n",
              "      <th>4</th>\n",
              "      <td>Tiras de Strogonoff de Coxão Mole Bovino Resfr...</td>\n",
              "      <td>https://www.paodeacucar.com/produto/185333</td>\n",
              "      <td>STEAK DE</td>\n",
              "      <td>5</td>\n",
              "      <td>[]</td>\n",
              "      <td>0</td>\n",
              "      <td>http://www.paodeacucar.com/img/uploads/1/471/6...</td>\n",
              "      <td>24,39</td>\n",
              "      <td>0</td>\n",
              "      <td>bovina</td>\n",
              "      <td>0611626</td>\n",
              "      <td>10070</td>\n",
              "      <td>[Bovina]</td>\n",
              "      <td>NaN</td>\n",
              "    </tr>\n",
              "    <tr>\n",
              "      <th>5</th>\n",
              "      <td>Coxão Mole Resfriada Novilho CONFRARIA GOURMET...</td>\n",
              "      <td>https://www.paodeacucar.com/produto/113329</td>\n",
              "      <td>CG &lt;b&gt;COXAO&lt;/b&gt; &lt;b&gt;MOLE&lt;/b&gt; NOVILHO BIFE 500G</td>\n",
              "      <td>6</td>\n",
              "      <td>[]</td>\n",
              "      <td>0</td>\n",
              "      <td>http://www.paodeacucar.com/img/uploads/1/618/6...</td>\n",
              "      <td>39,99</td>\n",
              "      <td>0</td>\n",
              "      <td>bovina</td>\n",
              "      <td>0465786</td>\n",
              "      <td>10070</td>\n",
              "      <td>[Bovina]</td>\n",
              "      <td>CONFRARIA GOURMET</td>\n",
              "    </tr>\n",
              "    <tr>\n",
              "      <th>6</th>\n",
              "      <td>Tiras de Coxão Mole Congelado SWIFT 500G</td>\n",
              "      <td>https://www.paodeacucar.com/produto/419262</td>\n",
              "      <td>TIRAS DE &lt;b&gt;COXAO&lt;/b&gt; &lt;b&gt;MOLE&lt;/b&gt; SWIFT 500G</td>\n",
              "      <td>7</td>\n",
              "      <td>[]</td>\n",
              "      <td>0</td>\n",
              "      <td>http://www.paodeacucar.com/img/uploads/1/509/1...</td>\n",
              "      <td>21,39</td>\n",
              "      <td>0</td>\n",
              "      <td>bovina</td>\n",
              "      <td>1160957</td>\n",
              "      <td>10070</td>\n",
              "      <td>[Bovina, Swift]</td>\n",
              "      <td>NaN</td>\n",
              "    </tr>\n",
              "    <tr>\n",
              "      <th>7</th>\n",
              "      <td>Coxão Mole para Strogonoff Rubia Gallega Quali...</td>\n",
              "      <td>https://www.paodeacucar.com/produto/181580</td>\n",
              "      <td>BUCHO RUBIA BOV NC KG</td>\n",
              "      <td>8</td>\n",
              "      <td>[]</td>\n",
              "      <td>0</td>\n",
              "      <td>http://www.paodeacucar.com/img/uploads/1/395/6...</td>\n",
              "      <td>26,26</td>\n",
              "      <td>0</td>\n",
              "      <td>bovina</td>\n",
              "      <td>0115636</td>\n",
              "      <td>10070</td>\n",
              "      <td>[Bovina]</td>\n",
              "      <td>NaN</td>\n",
              "    </tr>\n",
              "    <tr>\n",
              "      <th>8</th>\n",
              "      <td>Cubos De Coxão Mole SWIFT 500g</td>\n",
              "      <td>https://www.paodeacucar.com/produto/419193</td>\n",
              "      <td>CUBOS DE &lt;b&gt;COXAO&lt;/b&gt; &lt;b&gt;MOLE&lt;/b&gt; SWIFT 500G</td>\n",
              "      <td>9</td>\n",
              "      <td>[]</td>\n",
              "      <td>0</td>\n",
              "      <td>http://www.paodeacucar.com/img/uploads/1/160/6...</td>\n",
              "      <td>25,93</td>\n",
              "      <td>0</td>\n",
              "      <td>bovina</td>\n",
              "      <td>7561535</td>\n",
              "      <td>10070</td>\n",
              "      <td>[Bovina, Swift]</td>\n",
              "      <td>NaN</td>\n",
              "    </tr>\n",
              "  </tbody>\n",
              "</table>\n",
              "</div>"
            ],
            "text/plain": [
              "                                               title  ...              brand\n",
              "0       Coxão Mole Bovino Peça Resfriado Bandeja 1kg  ...                NaN\n",
              "1    Coxão Mole (Chã de Dentro) em Bife Bandeja 500g  ...                NaN\n",
              "2  Coxão Mole para Strogonoff Resfriado Bandeja 400g  ...                NaN\n",
              "3      Coxão Mole Capa Bovino Resfriado Bandeja 500g  ...              BASSI\n",
              "4  Tiras de Strogonoff de Coxão Mole Bovino Resfr...  ...                NaN\n",
              "5  Coxão Mole Resfriada Novilho CONFRARIA GOURMET...  ...  CONFRARIA GOURMET\n",
              "6           Tiras de Coxão Mole Congelado SWIFT 500G  ...                NaN\n",
              "7  Coxão Mole para Strogonoff Rubia Gallega Quali...  ...                NaN\n",
              "8                     Cubos De Coxão Mole SWIFT 500g  ...                NaN\n",
              "\n",
              "[9 rows x 14 columns]"
            ]
          },
          "metadata": {
            "tags": []
          },
          "execution_count": 285
        }
      ]
    },
    {
      "cell_type": "markdown",
      "metadata": {
        "id": "FGJ9xY__jl0g"
      },
      "source": [
        "Agora precisamos extrair do titulo a quantidade da carne! Stackoverflow to the rescue!\n",
        "\n",
        "https://stackoverflow.com/questions/59202131/regex-to-extract-both-integer-or-float-values-followed-by-a-unit-python\n",
        "\n",
        "Tambem um otimo recurso para testar teu regex: https://regexr.com/"
      ]
    },
    {
      "cell_type": "markdown",
      "metadata": {
        "id": "wna8piyI8wA5"
      },
      "source": [
        "![](https://github.com/areias/cesta-basica/blob/main/images/regex.png?raw=1)"
      ]
    },
    {
      "cell_type": "code",
      "metadata": {
        "id": "Hcyx5O4qj59I"
      },
      "source": [
        "import re"
      ],
      "execution_count": null,
      "outputs": []
    },
    {
      "cell_type": "code",
      "metadata": {
        "id": "7_-VQHfh-HHh"
      },
      "source": [
        "df['produto']=\"coxao mole\""
      ],
      "execution_count": null,
      "outputs": []
    },
    {
      "cell_type": "code",
      "metadata": {
        "id": "clKzOrMXiu09"
      },
      "source": [
        "txt=\"Coxão Mole Bovino Peça Resfriado Bandeja 1kg\""
      ],
      "execution_count": null,
      "outputs": []
    },
    {
      "cell_type": "code",
      "metadata": {
        "id": "yM8vZWFpj6sy"
      },
      "source": [
        "q=re.search(\"([.\\d]+)\\s*(?:mg|kg|ml|q.s.|ui|M|g|µg)\",txt)"
      ],
      "execution_count": null,
      "outputs": []
    },
    {
      "cell_type": "code",
      "metadata": {
        "colab": {
          "base_uri": "https://localhost:8080/"
        },
        "id": "ZgzJO9T5kBgC",
        "outputId": "e925b399-ca13-445e-bc53-d16ab549002d"
      },
      "source": [
        "q"
      ],
      "execution_count": null,
      "outputs": [
        {
          "output_type": "execute_result",
          "data": {
            "text/plain": [
              "<re.Match object; span=(41, 44), match='1kg'>"
            ]
          },
          "metadata": {
            "tags": []
          },
          "execution_count": 290
        }
      ]
    },
    {
      "cell_type": "code",
      "metadata": {
        "colab": {
          "base_uri": "https://localhost:8080/",
          "height": 35
        },
        "id": "6rn57zJxkeTq",
        "outputId": "c2004b23-82db-4cf3-b931-45be1dacb2b9"
      },
      "source": [
        "re.search(\"([.\\d]+)\",q.group()).group()"
      ],
      "execution_count": null,
      "outputs": [
        {
          "output_type": "execute_result",
          "data": {
            "application/vnd.google.colaboratory.intrinsic+json": {
              "type": "string"
            },
            "text/plain": [
              "'1'"
            ]
          },
          "metadata": {
            "tags": []
          },
          "execution_count": 291
        }
      ]
    },
    {
      "cell_type": "code",
      "metadata": {
        "colab": {
          "base_uri": "https://localhost:8080/",
          "height": 35
        },
        "id": "0woEzmUil3BW",
        "outputId": "6bd6d600-96eb-46ce-969f-fb2549630406"
      },
      "source": [
        "re.search(\"(?:mg|kg|ml|q.s.|ui|M|g|µg)\",q.group()).group()"
      ],
      "execution_count": null,
      "outputs": [
        {
          "output_type": "execute_result",
          "data": {
            "application/vnd.google.colaboratory.intrinsic+json": {
              "type": "string"
            },
            "text/plain": [
              "'kg'"
            ]
          },
          "metadata": {
            "tags": []
          },
          "execution_count": 292
        }
      ]
    },
    {
      "cell_type": "markdown",
      "metadata": {
        "id": "oRUEG_qS87IX"
      },
      "source": [
        "# Nova seção"
      ]
    },
    {
      "cell_type": "code",
      "metadata": {
        "id": "SAFdDJ3Lpeaq"
      },
      "source": [
        "import numpy as np"
      ],
      "execution_count": null,
      "outputs": []
    },
    {
      "cell_type": "code",
      "metadata": {
        "id": "CtKBpD6vmt2K"
      },
      "source": [
        "def get_quantity(text):\n",
        "    q = re.search(\"([.\\d]+)\\s*(?:mg|kg|ml|q.s.|ui|M|g|µg)\",text.lower())\n",
        "    if q:\n",
        "        quantity = re.search(\"([.\\d]+)\",q.group()).group()\n",
        "        return int(quantity)\n",
        "    else:\n",
        "        return np.nan\n"
      ],
      "execution_count": null,
      "outputs": []
    },
    {
      "cell_type": "code",
      "metadata": {
        "id": "kTc999mDqc8u"
      },
      "source": [
        "def get_unit(text):\n",
        "    q = re.search(\"([.\\d]+)\\s*(?:mg|kg|ml|q.s.|ui|M|g|µg)\",text.lower())\n",
        "    if q:\n",
        "        unit = re.search(\"(?:mg|kg|ml|q.s.|ui|M|g|µg)\",q.group()).group()\n",
        "        return unit\n",
        "    else:\n",
        "        return None\n"
      ],
      "execution_count": null,
      "outputs": []
    },
    {
      "cell_type": "code",
      "metadata": {
        "id": "X--z88IonMgt"
      },
      "source": [
        "df['quantity']=df['title'].apply(get_quantity)"
      ],
      "execution_count": null,
      "outputs": []
    },
    {
      "cell_type": "code",
      "metadata": {
        "id": "G5wSZ4Hao_uk"
      },
      "source": [
        "df['unit']=df['title'].apply(get_unit)"
      ],
      "execution_count": null,
      "outputs": []
    },
    {
      "cell_type": "code",
      "metadata": {
        "id": "-nUVs9Fmp-8U"
      },
      "source": [
        "from datetime import date"
      ],
      "execution_count": null,
      "outputs": []
    },
    {
      "cell_type": "code",
      "metadata": {
        "id": "hudSPtdNpDYd"
      },
      "source": [
        "df['date_scraped']=date.today()"
      ],
      "execution_count": null,
      "outputs": []
    },
    {
      "cell_type": "code",
      "metadata": {
        "colab": {
          "base_uri": "https://localhost:8080/",
          "height": 1000
        },
        "id": "Dfz1zhBnpDt6",
        "outputId": "18216afe-6eae-4e8e-e1d6-2cfd359a6492"
      },
      "source": [
        "df"
      ],
      "execution_count": null,
      "outputs": [
        {
          "output_type": "execute_result",
          "data": {
            "text/html": [
              "<div>\n",
              "<style scoped>\n",
              "    .dataframe tbody tr th:only-of-type {\n",
              "        vertical-align: middle;\n",
              "    }\n",
              "\n",
              "    .dataframe tbody tr th {\n",
              "        vertical-align: top;\n",
              "    }\n",
              "\n",
              "    .dataframe thead th {\n",
              "        text-align: right;\n",
              "    }\n",
              "</style>\n",
              "<table border=\"1\" class=\"dataframe\">\n",
              "  <thead>\n",
              "    <tr style=\"text-align: right;\">\n",
              "      <th></th>\n",
              "      <th>title</th>\n",
              "      <th>url</th>\n",
              "      <th>text</th>\n",
              "      <th>rank</th>\n",
              "      <th>shelfList</th>\n",
              "      <th>s_id</th>\n",
              "      <th>image_url</th>\n",
              "      <th>price</th>\n",
              "      <th>instock</th>\n",
              "      <th>shelfname</th>\n",
              "      <th>sku</th>\n",
              "      <th>mainShelfId</th>\n",
              "      <th>categorias</th>\n",
              "      <th>brand</th>\n",
              "      <th>produto</th>\n",
              "      <th>quantity</th>\n",
              "      <th>unit</th>\n",
              "      <th>date_scraped</th>\n",
              "    </tr>\n",
              "  </thead>\n",
              "  <tbody>\n",
              "    <tr>\n",
              "      <th>0</th>\n",
              "      <td>Coxão Mole Bovino Peça Resfriado Bandeja 1kg</td>\n",
              "      <td>https://www.paodeacucar.com/produto/64376</td>\n",
              "      <td></td>\n",
              "      <td>1</td>\n",
              "      <td>[]</td>\n",
              "      <td>0</td>\n",
              "      <td>http://www.paodeacucar.com/img/uploads/1/450/6...</td>\n",
              "      <td>49,90</td>\n",
              "      <td>1</td>\n",
              "      <td>bovina</td>\n",
              "      <td>0034838</td>\n",
              "      <td>10070</td>\n",
              "      <td>[Bovina]</td>\n",
              "      <td>NaN</td>\n",
              "      <td>coxao mole</td>\n",
              "      <td>1</td>\n",
              "      <td>kg</td>\n",
              "      <td>2021-05-30</td>\n",
              "    </tr>\n",
              "    <tr>\n",
              "      <th>1</th>\n",
              "      <td>Coxão Mole (Chã de Dentro) em Bife Bandeja 500g</td>\n",
              "      <td>https://www.paodeacucar.com/produto/168491</td>\n",
              "      <td>BIFE &lt;b&gt;COXAO&lt;/b&gt; &lt;b&gt;MOLE&lt;/b&gt; BOVINO 500G</td>\n",
              "      <td>2</td>\n",
              "      <td>[]</td>\n",
              "      <td>0</td>\n",
              "      <td>http://www.paodeacucar.com/img/uploads/1/984/4...</td>\n",
              "      <td>25,17</td>\n",
              "      <td>1</td>\n",
              "      <td>bovina</td>\n",
              "      <td>0077224</td>\n",
              "      <td>10070</td>\n",
              "      <td>[Bovina]</td>\n",
              "      <td>NaN</td>\n",
              "      <td>coxao mole</td>\n",
              "      <td>500</td>\n",
              "      <td>g</td>\n",
              "      <td>2021-05-30</td>\n",
              "    </tr>\n",
              "    <tr>\n",
              "      <th>2</th>\n",
              "      <td>Coxão Mole para Strogonoff Resfriado Bandeja 400g</td>\n",
              "      <td>https://www.paodeacucar.com/produto/28742</td>\n",
              "      <td>STROGONOFCOXAOMOLE BOVRESF400G</td>\n",
              "      <td>3</td>\n",
              "      <td>[]</td>\n",
              "      <td>0</td>\n",
              "      <td>http://www.paodeacucar.com/img/uploads/1/579/5...</td>\n",
              "      <td>27,20</td>\n",
              "      <td>1</td>\n",
              "      <td>bovina</td>\n",
              "      <td>0082587</td>\n",
              "      <td>10070</td>\n",
              "      <td>[Bovina]</td>\n",
              "      <td>NaN</td>\n",
              "      <td>coxao mole</td>\n",
              "      <td>400</td>\n",
              "      <td>g</td>\n",
              "      <td>2021-05-30</td>\n",
              "    </tr>\n",
              "    <tr>\n",
              "      <th>3</th>\n",
              "      <td>Coxão Mole Capa Bovino Resfriado Bandeja 500g</td>\n",
              "      <td>https://www.paodeacucar.com/produto/78629</td>\n",
              "      <td>CAPA &lt;b&gt;COXAO&lt;/b&gt; &lt;b&gt;MOLE&lt;/b&gt; BOV RESF 500g</td>\n",
              "      <td>4</td>\n",
              "      <td>[]</td>\n",
              "      <td>0</td>\n",
              "      <td>http://www.paodeacucar.com/img/uploads/1/928/4...</td>\n",
              "      <td>24,50</td>\n",
              "      <td>1</td>\n",
              "      <td>bovina</td>\n",
              "      <td>0021890</td>\n",
              "      <td>10070</td>\n",
              "      <td>[Bovina]</td>\n",
              "      <td>BASSI</td>\n",
              "      <td>coxao mole</td>\n",
              "      <td>500</td>\n",
              "      <td>g</td>\n",
              "      <td>2021-05-30</td>\n",
              "    </tr>\n",
              "    <tr>\n",
              "      <th>4</th>\n",
              "      <td>Tiras de Strogonoff de Coxão Mole Bovino Resfr...</td>\n",
              "      <td>https://www.paodeacucar.com/produto/185333</td>\n",
              "      <td>STEAK DE</td>\n",
              "      <td>5</td>\n",
              "      <td>[]</td>\n",
              "      <td>0</td>\n",
              "      <td>http://www.paodeacucar.com/img/uploads/1/471/6...</td>\n",
              "      <td>24,39</td>\n",
              "      <td>0</td>\n",
              "      <td>bovina</td>\n",
              "      <td>0611626</td>\n",
              "      <td>10070</td>\n",
              "      <td>[Bovina]</td>\n",
              "      <td>NaN</td>\n",
              "      <td>coxao mole</td>\n",
              "      <td>400</td>\n",
              "      <td>g</td>\n",
              "      <td>2021-05-30</td>\n",
              "    </tr>\n",
              "    <tr>\n",
              "      <th>5</th>\n",
              "      <td>Coxão Mole Resfriada Novilho CONFRARIA GOURMET...</td>\n",
              "      <td>https://www.paodeacucar.com/produto/113329</td>\n",
              "      <td>CG &lt;b&gt;COXAO&lt;/b&gt; &lt;b&gt;MOLE&lt;/b&gt; NOVILHO BIFE 500G</td>\n",
              "      <td>6</td>\n",
              "      <td>[]</td>\n",
              "      <td>0</td>\n",
              "      <td>http://www.paodeacucar.com/img/uploads/1/618/6...</td>\n",
              "      <td>39,99</td>\n",
              "      <td>0</td>\n",
              "      <td>bovina</td>\n",
              "      <td>0465786</td>\n",
              "      <td>10070</td>\n",
              "      <td>[Bovina]</td>\n",
              "      <td>CONFRARIA GOURMET</td>\n",
              "      <td>coxao mole</td>\n",
              "      <td>500</td>\n",
              "      <td>g</td>\n",
              "      <td>2021-05-30</td>\n",
              "    </tr>\n",
              "    <tr>\n",
              "      <th>6</th>\n",
              "      <td>Tiras de Coxão Mole Congelado SWIFT 500G</td>\n",
              "      <td>https://www.paodeacucar.com/produto/419262</td>\n",
              "      <td>TIRAS DE &lt;b&gt;COXAO&lt;/b&gt; &lt;b&gt;MOLE&lt;/b&gt; SWIFT 500G</td>\n",
              "      <td>7</td>\n",
              "      <td>[]</td>\n",
              "      <td>0</td>\n",
              "      <td>http://www.paodeacucar.com/img/uploads/1/509/1...</td>\n",
              "      <td>21,39</td>\n",
              "      <td>0</td>\n",
              "      <td>bovina</td>\n",
              "      <td>1160957</td>\n",
              "      <td>10070</td>\n",
              "      <td>[Bovina, Swift]</td>\n",
              "      <td>NaN</td>\n",
              "      <td>coxao mole</td>\n",
              "      <td>500</td>\n",
              "      <td>g</td>\n",
              "      <td>2021-05-30</td>\n",
              "    </tr>\n",
              "    <tr>\n",
              "      <th>7</th>\n",
              "      <td>Coxão Mole para Strogonoff Rubia Gallega Quali...</td>\n",
              "      <td>https://www.paodeacucar.com/produto/181580</td>\n",
              "      <td>BUCHO RUBIA BOV NC KG</td>\n",
              "      <td>8</td>\n",
              "      <td>[]</td>\n",
              "      <td>0</td>\n",
              "      <td>http://www.paodeacucar.com/img/uploads/1/395/6...</td>\n",
              "      <td>26,26</td>\n",
              "      <td>0</td>\n",
              "      <td>bovina</td>\n",
              "      <td>0115636</td>\n",
              "      <td>10070</td>\n",
              "      <td>[Bovina]</td>\n",
              "      <td>NaN</td>\n",
              "      <td>coxao mole</td>\n",
              "      <td>400</td>\n",
              "      <td>g</td>\n",
              "      <td>2021-05-30</td>\n",
              "    </tr>\n",
              "    <tr>\n",
              "      <th>8</th>\n",
              "      <td>Cubos De Coxão Mole SWIFT 500g</td>\n",
              "      <td>https://www.paodeacucar.com/produto/419193</td>\n",
              "      <td>CUBOS DE &lt;b&gt;COXAO&lt;/b&gt; &lt;b&gt;MOLE&lt;/b&gt; SWIFT 500G</td>\n",
              "      <td>9</td>\n",
              "      <td>[]</td>\n",
              "      <td>0</td>\n",
              "      <td>http://www.paodeacucar.com/img/uploads/1/160/6...</td>\n",
              "      <td>25,93</td>\n",
              "      <td>0</td>\n",
              "      <td>bovina</td>\n",
              "      <td>7561535</td>\n",
              "      <td>10070</td>\n",
              "      <td>[Bovina, Swift]</td>\n",
              "      <td>NaN</td>\n",
              "      <td>coxao mole</td>\n",
              "      <td>500</td>\n",
              "      <td>g</td>\n",
              "      <td>2021-05-30</td>\n",
              "    </tr>\n",
              "  </tbody>\n",
              "</table>\n",
              "</div>"
            ],
            "text/plain": [
              "                                               title  ... date_scraped\n",
              "0       Coxão Mole Bovino Peça Resfriado Bandeja 1kg  ...   2021-05-30\n",
              "1    Coxão Mole (Chã de Dentro) em Bife Bandeja 500g  ...   2021-05-30\n",
              "2  Coxão Mole para Strogonoff Resfriado Bandeja 400g  ...   2021-05-30\n",
              "3      Coxão Mole Capa Bovino Resfriado Bandeja 500g  ...   2021-05-30\n",
              "4  Tiras de Strogonoff de Coxão Mole Bovino Resfr...  ...   2021-05-30\n",
              "5  Coxão Mole Resfriada Novilho CONFRARIA GOURMET...  ...   2021-05-30\n",
              "6           Tiras de Coxão Mole Congelado SWIFT 500G  ...   2021-05-30\n",
              "7  Coxão Mole para Strogonoff Rubia Gallega Quali...  ...   2021-05-30\n",
              "8                     Cubos De Coxão Mole SWIFT 500g  ...   2021-05-30\n",
              "\n",
              "[9 rows x 18 columns]"
            ]
          },
          "metadata": {
            "tags": []
          },
          "execution_count": 300
        }
      ]
    },
    {
      "cell_type": "code",
      "metadata": {
        "id": "tpXiJYG8qEtg"
      },
      "source": [
        "# normalizar a kilos\n",
        "df['kg']=np.where(df['unit']==\"g\",df['quantity']/1000,df['quantity'])"
      ],
      "execution_count": null,
      "outputs": []
    },
    {
      "cell_type": "code",
      "metadata": {
        "id": "9eTJJPvFrB8x"
      },
      "source": [
        "df.loc[:,'price']=df.loc[:,'price'].apply(lambda x: float(x.replace(\",\",\".\")))"
      ],
      "execution_count": null,
      "outputs": []
    },
    {
      "cell_type": "code",
      "metadata": {
        "id": "UfF9kDoJrEN8"
      },
      "source": [
        "df['price_per_kg']=df['price']/df['kg']"
      ],
      "execution_count": null,
      "outputs": []
    },
    {
      "cell_type": "code",
      "metadata": {
        "colab": {
          "base_uri": "https://localhost:8080/",
          "height": 1000
        },
        "id": "e9GOcUDzroVn",
        "outputId": "26931a36-7e5d-4cd3-8456-0351e730aee7"
      },
      "source": [
        "df"
      ],
      "execution_count": null,
      "outputs": [
        {
          "output_type": "execute_result",
          "data": {
            "text/html": [
              "<div>\n",
              "<style scoped>\n",
              "    .dataframe tbody tr th:only-of-type {\n",
              "        vertical-align: middle;\n",
              "    }\n",
              "\n",
              "    .dataframe tbody tr th {\n",
              "        vertical-align: top;\n",
              "    }\n",
              "\n",
              "    .dataframe thead th {\n",
              "        text-align: right;\n",
              "    }\n",
              "</style>\n",
              "<table border=\"1\" class=\"dataframe\">\n",
              "  <thead>\n",
              "    <tr style=\"text-align: right;\">\n",
              "      <th></th>\n",
              "      <th>title</th>\n",
              "      <th>url</th>\n",
              "      <th>text</th>\n",
              "      <th>rank</th>\n",
              "      <th>shelfList</th>\n",
              "      <th>s_id</th>\n",
              "      <th>image_url</th>\n",
              "      <th>price</th>\n",
              "      <th>instock</th>\n",
              "      <th>shelfname</th>\n",
              "      <th>sku</th>\n",
              "      <th>mainShelfId</th>\n",
              "      <th>categorias</th>\n",
              "      <th>brand</th>\n",
              "      <th>produto</th>\n",
              "      <th>quantity</th>\n",
              "      <th>unit</th>\n",
              "      <th>date_scraped</th>\n",
              "      <th>kg</th>\n",
              "      <th>price_per_kg</th>\n",
              "    </tr>\n",
              "  </thead>\n",
              "  <tbody>\n",
              "    <tr>\n",
              "      <th>0</th>\n",
              "      <td>Coxão Mole Bovino Peça Resfriado Bandeja 1kg</td>\n",
              "      <td>https://www.paodeacucar.com/produto/64376</td>\n",
              "      <td></td>\n",
              "      <td>1</td>\n",
              "      <td>[]</td>\n",
              "      <td>0</td>\n",
              "      <td>http://www.paodeacucar.com/img/uploads/1/450/6...</td>\n",
              "      <td>49.90</td>\n",
              "      <td>1</td>\n",
              "      <td>bovina</td>\n",
              "      <td>0034838</td>\n",
              "      <td>10070</td>\n",
              "      <td>[Bovina]</td>\n",
              "      <td>NaN</td>\n",
              "      <td>coxao mole</td>\n",
              "      <td>1</td>\n",
              "      <td>kg</td>\n",
              "      <td>2021-05-30</td>\n",
              "      <td>1.0</td>\n",
              "      <td>49.900</td>\n",
              "    </tr>\n",
              "    <tr>\n",
              "      <th>1</th>\n",
              "      <td>Coxão Mole (Chã de Dentro) em Bife Bandeja 500g</td>\n",
              "      <td>https://www.paodeacucar.com/produto/168491</td>\n",
              "      <td>BIFE &lt;b&gt;COXAO&lt;/b&gt; &lt;b&gt;MOLE&lt;/b&gt; BOVINO 500G</td>\n",
              "      <td>2</td>\n",
              "      <td>[]</td>\n",
              "      <td>0</td>\n",
              "      <td>http://www.paodeacucar.com/img/uploads/1/984/4...</td>\n",
              "      <td>25.17</td>\n",
              "      <td>1</td>\n",
              "      <td>bovina</td>\n",
              "      <td>0077224</td>\n",
              "      <td>10070</td>\n",
              "      <td>[Bovina]</td>\n",
              "      <td>NaN</td>\n",
              "      <td>coxao mole</td>\n",
              "      <td>500</td>\n",
              "      <td>g</td>\n",
              "      <td>2021-05-30</td>\n",
              "      <td>0.5</td>\n",
              "      <td>50.340</td>\n",
              "    </tr>\n",
              "    <tr>\n",
              "      <th>2</th>\n",
              "      <td>Coxão Mole para Strogonoff Resfriado Bandeja 400g</td>\n",
              "      <td>https://www.paodeacucar.com/produto/28742</td>\n",
              "      <td>STROGONOFCOXAOMOLE BOVRESF400G</td>\n",
              "      <td>3</td>\n",
              "      <td>[]</td>\n",
              "      <td>0</td>\n",
              "      <td>http://www.paodeacucar.com/img/uploads/1/579/5...</td>\n",
              "      <td>27.20</td>\n",
              "      <td>1</td>\n",
              "      <td>bovina</td>\n",
              "      <td>0082587</td>\n",
              "      <td>10070</td>\n",
              "      <td>[Bovina]</td>\n",
              "      <td>NaN</td>\n",
              "      <td>coxao mole</td>\n",
              "      <td>400</td>\n",
              "      <td>g</td>\n",
              "      <td>2021-05-30</td>\n",
              "      <td>0.4</td>\n",
              "      <td>68.000</td>\n",
              "    </tr>\n",
              "    <tr>\n",
              "      <th>3</th>\n",
              "      <td>Coxão Mole Capa Bovino Resfriado Bandeja 500g</td>\n",
              "      <td>https://www.paodeacucar.com/produto/78629</td>\n",
              "      <td>CAPA &lt;b&gt;COXAO&lt;/b&gt; &lt;b&gt;MOLE&lt;/b&gt; BOV RESF 500g</td>\n",
              "      <td>4</td>\n",
              "      <td>[]</td>\n",
              "      <td>0</td>\n",
              "      <td>http://www.paodeacucar.com/img/uploads/1/928/4...</td>\n",
              "      <td>24.50</td>\n",
              "      <td>1</td>\n",
              "      <td>bovina</td>\n",
              "      <td>0021890</td>\n",
              "      <td>10070</td>\n",
              "      <td>[Bovina]</td>\n",
              "      <td>BASSI</td>\n",
              "      <td>coxao mole</td>\n",
              "      <td>500</td>\n",
              "      <td>g</td>\n",
              "      <td>2021-05-30</td>\n",
              "      <td>0.5</td>\n",
              "      <td>49.000</td>\n",
              "    </tr>\n",
              "    <tr>\n",
              "      <th>4</th>\n",
              "      <td>Tiras de Strogonoff de Coxão Mole Bovino Resfr...</td>\n",
              "      <td>https://www.paodeacucar.com/produto/185333</td>\n",
              "      <td>STEAK DE</td>\n",
              "      <td>5</td>\n",
              "      <td>[]</td>\n",
              "      <td>0</td>\n",
              "      <td>http://www.paodeacucar.com/img/uploads/1/471/6...</td>\n",
              "      <td>24.39</td>\n",
              "      <td>0</td>\n",
              "      <td>bovina</td>\n",
              "      <td>0611626</td>\n",
              "      <td>10070</td>\n",
              "      <td>[Bovina]</td>\n",
              "      <td>NaN</td>\n",
              "      <td>coxao mole</td>\n",
              "      <td>400</td>\n",
              "      <td>g</td>\n",
              "      <td>2021-05-30</td>\n",
              "      <td>0.4</td>\n",
              "      <td>60.975</td>\n",
              "    </tr>\n",
              "    <tr>\n",
              "      <th>5</th>\n",
              "      <td>Coxão Mole Resfriada Novilho CONFRARIA GOURMET...</td>\n",
              "      <td>https://www.paodeacucar.com/produto/113329</td>\n",
              "      <td>CG &lt;b&gt;COXAO&lt;/b&gt; &lt;b&gt;MOLE&lt;/b&gt; NOVILHO BIFE 500G</td>\n",
              "      <td>6</td>\n",
              "      <td>[]</td>\n",
              "      <td>0</td>\n",
              "      <td>http://www.paodeacucar.com/img/uploads/1/618/6...</td>\n",
              "      <td>39.99</td>\n",
              "      <td>0</td>\n",
              "      <td>bovina</td>\n",
              "      <td>0465786</td>\n",
              "      <td>10070</td>\n",
              "      <td>[Bovina]</td>\n",
              "      <td>CONFRARIA GOURMET</td>\n",
              "      <td>coxao mole</td>\n",
              "      <td>500</td>\n",
              "      <td>g</td>\n",
              "      <td>2021-05-30</td>\n",
              "      <td>0.5</td>\n",
              "      <td>79.980</td>\n",
              "    </tr>\n",
              "    <tr>\n",
              "      <th>6</th>\n",
              "      <td>Tiras de Coxão Mole Congelado SWIFT 500G</td>\n",
              "      <td>https://www.paodeacucar.com/produto/419262</td>\n",
              "      <td>TIRAS DE &lt;b&gt;COXAO&lt;/b&gt; &lt;b&gt;MOLE&lt;/b&gt; SWIFT 500G</td>\n",
              "      <td>7</td>\n",
              "      <td>[]</td>\n",
              "      <td>0</td>\n",
              "      <td>http://www.paodeacucar.com/img/uploads/1/509/1...</td>\n",
              "      <td>21.39</td>\n",
              "      <td>0</td>\n",
              "      <td>bovina</td>\n",
              "      <td>1160957</td>\n",
              "      <td>10070</td>\n",
              "      <td>[Bovina, Swift]</td>\n",
              "      <td>NaN</td>\n",
              "      <td>coxao mole</td>\n",
              "      <td>500</td>\n",
              "      <td>g</td>\n",
              "      <td>2021-05-30</td>\n",
              "      <td>0.5</td>\n",
              "      <td>42.780</td>\n",
              "    </tr>\n",
              "    <tr>\n",
              "      <th>7</th>\n",
              "      <td>Coxão Mole para Strogonoff Rubia Gallega Quali...</td>\n",
              "      <td>https://www.paodeacucar.com/produto/181580</td>\n",
              "      <td>BUCHO RUBIA BOV NC KG</td>\n",
              "      <td>8</td>\n",
              "      <td>[]</td>\n",
              "      <td>0</td>\n",
              "      <td>http://www.paodeacucar.com/img/uploads/1/395/6...</td>\n",
              "      <td>26.26</td>\n",
              "      <td>0</td>\n",
              "      <td>bovina</td>\n",
              "      <td>0115636</td>\n",
              "      <td>10070</td>\n",
              "      <td>[Bovina]</td>\n",
              "      <td>NaN</td>\n",
              "      <td>coxao mole</td>\n",
              "      <td>400</td>\n",
              "      <td>g</td>\n",
              "      <td>2021-05-30</td>\n",
              "      <td>0.4</td>\n",
              "      <td>65.650</td>\n",
              "    </tr>\n",
              "    <tr>\n",
              "      <th>8</th>\n",
              "      <td>Cubos De Coxão Mole SWIFT 500g</td>\n",
              "      <td>https://www.paodeacucar.com/produto/419193</td>\n",
              "      <td>CUBOS DE &lt;b&gt;COXAO&lt;/b&gt; &lt;b&gt;MOLE&lt;/b&gt; SWIFT 500G</td>\n",
              "      <td>9</td>\n",
              "      <td>[]</td>\n",
              "      <td>0</td>\n",
              "      <td>http://www.paodeacucar.com/img/uploads/1/160/6...</td>\n",
              "      <td>25.93</td>\n",
              "      <td>0</td>\n",
              "      <td>bovina</td>\n",
              "      <td>7561535</td>\n",
              "      <td>10070</td>\n",
              "      <td>[Bovina, Swift]</td>\n",
              "      <td>NaN</td>\n",
              "      <td>coxao mole</td>\n",
              "      <td>500</td>\n",
              "      <td>g</td>\n",
              "      <td>2021-05-30</td>\n",
              "      <td>0.5</td>\n",
              "      <td>51.860</td>\n",
              "    </tr>\n",
              "  </tbody>\n",
              "</table>\n",
              "</div>"
            ],
            "text/plain": [
              "                                               title  ... price_per_kg\n",
              "0       Coxão Mole Bovino Peça Resfriado Bandeja 1kg  ...       49.900\n",
              "1    Coxão Mole (Chã de Dentro) em Bife Bandeja 500g  ...       50.340\n",
              "2  Coxão Mole para Strogonoff Resfriado Bandeja 400g  ...       68.000\n",
              "3      Coxão Mole Capa Bovino Resfriado Bandeja 500g  ...       49.000\n",
              "4  Tiras de Strogonoff de Coxão Mole Bovino Resfr...  ...       60.975\n",
              "5  Coxão Mole Resfriada Novilho CONFRARIA GOURMET...  ...       79.980\n",
              "6           Tiras de Coxão Mole Congelado SWIFT 500G  ...       42.780\n",
              "7  Coxão Mole para Strogonoff Rubia Gallega Quali...  ...       65.650\n",
              "8                     Cubos De Coxão Mole SWIFT 500g  ...       51.860\n",
              "\n",
              "[9 rows x 20 columns]"
            ]
          },
          "metadata": {
            "tags": []
          },
          "execution_count": 304
        }
      ]
    },
    {
      "cell_type": "code",
      "metadata": {
        "colab": {
          "base_uri": "https://localhost:8080/"
        },
        "id": "rRpRFxi1s6om",
        "outputId": "629a0d4e-a3c9-4e6e-fd8b-6a4ebabcd4de"
      },
      "source": [
        "df['price_per_kg'].mean()"
      ],
      "execution_count": null,
      "outputs": [
        {
          "output_type": "execute_result",
          "data": {
            "text/plain": [
              "57.60944444444445"
            ]
          },
          "metadata": {
            "tags": []
          },
          "execution_count": 305
        }
      ]
    },
    {
      "cell_type": "code",
      "metadata": {
        "colab": {
          "base_uri": "https://localhost:8080/",
          "height": 282
        },
        "id": "k8uJEnLls_IV",
        "outputId": "9276656d-80f0-4601-9912-76f140f3767e"
      },
      "source": [
        "df['price_per_kg'].hist()"
      ],
      "execution_count": null,
      "outputs": [
        {
          "output_type": "execute_result",
          "data": {
            "text/plain": [
              "<matplotlib.axes._subplots.AxesSubplot at 0x7fe06f57f490>"
            ]
          },
          "metadata": {
            "tags": []
          },
          "execution_count": 306
        },
        {
          "output_type": "display_data",
          "data": {
            "image/png": "[encoded data removed]",
            "text/plain": [
              "<Figure size 432x288 with 1 Axes>"
            ]
          },
          "metadata": {
            "tags": [],
            "needs_background": "light"
          }
        }
      ]
    },
    {
      "cell_type": "markdown",
      "metadata": {
        "id": "sWurlckotYXV"
      },
      "source": [
        "### 1.2. Patinho\n",
        "\n",
        "Aqui ja vamos a repetir muito do codigo de cima, simplesmente vai mudar o produto. Por isso ja podemos criar funcoes para reutilizar."
      ]
    },
    {
      "cell_type": "code",
      "metadata": {
        "id": "TP0fyqEo5p_e"
      },
      "source": [
        "def get_results(produto):\n",
        "\n",
        "    url=\"https://www.paodeacucar.com/busca?w=\"+quote(produto)+\"&qt=12&p=1&gt=grid\"\n",
        "\n",
        "    response = requests.get(url)\n",
        "\n",
        "    # Parse the whole HTML page using BeautifulSoup\n",
        "    soup = BeautifulSoup(response.text, 'html.parser')\n",
        "\n",
        "    jsn=json.loads(soup.find(\"html\").find(\"body\").find(\"script\").text)\n",
        "\n",
        "    return jsn['props']['initialProps']['componentProps']['searchResponse']['results']"
      ],
      "execution_count": null,
      "outputs": []
    },
    {
      "cell_type": "code",
      "metadata": {
        "id": "efyh_1Sx6Rq6"
      },
      "source": [
        "df2=pd.DataFrame.from_records(get_results(\"patinho\"))"
      ],
      "execution_count": null,
      "outputs": []
    },
    {
      "cell_type": "code",
      "metadata": {
        "id": "abdgAc9t666H"
      },
      "source": [
        "# use shelfname \"bovina\" to discriminate between meat and other products\n",
        "df2['produto']=\"patinho\""
      ],
      "execution_count": null,
      "outputs": []
    },
    {
      "cell_type": "code",
      "metadata": {
        "id": "9IqdFZ-I7RTo"
      },
      "source": [
        "df2['quantity']=df2['title'].apply(lambda x: get_quantity(x))"
      ],
      "execution_count": null,
      "outputs": []
    },
    {
      "cell_type": "code",
      "metadata": {
        "id": "NY5Nf6YS7kkz"
      },
      "source": [
        "df2['unit']=df2['title'].apply(lambda x: get_unit(x))"
      ],
      "execution_count": null,
      "outputs": []
    },
    {
      "cell_type": "code",
      "metadata": {
        "colab": {
          "base_uri": "https://localhost:8080/",
          "height": 1000
        },
        "id": "G_hoBX-i7nz6",
        "outputId": "f8df40f3-bd02-424d-b0f0-394df30386fe"
      },
      "source": [
        "df2"
      ],
      "execution_count": null,
      "outputs": [
        {
          "output_type": "execute_result",
          "data": {
            "text/html": [
              "<div>\n",
              "<style scoped>\n",
              "    .dataframe tbody tr th:only-of-type {\n",
              "        vertical-align: middle;\n",
              "    }\n",
              "\n",
              "    .dataframe tbody tr th {\n",
              "        vertical-align: top;\n",
              "    }\n",
              "\n",
              "    .dataframe thead th {\n",
              "        text-align: right;\n",
              "    }\n",
              "</style>\n",
              "<table border=\"1\" class=\"dataframe\">\n",
              "  <thead>\n",
              "    <tr style=\"text-align: right;\">\n",
              "      <th></th>\n",
              "      <th>title</th>\n",
              "      <th>url</th>\n",
              "      <th>text</th>\n",
              "      <th>rank</th>\n",
              "      <th>shelfList</th>\n",
              "      <th>s_id</th>\n",
              "      <th>image_url</th>\n",
              "      <th>price</th>\n",
              "      <th>instock</th>\n",
              "      <th>shelfname</th>\n",
              "      <th>sku</th>\n",
              "      <th>mainShelfId</th>\n",
              "      <th>categorias</th>\n",
              "      <th>produto</th>\n",
              "      <th>quantity</th>\n",
              "      <th>unit</th>\n",
              "    </tr>\n",
              "  </thead>\n",
              "  <tbody>\n",
              "    <tr>\n",
              "      <th>0</th>\n",
              "      <td>Bife de Patinho Bovino Resfriado Bandeja 500g</td>\n",
              "      <td>https://www.paodeacucar.com/produto/168038</td>\n",
              "      <td>&lt;b&gt;PATINHO&lt;/b&gt; BOV RESF BIFE 500G</td>\n",
              "      <td>1</td>\n",
              "      <td>[]</td>\n",
              "      <td>0</td>\n",
              "      <td>http://www.paodeacucar.com/img/uploads/1/27/50...</td>\n",
              "      <td>22,78</td>\n",
              "      <td>1</td>\n",
              "      <td>bovina</td>\n",
              "      <td>0077392</td>\n",
              "      <td>10070</td>\n",
              "      <td>[Bovina]</td>\n",
              "      <td>patinho</td>\n",
              "      <td>500.0</td>\n",
              "      <td>g</td>\n",
              "    </tr>\n",
              "    <tr>\n",
              "      <th>1</th>\n",
              "      <td>Carne Bovina Moída De Patinho Resfriada QUALIT...</td>\n",
              "      <td>https://www.paodeacucar.com/produto/430796</td>\n",
              "      <td>MOIDA DE &lt;b&gt;PATINHO&lt;/b&gt; BM RESF 500GR</td>\n",
              "      <td>2</td>\n",
              "      <td>[]</td>\n",
              "      <td>0</td>\n",
              "      <td>http://www.paodeacucar.com/img/uploads/1/768/6...</td>\n",
              "      <td>31,49</td>\n",
              "      <td>1</td>\n",
              "      <td>bovina</td>\n",
              "      <td>7600173</td>\n",
              "      <td>10070</td>\n",
              "      <td>[Bovina]</td>\n",
              "      <td>patinho</td>\n",
              "      <td>500.0</td>\n",
              "      <td>g</td>\n",
              "    </tr>\n",
              "    <tr>\n",
              "      <th>2</th>\n",
              "      <td>Tiras De Patinho SWIFT 500g</td>\n",
              "      <td>https://www.paodeacucar.com/produto/419281</td>\n",
              "      <td>TIRAS DE &lt;b&gt;PATINHO&lt;/b&gt; SWIFT 500G</td>\n",
              "      <td>3</td>\n",
              "      <td>[]</td>\n",
              "      <td>0</td>\n",
              "      <td>http://www.paodeacucar.com/img/uploads/1/236/1...</td>\n",
              "      <td>21,96</td>\n",
              "      <td>1</td>\n",
              "      <td>bovina</td>\n",
              "      <td>1160953</td>\n",
              "      <td>10070</td>\n",
              "      <td>[Bovina, Swift]</td>\n",
              "      <td>patinho</td>\n",
              "      <td>500.0</td>\n",
              "      <td>g</td>\n",
              "    </tr>\n",
              "    <tr>\n",
              "      <th>3</th>\n",
              "      <td>Patinho Bovino Resfriado 1kg</td>\n",
              "      <td>https://www.paodeacucar.com/produto/134682</td>\n",
              "      <td>&lt;b&gt;PATINHO&lt;/b&gt; PECA BOV RESF KG</td>\n",
              "      <td>4</td>\n",
              "      <td>[]</td>\n",
              "      <td>0</td>\n",
              "      <td>http://www.paodeacucar.com/img/uploads/1/902/6...</td>\n",
              "      <td>51,83</td>\n",
              "      <td>1</td>\n",
              "      <td>bovina</td>\n",
              "      <td>0040129</td>\n",
              "      <td>10070</td>\n",
              "      <td>[Bovina]</td>\n",
              "      <td>patinho</td>\n",
              "      <td>1.0</td>\n",
              "      <td>kg</td>\n",
              "    </tr>\n",
              "    <tr>\n",
              "      <th>4</th>\n",
              "      <td>Carne Moída de Patinho Congelado SWIFT 500G</td>\n",
              "      <td>https://www.paodeacucar.com/produto/419269</td>\n",
              "      <td>CARNE MOIDA DE &lt;b&gt;PATINHO&lt;/b&gt; SWIFT 500G</td>\n",
              "      <td>5</td>\n",
              "      <td>[]</td>\n",
              "      <td>0</td>\n",
              "      <td>http://www.paodeacucar.com/img/uploads/1/740/5...</td>\n",
              "      <td>23,39</td>\n",
              "      <td>1</td>\n",
              "      <td>bovina</td>\n",
              "      <td>1160931</td>\n",
              "      <td>10070</td>\n",
              "      <td>[Bovina, Swift]</td>\n",
              "      <td>patinho</td>\n",
              "      <td>500.0</td>\n",
              "      <td>g</td>\n",
              "    </tr>\n",
              "    <tr>\n",
              "      <th>5</th>\n",
              "      <td>Carne Moída De Patinho SWIFT Congelada 900g</td>\n",
              "      <td>https://www.paodeacucar.com/produto/452729</td>\n",
              "      <td>CARNE MOIDA DE &lt;b&gt;PATINHO&lt;/b&gt; SWIFT 900G</td>\n",
              "      <td>6</td>\n",
              "      <td>[]</td>\n",
              "      <td>0</td>\n",
              "      <td>http://www.paodeacucar.com/img/uploads/1/983/1...</td>\n",
              "      <td>41,49</td>\n",
              "      <td>1</td>\n",
              "      <td>bovina</td>\n",
              "      <td>1192071</td>\n",
              "      <td>10070</td>\n",
              "      <td>[Bovina]</td>\n",
              "      <td>patinho</td>\n",
              "      <td>900.0</td>\n",
              "      <td>g</td>\n",
              "    </tr>\n",
              "    <tr>\n",
              "      <th>6</th>\n",
              "      <td>Bife de Patinho Milanesa Congelado SWIFT 900G</td>\n",
              "      <td>https://www.paodeacucar.com/produto/419290</td>\n",
              "      <td>BIFE DE &lt;b&gt;PATINHO&lt;/b&gt; MILANESA SWIFT 900G</td>\n",
              "      <td>7</td>\n",
              "      <td>[]</td>\n",
              "      <td>0</td>\n",
              "      <td>http://www.paodeacucar.com/img/uploads/1/737/5...</td>\n",
              "      <td>41,49</td>\n",
              "      <td>1</td>\n",
              "      <td>bovina</td>\n",
              "      <td>1160935</td>\n",
              "      <td>10070</td>\n",
              "      <td>[Bovina, Swift]</td>\n",
              "      <td>patinho</td>\n",
              "      <td>900.0</td>\n",
              "      <td>g</td>\n",
              "    </tr>\n",
              "    <tr>\n",
              "      <th>7</th>\n",
              "      <td>Carne Moída Light de Patinho 240g</td>\n",
              "      <td>https://www.paodeacucar.com/produto/594119</td>\n",
              "      <td>Feita com &lt;b&gt;patinho,&lt;/b&gt; a carne moída light ...</td>\n",
              "      <td>8</td>\n",
              "      <td>[]</td>\n",
              "      <td>0</td>\n",
              "      <td>http://www.paodeacucar.com/img/uploads/1/642/1...</td>\n",
              "      <td>15,29</td>\n",
              "      <td>1</td>\n",
              "      <td>bovina</td>\n",
              "      <td>100111981</td>\n",
              "      <td>10070</td>\n",
              "      <td>[Bovina]</td>\n",
              "      <td>patinho</td>\n",
              "      <td>240.0</td>\n",
              "      <td>g</td>\n",
              "    </tr>\n",
              "    <tr>\n",
              "      <th>8</th>\n",
              "      <td>Mordedor Penduradinhos - Patinho - Toyster</td>\n",
              "      <td>https://www.paodeacucar.com/produto/481871</td>\n",
              "      <td>Esse divertido mordedor ajuda a diminuir a irr...</td>\n",
              "      <td>9</td>\n",
              "      <td>[]</td>\n",
              "      <td>0</td>\n",
              "      <td>http://www.paodeacucar.com/img/uploads/1/795/2...</td>\n",
              "      <td>74,99</td>\n",
              "      <td>1</td>\n",
              "      <td>acessórios</td>\n",
              "      <td>100001457</td>\n",
              "      <td>10329</td>\n",
              "      <td>[Acessórios]</td>\n",
              "      <td>patinho</td>\n",
              "      <td>NaN</td>\n",
              "      <td>None</td>\n",
              "    </tr>\n",
              "    <tr>\n",
              "      <th>9</th>\n",
              "      <td>Patinho Didático Brinquedos para Bebês - Pica Pau</td>\n",
              "      <td>https://www.paodeacucar.com/produto/542741</td>\n",
              "      <td>&lt;b&gt;Patinho&lt;/b&gt; Didático Brinquedos para Bebês ...</td>\n",
              "      <td>10</td>\n",
              "      <td>[]</td>\n",
              "      <td>0</td>\n",
              "      <td>http://www.paodeacucar.com/img/uploads/1/903/1...</td>\n",
              "      <td>29,90</td>\n",
              "      <td>1</td>\n",
              "      <td>artes-e-atividades</td>\n",
              "      <td>100063203</td>\n",
              "      <td>10479</td>\n",
              "      <td>[Artes e atividades]</td>\n",
              "      <td>patinho</td>\n",
              "      <td>NaN</td>\n",
              "      <td>None</td>\n",
              "    </tr>\n",
              "    <tr>\n",
              "      <th>10</th>\n",
              "      <td>Almofada Para Banho De Bebê Patinho Joy Baby Pil</td>\n",
              "      <td>https://www.paodeacucar.com/produto/529706</td>\n",
              "      <td>Almofada para banho &lt;b&gt;Patinho&lt;/b&gt; Joy Baby Pi...</td>\n",
              "      <td>11</td>\n",
              "      <td>[]</td>\n",
              "      <td>0</td>\n",
              "      <td>http://www.paodeacucar.com/img/uploads/1/272/1...</td>\n",
              "      <td>169,00</td>\n",
              "      <td>1</td>\n",
              "      <td>carrinhos--andadores-e-outros</td>\n",
              "      <td>100051030</td>\n",
              "      <td>10331</td>\n",
              "      <td>[Carrinhos, andadores e outros]</td>\n",
              "      <td>patinho</td>\n",
              "      <td>NaN</td>\n",
              "      <td>None</td>\n",
              "    </tr>\n",
              "    <tr>\n",
              "      <th>11</th>\n",
              "      <td>Quadro Bebê Patinho Amarelo Moldura MDF 18cm G...</td>\n",
              "      <td>https://www.paodeacucar.com/produto/510617</td>\n",
              "      <td>O Quadro &lt;b&gt;Patinho&lt;/b&gt; Amarelo vai completar ...</td>\n",
              "      <td>12</td>\n",
              "      <td>[]</td>\n",
              "      <td>0</td>\n",
              "      <td>http://www.paodeacucar.com/img/uploads/1/806/6...</td>\n",
              "      <td>65,54</td>\n",
              "      <td>1</td>\n",
              "      <td>NaN</td>\n",
              "      <td>100031813</td>\n",
              "      <td>NaN</td>\n",
              "      <td>NaN</td>\n",
              "      <td>patinho</td>\n",
              "      <td>NaN</td>\n",
              "      <td>None</td>\n",
              "    </tr>\n",
              "  </tbody>\n",
              "</table>\n",
              "</div>"
            ],
            "text/plain": [
              "                                                title  ...  unit\n",
              "0       Bife de Patinho Bovino Resfriado Bandeja 500g  ...     g\n",
              "1   Carne Bovina Moída De Patinho Resfriada QUALIT...  ...     g\n",
              "2                         Tiras De Patinho SWIFT 500g  ...     g\n",
              "3                        Patinho Bovino Resfriado 1kg  ...    kg\n",
              "4         Carne Moída de Patinho Congelado SWIFT 500G  ...     g\n",
              "5         Carne Moída De Patinho SWIFT Congelada 900g  ...     g\n",
              "6       Bife de Patinho Milanesa Congelado SWIFT 900G  ...     g\n",
              "7                   Carne Moída Light de Patinho 240g  ...     g\n",
              "8          Mordedor Penduradinhos - Patinho - Toyster  ...  None\n",
              "9   Patinho Didático Brinquedos para Bebês - Pica Pau  ...  None\n",
              "10   Almofada Para Banho De Bebê Patinho Joy Baby Pil  ...  None\n",
              "11  Quadro Bebê Patinho Amarelo Moldura MDF 18cm G...  ...  None\n",
              "\n",
              "[12 rows x 16 columns]"
            ]
          },
          "metadata": {
            "tags": []
          },
          "execution_count": 313
        }
      ]
    },
    {
      "cell_type": "code",
      "metadata": {
        "id": "WOfT66VA7q6_"
      },
      "source": [
        "df2=df2[df2['shelfname']==\"bovina\"].copy()"
      ],
      "execution_count": null,
      "outputs": []
    },
    {
      "cell_type": "code",
      "metadata": {
        "id": "l_zD3PYH8_AS"
      },
      "source": [
        "df2['date_scraped']=date.today()"
      ],
      "execution_count": null,
      "outputs": []
    },
    {
      "cell_type": "code",
      "metadata": {
        "id": "RN6iavlB9Qvw"
      },
      "source": [
        "def get_price_per_kilo(df):\n",
        "    df['kg']=np.where(df['unit']==\"g\",df['quantity']/1000,df['quantity'])\n",
        "    df.loc[:,'price']=df.loc[:,'price'].apply(lambda x: float(x.replace(\",\",\".\")))\n",
        "    df['price_per_kg']=df['price']/df['kg']\n",
        "    return df"
      ],
      "execution_count": null,
      "outputs": []
    },
    {
      "cell_type": "code",
      "metadata": {
        "id": "T83GoILs9qeu"
      },
      "source": [
        "df2=get_price_per_kilo(df2)"
      ],
      "execution_count": null,
      "outputs": []
    },
    {
      "cell_type": "code",
      "metadata": {
        "colab": {
          "base_uri": "https://localhost:8080/",
          "height": 928
        },
        "id": "HsASjnQr9sQF",
        "outputId": "893ccfe6-7ae9-47af-b562-998e17c51518"
      },
      "source": [
        "df2"
      ],
      "execution_count": null,
      "outputs": [
        {
          "output_type": "execute_result",
          "data": {
            "text/html": [
              "<div>\n",
              "<style scoped>\n",
              "    .dataframe tbody tr th:only-of-type {\n",
              "        vertical-align: middle;\n",
              "    }\n",
              "\n",
              "    .dataframe tbody tr th {\n",
              "        vertical-align: top;\n",
              "    }\n",
              "\n",
              "    .dataframe thead th {\n",
              "        text-align: right;\n",
              "    }\n",
              "</style>\n",
              "<table border=\"1\" class=\"dataframe\">\n",
              "  <thead>\n",
              "    <tr style=\"text-align: right;\">\n",
              "      <th></th>\n",
              "      <th>title</th>\n",
              "      <th>url</th>\n",
              "      <th>text</th>\n",
              "      <th>rank</th>\n",
              "      <th>shelfList</th>\n",
              "      <th>s_id</th>\n",
              "      <th>image_url</th>\n",
              "      <th>price</th>\n",
              "      <th>instock</th>\n",
              "      <th>shelfname</th>\n",
              "      <th>sku</th>\n",
              "      <th>mainShelfId</th>\n",
              "      <th>categorias</th>\n",
              "      <th>produto</th>\n",
              "      <th>quantity</th>\n",
              "      <th>unit</th>\n",
              "      <th>date_scraped</th>\n",
              "      <th>kg</th>\n",
              "      <th>price_per_kg</th>\n",
              "    </tr>\n",
              "  </thead>\n",
              "  <tbody>\n",
              "    <tr>\n",
              "      <th>0</th>\n",
              "      <td>Bife de Patinho Bovino Resfriado Bandeja 500g</td>\n",
              "      <td>https://www.paodeacucar.com/produto/168038</td>\n",
              "      <td>&lt;b&gt;PATINHO&lt;/b&gt; BOV RESF BIFE 500G</td>\n",
              "      <td>1</td>\n",
              "      <td>[]</td>\n",
              "      <td>0</td>\n",
              "      <td>http://www.paodeacucar.com/img/uploads/1/27/50...</td>\n",
              "      <td>22.78</td>\n",
              "      <td>1</td>\n",
              "      <td>bovina</td>\n",
              "      <td>0077392</td>\n",
              "      <td>10070</td>\n",
              "      <td>[Bovina]</td>\n",
              "      <td>patinho</td>\n",
              "      <td>500.0</td>\n",
              "      <td>g</td>\n",
              "      <td>2021-05-30</td>\n",
              "      <td>0.50</td>\n",
              "      <td>45.560000</td>\n",
              "    </tr>\n",
              "    <tr>\n",
              "      <th>1</th>\n",
              "      <td>Carne Bovina Moída De Patinho Resfriada QUALIT...</td>\n",
              "      <td>https://www.paodeacucar.com/produto/430796</td>\n",
              "      <td>MOIDA DE &lt;b&gt;PATINHO&lt;/b&gt; BM RESF 500GR</td>\n",
              "      <td>2</td>\n",
              "      <td>[]</td>\n",
              "      <td>0</td>\n",
              "      <td>http://www.paodeacucar.com/img/uploads/1/768/6...</td>\n",
              "      <td>31.49</td>\n",
              "      <td>1</td>\n",
              "      <td>bovina</td>\n",
              "      <td>7600173</td>\n",
              "      <td>10070</td>\n",
              "      <td>[Bovina]</td>\n",
              "      <td>patinho</td>\n",
              "      <td>500.0</td>\n",
              "      <td>g</td>\n",
              "      <td>2021-05-30</td>\n",
              "      <td>0.50</td>\n",
              "      <td>62.980000</td>\n",
              "    </tr>\n",
              "    <tr>\n",
              "      <th>2</th>\n",
              "      <td>Tiras De Patinho SWIFT 500g</td>\n",
              "      <td>https://www.paodeacucar.com/produto/419281</td>\n",
              "      <td>TIRAS DE &lt;b&gt;PATINHO&lt;/b&gt; SWIFT 500G</td>\n",
              "      <td>3</td>\n",
              "      <td>[]</td>\n",
              "      <td>0</td>\n",
              "      <td>http://www.paodeacucar.com/img/uploads/1/236/1...</td>\n",
              "      <td>21.96</td>\n",
              "      <td>1</td>\n",
              "      <td>bovina</td>\n",
              "      <td>1160953</td>\n",
              "      <td>10070</td>\n",
              "      <td>[Bovina, Swift]</td>\n",
              "      <td>patinho</td>\n",
              "      <td>500.0</td>\n",
              "      <td>g</td>\n",
              "      <td>2021-05-30</td>\n",
              "      <td>0.50</td>\n",
              "      <td>43.920000</td>\n",
              "    </tr>\n",
              "    <tr>\n",
              "      <th>3</th>\n",
              "      <td>Patinho Bovino Resfriado 1kg</td>\n",
              "      <td>https://www.paodeacucar.com/produto/134682</td>\n",
              "      <td>&lt;b&gt;PATINHO&lt;/b&gt; PECA BOV RESF KG</td>\n",
              "      <td>4</td>\n",
              "      <td>[]</td>\n",
              "      <td>0</td>\n",
              "      <td>http://www.paodeacucar.com/img/uploads/1/902/6...</td>\n",
              "      <td>51.83</td>\n",
              "      <td>1</td>\n",
              "      <td>bovina</td>\n",
              "      <td>0040129</td>\n",
              "      <td>10070</td>\n",
              "      <td>[Bovina]</td>\n",
              "      <td>patinho</td>\n",
              "      <td>1.0</td>\n",
              "      <td>kg</td>\n",
              "      <td>2021-05-30</td>\n",
              "      <td>1.00</td>\n",
              "      <td>51.830000</td>\n",
              "    </tr>\n",
              "    <tr>\n",
              "      <th>4</th>\n",
              "      <td>Carne Moída de Patinho Congelado SWIFT 500G</td>\n",
              "      <td>https://www.paodeacucar.com/produto/419269</td>\n",
              "      <td>CARNE MOIDA DE &lt;b&gt;PATINHO&lt;/b&gt; SWIFT 500G</td>\n",
              "      <td>5</td>\n",
              "      <td>[]</td>\n",
              "      <td>0</td>\n",
              "      <td>http://www.paodeacucar.com/img/uploads/1/740/5...</td>\n",
              "      <td>23.39</td>\n",
              "      <td>1</td>\n",
              "      <td>bovina</td>\n",
              "      <td>1160931</td>\n",
              "      <td>10070</td>\n",
              "      <td>[Bovina, Swift]</td>\n",
              "      <td>patinho</td>\n",
              "      <td>500.0</td>\n",
              "      <td>g</td>\n",
              "      <td>2021-05-30</td>\n",
              "      <td>0.50</td>\n",
              "      <td>46.780000</td>\n",
              "    </tr>\n",
              "    <tr>\n",
              "      <th>5</th>\n",
              "      <td>Carne Moída De Patinho SWIFT Congelada 900g</td>\n",
              "      <td>https://www.paodeacucar.com/produto/452729</td>\n",
              "      <td>CARNE MOIDA DE &lt;b&gt;PATINHO&lt;/b&gt; SWIFT 900G</td>\n",
              "      <td>6</td>\n",
              "      <td>[]</td>\n",
              "      <td>0</td>\n",
              "      <td>http://www.paodeacucar.com/img/uploads/1/983/1...</td>\n",
              "      <td>41.49</td>\n",
              "      <td>1</td>\n",
              "      <td>bovina</td>\n",
              "      <td>1192071</td>\n",
              "      <td>10070</td>\n",
              "      <td>[Bovina]</td>\n",
              "      <td>patinho</td>\n",
              "      <td>900.0</td>\n",
              "      <td>g</td>\n",
              "      <td>2021-05-30</td>\n",
              "      <td>0.90</td>\n",
              "      <td>46.100000</td>\n",
              "    </tr>\n",
              "    <tr>\n",
              "      <th>6</th>\n",
              "      <td>Bife de Patinho Milanesa Congelado SWIFT 900G</td>\n",
              "      <td>https://www.paodeacucar.com/produto/419290</td>\n",
              "      <td>BIFE DE &lt;b&gt;PATINHO&lt;/b&gt; MILANESA SWIFT 900G</td>\n",
              "      <td>7</td>\n",
              "      <td>[]</td>\n",
              "      <td>0</td>\n",
              "      <td>http://www.paodeacucar.com/img/uploads/1/737/5...</td>\n",
              "      <td>41.49</td>\n",
              "      <td>1</td>\n",
              "      <td>bovina</td>\n",
              "      <td>1160935</td>\n",
              "      <td>10070</td>\n",
              "      <td>[Bovina, Swift]</td>\n",
              "      <td>patinho</td>\n",
              "      <td>900.0</td>\n",
              "      <td>g</td>\n",
              "      <td>2021-05-30</td>\n",
              "      <td>0.90</td>\n",
              "      <td>46.100000</td>\n",
              "    </tr>\n",
              "    <tr>\n",
              "      <th>7</th>\n",
              "      <td>Carne Moída Light de Patinho 240g</td>\n",
              "      <td>https://www.paodeacucar.com/produto/594119</td>\n",
              "      <td>Feita com &lt;b&gt;patinho,&lt;/b&gt; a carne moída light ...</td>\n",
              "      <td>8</td>\n",
              "      <td>[]</td>\n",
              "      <td>0</td>\n",
              "      <td>http://www.paodeacucar.com/img/uploads/1/642/1...</td>\n",
              "      <td>15.29</td>\n",
              "      <td>1</td>\n",
              "      <td>bovina</td>\n",
              "      <td>100111981</td>\n",
              "      <td>10070</td>\n",
              "      <td>[Bovina]</td>\n",
              "      <td>patinho</td>\n",
              "      <td>240.0</td>\n",
              "      <td>g</td>\n",
              "      <td>2021-05-30</td>\n",
              "      <td>0.24</td>\n",
              "      <td>63.708333</td>\n",
              "    </tr>\n",
              "  </tbody>\n",
              "</table>\n",
              "</div>"
            ],
            "text/plain": [
              "                                               title  ... price_per_kg\n",
              "0      Bife de Patinho Bovino Resfriado Bandeja 500g  ...    45.560000\n",
              "1  Carne Bovina Moída De Patinho Resfriada QUALIT...  ...    62.980000\n",
              "2                        Tiras De Patinho SWIFT 500g  ...    43.920000\n",
              "3                       Patinho Bovino Resfriado 1kg  ...    51.830000\n",
              "4        Carne Moída de Patinho Congelado SWIFT 500G  ...    46.780000\n",
              "5        Carne Moída De Patinho SWIFT Congelada 900g  ...    46.100000\n",
              "6      Bife de Patinho Milanesa Congelado SWIFT 900G  ...    46.100000\n",
              "7                  Carne Moída Light de Patinho 240g  ...    63.708333\n",
              "\n",
              "[8 rows x 19 columns]"
            ]
          },
          "metadata": {
            "tags": []
          },
          "execution_count": 318
        }
      ]
    },
    {
      "cell_type": "code",
      "metadata": {
        "colab": {
          "base_uri": "https://localhost:8080/"
        },
        "id": "1TR9bCla9s3k",
        "outputId": "172ebcb6-7a2d-475d-a64b-837191fd2e10"
      },
      "source": [
        "df2['price_per_kg'].mean()"
      ],
      "execution_count": null,
      "outputs": [
        {
          "output_type": "execute_result",
          "data": {
            "text/plain": [
              "50.87229166666666"
            ]
          },
          "metadata": {
            "tags": []
          },
          "execution_count": 319
        }
      ]
    },
    {
      "cell_type": "code",
      "metadata": {
        "colab": {
          "base_uri": "https://localhost:8080/",
          "height": 282
        },
        "id": "coObjl499yJ4",
        "outputId": "a3b5394e-65d8-426f-9d8a-3535444c7b41"
      },
      "source": [
        "df2['price_per_kg'].hist()"
      ],
      "execution_count": null,
      "outputs": [
        {
          "output_type": "execute_result",
          "data": {
            "text/plain": [
              "<matplotlib.axes._subplots.AxesSubplot at 0x7fe06f4db350>"
            ]
          },
          "metadata": {
            "tags": []
          },
          "execution_count": 320
        },
        {
          "output_type": "display_data",
          "data": {
            "image/png": "[encoded data removed]",
            "text/plain": [
              "<Figure size 432x288 with 1 Axes>"
            ]
          },
          "metadata": {
            "tags": [],
            "needs_background": "light"
          }
        }
      ]
    },
    {
      "cell_type": "code",
      "metadata": {
        "id": "9YZnZjdX903c"
      },
      "source": [
        "df=df.append(df2)"
      ],
      "execution_count": null,
      "outputs": []
    },
    {
      "cell_type": "code",
      "metadata": {
        "colab": {
          "base_uri": "https://localhost:8080/"
        },
        "id": "2tjE7kwx93gj",
        "outputId": "77759b23-c491-4ea1-fcb3-a2e397486b04"
      },
      "source": [
        "len(df)"
      ],
      "execution_count": null,
      "outputs": [
        {
          "output_type": "execute_result",
          "data": {
            "text/plain": [
              "17"
            ]
          },
          "metadata": {
            "tags": []
          },
          "execution_count": 322
        }
      ]
    },
    {
      "cell_type": "code",
      "metadata": {
        "colab": {
          "base_uri": "https://localhost:8080/"
        },
        "id": "tMBjOPle94SU",
        "outputId": "7bf0711f-8644-4c46-d92e-72b43f4efbfb"
      },
      "source": [
        "df.produto.value_counts()"
      ],
      "execution_count": null,
      "outputs": [
        {
          "output_type": "execute_result",
          "data": {
            "text/plain": [
              "coxao mole    9\n",
              "patinho       8\n",
              "Name: produto, dtype: int64"
            ]
          },
          "metadata": {
            "tags": []
          },
          "execution_count": 324
        }
      ]
    },
    {
      "cell_type": "code",
      "metadata": {
        "colab": {
          "base_uri": "https://localhost:8080/",
          "height": 282
        },
        "id": "q95B1dQf-W_-",
        "outputId": "0bfe5ccc-c923-4460-8755-492794238b76"
      },
      "source": [
        "df['price_per_kg'].hist()"
      ],
      "execution_count": null,
      "outputs": [
        {
          "output_type": "execute_result",
          "data": {
            "text/plain": [
              "<matplotlib.axes._subplots.AxesSubplot at 0x7fe06f37a550>"
            ]
          },
          "metadata": {
            "tags": []
          },
          "execution_count": 327
        },
        {
          "output_type": "display_data",
          "data": {
            "image/png": "[encoded data removed]",
            "text/plain": [
              "<Figure size 432x288 with 1 Axes>"
            ]
          },
          "metadata": {
            "tags": [],
            "needs_background": "light"
          }
        }
      ]
    },
    {
      "cell_type": "code",
      "metadata": {
        "id": "Ak9JpT6A-i9e"
      },
      "source": [
        "df.to_csv(\"data/cesta-basica.csv\",index=False)"
      ],
      "execution_count": null,
      "outputs": []
    },
    {
      "cell_type": "code",
      "metadata": {
        "id": "tRfHMyoS-hQl"
      },
      "source": [
        "jc"
      ],
      "execution_count": null,
      "outputs": []
    }
  ]
}